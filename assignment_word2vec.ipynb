{
  "cells": [
    {
      "cell_type": "markdown",
      "metadata": {
        "id": "view-in-github",
        "colab_type": "text"
      },
      "source": [
        "<a href=\"https://colab.research.google.com/github/bekka9/yndx_train_hw_ml_/blob/main/assignment_word2vec.ipynb\" target=\"_parent\"><img src=\"https://colab.research.google.com/assets/colab-badge.svg\" alt=\"Open In Colab\"/></a>"
      ]
    },
    {
      "cell_type": "markdown",
      "metadata": {
        "id": "nTSf4ro-qU0d"
      },
      "source": [
        "## Бонусное задание: word2vec на PyTorch\n",
        "\n",
        "Как вы уже могли заметить, идея, лежащая в основе [word2vec](https://arxiv.org/pdf/1310.4546), достаточно общая. В данном задании вы реализуете его самостоятельно.\n",
        "\n",
        "Дисклеймер: не стоит удивляться тому, что реализация от `gensim` (или аналоги) обучается быстрее и работает точнее. Она использует множество доработок и ускорений, а также достаточно эффективный код. Ваша задача добиться промежуточных результатов за разумное время.\n",
        "\n",
        "P.s. Как ни странно, GPU в этом задании нам не потребуется."
      ]
    },
    {
      "cell_type": "markdown",
      "metadata": {
        "id": "gBnlQXVV-P9w"
      },
      "source": [
        "__Requirements:__ if you're running locally, in the selected environment run the following command:\n",
        "\n",
        "```pip install --upgrade nltk bokeh umap-learn```\n"
      ]
    },
    {
      "cell_type": "code",
      "execution_count": null,
      "metadata": {
        "colab": {
          "base_uri": "https://localhost:8080/"
        },
        "id": "Oipe2DU8qfm7",
        "outputId": "91985278-ac90-4ce6-bdbc-5deb88fd9498"
      },
      "outputs": [
        {
          "output_type": "stream",
          "name": "stdout",
          "text": [
            "Requirement already satisfied: nltk in /usr/local/lib/python3.10/dist-packages (3.8.1)\n",
            "Collecting nltk\n",
            "  Downloading nltk-3.9.1-py3-none-any.whl.metadata (2.9 kB)\n",
            "Requirement already satisfied: bokeh in /usr/local/lib/python3.10/dist-packages (3.4.3)\n",
            "Collecting bokeh\n",
            "  Downloading bokeh-3.6.0-py3-none-any.whl.metadata (12 kB)\n",
            "Collecting umap-learn\n",
            "  Downloading umap_learn-0.5.7-py3-none-any.whl.metadata (21 kB)\n",
            "Requirement already satisfied: click in /usr/local/lib/python3.10/dist-packages (from nltk) (8.1.7)\n",
            "Requirement already satisfied: joblib in /usr/local/lib/python3.10/dist-packages (from nltk) (1.4.2)\n",
            "Requirement already satisfied: regex>=2021.8.3 in /usr/local/lib/python3.10/dist-packages (from nltk) (2024.9.11)\n",
            "Requirement already satisfied: tqdm in /usr/local/lib/python3.10/dist-packages (from nltk) (4.66.5)\n",
            "Requirement already satisfied: Jinja2>=2.9 in /usr/local/lib/python3.10/dist-packages (from bokeh) (3.1.4)\n",
            "Requirement already satisfied: contourpy>=1.2 in /usr/local/lib/python3.10/dist-packages (from bokeh) (1.3.0)\n",
            "Requirement already satisfied: numpy>=1.16 in /usr/local/lib/python3.10/dist-packages (from bokeh) (1.26.4)\n",
            "Requirement already satisfied: packaging>=16.8 in /usr/local/lib/python3.10/dist-packages (from bokeh) (24.1)\n",
            "Requirement already satisfied: pandas>=1.2 in /usr/local/lib/python3.10/dist-packages (from bokeh) (2.2.2)\n",
            "Requirement already satisfied: pillow>=7.1.0 in /usr/local/lib/python3.10/dist-packages (from bokeh) (10.4.0)\n",
            "Requirement already satisfied: PyYAML>=3.10 in /usr/local/lib/python3.10/dist-packages (from bokeh) (6.0.2)\n",
            "Requirement already satisfied: tornado>=6.2 in /usr/local/lib/python3.10/dist-packages (from bokeh) (6.3.3)\n",
            "Requirement already satisfied: xyzservices>=2021.09.1 in /usr/local/lib/python3.10/dist-packages (from bokeh) (2024.9.0)\n",
            "Requirement already satisfied: scipy>=1.3.1 in /usr/local/lib/python3.10/dist-packages (from umap-learn) (1.13.1)\n",
            "Requirement already satisfied: scikit-learn>=0.22 in /usr/local/lib/python3.10/dist-packages (from umap-learn) (1.5.2)\n",
            "Requirement already satisfied: numba>=0.51.2 in /usr/local/lib/python3.10/dist-packages (from umap-learn) (0.60.0)\n",
            "Collecting pynndescent>=0.5 (from umap-learn)\n",
            "  Downloading pynndescent-0.5.13-py3-none-any.whl.metadata (6.8 kB)\n",
            "Requirement already satisfied: MarkupSafe>=2.0 in /usr/local/lib/python3.10/dist-packages (from Jinja2>=2.9->bokeh) (3.0.2)\n",
            "Requirement already satisfied: llvmlite<0.44,>=0.43.0dev0 in /usr/local/lib/python3.10/dist-packages (from numba>=0.51.2->umap-learn) (0.43.0)\n",
            "Requirement already satisfied: python-dateutil>=2.8.2 in /usr/local/lib/python3.10/dist-packages (from pandas>=1.2->bokeh) (2.8.2)\n",
            "Requirement already satisfied: pytz>=2020.1 in /usr/local/lib/python3.10/dist-packages (from pandas>=1.2->bokeh) (2024.2)\n",
            "Requirement already satisfied: tzdata>=2022.7 in /usr/local/lib/python3.10/dist-packages (from pandas>=1.2->bokeh) (2024.2)\n",
            "Requirement already satisfied: threadpoolctl>=3.1.0 in /usr/local/lib/python3.10/dist-packages (from scikit-learn>=0.22->umap-learn) (3.5.0)\n",
            "Requirement already satisfied: six>=1.5 in /usr/local/lib/python3.10/dist-packages (from python-dateutil>=2.8.2->pandas>=1.2->bokeh) (1.16.0)\n",
            "Downloading nltk-3.9.1-py3-none-any.whl (1.5 MB)\n",
            "\u001b[2K   \u001b[90m━━━━━━━━━━━━━━━━━━━━━━━━━━━━━━━━━━━━━━━━\u001b[0m \u001b[32m1.5/1.5 MB\u001b[0m \u001b[31m14.8 MB/s\u001b[0m eta \u001b[36m0:00:00\u001b[0m\n",
            "\u001b[?25hDownloading bokeh-3.6.0-py3-none-any.whl (6.9 MB)\n",
            "\u001b[2K   \u001b[90m━━━━━━━━━━━━━━━━━━━━━━━━━━━━━━━━━━━━━━━━\u001b[0m \u001b[32m6.9/6.9 MB\u001b[0m \u001b[31m50.3 MB/s\u001b[0m eta \u001b[36m0:00:00\u001b[0m\n",
            "\u001b[?25hDownloading umap_learn-0.5.7-py3-none-any.whl (88 kB)\n",
            "\u001b[2K   \u001b[90m━━━━━━━━━━━━━━━━━━━━━━━━━━━━━━━━━━━━━━━━\u001b[0m \u001b[32m88.8/88.8 kB\u001b[0m \u001b[31m4.6 MB/s\u001b[0m eta \u001b[36m0:00:00\u001b[0m\n",
            "\u001b[?25hDownloading pynndescent-0.5.13-py3-none-any.whl (56 kB)\n",
            "\u001b[2K   \u001b[90m━━━━━━━━━━━━━━━━━━━━━━━━━━━━━━━━━━━━━━━━\u001b[0m \u001b[32m56.9/56.9 kB\u001b[0m \u001b[31m3.2 MB/s\u001b[0m eta \u001b[36m0:00:00\u001b[0m\n",
            "\u001b[?25hInstalling collected packages: nltk, pynndescent, bokeh, umap-learn\n",
            "  Attempting uninstall: nltk\n",
            "    Found existing installation: nltk 3.8.1\n",
            "    Uninstalling nltk-3.8.1:\n",
            "      Successfully uninstalled nltk-3.8.1\n",
            "  Attempting uninstall: bokeh\n",
            "    Found existing installation: bokeh 3.4.3\n",
            "    Uninstalling bokeh-3.4.3:\n",
            "      Successfully uninstalled bokeh-3.4.3\n",
            "\u001b[31mERROR: pip's dependency resolver does not currently take into account all the packages that are installed. This behaviour is the source of the following dependency conflicts.\n",
            "panel 1.4.5 requires bokeh<3.5.0,>=3.4.0, but you have bokeh 3.6.0 which is incompatible.\u001b[0m\u001b[31m\n",
            "\u001b[0mSuccessfully installed bokeh-3.6.0 nltk-3.9.1 pynndescent-0.5.13 umap-learn-0.5.7\n"
          ]
        }
      ],
      "source": [
        "!pip install --upgrade nltk bokeh umap-learn"
      ]
    },
    {
      "cell_type": "code",
      "execution_count": null,
      "metadata": {
        "id": "pqPU4Lu2qU0h"
      },
      "outputs": [],
      "source": [
        "import itertools\n",
        "import random\n",
        "import string\n",
        "from collections import Counter\n",
        "from itertools import chain\n",
        "\n",
        "import matplotlib.pyplot as plt\n",
        "import numpy as np\n",
        "import torch\n",
        "import torch.autograd as autograd\n",
        "import torch.nn as nn\n",
        "import torch.nn.functional as F\n",
        "import torch.optim as optim\n",
        "import umap\n",
        "from IPython.display import clear_output\n",
        "from matplotlib import pyplot as plt\n",
        "from nltk.tokenize import WordPunctTokenizer\n",
        "from torch.optim.lr_scheduler import ReduceLROnPlateau, StepLR\n",
        "from tqdm.auto import tqdm as tqdma"
      ]
    },
    {
      "cell_type": "code",
      "execution_count": null,
      "metadata": {
        "colab": {
          "base_uri": "https://localhost:8080/"
        },
        "id": "8Fbx57z3qU0i",
        "outputId": "74b702b4-ac9c-4b3f-b44d-4f9739e2e1be"
      },
      "outputs": [
        {
          "output_type": "stream",
          "name": "stdout",
          "text": [
            "--2024-10-29 07:23:00--  https://www.dropbox.com/s/obaitrix9jyu84r/quora.txt?dl=1\n",
            "Resolving www.dropbox.com (www.dropbox.com)... 162.125.3.18, 2620:100:601b:18::a27d:812\n",
            "Connecting to www.dropbox.com (www.dropbox.com)|162.125.3.18|:443... connected.\n",
            "HTTP request sent, awaiting response... 302 Found\n",
            "Location: https://www.dropbox.com/scl/fi/p0t2dw6oqs6oxpd6zz534/quora.txt?rlkey=bjupppwua4zmd4elz8octecy9&dl=1 [following]\n",
            "--2024-10-29 07:23:00--  https://www.dropbox.com/scl/fi/p0t2dw6oqs6oxpd6zz534/quora.txt?rlkey=bjupppwua4zmd4elz8octecy9&dl=1\n",
            "Reusing existing connection to www.dropbox.com:443.\n",
            "HTTP request sent, awaiting response... 302 Found\n",
            "Location: https://uc2ee39fc4bf489ead0de0cc7a58.dl.dropboxusercontent.com/cd/0/inline/CdWWy6lJcCGMBS2Aa0Zx9BwiB4ahq_Ctu_nppxd3PARWbPFV_PbE2xUcV6eLgBvR-wY8Mxw_qn_cRTbEegqJvvqxnNltUWOUcyFX5JsxzJqYYse2kp4010i8EB_GHMI2aNs/file?dl=1# [following]\n",
            "--2024-10-29 07:23:00--  https://uc2ee39fc4bf489ead0de0cc7a58.dl.dropboxusercontent.com/cd/0/inline/CdWWy6lJcCGMBS2Aa0Zx9BwiB4ahq_Ctu_nppxd3PARWbPFV_PbE2xUcV6eLgBvR-wY8Mxw_qn_cRTbEegqJvvqxnNltUWOUcyFX5JsxzJqYYse2kp4010i8EB_GHMI2aNs/file?dl=1\n",
            "Resolving uc2ee39fc4bf489ead0de0cc7a58.dl.dropboxusercontent.com (uc2ee39fc4bf489ead0de0cc7a58.dl.dropboxusercontent.com)... 162.125.3.15, 2620:100:601b:15::a27d:80f\n",
            "Connecting to uc2ee39fc4bf489ead0de0cc7a58.dl.dropboxusercontent.com (uc2ee39fc4bf489ead0de0cc7a58.dl.dropboxusercontent.com)|162.125.3.15|:443... connected.\n",
            "HTTP request sent, awaiting response... 200 OK\n",
            "Length: 33813903 (32M) [application/binary]\n",
            "Saving to: ‘./quora.txt’\n",
            "\n",
            "./quora.txt         100%[===================>]  32.25M  86.9MB/s    in 0.4s    \n",
            "\n",
            "2024-10-29 07:23:01 (86.9 MB/s) - ‘./quora.txt’ saved [33813903/33813903]\n",
            "\n"
          ]
        }
      ],
      "source": [
        "# download the data:\n",
        "!wget https://www.dropbox.com/s/obaitrix9jyu84r/quora.txt?dl=1 -O ./quora.txt -nc\n",
        "# alternative download link: https://yadi.sk/i/BPQrUu1NaTduEw"
      ]
    },
    {
      "cell_type": "code",
      "execution_count": null,
      "metadata": {
        "colab": {
          "base_uri": "https://localhost:8080/",
          "height": 36
        },
        "id": "8EYy5dQpqU0i",
        "outputId": "5d1a8b06-f6ec-431a-8c06-fdcb31f46f52",
        "scrolled": false
      },
      "outputs": [
        {
          "output_type": "execute_result",
          "data": {
            "text/plain": [
              "\"What TV shows or books help you read people's body language?\\n\""
            ],
            "application/vnd.google.colaboratory.intrinsic+json": {
              "type": "string"
            }
          },
          "metadata": {},
          "execution_count": 4
        }
      ],
      "source": [
        "data = list(open(\"./quora.txt\", encoding=\"utf-8\"))\n",
        "data[50]"
      ]
    },
    {
      "cell_type": "markdown",
      "metadata": {
        "id": "feBEGI2eqU0j"
      },
      "source": [
        "Токенизация – первый шаг.\n",
        "Тексты, с которыми мы работаем, включают в себя пунктуацию, смайлики и прочие нестандартные токены, так что простой `str.split` не подойдет.\n",
        "\n",
        "Обратимся к `nltk` - библиотеку, нашла широкое применеие в области NLP."
      ]
    },
    {
      "cell_type": "code",
      "execution_count": null,
      "metadata": {
        "colab": {
          "base_uri": "https://localhost:8080/"
        },
        "id": "7mWTvm50qU0j",
        "outputId": "1974ca2c-11c1-419d-b9f9-c5168e3b937a"
      },
      "outputs": [
        {
          "output_type": "stream",
          "name": "stdout",
          "text": [
            "['What', 'TV', 'shows', 'or', 'books', 'help', 'you', 'read', 'people', \"'\", 's', 'body', 'language', '?']\n"
          ]
        }
      ],
      "source": [
        "tokenizer = WordPunctTokenizer()\n",
        "\n",
        "print(tokenizer.tokenize(data[50]))"
      ]
    },
    {
      "cell_type": "code",
      "execution_count": null,
      "metadata": {
        "id": "HzC05EHWqU0j"
      },
      "outputs": [],
      "source": [
        "data_tok = [\n",
        "    tokenizer.tokenize(\n",
        "        line.translate(str.maketrans(\"\", \"\", string.punctuation)).lower()\n",
        "    )\n",
        "    for line in data\n",
        "]\n",
        "data_tok = [x for x in data_tok if len(x) >= 3]"
      ]
    },
    {
      "cell_type": "markdown",
      "metadata": {
        "id": "6azRAgHIqU0k"
      },
      "source": [
        "Несколько проверок:"
      ]
    },
    {
      "cell_type": "code",
      "execution_count": null,
      "metadata": {
        "id": "Cp8UpxdWqU0k"
      },
      "outputs": [],
      "source": [
        "assert all(\n",
        "    isinstance(row, (list, tuple)) for row in data_tok\n",
        "), \"please convert each line into a list of tokens (strings)\"\n",
        "assert all(\n",
        "    all(isinstance(tok, str) for tok in row) for row in data_tok\n",
        "), \"please convert each line into a list of tokens (strings)\"\n",
        "is_latin = lambda tok: all(\"a\" <= x.lower() <= \"z\" for x in tok)\n",
        "assert all(\n",
        "    map(lambda l: not is_latin(l) or l.islower(), map(\" \".join, data_tok))\n",
        "), \"please make sure to lowercase the data\""
      ]
    },
    {
      "cell_type": "markdown",
      "metadata": {
        "id": "37e7-MIhqU0x"
      },
      "source": [
        "Ниже заданы константы ширины окна контекста и проведена предобработка для построения skip-gram модели."
      ]
    },
    {
      "cell_type": "code",
      "execution_count": null,
      "metadata": {
        "id": "fugc1IomqU0x"
      },
      "outputs": [],
      "source": [
        "min_count = 5\n",
        "window_radius = 5"
      ]
    },
    {
      "cell_type": "code",
      "execution_count": null,
      "metadata": {
        "id": "QoQz4y_p-P91"
      },
      "outputs": [],
      "source": [
        "vocabulary_with_counter = Counter(chain.from_iterable(data_tok))\n",
        "\n",
        "word_count_dict = dict()\n",
        "for word, counter in vocabulary_with_counter.items():\n",
        "    if counter >= min_count:\n",
        "        word_count_dict[word] = counter\n",
        "\n",
        "vocabulary = set(word_count_dict.keys())\n",
        "del vocabulary_with_counter"
      ]
    },
    {
      "cell_type": "code",
      "execution_count": null,
      "metadata": {
        "id": "bE9MsGVL-P92"
      },
      "outputs": [],
      "source": [
        "word_to_index = {word: index for index, word in enumerate(vocabulary)}\n",
        "index_to_word = {index: word for word, index in word_to_index.items()}"
      ]
    },
    {
      "cell_type": "markdown",
      "metadata": {
        "id": "4Y8rlBfqqU0x"
      },
      "source": [
        "Пары `(слово, контекст)` на основе доступного датасета сгенерированы ниже."
      ]
    },
    {
      "cell_type": "code",
      "execution_count": null,
      "metadata": {
        "colab": {
          "base_uri": "https://localhost:8080/"
        },
        "id": "h2-aqyyaqU0x",
        "outputId": "5dfe7caf-9701-476a-8944-f3c40618a2b5"
      },
      "outputs": [
        {
          "output_type": "stream",
          "name": "stdout",
          "text": [
            "Generated 40220313 pairs of target and context words.\n"
          ]
        }
      ],
      "source": [
        "context_pairs = []\n",
        "\n",
        "for text in data_tok:\n",
        "    for i, central_word in enumerate(text):\n",
        "        context_indices = range(\n",
        "            max(0, i - window_radius), min(i + window_radius, len(text))\n",
        "        )\n",
        "        for j in context_indices:\n",
        "            if j == i:\n",
        "                continue\n",
        "            context_word = text[j]\n",
        "            if central_word in vocabulary and context_word in vocabulary:\n",
        "                context_pairs.append(\n",
        "                    (word_to_index[central_word], word_to_index[context_word])\n",
        "                )\n",
        "\n",
        "print(f\"Generated {len(context_pairs)} pairs of target and context words.\")"
      ]
    },
    {
      "cell_type": "markdown",
      "metadata": {
        "id": "eMdnGjxx-P92"
      },
      "source": [
        "#### Подзадача №1: subsampling\n",
        "Для того, чтобы сгладить разницу в частоте встречаемсости слов, необходимо реализовать механизм subsampling'а.\n",
        "Для этого вам необходимо реализовать функцию ниже.\n",
        "\n",
        "Вероятность **исключить** слово из обучения (на фиксированном шаге) вычисляется как\n",
        "$$\n",
        "P_\\text{drop}(w_i)=1 - \\sqrt{\\frac{t}{f(w_i)}},\n",
        "$$\n",
        "где $f(w_i)$ – нормированная частота встречаемости слова, а $t$ – заданный порог (threshold)."
      ]
    },
    {
      "cell_type": "code",
      "execution_count": null,
      "metadata": {
        "id": "SM38_w_L-P92"
      },
      "outputs": [],
      "source": [
        "def subsample_frequent_words(word_count_dict, threshold=0.00825):\n",
        "    \"\"\"\n",
        "    Calculates the subsampling probabilities for words based on their frequencies.\n",
        "\n",
        "    This function is used to determine the probability of keeping a word in the dataset\n",
        "    when subsampling frequent words. The method used is inspired by the subsampling approach\n",
        "    in Word2Vec, where each word's frequency affects its probability of being kept.\n",
        "\n",
        "    Parameters:\n",
        "    - word_count_dict (dict): A dictionary where keys are words and values are the counts of those words.\n",
        "    - threshold (float, optional): A threshold parameter used to adjust the frequency of word subsampling.\n",
        "                                   Defaults to 1e-5.\n",
        "\n",
        "    Returns:\n",
        "    - dict: A dictionary where keys are words and values are the probabilities of keeping each word.\n",
        "\n",
        "    Example:\n",
        "    >>> word_counts = {'the': 5000, 'is': 1000, 'apple': 50}\n",
        "    >>> subsample_frequent_words(word_counts)\n",
        "    {'the': 0.028, 'is': 0.223, 'apple': 1.0}\n",
        "    \"\"\"\n",
        "\n",
        "    ### YOUR CODE HERE\n",
        "    #keep_prob_dict = {word: 0 for word in word_count_dict.keys()}  # THIS IS A PLACEHOLDER!\n",
        "    words = word_count_dict.keys()\n",
        "    n = sum(word_count_dict.values())\n",
        "    keep_prob_dict = dict.fromkeys(word_count_dict.keys(), 0)\n",
        "    for word in words:\n",
        "      f = word_count_dict[word]/n\n",
        "      keep_prob_dict[word] = (threshold/f)**0.5\n",
        "    return keep_prob_dict"
      ]
    },
    {
      "cell_type": "code",
      "execution_count": null,
      "metadata": {
        "colab": {
          "base_uri": "https://localhost:8080/"
        },
        "id": "tA9S7hhAuFqN",
        "outputId": "cb8da987-e3a9-454f-fa1f-d13787840cfe"
      },
      "outputs": [
        {
          "output_type": "execute_result",
          "data": {
            "text/plain": [
              "{'the': 0.09991246168521722,\n",
              " 'is': 0.2234110561274889,\n",
              " 'apple': 0.9991246168521722}"
            ]
          },
          "metadata": {},
          "execution_count": 13
        }
      ],
      "source": [
        "word_counts = {'the': 5000, 'is': 1000, 'apple': 50}\n",
        "subsample_frequent_words(word_counts)"
      ]
    },
    {
      "cell_type": "markdown",
      "metadata": {
        "id": "g9VAi052-P93"
      },
      "source": [
        "#### Подзадача №2: negative sampling\n",
        "Для более эффективного обучения необходимо не только предсказывать высокие вероятности для слов из контекста, но и предсказывать низкие для слов, не встреченных в контексте. Для этого вам необходимо вычислить вероятност использовать слово в качестве negative sample, реализовав функцию ниже.\n",
        "\n",
        "В оригинальной статье предлагается оценивать вероятность слов выступать в качестве negative sample согласно распределению $P_n(w)$\n",
        "$$\n",
        "P_n(w) = \\frac{U(w)^{3/4}}{Z},\n",
        "$$\n",
        "\n",
        "где $U(w)$ распределение слов по частоте (или, как его еще называют, по униграммам), а $Z$ – нормировочная константа, чтобы общая мера была равна $1$."
      ]
    },
    {
      "cell_type": "code",
      "execution_count": null,
      "metadata": {
        "id": "QJFlrM6M-P93"
      },
      "outputs": [],
      "source": [
        "def get_negative_sampling_prob(word_count_dict):\n",
        "    \"\"\"\n",
        "    Calculates the negative sampling probabilities for words based on their frequencies.\n",
        "\n",
        "    This function adjusts the frequency of each word raised to the power of 0.75, which is\n",
        "    commonly used in algorithms like Word2Vec to moderate the influence of very frequent words.\n",
        "    It then normalizes these adjusted frequencies to ensure they sum to 1, forming a probability\n",
        "    distribution used for negative sampling.\n",
        "\n",
        "    Parameters:\n",
        "    - word_count_dict (dict): A dictionary where keys are words and values are the counts of those words.\n",
        "\n",
        "    Returns:\n",
        "    - dict: A dictionary where keys are words and values are the probabilities of selecting each word\n",
        "            for negative sampling.\n",
        "\n",
        "    Example:\n",
        "    >>> word_counts = {'the': 5000, 'is': 1000, 'apple': 50}\n",
        "    >>> get_negative_sampling_prob(word_counts)\n",
        "    {'the': 0.298, 'is': 0.160, 'apple': 0.042}\n",
        "    \"\"\"\n",
        "    '''\n",
        "    ### YOUR CODE HERE\n",
        "    negative_sampling_prob_dict = {\n",
        "        word: 0 for word in word_count_dict.keys()\n",
        "    }  # THIS IS A PLACEHOLDER!\n",
        "    '''\n",
        "    words = word_count_dict.keys()\n",
        "    word_count_dict34 = {key: val ** 0.75 for key, val in word_count_dict.items()}\n",
        "    negative_sampling_prob_dict = dict.fromkeys(word_count_dict.keys(), 0)\n",
        "    z = sum(word_count_dict34.values())\n",
        "    for word in words:\n",
        "      negative_sampling_prob_dict[word] = word_count_dict34[word]/z\n",
        "\n",
        "    return negative_sampling_prob_dict"
      ]
    },
    {
      "cell_type": "code",
      "execution_count": null,
      "metadata": {
        "colab": {
          "base_uri": "https://localhost:8080/"
        },
        "id": "_LNS2FARmwUV",
        "outputId": "f594c2aa-a4e0-4324-cbcb-f2da61c891ac"
      },
      "outputs": [
        {
          "output_type": "execute_result",
          "data": {
            "text/plain": [
              "{'the': 0.751488398196177,\n",
              " 'is': 0.2247474520689081,\n",
              " 'apple': 0.023764149734914898}"
            ]
          },
          "metadata": {},
          "execution_count": 15
        }
      ],
      "source": [
        "word_counts = {'the': 5000, 'is': 1000, 'apple': 50}\n",
        "get_negative_sampling_prob(word_counts)"
      ]
    },
    {
      "cell_type": "markdown",
      "metadata": {
        "id": "NKVH6788-P93"
      },
      "source": [
        "Для удобства, преобразуем полученные словари в массивы (т.к. все слова все равно уже пронумерованы)."
      ]
    },
    {
      "cell_type": "code",
      "execution_count": null,
      "metadata": {
        "id": "7-pWxML7mu_G"
      },
      "outputs": [],
      "source": []
    },
    {
      "cell_type": "code",
      "execution_count": null,
      "metadata": {
        "id": "XO6IKMib-P93"
      },
      "outputs": [],
      "source": [
        "keep_prob_dict = subsample_frequent_words(word_count_dict)\n",
        "assert keep_prob_dict.keys() == word_count_dict.keys()"
      ]
    },
    {
      "cell_type": "code",
      "execution_count": null,
      "metadata": {
        "id": "dEuU_ND1-P93"
      },
      "outputs": [],
      "source": [
        "negative_sampling_prob_dict = get_negative_sampling_prob(word_count_dict)\n",
        "assert negative_sampling_prob_dict.keys() == negative_sampling_prob_dict.keys()\n",
        "assert np.allclose(sum(negative_sampling_prob_dict.values()), 1)"
      ]
    },
    {
      "cell_type": "code",
      "execution_count": null,
      "metadata": {
        "id": "mY3nPO4_-P93"
      },
      "outputs": [],
      "source": [
        "keep_prob_array = np.array(\n",
        "    [keep_prob_dict[index_to_word[idx]] for idx in range(len(word_to_index))]\n",
        ")\n",
        "negative_sampling_prob_array = np.array(\n",
        "    [\n",
        "        negative_sampling_prob_dict[index_to_word[idx]]\n",
        "        for idx in range(len(word_to_index))\n",
        "    ]\n",
        ")"
      ]
    },
    {
      "cell_type": "markdown",
      "metadata": {
        "id": "jPSxarbn-P93"
      },
      "source": [
        "Если все прошло успешно, функция ниже поможет вам с генерацией подвыборок (батчей)."
      ]
    },
    {
      "cell_type": "code",
      "execution_count": null,
      "metadata": {
        "id": "PpaSLcZw-P94"
      },
      "outputs": [],
      "source": [
        "def generate_batch_with_neg_samples(\n",
        "    context_pairs,\n",
        "    batch_size,\n",
        "    keep_prob_array,\n",
        "    word_to_index,\n",
        "    num_negatives,\n",
        "    negative_sampling_prob_array,\n",
        "):\n",
        "    batch = []\n",
        "    neg_samples = []\n",
        "\n",
        "    while len(batch) < batch_size:\n",
        "        center, context = random.choice(context_pairs)\n",
        "        if random.random() < keep_prob_array[center]:\n",
        "            batch.append((center, context))\n",
        "            neg_sample = np.random.choice(\n",
        "                range(len(negative_sampling_prob_array)),\n",
        "                size=num_negatives,\n",
        "                p=negative_sampling_prob_array,\n",
        "            )\n",
        "            neg_samples.append(neg_sample)\n",
        "    batch = np.array(batch)\n",
        "    neg_samples = np.vstack(neg_samples)\n",
        "    return batch, neg_samples"
      ]
    },
    {
      "cell_type": "code",
      "execution_count": null,
      "metadata": {
        "id": "GC0RHeGs-P94"
      },
      "outputs": [],
      "source": [
        "batch_size = 4\n",
        "num_negatives = 15\n",
        "batch, neg_samples = generate_batch_with_neg_samples(\n",
        "    context_pairs,\n",
        "    batch_size,\n",
        "    keep_prob_array,\n",
        "    word_to_index,\n",
        "    num_negatives,\n",
        "    negative_sampling_prob_array,\n",
        ")"
      ]
    },
    {
      "cell_type": "markdown",
      "metadata": {
        "id": "LZAW23Iw-P94"
      },
      "source": [
        "Наконец, время реализовать модель. Обращаем ваше внимание, использование линейных слоев (`nn.Linear`) далеко не всегда оправданно!\n",
        "\n",
        "Напомним, что в случае negative sampling решается задача максимизации следующего функционала:\n",
        "\n",
        "$$\n",
        "\\mathcal{L} = \\log \\sigma({\\mathbf{v}'_{w_O}}^\\top \\mathbf{v}_{w_I}) + \\sum_{i=1}^{k} \\mathbb{E}_{w_i \\sim P_n(w)} \\left[ \\log \\sigma({-\\mathbf{v}'_{w_i}}^\\top \\mathbf{v}_{w_I}) \\right],\n",
        "$$\n",
        "\n",
        "где:\n",
        "- $\\mathbf{v}_{w_I}$ – вектор центрального слова $w_I$,\n",
        "- $\\mathbf{v}'_{w_O}$ – вектор слова из контекста $w_O$,\n",
        "- $k$ – число negative samplesЮ,\n",
        "- $P_n(w)$ – распределение negative samples, заданное выше,\n",
        "- $\\sigma$ – сигмоида."
      ]
    },
    {
      "cell_type": "code",
      "execution_count": null,
      "metadata": {
        "id": "-EITNzOT-P94"
      },
      "outputs": [],
      "source": [
        "class SkipGramModelWithNegSampling(nn.Module):\n",
        "    def __init__(self, vocab_size, embedding_dim):\n",
        "        super().__init__()\n",
        "        self.center_embeddings = nn.Embedding(vocab_size, embedding_dim)  # YOUR CODE HERE\n",
        "        self.context_embeddings = nn.Embedding(vocab_size, embedding_dim)   # YOUR CODE HERE scale_grad_by_freq\n",
        "\n",
        "    def forward(self, center_words, pos_context_words, neg_context_words):\n",
        "        # YOUR CODE HERE\n",
        "        #pos_scores = 0  # THIS IS A PLACEHOLDER\n",
        "        #neg_scores = 0  # THIS IS A PLACEHOLDER\n",
        "\n",
        "        w = self.center_embeddings(center_words)\n",
        "        c_n = self.context_embeddings(neg_context_words)\n",
        "        c_p = self.context_embeddings(pos_context_words)\n",
        "        #u = nn.Flatten()(self.center_embeddings(center_words))\n",
        "        #v = nn.Flatten()(self.context_embeddings(neg_context_words))\n",
        "\n",
        "        pos_scores = torch.mul(w, c_p).squeeze()\n",
        "        pos_scores = torch.sum(pos_scores, dim=1)\n",
        "        #pos_scores = torch.nn.functional.logsigmoid(pos_scores)\n",
        "\n",
        "        neg_score = torch.bmm(c_n, w.unsqueeze(2)).squeeze()\n",
        "        #neg_score = torch.nn.functional.logsigmoid(neg_score)\n",
        "\n",
        "        return pos_scores, neg_score\n"
      ]
    },
    {
      "cell_type": "code",
      "execution_count": null,
      "metadata": {
        "id": "aKODdRY4-P94"
      },
      "outputs": [],
      "source": [
        "device = torch.device(\"cpu\")"
      ]
    },
    {
      "cell_type": "code",
      "execution_count": null,
      "metadata": {
        "id": "YrMB4Yr2-P94"
      },
      "outputs": [],
      "source": [
        "vocab_size = len(word_to_index)\n",
        "embedding_dim = 30\n",
        "num_negatives = 15\n",
        "\n",
        "model = SkipGramModelWithNegSampling(vocab_size, embedding_dim).to(device)\n",
        "optimizer = optim.Adam(model.parameters(), lr=0.05)\n",
        "lr_scheduler = ReduceLROnPlateau(optimizer, factor=0.5, patience=150)\n",
        "criterion = nn.BCEWithLogitsLoss()"
      ]
    },
    {
      "cell_type": "code",
      "execution_count": null,
      "metadata": {
        "id": "RQYTyBeB-P95"
      },
      "outputs": [],
      "source": [
        "params_counter = 0\n",
        "for weights in model.parameters():\n",
        "    params_counter += weights.shape.numel()\n",
        "assert params_counter == len(word_to_index) * embedding_dim * 2"
      ]
    },
    {
      "cell_type": "code",
      "execution_count": null,
      "metadata": {
        "id": "V2qll6Qo-P95"
      },
      "outputs": [],
      "source": [
        "def train_skipgram_with_neg_sampling(\n",
        "    model,\n",
        "    context_pairs,\n",
        "    keep_prob_array,\n",
        "    word_to_index,\n",
        "    batch_size,\n",
        "    num_negatives,\n",
        "    negative_sampling_prob_array,\n",
        "    steps,\n",
        "    optimizer=optimizer,\n",
        "    lr_scheduler=lr_scheduler,\n",
        "    device=device,\n",
        "):\n",
        "    pos_labels = torch.ones(batch_size).to(device)\n",
        "    neg_labels = torch.zeros(batch_size, num_negatives).to(device)\n",
        "    loss_history = []\n",
        "    for step in tqdma(range(steps)):\n",
        "        batch, neg_samples = generate_batch_with_neg_samples(\n",
        "            context_pairs,\n",
        "            batch_size,\n",
        "            keep_prob_array,\n",
        "            word_to_index,\n",
        "            num_negatives,\n",
        "            negative_sampling_prob_array,\n",
        "        )\n",
        "        center_words = torch.tensor([pair[0] for pair in batch], dtype=torch.long).to(\n",
        "            device\n",
        "        )\n",
        "        pos_context_words = torch.tensor(\n",
        "            [pair[1] for pair in batch], dtype=torch.long\n",
        "        ).to(device)\n",
        "        neg_context_words = torch.tensor(neg_samples, dtype=torch.long).to(device)\n",
        "\n",
        "        optimizer.zero_grad()\n",
        "        pos_scores, neg_scores = model(\n",
        "            center_words, pos_context_words, neg_context_words\n",
        "        )\n",
        "\n",
        "        loss_pos = criterion(pos_scores, pos_labels)\n",
        "        loss_neg = criterion(neg_scores, neg_labels)\n",
        "        #loss_pos = torch.nn.functional.logsigmoid(pos_scores)\n",
        "        #loss_neg = torch.nn.functional.logsigmoid(-1 * neg_scores)\n",
        "\n",
        "        loss = loss_pos + loss_neg\n",
        "\n",
        "        loss.backward()\n",
        "        optimizer.step()\n",
        "\n",
        "        loss_history.append(loss.item())\n",
        "        lr_scheduler.step(loss_history[-1])\n",
        "\n",
        "        if step % 100 == 0:\n",
        "            print(\n",
        "                f\"Step {step}, Loss: {np.mean(loss_history[-100:])}, learning rate: {lr_scheduler._last_lr}\"\n",
        "            )"
      ]
    },
    {
      "cell_type": "code",
      "execution_count": null,
      "metadata": {
        "colab": {
          "base_uri": "https://localhost:8080/",
          "height": 483,
          "referenced_widgets": [
            "508eb3e41a774efdb2608ec887b02721",
            "3982255611ea4d6797af717db7d0bd9e",
            "a678e899385c4752a4e7e22c3efe8707",
            "e875871505f94145b15a722bf1bc82eb",
            "3934d15ad31c4e469a5fe9775fe61d87",
            "871e1d15cf40450891780ceca2e187dc",
            "8afa9e6655a74141a5e1f30f92218764",
            "169c2818bd1d4f819321c50ec3e843ca",
            "4083de11fcbc4db780052f9409a11172",
            "5b53195c802b40eda4a7f7935b0bd33e",
            "111dc10126fc4d8e9baf58b813e99823"
          ]
        },
        "id": "2LdBSiP1-P95",
        "outputId": "25323fbe-1fec-4d76-90aa-62868a3a916d"
      },
      "outputs": [
        {
          "output_type": "display_data",
          "data": {
            "text/plain": [
              "  0%|          | 0/2500 [00:00<?, ?it/s]"
            ],
            "application/vnd.jupyter.widget-view+json": {
              "version_major": 2,
              "version_minor": 0,
              "model_id": "508eb3e41a774efdb2608ec887b02721"
            }
          },
          "metadata": {}
        },
        {
          "output_type": "stream",
          "name": "stdout",
          "text": [
            "Step 0, Loss: 4.428857803344727, learning rate: [0.05]\n",
            "Step 100, Loss: 2.8581454706192018, learning rate: [0.05]\n",
            "Step 200, Loss: 1.9917961311340333, learning rate: [0.05]\n",
            "Step 300, Loss: 1.8078465855121613, learning rate: [0.05]\n",
            "Step 400, Loss: 1.753650151491165, learning rate: [0.05]\n",
            "Step 500, Loss: 1.7297846114635467, learning rate: [0.05]\n",
            "Step 600, Loss: 1.7320623660087586, learning rate: [0.05]\n",
            "Step 700, Loss: 1.7409752190113068, learning rate: [0.05]\n",
            "Step 800, Loss: 1.7562332201004027, learning rate: [0.05]\n",
            "Step 900, Loss: 1.75864009141922, learning rate: [0.025]\n",
            "Step 1000, Loss: 1.6861374020576476, learning rate: [0.025]\n",
            "Step 1100, Loss: 1.6450936329364776, learning rate: [0.025]\n",
            "Step 1200, Loss: 1.6132564377784728, learning rate: [0.025]\n",
            "Step 1300, Loss: 1.5949310767650604, learning rate: [0.025]\n",
            "Step 1400, Loss: 1.578844497203827, learning rate: [0.0125]\n",
            "Step 1500, Loss: 1.548231716156006, learning rate: [0.0125]\n",
            "Step 1600, Loss: 1.5223024106025695, learning rate: [0.0125]\n",
            "Step 1700, Loss: 1.5092109811306, learning rate: [0.00625]\n",
            "Step 1800, Loss: 1.4990972447395325, learning rate: [0.00625]\n",
            "Step 1900, Loss: 1.4827823758125305, learning rate: [0.00625]\n",
            "Step 2000, Loss: 1.4817191326618195, learning rate: [0.00625]\n",
            "Step 2100, Loss: 1.4722463548183442, learning rate: [0.003125]\n",
            "Step 2200, Loss: 1.4566710448265077, learning rate: [0.003125]\n",
            "Step 2300, Loss: 1.4562092161178588, learning rate: [0.003125]\n",
            "Step 2400, Loss: 1.4509011161327363, learning rate: [0.0015625]\n"
          ]
        }
      ],
      "source": [
        "steps = 2500\n",
        "batch_size = 512\n",
        "train_skipgram_with_neg_sampling(\n",
        "    model,\n",
        "    context_pairs,\n",
        "    keep_prob_array,\n",
        "    word_to_index,\n",
        "    batch_size,\n",
        "    num_negatives,\n",
        "    negative_sampling_prob_array,\n",
        "    steps,\n",
        ")"
      ]
    },
    {
      "cell_type": "markdown",
      "metadata": {
        "id": "w5itR4lb-P95"
      },
      "source": [
        "Наконец, используйте полученную матрицу весов в качестве матрицы в векторными представлениями слов. Рекомендуем использовать для сдачи матрицу, которая отвечала за слова из контекста (т.е. декодера)."
      ]
    },
    {
      "cell_type": "code",
      "execution_count": null,
      "metadata": {
        "id": "X83_5P4B-P95"
      },
      "outputs": [],
      "source": [
        "_model_parameters = model.parameters()\n",
        "embedding_matrix_center = next(\n",
        "    _model_parameters\n",
        ").detach()  # Assuming that first matrix was for central word\n",
        "embedding_matrix_context = next(\n",
        "    _model_parameters\n",
        ").detach()  # Assuming that second matrix was for context word"
      ]
    },
    {
      "cell_type": "code",
      "execution_count": null,
      "metadata": {
        "id": "rfUYoVhB-P95"
      },
      "outputs": [],
      "source": [
        "def get_word_vector(word, embedding_matrix, word_to_index=word_to_index):\n",
        "    return embedding_matrix[word_to_index[word]]"
      ]
    },
    {
      "cell_type": "markdown",
      "metadata": {
        "id": "qp9WrEI--P96"
      },
      "source": [
        "Простые проверки:"
      ]
    },
    {
      "cell_type": "code",
      "execution_count": null,
      "metadata": {
        "id": "GIOh4Qpu-P9-"
      },
      "outputs": [],
      "source": [
        "similarity_1 = F.cosine_similarity(\n",
        "    get_word_vector(\"iphone\", embedding_matrix_context)[None, :],\n",
        "    get_word_vector(\"apple\", embedding_matrix_context)[None, :],\n",
        ")\n",
        "similarity_2 = F.cosine_similarity(\n",
        "    get_word_vector(\"iphone\", embedding_matrix_context)[None, :],\n",
        "    get_word_vector(\"dell\", embedding_matrix_context)[None, :],\n",
        ")\n",
        "assert similarity_1 > similarity_2"
      ]
    },
    {
      "cell_type": "code",
      "execution_count": null,
      "metadata": {
        "id": "1arNz9Yw-P9-",
        "colab": {
          "base_uri": "https://localhost:8080/",
          "height": 176
        },
        "outputId": "d0459604-9ea4-4792-d87a-ceb822966453"
      },
      "outputs": [
        {
          "output_type": "error",
          "ename": "AssertionError",
          "evalue": "",
          "traceback": [
            "\u001b[0;31m---------------------------------------------------------------------------\u001b[0m",
            "\u001b[0;31mAssertionError\u001b[0m                            Traceback (most recent call last)",
            "\u001b[0;32m<ipython-input-30-e507153c32d6>\u001b[0m in \u001b[0;36m<cell line: 9>\u001b[0;34m()\u001b[0m\n\u001b[1;32m      7\u001b[0m     \u001b[0mget_word_vector\u001b[0m\u001b[0;34m(\u001b[0m\u001b[0;34m\"macbook\"\u001b[0m\u001b[0;34m,\u001b[0m \u001b[0membedding_matrix_context\u001b[0m\u001b[0;34m)\u001b[0m\u001b[0;34m[\u001b[0m\u001b[0;32mNone\u001b[0m\u001b[0;34m,\u001b[0m \u001b[0;34m:\u001b[0m\u001b[0;34m]\u001b[0m\u001b[0;34m,\u001b[0m\u001b[0;34m\u001b[0m\u001b[0;34m\u001b[0m\u001b[0m\n\u001b[1;32m      8\u001b[0m )\n\u001b[0;32m----> 9\u001b[0;31m \u001b[0;32massert\u001b[0m \u001b[0msimilarity_1\u001b[0m \u001b[0;34m>\u001b[0m \u001b[0msimilarity_2\u001b[0m\u001b[0;34m\u001b[0m\u001b[0;34m\u001b[0m\u001b[0m\n\u001b[0m",
            "\u001b[0;31mAssertionError\u001b[0m: "
          ]
        }
      ],
      "source": [
        "similarity_1 = F.cosine_similarity(\n",
        "    get_word_vector(\"windows\", embedding_matrix_context)[None, :],\n",
        "    get_word_vector(\"laptop\", embedding_matrix_context)[None, :],\n",
        ")\n",
        "similarity_2 = F.cosine_similarity(\n",
        "    get_word_vector(\"windows\", embedding_matrix_context)[None, :],\n",
        "    get_word_vector(\"macbook\", embedding_matrix_context)[None, :],\n",
        ")\n",
        "assert similarity_1 > similarity_2"
      ]
    },
    {
      "cell_type": "markdown",
      "metadata": {
        "id": "tAWwFu-a-P9-"
      },
      "source": [
        "Наконец, взглянем на ближайшие по косинусной мере слова. Функция реализована ниже."
      ]
    },
    {
      "cell_type": "code",
      "execution_count": null,
      "metadata": {
        "id": "dA0V6rOYtsLk"
      },
      "outputs": [],
      "source": [
        "def find_nearest(word, embedding_matrix, word_to_index=word_to_index, k=10):\n",
        "    word_vector = get_word_vector(word, embedding_matrix)[None, :]\n",
        "    dists = F.cosine_similarity(embedding_matrix, word_vector)\n",
        "    index_sorted = torch.argsort(dists)\n",
        "    top_k = index_sorted[-k:]\n",
        "    return [(index_to_word[x], dists[x].item()) for x in top_k.numpy()]"
      ]
    },
    {
      "cell_type": "code",
      "execution_count": null,
      "metadata": {
        "colab": {
          "base_uri": "https://localhost:8080/"
        },
        "id": "fqJeJixa-P9-",
        "outputId": "9a5c9040-fc94-4d5e-e1d2-26b0f379f85c"
      },
      "outputs": [
        {
          "output_type": "execute_result",
          "data": {
            "text/plain": [
              "[('nid', 0.6318273544311523),\n",
              " ('peugeot', 0.633227527141571),\n",
              " ('illinois', 0.6362360715866089),\n",
              " ('estate', 0.6416208148002625),\n",
              " ('naturalization', 0.6423560976982117),\n",
              " ('sapiens', 0.6480230093002319),\n",
              " ('despicable', 0.6526815891265869),\n",
              " ('powershell', 0.6601684093475342),\n",
              " ('aiims', 0.6667875647544861),\n",
              " ('python', 0.9999998807907104)]"
            ]
          },
          "metadata": {},
          "execution_count": 32
        }
      ],
      "source": [
        "find_nearest(\"python\", embedding_matrix_context, k=10)"
      ]
    },
    {
      "cell_type": "markdown",
      "metadata": {
        "id": "mH8hF9iz-P9-"
      },
      "source": [
        "Также вы можете визуально проверить, как представлены в латентном пространстве часто встречающиеся слова."
      ]
    },
    {
      "cell_type": "code",
      "execution_count": null,
      "metadata": {
        "id": "o8vw_-2d-P9-"
      },
      "outputs": [],
      "source": [
        "top_k = 5000\n",
        "_top_words = sorted([x for x in word_count_dict.items()], key=lambda x: x[1])[\n",
        "    -top_k - 100 : -100\n",
        "]  # ignoring 100 most frequent words\n",
        "top_words = [x[0] for x in _top_words]\n",
        "del _top_words"
      ]
    },
    {
      "cell_type": "code",
      "execution_count": null,
      "metadata": {
        "id": "0ViuiYa--P9_"
      },
      "outputs": [],
      "source": [
        "word_embeddings = torch.cat(\n",
        "    [embedding_matrix_context[word_to_index[x]][None, :] for x in top_words], dim=0\n",
        ").numpy()"
      ]
    },
    {
      "cell_type": "code",
      "execution_count": null,
      "metadata": {
        "id": "nFfwIvL2-P9_"
      },
      "outputs": [],
      "source": [
        "import bokeh.models as bm\n",
        "import bokeh.plotting as pl\n",
        "from bokeh.io import output_notebook\n",
        "\n",
        "output_notebook()\n",
        "\n",
        "\n",
        "def draw_vectors(\n",
        "    x,\n",
        "    y,\n",
        "    radius=10,\n",
        "    alpha=0.25,\n",
        "    color=\"blue\",\n",
        "    width=600,\n",
        "    height=400,\n",
        "    show=True,\n",
        "    **kwargs,\n",
        "):\n",
        "    \"\"\"draws an interactive plot for data points with auxilirary info on hover\"\"\"\n",
        "    if isinstance(color, str):\n",
        "        color = [color] * len(x)\n",
        "    data_source = bm.ColumnDataSource({\"x\": x, \"y\": y, \"color\": color, **kwargs})\n",
        "\n",
        "    fig = pl.figure(active_scroll=\"wheel_zoom\", width=width, height=height)\n",
        "    fig.scatter(\"x\", \"y\", size=radius, color=\"color\", alpha=alpha, source=data_source)\n",
        "\n",
        "    fig.add_tools(bm.HoverTool(tooltips=[(key, \"@\" + key) for key in kwargs.keys()]))\n",
        "    if show:\n",
        "        pl.show(fig)\n",
        "    return fig"
      ]
    },
    {
      "cell_type": "code",
      "execution_count": null,
      "metadata": {
        "id": "Ouw8H77i-P9_"
      },
      "outputs": [],
      "source": [
        "embedding = umap.UMAP(n_neighbors=5).fit_transform(word_embeddings)"
      ]
    },
    {
      "cell_type": "code",
      "source": [
        "draw_vectors(embedding[:, 0], embedding[:, 1], token=top_words)"
      ],
      "metadata": {
        "colab": {
          "base_uri": "https://localhost:8080/",
          "height": 434
        },
        "id": "VqsQY4-kYgVI",
        "outputId": "838bfa23-fd3f-4e00-c0e1-a95f001629db"
      },
      "execution_count": null,
      "outputs": [
        {
          "output_type": "display_data",
          "data": {
            "application/javascript": [
              "'use strict';\n",
              "(function(root) {\n",
              "  function now() {\n",
              "    return new Date();\n",
              "  }\n",
              "\n",
              "  const force = true;\n",
              "\n",
              "  if (typeof root._bokeh_onload_callbacks === \"undefined\" || force === true) {\n",
              "    root._bokeh_onload_callbacks = [];\n",
              "    root._bokeh_is_loading = undefined;\n",
              "  }\n",
              "\n",
              "const JS_MIME_TYPE = 'application/javascript';\n",
              "  const HTML_MIME_TYPE = 'text/html';\n",
              "  const EXEC_MIME_TYPE = 'application/vnd.bokehjs_exec.v0+json';\n",
              "  const CLASS_NAME = 'output_bokeh rendered_html';\n",
              "\n",
              "  /**\n",
              "   * Render data to the DOM node\n",
              "   */\n",
              "  function render(props, node) {\n",
              "    const script = document.createElement(\"script\");\n",
              "    node.appendChild(script);\n",
              "  }\n",
              "\n",
              "  /**\n",
              "   * Handle when an output is cleared or removed\n",
              "   */\n",
              "  function handleClearOutput(event, handle) {\n",
              "    function drop(id) {\n",
              "      const view = Bokeh.index.get_by_id(id)\n",
              "      if (view != null) {\n",
              "        view.model.document.clear()\n",
              "        Bokeh.index.delete(view)\n",
              "      }\n",
              "    }\n",
              "\n",
              "    const cell = handle.cell;\n",
              "\n",
              "    const id = cell.output_area._bokeh_element_id;\n",
              "    const server_id = cell.output_area._bokeh_server_id;\n",
              "\n",
              "    // Clean up Bokeh references\n",
              "    if (id != null) {\n",
              "      drop(id)\n",
              "    }\n",
              "\n",
              "    if (server_id !== undefined) {\n",
              "      // Clean up Bokeh references\n",
              "      const cmd_clean = \"from bokeh.io.state import curstate; print(curstate().uuid_to_server['\" + server_id + \"'].get_sessions()[0].document.roots[0]._id)\";\n",
              "      cell.notebook.kernel.execute(cmd_clean, {\n",
              "        iopub: {\n",
              "          output: function(msg) {\n",
              "            const id = msg.content.text.trim()\n",
              "            drop(id)\n",
              "          }\n",
              "        }\n",
              "      });\n",
              "      // Destroy server and session\n",
              "      const cmd_destroy = \"import bokeh.io.notebook as ion; ion.destroy_server('\" + server_id + \"')\";\n",
              "      cell.notebook.kernel.execute(cmd_destroy);\n",
              "    }\n",
              "  }\n",
              "\n",
              "  /**\n",
              "   * Handle when a new output is added\n",
              "   */\n",
              "  function handleAddOutput(event, handle) {\n",
              "    const output_area = handle.output_area;\n",
              "    const output = handle.output;\n",
              "\n",
              "    // limit handleAddOutput to display_data with EXEC_MIME_TYPE content only\n",
              "    if ((output.output_type != \"display_data\") || (!Object.prototype.hasOwnProperty.call(output.data, EXEC_MIME_TYPE))) {\n",
              "      return\n",
              "    }\n",
              "\n",
              "    const toinsert = output_area.element.find(\".\" + CLASS_NAME.split(' ')[0]);\n",
              "\n",
              "    if (output.metadata[EXEC_MIME_TYPE][\"id\"] !== undefined) {\n",
              "      toinsert[toinsert.length - 1].firstChild.textContent = output.data[JS_MIME_TYPE];\n",
              "      // store reference to embed id on output_area\n",
              "      output_area._bokeh_element_id = output.metadata[EXEC_MIME_TYPE][\"id\"];\n",
              "    }\n",
              "    if (output.metadata[EXEC_MIME_TYPE][\"server_id\"] !== undefined) {\n",
              "      const bk_div = document.createElement(\"div\");\n",
              "      bk_div.innerHTML = output.data[HTML_MIME_TYPE];\n",
              "      const script_attrs = bk_div.children[0].attributes;\n",
              "      for (let i = 0; i < script_attrs.length; i++) {\n",
              "        toinsert[toinsert.length - 1].firstChild.setAttribute(script_attrs[i].name, script_attrs[i].value);\n",
              "        toinsert[toinsert.length - 1].firstChild.textContent = bk_div.children[0].textContent\n",
              "      }\n",
              "      // store reference to server id on output_area\n",
              "      output_area._bokeh_server_id = output.metadata[EXEC_MIME_TYPE][\"server_id\"];\n",
              "    }\n",
              "  }\n",
              "\n",
              "  function register_renderer(events, OutputArea) {\n",
              "\n",
              "    function append_mime(data, metadata, element) {\n",
              "      // create a DOM node to render to\n",
              "      const toinsert = this.create_output_subarea(\n",
              "        metadata,\n",
              "        CLASS_NAME,\n",
              "        EXEC_MIME_TYPE\n",
              "      );\n",
              "      this.keyboard_manager.register_events(toinsert);\n",
              "      // Render to node\n",
              "      const props = {data: data, metadata: metadata[EXEC_MIME_TYPE]};\n",
              "      render(props, toinsert[toinsert.length - 1]);\n",
              "      element.append(toinsert);\n",
              "      return toinsert\n",
              "    }\n",
              "\n",
              "    /* Handle when an output is cleared or removed */\n",
              "    events.on('clear_output.CodeCell', handleClearOutput);\n",
              "    events.on('delete.Cell', handleClearOutput);\n",
              "\n",
              "    /* Handle when a new output is added */\n",
              "    events.on('output_added.OutputArea', handleAddOutput);\n",
              "\n",
              "    /**\n",
              "     * Register the mime type and append_mime function with output_area\n",
              "     */\n",
              "    OutputArea.prototype.register_mime_type(EXEC_MIME_TYPE, append_mime, {\n",
              "      /* Is output safe? */\n",
              "      safe: true,\n",
              "      /* Index of renderer in `output_area.display_order` */\n",
              "      index: 0\n",
              "    });\n",
              "  }\n",
              "\n",
              "  // register the mime type if in Jupyter Notebook environment and previously unregistered\n",
              "  if (root.Jupyter !== undefined) {\n",
              "    const events = require('base/js/events');\n",
              "    const OutputArea = require('notebook/js/outputarea').OutputArea;\n",
              "\n",
              "    if (OutputArea.prototype.mime_types().indexOf(EXEC_MIME_TYPE) == -1) {\n",
              "      register_renderer(events, OutputArea);\n",
              "    }\n",
              "  }\n",
              "  if (typeof (root._bokeh_timeout) === \"undefined\" || force === true) {\n",
              "    root._bokeh_timeout = Date.now() + 5000;\n",
              "    root._bokeh_failed_load = false;\n",
              "  }\n",
              "\n",
              "  const NB_LOAD_WARNING = {'data': {'text/html':\n",
              "     \"<div style='background-color: #fdd'>\\n\"+\n",
              "     \"<p>\\n\"+\n",
              "     \"BokehJS does not appear to have successfully loaded. If loading BokehJS from CDN, this \\n\"+\n",
              "     \"may be due to a slow or bad network connection. Possible fixes:\\n\"+\n",
              "     \"</p>\\n\"+\n",
              "     \"<ul>\\n\"+\n",
              "     \"<li>re-rerun `output_notebook()` to attempt to load from CDN again, or</li>\\n\"+\n",
              "     \"<li>use INLINE resources instead, as so:</li>\\n\"+\n",
              "     \"</ul>\\n\"+\n",
              "     \"<code>\\n\"+\n",
              "     \"from bokeh.resources import INLINE\\n\"+\n",
              "     \"output_notebook(resources=INLINE)\\n\"+\n",
              "     \"</code>\\n\"+\n",
              "     \"</div>\"}};\n",
              "\n",
              "  function display_loaded(error = null) {\n",
              "    const el = document.getElementById(null);\n",
              "    if (el != null) {\n",
              "      const html = (() => {\n",
              "        if (typeof root.Bokeh === \"undefined\") {\n",
              "          if (error == null) {\n",
              "            return \"BokehJS is loading ...\";\n",
              "          } else {\n",
              "            return \"BokehJS failed to load.\";\n",
              "          }\n",
              "        } else {\n",
              "          const prefix = `BokehJS ${root.Bokeh.version}`;\n",
              "          if (error == null) {\n",
              "            return `${prefix} successfully loaded.`;\n",
              "          } else {\n",
              "            return `${prefix} <b>encountered errors</b> while loading and may not function as expected.`;\n",
              "          }\n",
              "        }\n",
              "      })();\n",
              "      el.innerHTML = html;\n",
              "\n",
              "      if (error != null) {\n",
              "        const wrapper = document.createElement(\"div\");\n",
              "        wrapper.style.overflow = \"auto\";\n",
              "        wrapper.style.height = \"5em\";\n",
              "        wrapper.style.resize = \"vertical\";\n",
              "        const content = document.createElement(\"div\");\n",
              "        content.style.fontFamily = \"monospace\";\n",
              "        content.style.whiteSpace = \"pre-wrap\";\n",
              "        content.style.backgroundColor = \"rgb(255, 221, 221)\";\n",
              "        content.textContent = error.stack ?? error.toString();\n",
              "        wrapper.append(content);\n",
              "        el.append(wrapper);\n",
              "      }\n",
              "    } else if (Date.now() < root._bokeh_timeout) {\n",
              "      setTimeout(() => display_loaded(error), 100);\n",
              "    }\n",
              "  }\n",
              "\n",
              "  function run_callbacks() {\n",
              "    try {\n",
              "      root._bokeh_onload_callbacks.forEach(function(callback) {\n",
              "        if (callback != null)\n",
              "          callback();\n",
              "      });\n",
              "    } finally {\n",
              "      delete root._bokeh_onload_callbacks\n",
              "    }\n",
              "    console.debug(\"Bokeh: all callbacks have finished\");\n",
              "  }\n",
              "\n",
              "  function load_libs(css_urls, js_urls, callback) {\n",
              "    if (css_urls == null) css_urls = [];\n",
              "    if (js_urls == null) js_urls = [];\n",
              "\n",
              "    root._bokeh_onload_callbacks.push(callback);\n",
              "    if (root._bokeh_is_loading > 0) {\n",
              "      console.debug(\"Bokeh: BokehJS is being loaded, scheduling callback at\", now());\n",
              "      return null;\n",
              "    }\n",
              "    if (js_urls == null || js_urls.length === 0) {\n",
              "      run_callbacks();\n",
              "      return null;\n",
              "    }\n",
              "    console.debug(\"Bokeh: BokehJS not loaded, scheduling load and callback at\", now());\n",
              "    root._bokeh_is_loading = css_urls.length + js_urls.length;\n",
              "\n",
              "    function on_load() {\n",
              "      root._bokeh_is_loading--;\n",
              "      if (root._bokeh_is_loading === 0) {\n",
              "        console.debug(\"Bokeh: all BokehJS libraries/stylesheets loaded\");\n",
              "        run_callbacks()\n",
              "      }\n",
              "    }\n",
              "\n",
              "    function on_error(url) {\n",
              "      console.error(\"failed to load \" + url);\n",
              "    }\n",
              "\n",
              "    for (let i = 0; i < css_urls.length; i++) {\n",
              "      const url = css_urls[i];\n",
              "      const element = document.createElement(\"link\");\n",
              "      element.onload = on_load;\n",
              "      element.onerror = on_error.bind(null, url);\n",
              "      element.rel = \"stylesheet\";\n",
              "      element.type = \"text/css\";\n",
              "      element.href = url;\n",
              "      console.debug(\"Bokeh: injecting link tag for BokehJS stylesheet: \", url);\n",
              "      document.body.appendChild(element);\n",
              "    }\n",
              "\n",
              "    for (let i = 0; i < js_urls.length; i++) {\n",
              "      const url = js_urls[i];\n",
              "      const element = document.createElement('script');\n",
              "      element.onload = on_load;\n",
              "      element.onerror = on_error.bind(null, url);\n",
              "      element.async = false;\n",
              "      element.src = url;\n",
              "      console.debug(\"Bokeh: injecting script tag for BokehJS library: \", url);\n",
              "      document.head.appendChild(element);\n",
              "    }\n",
              "  };\n",
              "\n",
              "  function inject_raw_css(css) {\n",
              "    const element = document.createElement(\"style\");\n",
              "    element.appendChild(document.createTextNode(css));\n",
              "    document.body.appendChild(element);\n",
              "  }\n",
              "\n",
              "  const js_urls = [\"https://cdn.bokeh.org/bokeh/release/bokeh-3.6.0.min.js\", \"https://cdn.bokeh.org/bokeh/release/bokeh-gl-3.6.0.min.js\", \"https://cdn.bokeh.org/bokeh/release/bokeh-widgets-3.6.0.min.js\", \"https://cdn.bokeh.org/bokeh/release/bokeh-tables-3.6.0.min.js\", \"https://cdn.bokeh.org/bokeh/release/bokeh-mathjax-3.6.0.min.js\"];\n",
              "  const css_urls = [];\n",
              "\n",
              "  const inline_js = [    function(Bokeh) {\n",
              "      Bokeh.set_log_level(\"info\");\n",
              "    },\n",
              "function(Bokeh) {\n",
              "    }\n",
              "  ];\n",
              "\n",
              "  function run_inline_js() {\n",
              "    if (root.Bokeh !== undefined || force === true) {\n",
              "      try {\n",
              "            for (let i = 0; i < inline_js.length; i++) {\n",
              "      inline_js[i].call(root, root.Bokeh);\n",
              "    }\n",
              "\n",
              "      } catch (error) {throw error;\n",
              "      }} else if (Date.now() < root._bokeh_timeout) {\n",
              "      setTimeout(run_inline_js, 100);\n",
              "    } else if (!root._bokeh_failed_load) {\n",
              "      console.log(\"Bokeh: BokehJS failed to load within specified timeout.\");\n",
              "      root._bokeh_failed_load = true;\n",
              "    } else if (force !== true) {\n",
              "      const cell = $(document.getElementById(null)).parents('.cell').data().cell;\n",
              "      cell.output_area.append_execute_result(NB_LOAD_WARNING)\n",
              "    }\n",
              "  }\n",
              "\n",
              "  if (root._bokeh_is_loading === 0) {\n",
              "    console.debug(\"Bokeh: BokehJS loaded, going straight to plotting\");\n",
              "    run_inline_js();\n",
              "  } else {\n",
              "    load_libs(css_urls, js_urls, function() {\n",
              "      console.debug(\"Bokeh: BokehJS plotting callback run at\", now());\n",
              "      run_inline_js();\n",
              "    });\n",
              "  }\n",
              "}(window));"
            ],
            "application/vnd.bokehjs_load.v0+json": "'use strict';\n(function(root) {\n  function now() {\n    return new Date();\n  }\n\n  const force = true;\n\n  if (typeof root._bokeh_onload_callbacks === \"undefined\" || force === true) {\n    root._bokeh_onload_callbacks = [];\n    root._bokeh_is_loading = undefined;\n  }\n\n\n  if (typeof (root._bokeh_timeout) === \"undefined\" || force === true) {\n    root._bokeh_timeout = Date.now() + 5000;\n    root._bokeh_failed_load = false;\n  }\n\n  const NB_LOAD_WARNING = {'data': {'text/html':\n     \"<div style='background-color: #fdd'>\\n\"+\n     \"<p>\\n\"+\n     \"BokehJS does not appear to have successfully loaded. If loading BokehJS from CDN, this \\n\"+\n     \"may be due to a slow or bad network connection. Possible fixes:\\n\"+\n     \"</p>\\n\"+\n     \"<ul>\\n\"+\n     \"<li>re-rerun `output_notebook()` to attempt to load from CDN again, or</li>\\n\"+\n     \"<li>use INLINE resources instead, as so:</li>\\n\"+\n     \"</ul>\\n\"+\n     \"<code>\\n\"+\n     \"from bokeh.resources import INLINE\\n\"+\n     \"output_notebook(resources=INLINE)\\n\"+\n     \"</code>\\n\"+\n     \"</div>\"}};\n\n  function display_loaded(error = null) {\n    const el = document.getElementById(null);\n    if (el != null) {\n      const html = (() => {\n        if (typeof root.Bokeh === \"undefined\") {\n          if (error == null) {\n            return \"BokehJS is loading ...\";\n          } else {\n            return \"BokehJS failed to load.\";\n          }\n        } else {\n          const prefix = `BokehJS ${root.Bokeh.version}`;\n          if (error == null) {\n            return `${prefix} successfully loaded.`;\n          } else {\n            return `${prefix} <b>encountered errors</b> while loading and may not function as expected.`;\n          }\n        }\n      })();\n      el.innerHTML = html;\n\n      if (error != null) {\n        const wrapper = document.createElement(\"div\");\n        wrapper.style.overflow = \"auto\";\n        wrapper.style.height = \"5em\";\n        wrapper.style.resize = \"vertical\";\n        const content = document.createElement(\"div\");\n        content.style.fontFamily = \"monospace\";\n        content.style.whiteSpace = \"pre-wrap\";\n        content.style.backgroundColor = \"rgb(255, 221, 221)\";\n        content.textContent = error.stack ?? error.toString();\n        wrapper.append(content);\n        el.append(wrapper);\n      }\n    } else if (Date.now() < root._bokeh_timeout) {\n      setTimeout(() => display_loaded(error), 100);\n    }\n  }\n\n  function run_callbacks() {\n    try {\n      root._bokeh_onload_callbacks.forEach(function(callback) {\n        if (callback != null)\n          callback();\n      });\n    } finally {\n      delete root._bokeh_onload_callbacks\n    }\n    console.debug(\"Bokeh: all callbacks have finished\");\n  }\n\n  function load_libs(css_urls, js_urls, callback) {\n    if (css_urls == null) css_urls = [];\n    if (js_urls == null) js_urls = [];\n\n    root._bokeh_onload_callbacks.push(callback);\n    if (root._bokeh_is_loading > 0) {\n      console.debug(\"Bokeh: BokehJS is being loaded, scheduling callback at\", now());\n      return null;\n    }\n    if (js_urls == null || js_urls.length === 0) {\n      run_callbacks();\n      return null;\n    }\n    console.debug(\"Bokeh: BokehJS not loaded, scheduling load and callback at\", now());\n    root._bokeh_is_loading = css_urls.length + js_urls.length;\n\n    function on_load() {\n      root._bokeh_is_loading--;\n      if (root._bokeh_is_loading === 0) {\n        console.debug(\"Bokeh: all BokehJS libraries/stylesheets loaded\");\n        run_callbacks()\n      }\n    }\n\n    function on_error(url) {\n      console.error(\"failed to load \" + url);\n    }\n\n    for (let i = 0; i < css_urls.length; i++) {\n      const url = css_urls[i];\n      const element = document.createElement(\"link\");\n      element.onload = on_load;\n      element.onerror = on_error.bind(null, url);\n      element.rel = \"stylesheet\";\n      element.type = \"text/css\";\n      element.href = url;\n      console.debug(\"Bokeh: injecting link tag for BokehJS stylesheet: \", url);\n      document.body.appendChild(element);\n    }\n\n    for (let i = 0; i < js_urls.length; i++) {\n      const url = js_urls[i];\n      const element = document.createElement('script');\n      element.onload = on_load;\n      element.onerror = on_error.bind(null, url);\n      element.async = false;\n      element.src = url;\n      console.debug(\"Bokeh: injecting script tag for BokehJS library: \", url);\n      document.head.appendChild(element);\n    }\n  };\n\n  function inject_raw_css(css) {\n    const element = document.createElement(\"style\");\n    element.appendChild(document.createTextNode(css));\n    document.body.appendChild(element);\n  }\n\n  const js_urls = [\"https://cdn.bokeh.org/bokeh/release/bokeh-3.6.0.min.js\", \"https://cdn.bokeh.org/bokeh/release/bokeh-gl-3.6.0.min.js\", \"https://cdn.bokeh.org/bokeh/release/bokeh-widgets-3.6.0.min.js\", \"https://cdn.bokeh.org/bokeh/release/bokeh-tables-3.6.0.min.js\", \"https://cdn.bokeh.org/bokeh/release/bokeh-mathjax-3.6.0.min.js\"];\n  const css_urls = [];\n\n  const inline_js = [    function(Bokeh) {\n      Bokeh.set_log_level(\"info\");\n    },\nfunction(Bokeh) {\n    }\n  ];\n\n  function run_inline_js() {\n    if (root.Bokeh !== undefined || force === true) {\n      try {\n            for (let i = 0; i < inline_js.length; i++) {\n      inline_js[i].call(root, root.Bokeh);\n    }\n\n      } catch (error) {throw error;\n      }} else if (Date.now() < root._bokeh_timeout) {\n      setTimeout(run_inline_js, 100);\n    } else if (!root._bokeh_failed_load) {\n      console.log(\"Bokeh: BokehJS failed to load within specified timeout.\");\n      root._bokeh_failed_load = true;\n    } else if (force !== true) {\n      const cell = $(document.getElementById(null)).parents('.cell').data().cell;\n      cell.output_area.append_execute_result(NB_LOAD_WARNING)\n    }\n  }\n\n  if (root._bokeh_is_loading === 0) {\n    console.debug(\"Bokeh: BokehJS loaded, going straight to plotting\");\n    run_inline_js();\n  } else {\n    load_libs(css_urls, js_urls, function() {\n      console.debug(\"Bokeh: BokehJS plotting callback run at\", now());\n      run_inline_js();\n    });\n  }\n}(window));"
          },
          "metadata": {}
        },
        {
          "output_type": "display_data",
          "data": {
            "text/html": [
              "\n",
              "  <div id=\"ea4f98ac-33ae-4c0a-b1e4-341864ba9743\" data-root-id=\"p1004\" style=\"display: contents;\"></div>\n"
            ]
          },
          "metadata": {}
        },
        {
          "output_type": "display_data",
          "data": {
            "application/javascript": [
              "(function(root) {\n",
              "  function embed_document(root) {\n",
              "  const docs_json = {\"ac293426-b67d-4f8f-b6b6-491c5f807269\":{\"version\":\"3.6.0\",\"title\":\"Bokeh Application\",\"roots\":[{\"type\":\"object\",\"name\":\"Figure\",\"id\":\"p1004\",\"attributes\":{\"height\":400,\"x_range\":{\"type\":\"object\",\"name\":\"DataRange1d\",\"id\":\"p1005\"},\"y_range\":{\"type\":\"object\",\"name\":\"DataRange1d\",\"id\":\"p1006\"},\"x_scale\":{\"type\":\"object\",\"name\":\"LinearScale\",\"id\":\"p1013\"},\"y_scale\":{\"type\":\"object\",\"name\":\"LinearScale\",\"id\":\"p1014\"},\"title\":{\"type\":\"object\",\"name\":\"Title\",\"id\":\"p1011\"},\"renderers\":[{\"type\":\"object\",\"name\":\"GlyphRenderer\",\"id\":\"p1044\",\"attributes\":{\"data_source\":{\"type\":\"object\",\"name\":\"ColumnDataSource\",\"id\":\"p1001\",\"attributes\":{\"selected\":{\"type\":\"object\",\"name\":\"Selection\",\"id\":\"p1002\",\"attributes\":{\"indices\":[],\"line_indices\":[]}},\"selection_policy\":{\"type\":\"object\",\"name\":\"UnionRenderers\",\"id\":\"p1003\"},\"data\":{\"type\":\"map\",\"entries\":[[\"x\",{\"type\":\"ndarray\",\"array\":{\"type\":\"bytes\",\"data\":\"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\"},\"shape\":[5000],\"dtype\":\"float32\",\"order\":\"little\"}],[\"y\",{\"type\":\"ndarray\",\"array\":{\"type\":\"bytes\",\"data\":\"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\"},\"shape\":[5000],\"dtype\":\"float32\",\"order\":\"little\"}],[\"color\",[\"blue\",\"blue\",\"blue\",\"blue\",\"blue\",\"blue\",\"blue\",\"blue\",\"blue\",\"blue\",\"blue\",\"blue\",\"blue\",\"blue\",\"blue\",\"blue\",\"blue\",\"blue\",\"blue\",\"blue\",\"blue\",\"blue\",\"blue\",\"blue\",\"blue\",\"blue\",\"blue\",\"blue\",\"blue\",\"blue\",\"blue\",\"blue\",\"blue\",\"blue\",\"blue\",\"blue\",\"blue\",\"blue\",\"blue\",\"blue\",\"blue\",\"blue\",\"blue\",\"blue\",\"blue\",\"blue\",\"blue\",\"blue\",\"blue\",\"blue\",\"blue\",\"blue\",\"blue\",\"blue\",\"blue\",\"blue\",\"blue\",\"blue\",\"blue\",\"blue\",\"blue\",\"blue\",\"blue\",\"blue\",\"blue\",\"blue\",\"blue\",\"blue\",\"blue\",\"blue\",\"blue\",\"blue\",\"blue\",\"blue\",\"blue\",\"blue\",\"blue\",\"blue\",\"blue\",\"blue\",\"blue\",\"blue\",\"blue\",\"blue\",\"blue\",\"blue\",\"blue\",\"blue\",\"blue\",\"blue\",\"blue\",\"blue\",\"blue\",\"blue\",\"blue\",\"blue\",\"blue\",\"blue\",\"blue\",\"blue\",\"blue\",\"blue\",\"blue\",\"blue\",\"blue\",\"blue\",\"blue\",\"blue\",\"blue\",\"blue\",\"blue\",\"blue\",\"blue\",\"blue\",\"blue\",\"blue\",\"blue\",\"blue\",\"blue\",\"blue\",\"blue\",\"blue\",\"blue\",\"blue\",\"blue\",\"blue\",\"blue\",\"blue\",\"blue\",\"blue\",\"blue\",\"blue\",\"blue\",\"blue\",\"blue\",\"blue\",\"blue\",\"blue\",\"blue\",\"blue\",\"blue\",\"blue\",\"blue\",\"blue\",\"blue\",\"blue\",\"blue\",\"blue\",\"blue\",\"blue\",\"blue\",\"blue\",\"blue\",\"blue\",\"blue\",\"blue\",\"blue\",\"blue\",\"blue\",\"blue\",\"blue\",\"blue\",\"blue\",\"blue\",\"blue\",\"blue\",\"blue\",\"blue\",\"blue\",\"blue\",\"blue\",\"blue\",\"blue\",\"blue\",\"blue\",\"blue\",\"blue\",\"blue\",\"blue\",\"blue\",\"blue\",\"blue\",\"blue\",\"blue\",\"blue\",\"blue\",\"blue\",\"blue\",\"blue\",\"blue\",\"blue\",\"blue\",\"blue\",\"blue\",\"blue\",\"blue\",\"blue\",\"blue\",\"blue\",\"blue\",\"blue\",\"blue\",\"blue\",\"blue\",\"blue\",\"blue\",\"blue\",\"blue\",\"blue\",\"blue\",\"blue\",\"blue\",\"blue\",\"blue\",\"blue\",\"blue\",\"blue\",\"blue\",\"blue\",\"blue\",\"blue\",\"blue\",\"blue\",\"blue\",\"blue\",\"blue\",\"blue\",\"blue\",\"blue\",\"blue\",\"blue\",\"blue\",\"blue\",\"blue\",\"blue\",\"blue\",\"blue\",\"blue\",\"blue\",\"blue\",\"blue\",\"blue\",\"blue\",\"blue\",\"blue\",\"blue\",\"blue\",\"blue\",\"blue\",\"blue\",\"blue\",\"blue\",\"blue\",\"blue\",\"blue\",\"blue\",\"blue\",\"blue\",\"blue\",\"blue\",\"blue\",\"blue\",\"blue\",\"blue\",\"blue\",\"blue\",\"blue\",\"blue\",\"blue\",\"blue\",\"blue\",\"blue\",\"blue\",\"blue\",\"blue\",\"blue\",\"blue\",\"blue\",\"blue\",\"blue\",\"blue\",\"blue\",\"blue\",\"blue\",\"blue\",\"blue\",\"blue\",\"blue\",\"blue\",\"blue\",\"blue\",\"blue\",\"blue\",\"blue\",\"blue\",\"blue\",\"blue\",\"blue\",\"blue\",\"blue\",\"blue\",\"blue\",\"blue\",\"blue\",\"blue\",\"blue\",\"blue\",\"blue\",\"blue\",\"blue\",\"blue\",\"blue\",\"blue\",\"blue\",\"blue\",\"blue\",\"blue\",\"blue\",\"blue\",\"blue\",\"blue\",\"blue\",\"blue\",\"blue\",\"blue\",\"blue\",\"blue\",\"blue\",\"blue\",\"blue\",\"blue\",\"blue\",\"blue\",\"blue\",\"blue\",\"blue\",\"blue\",\"blue\",\"blue\",\"blue\",\"blue\",\"blue\",\"blue\",\"blue\",\"blue\",\"blue\",\"blue\",\"blue\",\"blue\",\"blue\",\"blue\",\"blue\",\"blue\",\"blue\",\"blue\",\"blue\",\"blue\",\"blue\",\"blue\",\"blue\",\"blue\",\"blue\",\"blue\",\"blue\",\"blue\",\"blue\",\"blue\",\"blue\",\"blue\",\"blue\",\"blue\",\"blue\",\"blue\",\"blue\",\"blue\",\"blue\",\"blue\",\"blue\",\"blue\",\"blue\",\"blue\",\"blue\",\"blue\",\"blue\",\"blue\",\"blue\",\"blue\",\"blue\",\"blue\",\"blue\",\"blue\",\"blue\",\"blue\",\"blue\",\"blue\",\"blue\",\"blue\",\"blue\",\"blue\",\"blue\",\"blue\",\"blue\",\"blue\",\"blue\",\"blue\",\"blue\",\"blue\",\"blue\",\"blue\",\"blue\",\"blue\",\"blue\",\"blue\",\"blue\",\"blue\",\"blue\",\"blue\",\"blue\",\"blue\",\"blue\",\"blue\",\"blue\",\"blue\",\"blue\",\"blue\",\"blue\",\"blue\",\"blue\",\"blue\",\"blue\",\"blue\",\"blue\",\"blue\",\"blue\",\"blue\",\"blue\",\"blue\",\"blue\",\"blue\",\"blue\",\"blue\",\"blue\",\"blue\",\"blue\",\"blue\",\"blue\",\"blue\",\"blue\",\"blue\",\"blue\",\"blue\",\"blue\",\"blue\",\"blue\",\"blue\",\"blue\",\"blue\",\"blue\",\"blue\",\"blue\",\"blue\",\"blue\",\"blue\",\"blue\",\"blue\",\"blue\",\"blue\",\"blue\",\"blue\",\"blue\",\"blue\",\"blue\",\"blue\",\"blue\",\"blue\",\"blue\",\"blue\",\"blue\",\"blue\",\"blue\",\"blue\",\"blue\",\"blue\",\"blue\",\"blue\",\"blue\",\"blue\",\"blue\",\"blue\",\"blue\",\"blue\",\"blue\",\"blue\",\"blue\",\"blue\",\"blue\",\"blue\",\"blue\",\"blue\",\"blue\",\"blue\",\"blue\",\"blue\",\"blue\",\"blue\",\"blue\",\"blue\",\"blue\",\"blue\",\"blue\",\"blue\",\"blue\",\"blue\",\"blue\",\"blue\",\"blue\",\"blue\",\"blue\",\"blue\",\"blue\",\"blue\",\"blue\",\"blue\",\"blue\",\"blue\",\"blue\",\"blue\",\"blue\",\"blue\",\"blue\",\"blue\",\"blue\",\"blue\",\"blue\",\"blue\",\"blue\",\"blue\",\"blue\",\"blue\",\"blue\",\"blue\",\"blue\",\"blue\",\"blue\",\"blue\",\"blue\",\"blue\",\"blue\",\"blue\",\"blue\",\"blue\",\"blue\",\"blue\",\"blue\",\"blue\",\"blue\",\"blue\",\"blue\",\"blue\",\"blue\",\"blue\",\"blue\",\"blue\",\"blue\",\"blue\",\"blue\",\"blue\",\"blue\",\"blue\",\"blue\",\"blue\",\"blue\",\"blue\",\"blue\",\"blue\",\"blue\",\"blue\",\"blue\",\"blue\",\"blue\",\"blue\",\"blue\",\"blue\",\"blue\",\"blue\",\"blue\",\"blue\",\"blue\",\"blue\",\"blue\",\"blue\",\"blue\",\"blue\",\"blue\",\"blue\",\"blue\",\"blue\",\"blue\",\"blue\",\"blue\",\"blue\",\"blue\",\"blue\",\"blue\",\"blue\",\"blue\",\"blue\",\"blue\",\"blue\",\"blue\",\"blue\",\"blue\",\"blue\",\"blue\",\"blue\",\"blue\",\"blue\",\"blue\",\"blue\",\"blue\",\"blue\",\"blue\",\"blue\",\"blue\",\"blue\",\"blue\",\"blue\",\"blue\",\"blue\",\"blue\",\"blue\",\"blue\",\"blue\",\"blue\",\"blue\",\"blue\",\"blue\",\"blue\",\"blue\",\"blue\",\"blue\",\"blue\",\"blue\",\"blue\",\"blue\",\"blue\",\"blue\",\"blue\",\"blue\",\"blue\",\"blue\",\"blue\",\"blue\",\"blue\",\"blue\",\"blue\",\"blue\",\"blue\",\"blue\",\"blue\",\"blue\",\"blue\",\"blue\",\"blue\",\"blue\",\"blue\",\"blue\",\"blue\",\"blue\",\"blue\",\"blue\",\"blue\",\"blue\",\"blue\",\"blue\",\"blue\",\"blue\",\"blue\",\"blue\",\"blue\",\"blue\",\"blue\",\"blue\",\"blue\",\"blue\",\"blue\",\"blue\",\"blue\",\"blue\",\"blue\",\"blue\",\"blue\",\"blue\",\"blue\",\"blue\",\"blue\",\"blue\",\"blue\",\"blue\",\"blue\",\"blue\",\"blue\",\"blue\",\"blue\",\"blue\",\"blue\",\"blue\",\"blue\",\"blue\",\"blue\",\"blue\",\"blue\",\"blue\",\"blue\",\"blue\",\"blue\",\"blue\",\"blue\",\"blue\",\"blue\",\"blue\",\"blue\",\"blue\",\"blue\",\"blue\",\"blue\",\"blue\",\"blue\",\"blue\",\"blue\",\"blue\",\"blue\",\"blue\",\"blue\",\"blue\",\"blue\",\"blue\",\"blue\",\"blue\",\"blue\",\"blue\",\"blue\",\"blue\",\"blue\",\"blue\",\"blue\",\"blue\",\"blue\",\"blue\",\"blue\",\"blue\",\"blue\",\"blue\",\"blue\",\"blue\",\"blue\",\"blue\",\"blue\",\"blue\",\"blue\",\"blue\",\"blue\",\"blue\",\"blue\",\"blue\",\"blue\",\"blue\",\"blue\",\"blue\",\"blue\",\"blue\",\"blue\",\"blue\",\"blue\",\"blue\",\"blue\",\"blue\",\"blue\",\"blue\",\"blue\",\"blue\",\"blue\",\"blue\",\"blue\",\"blue\",\"blue\",\"blue\",\"blue\",\"blue\",\"blue\",\"blue\",\"blue\",\"blue\",\"blue\",\"blue\",\"blue\",\"blue\",\"blue\",\"blue\",\"blue\",\"blue\",\"blue\",\"blue\",\"blue\",\"blue\",\"blue\",\"blue\",\"blue\",\"blue\",\"blue\",\"blue\",\"blue\",\"blue\",\"blue\",\"blue\",\"blue\",\"blue\",\"blue\",\"blue\",\"blue\",\"blue\",\"blue\",\"blue\",\"blue\",\"blue\",\"blue\",\"blue\",\"blue\",\"blue\",\"blue\",\"blue\",\"blue\",\"blue\",\"blue\",\"blue\",\"blue\",\"blue\",\"blue\",\"blue\",\"blue\",\"blue\",\"blue\",\"blue\",\"blue\",\"blue\",\"blue\",\"blue\",\"blue\",\"blue\",\"blue\",\"blue\",\"blue\",\"blue\",\"blue\",\"blue\",\"blue\",\"blue\",\"blue\",\"blue\",\"blue\",\"blue\",\"blue\",\"blue\",\"blue\",\"blue\",\"blue\",\"blue\",\"blue\",\"blue\",\"blue\",\"blue\",\"blue\",\"blue\",\"blue\",\"blue\",\"blue\",\"blue\",\"blue\",\"blue\",\"blue\",\"blue\",\"blue\",\"blue\",\"blue\",\"blue\",\"blue\",\"blue\",\"blue\",\"blue\",\"blue\",\"blue\",\"blue\",\"blue\",\"blue\",\"blue\",\"blue\",\"blue\",\"blue\",\"blue\",\"blue\",\"blue\",\"blue\",\"blue\",\"blue\",\"blue\",\"blue\",\"blue\",\"blue\",\"blue\",\"blue\",\"blue\",\"blue\",\"blue\",\"blue\",\"blue\",\"blue\",\"blue\",\"blue\",\"blue\",\"blue\",\"blue\",\"blue\",\"blue\",\"blue\",\"blue\",\"blue\",\"blue\",\"blue\",\"blue\",\"blue\",\"blue\",\"blue\",\"blue\",\"blue\",\"blue\",\"blue\",\"blue\",\"blue\",\"blue\",\"blue\",\"blue\",\"blue\",\"blue\",\"blue\",\"blue\",\"blue\",\"blue\",\"blue\",\"blue\",\"blue\",\"blue\",\"blue\",\"blue\",\"blue\",\"blue\",\"blue\",\"blue\",\"blue\",\"blue\",\"blue\",\"blue\",\"blue\",\"blue\",\"blue\",\"blue\",\"blue\",\"blue\",\"blue\",\"blue\",\"blue\",\"blue\",\"blue\",\"blue\",\"blue\",\"blue\",\"blue\",\"blue\",\"blue\",\"blue\",\"blue\",\"blue\",\"blue\",\"blue\",\"blue\",\"blue\",\"blue\",\"blue\",\"blue\",\"blue\",\"blue\",\"blue\",\"blue\",\"blue\",\"blue\",\"blue\",\"blue\",\"blue\",\"blue\",\"blue\",\"blue\",\"blue\",\"blue\",\"blue\",\"blue\",\"blue\",\"blue\",\"blue\",\"blue\",\"blue\",\"blue\",\"blue\",\"blue\",\"blue\",\"blue\",\"blue\",\"blue\",\"blue\",\"blue\",\"blue\",\"blue\",\"blue\",\"blue\",\"blue\",\"blue\",\"blue\",\"blue\",\"blue\",\"blue\",\"blue\",\"blue\",\"blue\",\"blue\",\"blue\",\"blue\",\"blue\",\"blue\",\"blue\",\"blue\",\"blue\",\"blue\",\"blue\",\"blue\",\"blue\",\"blue\",\"blue\",\"blue\",\"blue\",\"blue\",\"blue\",\"blue\",\"blue\",\"blue\",\"blue\",\"blue\",\"blue\",\"blue\",\"blue\",\"blue\",\"blue\",\"blue\",\"blue\",\"blue\",\"blue\",\"blue\",\"blue\",\"blue\",\"blue\",\"blue\",\"blue\",\"blue\",\"blue\",\"blue\",\"blue\",\"blue\",\"blue\",\"blue\",\"blue\",\"blue\",\"blue\",\"blue\",\"blue\",\"blue\",\"blue\",\"blue\",\"blue\",\"blue\",\"blue\",\"blue\",\"blue\",\"blue\",\"blue\",\"blue\",\"blue\",\"blue\",\"blue\",\"blue\",\"blue\",\"blue\",\"blue\",\"blue\",\"blue\",\"blue\",\"blue\",\"blue\",\"blue\",\"blue\",\"blue\",\"blue\",\"blue\",\"blue\",\"blue\",\"blue\",\"blue\",\"blue\",\"blue\",\"blue\",\"blue\",\"blue\",\"blue\",\"blue\",\"blue\",\"blue\",\"blue\",\"blue\",\"blue\",\"blue\",\"blue\",\"blue\",\"blue\",\"blue\",\"blue\",\"blue\",\"blue\",\"blue\",\"blue\",\"blue\",\"blue\",\"blue\",\"blue\",\"blue\",\"blue\",\"blue\",\"blue\",\"blue\",\"blue\",\"blue\",\"blue\",\"blue\",\"blue\",\"blue\",\"blue\",\"blue\",\"blue\",\"blue\",\"blue\",\"blue\",\"blue\",\"blue\",\"blue\",\"blue\",\"blue\",\"blue\",\"blue\",\"blue\",\"blue\",\"blue\",\"blue\",\"blue\",\"blue\",\"blue\",\"blue\",\"blue\",\"blue\",\"blue\",\"blue\",\"blue\",\"blue\",\"blue\",\"blue\",\"blue\",\"blue\",\"blue\",\"blue\",\"blue\",\"blue\",\"blue\",\"blue\",\"blue\",\"blue\",\"blue\",\"blue\",\"blue\",\"blue\",\"blue\",\"blue\",\"blue\",\"blue\",\"blue\",\"blue\",\"blue\",\"blue\",\"blue\",\"blue\",\"blue\",\"blue\",\"blue\",\"blue\",\"blue\",\"blue\",\"blue\",\"blue\",\"blue\",\"blue\",\"blue\",\"blue\",\"blue\",\"blue\",\"blue\",\"blue\",\"blue\",\"blue\",\"blue\",\"blue\",\"blue\",\"blue\",\"blue\",\"blue\",\"blue\",\"blue\",\"blue\",\"blue\",\"blue\",\"blue\",\"blue\",\"blue\",\"blue\",\"blue\",\"blue\",\"blue\",\"blue\",\"blue\",\"blue\",\"blue\",\"blue\",\"blue\",\"blue\",\"blue\",\"blue\",\"blue\",\"blue\",\"blue\",\"blue\",\"blue\",\"blue\",\"blue\",\"blue\",\"blue\",\"blue\",\"blue\",\"blue\",\"blue\",\"blue\",\"blue\",\"blue\",\"blue\",\"blue\",\"blue\",\"blue\",\"blue\",\"blue\",\"blue\",\"blue\",\"blue\",\"blue\",\"blue\",\"blue\",\"blue\",\"blue\",\"blue\",\"blue\",\"blue\",\"blue\",\"blue\",\"blue\",\"blue\",\"blue\",\"blue\",\"blue\",\"blue\",\"blue\",\"blue\",\"blue\",\"blue\",\"blue\",\"blue\",\"blue\",\"blue\",\"blue\",\"blue\",\"blue\",\"blue\",\"blue\",\"blue\",\"blue\",\"blue\",\"blue\",\"blue\",\"blue\",\"blue\",\"blue\",\"blue\",\"blue\",\"blue\",\"blue\",\"blue\",\"blue\",\"blue\",\"blue\",\"blue\",\"blue\",\"blue\",\"blue\",\"blue\",\"blue\",\"blue\",\"blue\",\"blue\",\"blue\",\"blue\",\"blue\",\"blue\",\"blue\",\"blue\",\"blue\",\"blue\",\"blue\",\"blue\",\"blue\",\"blue\",\"blue\",\"blue\",\"blue\",\"blue\",\"blue\",\"blue\",\"blue\",\"blue\",\"blue\",\"blue\",\"blue\",\"blue\",\"blue\",\"blue\",\"blue\",\"blue\",\"blue\",\"blue\",\"blue\",\"blue\",\"blue\",\"blue\",\"blue\",\"blue\",\"blue\",\"blue\",\"blue\",\"blue\",\"blue\",\"blue\",\"blue\",\"blue\",\"blue\",\"blue\",\"blue\",\"blue\",\"blue\",\"blue\",\"blue\",\"blue\",\"blue\",\"blue\",\"blue\",\"blue\",\"blue\",\"blue\",\"blue\",\"blue\",\"blue\",\"blue\",\"blue\",\"blue\",\"blue\",\"blue\",\"blue\",\"blue\",\"blue\",\"blue\",\"blue\",\"blue\",\"blue\",\"blue\",\"blue\",\"blue\",\"blue\",\"blue\",\"blue\",\"blue\",\"blue\",\"blue\",\"blue\",\"blue\",\"blue\",\"blue\",\"blue\",\"blue\",\"blue\",\"blue\",\"blue\",\"blue\",\"blue\",\"blue\",\"blue\",\"blue\",\"blue\",\"blue\",\"blue\",\"blue\",\"blue\",\"blue\",\"blue\",\"blue\",\"blue\",\"blue\",\"blue\",\"blue\",\"blue\",\"blue\",\"blue\",\"blue\",\"blue\",\"blue\",\"blue\",\"blue\",\"blue\",\"blue\",\"blue\",\"blue\",\"blue\",\"blue\",\"blue\",\"blue\",\"blue\",\"blue\",\"blue\",\"blue\",\"blue\",\"blue\",\"blue\",\"blue\",\"blue\",\"blue\",\"blue\",\"blue\",\"blue\",\"blue\",\"blue\",\"blue\",\"blue\",\"blue\",\"blue\",\"blue\",\"blue\",\"blue\",\"blue\",\"blue\",\"blue\",\"blue\",\"blue\",\"blue\",\"blue\",\"blue\",\"blue\",\"blue\",\"blue\",\"blue\",\"blue\",\"blue\",\"blue\",\"blue\",\"blue\",\"blue\",\"blue\",\"blue\",\"blue\",\"blue\",\"blue\",\"blue\",\"blue\",\"blue\",\"blue\",\"blue\",\"blue\",\"blue\",\"blue\",\"blue\",\"blue\",\"blue\",\"blue\",\"blue\",\"blue\",\"blue\",\"blue\",\"blue\",\"blue\",\"blue\",\"blue\",\"blue\",\"blue\",\"blue\",\"blue\",\"blue\",\"blue\",\"blue\",\"blue\",\"blue\",\"blue\",\"blue\",\"blue\",\"blue\",\"blue\",\"blue\",\"blue\",\"blue\",\"blue\",\"blue\",\"blue\",\"blue\",\"blue\",\"blue\",\"blue\",\"blue\",\"blue\",\"blue\",\"blue\",\"blue\",\"blue\",\"blue\",\"blue\",\"blue\",\"blue\",\"blue\",\"blue\",\"blue\",\"blue\",\"blue\",\"blue\",\"blue\",\"blue\",\"blue\",\"blue\",\"blue\",\"blue\",\"blue\",\"blue\",\"blue\",\"blue\",\"blue\",\"blue\",\"blue\",\"blue\",\"blue\",\"blue\",\"blue\",\"blue\",\"blue\",\"blue\",\"blue\",\"blue\",\"blue\",\"blue\",\"blue\",\"blue\",\"blue\",\"blue\",\"blue\",\"blue\",\"blue\",\"blue\",\"blue\",\"blue\",\"blue\",\"blue\",\"blue\",\"blue\",\"blue\",\"blue\",\"blue\",\"blue\",\"blue\",\"blue\",\"blue\",\"blue\",\"blue\",\"blue\",\"blue\",\"blue\",\"blue\",\"blue\",\"blue\",\"blue\",\"blue\",\"blue\",\"blue\",\"blue\",\"blue\",\"blue\",\"blue\",\"blue\",\"blue\",\"blue\",\"blue\",\"blue\",\"blue\",\"blue\",\"blue\",\"blue\",\"blue\",\"blue\",\"blue\",\"blue\",\"blue\",\"blue\",\"blue\",\"blue\",\"blue\",\"blue\",\"blue\",\"blue\",\"blue\",\"blue\",\"blue\",\"blue\",\"blue\",\"blue\",\"blue\",\"blue\",\"blue\",\"blue\",\"blue\",\"blue\",\"blue\",\"blue\",\"blue\",\"blue\",\"blue\",\"blue\",\"blue\",\"blue\",\"blue\",\"blue\",\"blue\",\"blue\",\"blue\",\"blue\",\"blue\",\"blue\",\"blue\",\"blue\",\"blue\",\"blue\",\"blue\",\"blue\",\"blue\",\"blue\",\"blue\",\"blue\",\"blue\",\"blue\",\"blue\",\"blue\",\"blue\",\"blue\",\"blue\",\"blue\",\"blue\",\"blue\",\"blue\",\"blue\",\"blue\",\"blue\",\"blue\",\"blue\",\"blue\",\"blue\",\"blue\",\"blue\",\"blue\",\"blue\",\"blue\",\"blue\",\"blue\",\"blue\",\"blue\",\"blue\",\"blue\",\"blue\",\"blue\",\"blue\",\"blue\",\"blue\",\"blue\",\"blue\",\"blue\",\"blue\",\"blue\",\"blue\",\"blue\",\"blue\",\"blue\",\"blue\",\"blue\",\"blue\",\"blue\",\"blue\",\"blue\",\"blue\",\"blue\",\"blue\",\"blue\",\"blue\",\"blue\",\"blue\",\"blue\",\"blue\",\"blue\",\"blue\",\"blue\",\"blue\",\"blue\",\"blue\",\"blue\",\"blue\",\"blue\",\"blue\",\"blue\",\"blue\",\"blue\",\"blue\",\"blue\",\"blue\",\"blue\",\"blue\",\"blue\",\"blue\",\"blue\",\"blue\",\"blue\",\"blue\",\"blue\",\"blue\",\"blue\",\"blue\",\"blue\",\"blue\",\"blue\",\"blue\",\"blue\",\"blue\",\"blue\",\"blue\",\"blue\",\"blue\",\"blue\",\"blue\",\"blue\",\"blue\",\"blue\",\"blue\",\"blue\",\"blue\",\"blue\",\"blue\",\"blue\",\"blue\",\"blue\",\"blue\",\"blue\",\"blue\",\"blue\",\"blue\",\"blue\",\"blue\",\"blue\",\"blue\",\"blue\",\"blue\",\"blue\",\"blue\",\"blue\",\"blue\",\"blue\",\"blue\",\"blue\",\"blue\",\"blue\",\"blue\",\"blue\",\"blue\",\"blue\",\"blue\",\"blue\",\"blue\",\"blue\",\"blue\",\"blue\",\"blue\",\"blue\",\"blue\",\"blue\",\"blue\",\"blue\",\"blue\",\"blue\",\"blue\",\"blue\",\"blue\",\"blue\",\"blue\",\"blue\",\"blue\",\"blue\",\"blue\",\"blue\",\"blue\",\"blue\",\"blue\",\"blue\",\"blue\",\"blue\",\"blue\",\"blue\",\"blue\",\"blue\",\"blue\",\"blue\",\"blue\",\"blue\",\"blue\",\"blue\",\"blue\",\"blue\",\"blue\",\"blue\",\"blue\",\"blue\",\"blue\",\"blue\",\"blue\",\"blue\",\"blue\",\"blue\",\"blue\",\"blue\",\"blue\",\"blue\",\"blue\",\"blue\",\"blue\",\"blue\",\"blue\",\"blue\",\"blue\",\"blue\",\"blue\",\"blue\",\"blue\",\"blue\",\"blue\",\"blue\",\"blue\",\"blue\",\"blue\",\"blue\",\"blue\",\"blue\",\"blue\",\"blue\",\"blue\",\"blue\",\"blue\",\"blue\",\"blue\",\"blue\",\"blue\",\"blue\",\"blue\",\"blue\",\"blue\",\"blue\",\"blue\",\"blue\",\"blue\",\"blue\",\"blue\",\"blue\",\"blue\",\"blue\",\"blue\",\"blue\",\"blue\",\"blue\",\"blue\",\"blue\",\"blue\",\"blue\",\"blue\",\"blue\",\"blue\",\"blue\",\"blue\",\"blue\",\"blue\",\"blue\",\"blue\",\"blue\",\"blue\",\"blue\",\"blue\",\"blue\",\"blue\",\"blue\",\"blue\",\"blue\",\"blue\",\"blue\",\"blue\",\"blue\",\"blue\",\"blue\",\"blue\",\"blue\",\"blue\",\"blue\",\"blue\",\"blue\",\"blue\",\"blue\",\"blue\",\"blue\",\"blue\",\"blue\",\"blue\",\"blue\",\"blue\",\"blue\",\"blue\",\"blue\",\"blue\",\"blue\",\"blue\",\"blue\",\"blue\",\"blue\",\"blue\",\"blue\",\"blue\",\"blue\",\"blue\",\"blue\",\"blue\",\"blue\",\"blue\",\"blue\",\"blue\",\"blue\",\"blue\",\"blue\",\"blue\",\"blue\",\"blue\",\"blue\",\"blue\",\"blue\",\"blue\",\"blue\",\"blue\",\"blue\",\"blue\",\"blue\",\"blue\",\"blue\",\"blue\",\"blue\",\"blue\",\"blue\",\"blue\",\"blue\",\"blue\",\"blue\",\"blue\",\"blue\",\"blue\",\"blue\",\"blue\",\"blue\",\"blue\",\"blue\",\"blue\",\"blue\",\"blue\",\"blue\",\"blue\",\"blue\",\"blue\",\"blue\",\"blue\",\"blue\",\"blue\",\"blue\",\"blue\",\"blue\",\"blue\",\"blue\",\"blue\",\"blue\",\"blue\",\"blue\",\"blue\",\"blue\",\"blue\",\"blue\",\"blue\",\"blue\",\"blue\",\"blue\",\"blue\",\"blue\",\"blue\",\"blue\",\"blue\",\"blue\",\"blue\",\"blue\",\"blue\",\"blue\",\"blue\",\"blue\",\"blue\",\"blue\",\"blue\",\"blue\",\"blue\",\"blue\",\"blue\",\"blue\",\"blue\",\"blue\",\"blue\",\"blue\",\"blue\",\"blue\",\"blue\",\"blue\",\"blue\",\"blue\",\"blue\",\"blue\",\"blue\",\"blue\",\"blue\",\"blue\",\"blue\",\"blue\",\"blue\",\"blue\",\"blue\",\"blue\",\"blue\",\"blue\",\"blue\",\"blue\",\"blue\",\"blue\",\"blue\",\"blue\",\"blue\",\"blue\",\"blue\",\"blue\",\"blue\",\"blue\",\"blue\",\"blue\",\"blue\",\"blue\",\"blue\",\"blue\",\"blue\",\"blue\",\"blue\",\"blue\",\"blue\",\"blue\",\"blue\",\"blue\",\"blue\",\"blue\",\"blue\",\"blue\",\"blue\",\"blue\",\"blue\",\"blue\",\"blue\",\"blue\",\"blue\",\"blue\",\"blue\",\"blue\",\"blue\",\"blue\",\"blue\",\"blue\",\"blue\",\"blue\",\"blue\",\"blue\",\"blue\",\"blue\",\"blue\",\"blue\",\"blue\",\"blue\",\"blue\",\"blue\",\"blue\",\"blue\",\"blue\",\"blue\",\"blue\",\"blue\",\"blue\",\"blue\",\"blue\",\"blue\",\"blue\",\"blue\",\"blue\",\"blue\",\"blue\",\"blue\",\"blue\",\"blue\",\"blue\",\"blue\",\"blue\",\"blue\",\"blue\",\"blue\",\"blue\",\"blue\",\"blue\",\"blue\",\"blue\",\"blue\",\"blue\",\"blue\",\"blue\",\"blue\",\"blue\",\"blue\",\"blue\",\"blue\",\"blue\",\"blue\",\"blue\",\"blue\",\"blue\",\"blue\",\"blue\",\"blue\",\"blue\",\"blue\",\"blue\",\"blue\",\"blue\",\"blue\",\"blue\",\"blue\",\"blue\",\"blue\",\"blue\",\"blue\",\"blue\",\"blue\",\"blue\",\"blue\",\"blue\",\"blue\",\"blue\",\"blue\",\"blue\",\"blue\",\"blue\",\"blue\",\"blue\",\"blue\",\"blue\",\"blue\",\"blue\",\"blue\",\"blue\",\"blue\",\"blue\",\"blue\",\"blue\",\"blue\",\"blue\",\"blue\",\"blue\",\"blue\",\"blue\",\"blue\",\"blue\",\"blue\",\"blue\",\"blue\",\"blue\",\"blue\",\"blue\",\"blue\",\"blue\",\"blue\",\"blue\",\"blue\",\"blue\",\"blue\",\"blue\",\"blue\",\"blue\",\"blue\",\"blue\",\"blue\",\"blue\",\"blue\",\"blue\",\"blue\",\"blue\",\"blue\",\"blue\",\"blue\",\"blue\",\"blue\",\"blue\",\"blue\",\"blue\",\"blue\",\"blue\",\"blue\",\"blue\",\"blue\",\"blue\",\"blue\",\"blue\",\"blue\",\"blue\",\"blue\",\"blue\",\"blue\",\"blue\",\"blue\",\"blue\",\"blue\",\"blue\",\"blue\",\"blue\",\"blue\",\"blue\",\"blue\",\"blue\",\"blue\",\"blue\",\"blue\",\"blue\",\"blue\",\"blue\",\"blue\",\"blue\",\"blue\",\"blue\",\"blue\",\"blue\",\"blue\",\"blue\",\"blue\",\"blue\",\"blue\",\"blue\",\"blue\",\"blue\",\"blue\",\"blue\",\"blue\",\"blue\",\"blue\",\"blue\",\"blue\",\"blue\",\"blue\",\"blue\",\"blue\",\"blue\",\"blue\",\"blue\",\"blue\",\"blue\",\"blue\",\"blue\",\"blue\",\"blue\",\"blue\",\"blue\",\"blue\",\"blue\",\"blue\",\"blue\",\"blue\",\"blue\",\"blue\",\"blue\",\"blue\",\"blue\",\"blue\",\"blue\",\"blue\",\"blue\",\"blue\",\"blue\",\"blue\",\"blue\",\"blue\",\"blue\",\"blue\",\"blue\",\"blue\",\"blue\",\"blue\",\"blue\",\"blue\",\"blue\",\"blue\",\"blue\",\"blue\",\"blue\",\"blue\",\"blue\",\"blue\",\"blue\",\"blue\",\"blue\",\"blue\",\"blue\",\"blue\",\"blue\",\"blue\",\"blue\",\"blue\",\"blue\",\"blue\",\"blue\",\"blue\",\"blue\",\"blue\",\"blue\",\"blue\",\"blue\",\"blue\",\"blue\",\"blue\",\"blue\",\"blue\",\"blue\",\"blue\",\"blue\",\"blue\",\"blue\",\"blue\",\"blue\",\"blue\",\"blue\",\"blue\",\"blue\",\"blue\",\"blue\",\"blue\",\"blue\",\"blue\",\"blue\",\"blue\",\"blue\",\"blue\",\"blue\",\"blue\",\"blue\",\"blue\",\"blue\",\"blue\",\"blue\",\"blue\",\"blue\",\"blue\",\"blue\",\"blue\",\"blue\",\"blue\",\"blue\",\"blue\",\"blue\",\"blue\",\"blue\",\"blue\",\"blue\",\"blue\",\"blue\",\"blue\",\"blue\",\"blue\",\"blue\",\"blue\",\"blue\",\"blue\",\"blue\",\"blue\",\"blue\",\"blue\",\"blue\",\"blue\",\"blue\",\"blue\",\"blue\",\"blue\",\"blue\",\"blue\",\"blue\",\"blue\",\"blue\",\"blue\",\"blue\",\"blue\",\"blue\",\"blue\",\"blue\",\"blue\",\"blue\",\"blue\",\"blue\",\"blue\",\"blue\",\"blue\",\"blue\",\"blue\",\"blue\",\"blue\",\"blue\",\"blue\",\"blue\",\"blue\",\"blue\",\"blue\",\"blue\",\"blue\",\"blue\",\"blue\",\"blue\",\"blue\",\"blue\",\"blue\",\"blue\",\"blue\",\"blue\",\"blue\",\"blue\",\"blue\",\"blue\",\"blue\",\"blue\",\"blue\",\"blue\",\"blue\",\"blue\",\"blue\",\"blue\",\"blue\",\"blue\",\"blue\",\"blue\",\"blue\",\"blue\",\"blue\",\"blue\",\"blue\",\"blue\",\"blue\",\"blue\",\"blue\",\"blue\",\"blue\",\"blue\",\"blue\",\"blue\",\"blue\",\"blue\",\"blue\",\"blue\",\"blue\",\"blue\",\"blue\",\"blue\",\"blue\",\"blue\",\"blue\",\"blue\",\"blue\",\"blue\",\"blue\",\"blue\",\"blue\",\"blue\",\"blue\",\"blue\",\"blue\",\"blue\",\"blue\",\"blue\",\"blue\",\"blue\",\"blue\",\"blue\",\"blue\",\"blue\",\"blue\",\"blue\",\"blue\",\"blue\",\"blue\",\"blue\",\"blue\",\"blue\",\"blue\",\"blue\",\"blue\",\"blue\",\"blue\",\"blue\",\"blue\",\"blue\",\"blue\",\"blue\",\"blue\",\"blue\",\"blue\",\"blue\",\"blue\",\"blue\",\"blue\",\"blue\",\"blue\",\"blue\",\"blue\",\"blue\",\"blue\",\"blue\",\"blue\",\"blue\",\"blue\",\"blue\",\"blue\",\"blue\",\"blue\",\"blue\",\"blue\",\"blue\",\"blue\",\"blue\",\"blue\",\"blue\",\"blue\",\"blue\",\"blue\",\"blue\",\"blue\",\"blue\",\"blue\",\"blue\",\"blue\",\"blue\",\"blue\",\"blue\",\"blue\",\"blue\",\"blue\",\"blue\",\"blue\",\"blue\",\"blue\",\"blue\",\"blue\",\"blue\",\"blue\",\"blue\",\"blue\",\"blue\",\"blue\",\"blue\",\"blue\",\"blue\",\"blue\",\"blue\",\"blue\",\"blue\",\"blue\",\"blue\",\"blue\",\"blue\",\"blue\",\"blue\",\"blue\",\"blue\",\"blue\",\"blue\",\"blue\",\"blue\",\"blue\",\"blue\",\"blue\",\"blue\",\"blue\",\"blue\",\"blue\",\"blue\",\"blue\",\"blue\",\"blue\",\"blue\",\"blue\",\"blue\",\"blue\",\"blue\",\"blue\",\"blue\",\"blue\",\"blue\",\"blue\",\"blue\",\"blue\",\"blue\",\"blue\",\"blue\",\"blue\",\"blue\",\"blue\",\"blue\",\"blue\",\"blue\",\"blue\",\"blue\",\"blue\",\"blue\",\"blue\",\"blue\",\"blue\",\"blue\",\"blue\",\"blue\",\"blue\",\"blue\",\"blue\",\"blue\",\"blue\",\"blue\",\"blue\",\"blue\",\"blue\",\"blue\",\"blue\",\"blue\",\"blue\",\"blue\",\"blue\",\"blue\",\"blue\",\"blue\",\"blue\",\"blue\",\"blue\",\"blue\",\"blue\",\"blue\",\"blue\",\"blue\",\"blue\",\"blue\",\"blue\",\"blue\",\"blue\",\"blue\",\"blue\",\"blue\",\"blue\",\"blue\",\"blue\",\"blue\",\"blue\",\"blue\",\"blue\",\"blue\",\"blue\",\"blue\",\"blue\",\"blue\",\"blue\",\"blue\",\"blue\",\"blue\",\"blue\",\"blue\",\"blue\",\"blue\",\"blue\",\"blue\",\"blue\",\"blue\",\"blue\",\"blue\",\"blue\",\"blue\",\"blue\",\"blue\",\"blue\",\"blue\",\"blue\",\"blue\",\"blue\",\"blue\",\"blue\",\"blue\",\"blue\",\"blue\",\"blue\",\"blue\",\"blue\",\"blue\",\"blue\",\"blue\",\"blue\",\"blue\",\"blue\",\"blue\",\"blue\",\"blue\",\"blue\",\"blue\",\"blue\",\"blue\",\"blue\",\"blue\",\"blue\",\"blue\",\"blue\",\"blue\",\"blue\",\"blue\",\"blue\",\"blue\",\"blue\",\"blue\",\"blue\",\"blue\",\"blue\",\"blue\",\"blue\",\"blue\",\"blue\",\"blue\",\"blue\",\"blue\",\"blue\",\"blue\",\"blue\",\"blue\",\"blue\",\"blue\",\"blue\",\"blue\",\"blue\",\"blue\",\"blue\",\"blue\",\"blue\",\"blue\",\"blue\",\"blue\",\"blue\",\"blue\",\"blue\",\"blue\",\"blue\",\"blue\",\"blue\",\"blue\",\"blue\",\"blue\",\"blue\",\"blue\",\"blue\",\"blue\",\"blue\",\"blue\",\"blue\",\"blue\",\"blue\",\"blue\",\"blue\",\"blue\",\"blue\",\"blue\",\"blue\",\"blue\",\"blue\",\"blue\",\"blue\",\"blue\",\"blue\",\"blue\",\"blue\",\"blue\",\"blue\",\"blue\",\"blue\",\"blue\",\"blue\",\"blue\",\"blue\",\"blue\",\"blue\",\"blue\",\"blue\",\"blue\",\"blue\",\"blue\",\"blue\",\"blue\",\"blue\",\"blue\",\"blue\",\"blue\",\"blue\",\"blue\",\"blue\",\"blue\",\"blue\",\"blue\",\"blue\",\"blue\",\"blue\",\"blue\",\"blue\",\"blue\",\"blue\",\"blue\",\"blue\",\"blue\",\"blue\",\"blue\",\"blue\",\"blue\",\"blue\",\"blue\",\"blue\",\"blue\",\"blue\",\"blue\",\"blue\",\"blue\",\"blue\",\"blue\",\"blue\",\"blue\",\"blue\",\"blue\",\"blue\",\"blue\",\"blue\",\"blue\",\"blue\",\"blue\",\"blue\",\"blue\",\"blue\",\"blue\",\"blue\",\"blue\",\"blue\",\"blue\",\"blue\",\"blue\",\"blue\",\"blue\",\"blue\",\"blue\",\"blue\",\"blue\",\"blue\",\"blue\",\"blue\",\"blue\",\"blue\",\"blue\",\"blue\",\"blue\",\"blue\",\"blue\",\"blue\",\"blue\",\"blue\",\"blue\",\"blue\",\"blue\",\"blue\",\"blue\",\"blue\",\"blue\",\"blue\",\"blue\",\"blue\",\"blue\",\"blue\",\"blue\",\"blue\",\"blue\",\"blue\",\"blue\",\"blue\",\"blue\",\"blue\",\"blue\",\"blue\",\"blue\",\"blue\",\"blue\",\"blue\",\"blue\",\"blue\",\"blue\",\"blue\",\"blue\",\"blue\",\"blue\",\"blue\",\"blue\",\"blue\",\"blue\",\"blue\",\"blue\",\"blue\",\"blue\",\"blue\",\"blue\",\"blue\",\"blue\",\"blue\",\"blue\",\"blue\",\"blue\",\"blue\",\"blue\",\"blue\",\"blue\",\"blue\",\"blue\",\"blue\",\"blue\",\"blue\",\"blue\",\"blue\",\"blue\",\"blue\",\"blue\",\"blue\",\"blue\",\"blue\",\"blue\",\"blue\",\"blue\",\"blue\",\"blue\",\"blue\",\"blue\",\"blue\",\"blue\",\"blue\",\"blue\",\"blue\",\"blue\",\"blue\",\"blue\",\"blue\",\"blue\",\"blue\",\"blue\",\"blue\",\"blue\",\"blue\",\"blue\",\"blue\",\"blue\",\"blue\",\"blue\",\"blue\",\"blue\",\"blue\",\"blue\",\"blue\",\"blue\",\"blue\",\"blue\",\"blue\",\"blue\",\"blue\",\"blue\",\"blue\",\"blue\",\"blue\",\"blue\",\"blue\",\"blue\",\"blue\",\"blue\",\"blue\",\"blue\",\"blue\",\"blue\",\"blue\",\"blue\",\"blue\",\"blue\",\"blue\",\"blue\",\"blue\",\"blue\",\"blue\",\"blue\",\"blue\",\"blue\",\"blue\",\"blue\",\"blue\",\"blue\",\"blue\",\"blue\",\"blue\",\"blue\",\"blue\",\"blue\",\"blue\",\"blue\",\"blue\",\"blue\",\"blue\",\"blue\",\"blue\",\"blue\",\"blue\",\"blue\",\"blue\",\"blue\",\"blue\",\"blue\",\"blue\",\"blue\",\"blue\",\"blue\",\"blue\",\"blue\",\"blue\",\"blue\",\"blue\",\"blue\",\"blue\",\"blue\",\"blue\",\"blue\",\"blue\",\"blue\",\"blue\",\"blue\",\"blue\",\"blue\",\"blue\",\"blue\",\"blue\",\"blue\",\"blue\",\"blue\",\"blue\",\"blue\",\"blue\",\"blue\",\"blue\",\"blue\",\"blue\",\"blue\",\"blue\",\"blue\",\"blue\",\"blue\",\"blue\",\"blue\",\"blue\",\"blue\",\"blue\",\"blue\",\"blue\",\"blue\",\"blue\",\"blue\",\"blue\",\"blue\",\"blue\",\"blue\",\"blue\",\"blue\",\"blue\",\"blue\",\"blue\",\"blue\",\"blue\",\"blue\",\"blue\",\"blue\",\"blue\",\"blue\",\"blue\",\"blue\",\"blue\",\"blue\",\"blue\",\"blue\",\"blue\",\"blue\",\"blue\",\"blue\",\"blue\",\"blue\",\"blue\",\"blue\",\"blue\",\"blue\",\"blue\",\"blue\",\"blue\",\"blue\",\"blue\",\"blue\",\"blue\",\"blue\",\"blue\",\"blue\",\"blue\",\"blue\",\"blue\",\"blue\",\"blue\",\"blue\",\"blue\",\"blue\",\"blue\",\"blue\",\"blue\",\"blue\",\"blue\",\"blue\",\"blue\",\"blue\",\"blue\",\"blue\",\"blue\",\"blue\",\"blue\",\"blue\",\"blue\",\"blue\",\"blue\",\"blue\",\"blue\",\"blue\",\"blue\",\"blue\",\"blue\",\"blue\",\"blue\",\"blue\",\"blue\",\"blue\",\"blue\",\"blue\",\"blue\",\"blue\",\"blue\",\"blue\",\"blue\",\"blue\",\"blue\",\"blue\",\"blue\",\"blue\",\"blue\",\"blue\",\"blue\",\"blue\",\"blue\",\"blue\",\"blue\",\"blue\",\"blue\",\"blue\",\"blue\",\"blue\",\"blue\",\"blue\",\"blue\",\"blue\",\"blue\",\"blue\",\"blue\",\"blue\",\"blue\",\"blue\",\"blue\",\"blue\",\"blue\",\"blue\",\"blue\",\"blue\",\"blue\",\"blue\",\"blue\",\"blue\",\"blue\",\"blue\",\"blue\",\"blue\",\"blue\",\"blue\",\"blue\",\"blue\",\"blue\",\"blue\",\"blue\",\"blue\",\"blue\",\"blue\",\"blue\",\"blue\",\"blue\",\"blue\",\"blue\",\"blue\",\"blue\",\"blue\",\"blue\",\"blue\",\"blue\",\"blue\",\"blue\",\"blue\",\"blue\",\"blue\",\"blue\",\"blue\",\"blue\",\"blue\",\"blue\",\"blue\",\"blue\",\"blue\",\"blue\",\"blue\",\"blue\",\"blue\",\"blue\",\"blue\",\"blue\",\"blue\",\"blue\",\"blue\",\"blue\",\"blue\",\"blue\",\"blue\",\"blue\",\"blue\",\"blue\",\"blue\",\"blue\",\"blue\",\"blue\",\"blue\",\"blue\",\"blue\",\"blue\",\"blue\",\"blue\",\"blue\",\"blue\",\"blue\",\"blue\",\"blue\",\"blue\",\"blue\",\"blue\",\"blue\",\"blue\",\"blue\",\"blue\",\"blue\",\"blue\",\"blue\",\"blue\",\"blue\",\"blue\",\"blue\",\"blue\",\"blue\",\"blue\",\"blue\",\"blue\",\"blue\",\"blue\",\"blue\",\"blue\",\"blue\",\"blue\",\"blue\",\"blue\",\"blue\",\"blue\",\"blue\",\"blue\",\"blue\",\"blue\",\"blue\",\"blue\",\"blue\",\"blue\",\"blue\",\"blue\",\"blue\",\"blue\",\"blue\",\"blue\",\"blue\",\"blue\",\"blue\",\"blue\",\"blue\",\"blue\",\"blue\",\"blue\",\"blue\",\"blue\",\"blue\",\"blue\",\"blue\",\"blue\",\"blue\",\"blue\",\"blue\",\"blue\",\"blue\",\"blue\",\"blue\",\"blue\",\"blue\",\"blue\",\"blue\",\"blue\",\"blue\",\"blue\",\"blue\",\"blue\",\"blue\",\"blue\",\"blue\",\"blue\",\"blue\",\"blue\",\"blue\",\"blue\",\"blue\",\"blue\",\"blue\",\"blue\",\"blue\",\"blue\",\"blue\",\"blue\",\"blue\",\"blue\",\"blue\",\"blue\",\"blue\",\"blue\",\"blue\",\"blue\",\"blue\",\"blue\",\"blue\",\"blue\",\"blue\",\"blue\",\"blue\",\"blue\",\"blue\",\"blue\",\"blue\",\"blue\",\"blue\",\"blue\",\"blue\",\"blue\",\"blue\",\"blue\",\"blue\",\"blue\",\"blue\",\"blue\",\"blue\",\"blue\",\"blue\",\"blue\",\"blue\",\"blue\",\"blue\",\"blue\",\"blue\",\"blue\",\"blue\",\"blue\",\"blue\",\"blue\",\"blue\",\"blue\",\"blue\",\"blue\",\"blue\",\"blue\",\"blue\",\"blue\",\"blue\",\"blue\",\"blue\",\"blue\",\"blue\",\"blue\",\"blue\",\"blue\",\"blue\",\"blue\",\"blue\",\"blue\",\"blue\",\"blue\",\"blue\",\"blue\",\"blue\",\"blue\",\"blue\",\"blue\",\"blue\",\"blue\",\"blue\",\"blue\",\"blue\",\"blue\",\"blue\",\"blue\",\"blue\",\"blue\",\"blue\",\"blue\",\"blue\",\"blue\",\"blue\",\"blue\",\"blue\",\"blue\",\"blue\",\"blue\",\"blue\",\"blue\",\"blue\",\"blue\",\"blue\",\"blue\",\"blue\",\"blue\",\"blue\",\"blue\",\"blue\",\"blue\",\"blue\",\"blue\",\"blue\",\"blue\",\"blue\",\"blue\",\"blue\",\"blue\",\"blue\",\"blue\",\"blue\",\"blue\",\"blue\",\"blue\",\"blue\",\"blue\",\"blue\",\"blue\",\"blue\",\"blue\",\"blue\",\"blue\",\"blue\",\"blue\",\"blue\",\"blue\",\"blue\",\"blue\",\"blue\",\"blue\",\"blue\",\"blue\",\"blue\",\"blue\",\"blue\",\"blue\",\"blue\",\"blue\",\"blue\",\"blue\",\"blue\",\"blue\",\"blue\",\"blue\",\"blue\",\"blue\",\"blue\",\"blue\",\"blue\",\"blue\",\"blue\",\"blue\",\"blue\",\"blue\",\"blue\",\"blue\",\"blue\",\"blue\",\"blue\",\"blue\",\"blue\",\"blue\",\"blue\",\"blue\",\"blue\",\"blue\",\"blue\",\"blue\",\"blue\",\"blue\",\"blue\",\"blue\",\"blue\",\"blue\",\"blue\",\"blue\",\"blue\",\"blue\",\"blue\",\"blue\",\"blue\",\"blue\",\"blue\",\"blue\",\"blue\",\"blue\",\"blue\",\"blue\",\"blue\",\"blue\",\"blue\",\"blue\",\"blue\",\"blue\",\"blue\",\"blue\",\"blue\",\"blue\",\"blue\",\"blue\",\"blue\",\"blue\",\"blue\",\"blue\",\"blue\",\"blue\",\"blue\",\"blue\",\"blue\",\"blue\",\"blue\",\"blue\",\"blue\",\"blue\",\"blue\",\"blue\",\"blue\",\"blue\",\"blue\",\"blue\",\"blue\",\"blue\",\"blue\",\"blue\",\"blue\",\"blue\",\"blue\",\"blue\",\"blue\",\"blue\",\"blue\",\"blue\",\"blue\",\"blue\",\"blue\",\"blue\",\"blue\",\"blue\",\"blue\",\"blue\",\"blue\",\"blue\",\"blue\",\"blue\",\"blue\",\"blue\",\"blue\",\"blue\",\"blue\",\"blue\",\"blue\",\"blue\",\"blue\",\"blue\",\"blue\",\"blue\",\"blue\",\"blue\",\"blue\",\"blue\",\"blue\",\"blue\",\"blue\",\"blue\",\"blue\",\"blue\",\"blue\",\"blue\",\"blue\",\"blue\",\"blue\",\"blue\",\"blue\",\"blue\",\"blue\",\"blue\",\"blue\",\"blue\",\"blue\",\"blue\",\"blue\",\"blue\",\"blue\",\"blue\",\"blue\",\"blue\",\"blue\",\"blue\",\"blue\",\"blue\",\"blue\",\"blue\",\"blue\",\"blue\",\"blue\",\"blue\",\"blue\",\"blue\",\"blue\",\"blue\",\"blue\",\"blue\",\"blue\",\"blue\",\"blue\",\"blue\",\"blue\",\"blue\",\"blue\",\"blue\",\"blue\",\"blue\",\"blue\",\"blue\",\"blue\",\"blue\",\"blue\",\"blue\",\"blue\",\"blue\",\"blue\",\"blue\",\"blue\",\"blue\",\"blue\",\"blue\",\"blue\",\"blue\",\"blue\",\"blue\",\"blue\",\"blue\",\"blue\",\"blue\",\"blue\",\"blue\",\"blue\",\"blue\",\"blue\",\"blue\",\"blue\",\"blue\",\"blue\",\"blue\",\"blue\",\"blue\",\"blue\",\"blue\",\"blue\",\"blue\",\"blue\",\"blue\",\"blue\",\"blue\",\"blue\",\"blue\",\"blue\",\"blue\",\"blue\",\"blue\",\"blue\",\"blue\",\"blue\",\"blue\",\"blue\",\"blue\",\"blue\",\"blue\",\"blue\",\"blue\",\"blue\",\"blue\",\"blue\",\"blue\",\"blue\",\"blue\",\"blue\",\"blue\",\"blue\",\"blue\",\"blue\",\"blue\",\"blue\",\"blue\",\"blue\",\"blue\",\"blue\",\"blue\",\"blue\",\"blue\",\"blue\",\"blue\",\"blue\",\"blue\",\"blue\",\"blue\",\"blue\",\"blue\",\"blue\",\"blue\",\"blue\",\"blue\",\"blue\",\"blue\",\"blue\",\"blue\",\"blue\",\"blue\",\"blue\",\"blue\",\"blue\",\"blue\",\"blue\",\"blue\",\"blue\",\"blue\",\"blue\",\"blue\",\"blue\",\"blue\",\"blue\",\"blue\",\"blue\",\"blue\",\"blue\",\"blue\",\"blue\",\"blue\",\"blue\",\"blue\",\"blue\",\"blue\",\"blue\",\"blue\",\"blue\",\"blue\",\"blue\",\"blue\",\"blue\",\"blue\",\"blue\",\"blue\",\"blue\",\"blue\",\"blue\",\"blue\",\"blue\",\"blue\",\"blue\",\"blue\",\"blue\",\"blue\",\"blue\",\"blue\",\"blue\",\"blue\",\"blue\",\"blue\",\"blue\",\"blue\",\"blue\",\"blue\",\"blue\",\"blue\",\"blue\",\"blue\",\"blue\",\"blue\",\"blue\",\"blue\",\"blue\",\"blue\",\"blue\",\"blue\",\"blue\",\"blue\",\"blue\",\"blue\",\"blue\",\"blue\",\"blue\",\"blue\",\"blue\",\"blue\",\"blue\",\"blue\",\"blue\",\"blue\",\"blue\",\"blue\",\"blue\",\"blue\",\"blue\",\"blue\",\"blue\",\"blue\",\"blue\",\"blue\",\"blue\",\"blue\",\"blue\",\"blue\",\"blue\",\"blue\",\"blue\",\"blue\",\"blue\",\"blue\",\"blue\",\"blue\",\"blue\",\"blue\",\"blue\",\"blue\",\"blue\",\"blue\",\"blue\",\"blue\",\"blue\",\"blue\",\"blue\",\"blue\",\"blue\",\"blue\",\"blue\",\"blue\",\"blue\",\"blue\",\"blue\",\"blue\",\"blue\",\"blue\",\"blue\",\"blue\",\"blue\",\"blue\",\"blue\",\"blue\",\"blue\",\"blue\",\"blue\",\"blue\",\"blue\",\"blue\",\"blue\",\"blue\",\"blue\",\"blue\",\"blue\",\"blue\",\"blue\",\"blue\",\"blue\",\"blue\",\"blue\",\"blue\",\"blue\",\"blue\",\"blue\",\"blue\",\"blue\",\"blue\",\"blue\",\"blue\",\"blue\",\"blue\",\"blue\",\"blue\",\"blue\",\"blue\",\"blue\",\"blue\",\"blue\",\"blue\",\"blue\",\"blue\",\"blue\",\"blue\",\"blue\",\"blue\",\"blue\",\"blue\",\"blue\",\"blue\",\"blue\",\"blue\",\"blue\",\"blue\",\"blue\",\"blue\",\"blue\",\"blue\",\"blue\",\"blue\",\"blue\",\"blue\",\"blue\",\"blue\",\"blue\",\"blue\",\"blue\",\"blue\",\"blue\",\"blue\",\"blue\",\"blue\",\"blue\",\"blue\",\"blue\",\"blue\",\"blue\",\"blue\",\"blue\",\"blue\",\"blue\",\"blue\",\"blue\",\"blue\",\"blue\",\"blue\",\"blue\",\"blue\",\"blue\",\"blue\",\"blue\",\"blue\",\"blue\",\"blue\",\"blue\",\"blue\",\"blue\",\"blue\",\"blue\",\"blue\",\"blue\",\"blue\",\"blue\",\"blue\",\"blue\",\"blue\",\"blue\",\"blue\",\"blue\",\"blue\",\"blue\",\"blue\",\"blue\",\"blue\",\"blue\",\"blue\",\"blue\",\"blue\",\"blue\",\"blue\",\"blue\",\"blue\",\"blue\",\"blue\",\"blue\",\"blue\",\"blue\",\"blue\",\"blue\",\"blue\",\"blue\",\"blue\",\"blue\",\"blue\",\"blue\",\"blue\",\"blue\",\"blue\",\"blue\",\"blue\",\"blue\",\"blue\",\"blue\",\"blue\",\"blue\",\"blue\",\"blue\",\"blue\",\"blue\",\"blue\",\"blue\",\"blue\",\"blue\",\"blue\",\"blue\",\"blue\",\"blue\",\"blue\",\"blue\",\"blue\",\"blue\",\"blue\",\"blue\",\"blue\",\"blue\",\"blue\",\"blue\",\"blue\",\"blue\",\"blue\",\"blue\",\"blue\",\"blue\",\"blue\",\"blue\",\"blue\",\"blue\",\"blue\",\"blue\",\"blue\",\"blue\",\"blue\",\"blue\",\"blue\",\"blue\",\"blue\",\"blue\",\"blue\",\"blue\",\"blue\",\"blue\",\"blue\",\"blue\",\"blue\",\"blue\",\"blue\",\"blue\",\"blue\",\"blue\",\"blue\",\"blue\",\"blue\",\"blue\",\"blue\",\"blue\",\"blue\",\"blue\",\"blue\",\"blue\",\"blue\",\"blue\",\"blue\",\"blue\",\"blue\",\"blue\",\"blue\",\"blue\",\"blue\",\"blue\",\"blue\",\"blue\",\"blue\",\"blue\",\"blue\",\"blue\",\"blue\",\"blue\",\"blue\",\"blue\",\"blue\",\"blue\",\"blue\",\"blue\",\"blue\",\"blue\",\"blue\",\"blue\",\"blue\",\"blue\",\"blue\",\"blue\",\"blue\",\"blue\",\"blue\",\"blue\",\"blue\",\"blue\",\"blue\",\"blue\",\"blue\",\"blue\",\"blue\",\"blue\",\"blue\",\"blue\",\"blue\",\"blue\",\"blue\",\"blue\",\"blue\",\"blue\",\"blue\",\"blue\",\"blue\",\"blue\",\"blue\",\"blue\",\"blue\",\"blue\",\"blue\",\"blue\",\"blue\",\"blue\",\"blue\",\"blue\",\"blue\",\"blue\",\"blue\",\"blue\",\"blue\",\"blue\",\"blue\",\"blue\",\"blue\",\"blue\",\"blue\",\"blue\",\"blue\",\"blue\",\"blue\",\"blue\",\"blue\",\"blue\",\"blue\",\"blue\",\"blue\",\"blue\",\"blue\",\"blue\",\"blue\",\"blue\",\"blue\",\"blue\",\"blue\",\"blue\",\"blue\",\"blue\",\"blue\",\"blue\",\"blue\",\"blue\",\"blue\",\"blue\",\"blue\",\"blue\",\"blue\",\"blue\",\"blue\",\"blue\",\"blue\",\"blue\",\"blue\",\"blue\",\"blue\",\"blue\",\"blue\",\"blue\",\"blue\",\"blue\",\"blue\",\"blue\",\"blue\",\"blue\",\"blue\",\"blue\",\"blue\",\"blue\",\"blue\",\"blue\",\"blue\",\"blue\",\"blue\",\"blue\",\"blue\",\"blue\",\"blue\",\"blue\",\"blue\",\"blue\",\"blue\",\"blue\",\"blue\",\"blue\",\"blue\",\"blue\",\"blue\",\"blue\",\"blue\",\"blue\",\"blue\",\"blue\",\"blue\",\"blue\",\"blue\",\"blue\",\"blue\",\"blue\",\"blue\",\"blue\",\"blue\",\"blue\",\"blue\",\"blue\",\"blue\",\"blue\",\"blue\",\"blue\",\"blue\",\"blue\",\"blue\",\"blue\",\"blue\",\"blue\",\"blue\",\"blue\",\"blue\",\"blue\",\"blue\",\"blue\",\"blue\",\"blue\",\"blue\",\"blue\",\"blue\",\"blue\",\"blue\",\"blue\",\"blue\",\"blue\",\"blue\",\"blue\",\"blue\",\"blue\",\"blue\",\"blue\",\"blue\",\"blue\",\"blue\",\"blue\",\"blue\",\"blue\",\"blue\",\"blue\",\"blue\",\"blue\",\"blue\",\"blue\",\"blue\",\"blue\",\"blue\",\"blue\",\"blue\",\"blue\",\"blue\",\"blue\",\"blue\",\"blue\",\"blue\",\"blue\",\"blue\",\"blue\",\"blue\",\"blue\",\"blue\",\"blue\",\"blue\",\"blue\",\"blue\",\"blue\",\"blue\",\"blue\",\"blue\",\"blue\",\"blue\",\"blue\",\"blue\",\"blue\",\"blue\",\"blue\",\"blue\",\"blue\",\"blue\",\"blue\",\"blue\",\"blue\",\"blue\",\"blue\",\"blue\",\"blue\",\"blue\",\"blue\",\"blue\",\"blue\",\"blue\",\"blue\",\"blue\",\"blue\",\"blue\",\"blue\",\"blue\",\"blue\",\"blue\",\"blue\",\"blue\",\"blue\",\"blue\",\"blue\",\"blue\",\"blue\",\"blue\",\"blue\",\"blue\",\"blue\",\"blue\",\"blue\",\"blue\",\"blue\",\"blue\",\"blue\",\"blue\",\"blue\",\"blue\",\"blue\",\"blue\",\"blue\",\"blue\",\"blue\",\"blue\",\"blue\",\"blue\",\"blue\",\"blue\",\"blue\",\"blue\",\"blue\",\"blue\",\"blue\",\"blue\",\"blue\",\"blue\",\"blue\",\"blue\",\"blue\",\"blue\",\"blue\",\"blue\",\"blue\",\"blue\",\"blue\",\"blue\",\"blue\",\"blue\",\"blue\",\"blue\",\"blue\",\"blue\",\"blue\",\"blue\",\"blue\",\"blue\",\"blue\",\"blue\",\"blue\",\"blue\",\"blue\",\"blue\",\"blue\",\"blue\",\"blue\",\"blue\",\"blue\",\"blue\",\"blue\",\"blue\",\"blue\",\"blue\",\"blue\",\"blue\",\"blue\",\"blue\",\"blue\",\"blue\",\"blue\",\"blue\",\"blue\",\"blue\",\"blue\",\"blue\",\"blue\",\"blue\",\"blue\",\"blue\",\"blue\",\"blue\",\"blue\",\"blue\",\"blue\",\"blue\",\"blue\",\"blue\",\"blue\",\"blue\",\"blue\",\"blue\",\"blue\",\"blue\",\"blue\",\"blue\",\"blue\",\"blue\",\"blue\",\"blue\",\"blue\",\"blue\",\"blue\",\"blue\",\"blue\",\"blue\",\"blue\",\"blue\",\"blue\",\"blue\",\"blue\",\"blue\",\"blue\",\"blue\",\"blue\",\"blue\",\"blue\",\"blue\",\"blue\",\"blue\",\"blue\",\"blue\",\"blue\",\"blue\",\"blue\",\"blue\",\"blue\",\"blue\",\"blue\",\"blue\",\"blue\",\"blue\",\"blue\",\"blue\",\"blue\",\"blue\",\"blue\",\"blue\",\"blue\",\"blue\",\"blue\",\"blue\",\"blue\",\"blue\",\"blue\",\"blue\",\"blue\",\"blue\",\"blue\",\"blue\",\"blue\",\"blue\",\"blue\",\"blue\",\"blue\",\"blue\",\"blue\",\"blue\",\"blue\",\"blue\",\"blue\",\"blue\",\"blue\",\"blue\",\"blue\",\"blue\",\"blue\",\"blue\",\"blue\",\"blue\",\"blue\",\"blue\",\"blue\",\"blue\",\"blue\",\"blue\",\"blue\",\"blue\",\"blue\",\"blue\",\"blue\",\"blue\",\"blue\",\"blue\",\"blue\",\"blue\",\"blue\",\"blue\",\"blue\",\"blue\",\"blue\",\"blue\",\"blue\",\"blue\",\"blue\",\"blue\",\"blue\",\"blue\",\"blue\",\"blue\",\"blue\",\"blue\",\"blue\",\"blue\",\"blue\",\"blue\",\"blue\",\"blue\",\"blue\",\"blue\",\"blue\",\"blue\",\"blue\",\"blue\",\"blue\",\"blue\",\"blue\",\"blue\",\"blue\",\"blue\",\"blue\",\"blue\",\"blue\",\"blue\",\"blue\",\"blue\",\"blue\",\"blue\",\"blue\",\"blue\",\"blue\",\"blue\",\"blue\",\"blue\",\"blue\",\"blue\",\"blue\",\"blue\",\"blue\",\"blue\",\"blue\",\"blue\",\"blue\",\"blue\",\"blue\",\"blue\",\"blue\",\"blue\",\"blue\",\"blue\",\"blue\",\"blue\",\"blue\",\"blue\",\"blue\",\"blue\",\"blue\",\"blue\",\"blue\",\"blue\",\"blue\",\"blue\",\"blue\",\"blue\",\"blue\",\"blue\",\"blue\",\"blue\",\"blue\",\"blue\",\"blue\",\"blue\",\"blue\",\"blue\",\"blue\",\"blue\",\"blue\",\"blue\",\"blue\",\"blue\",\"blue\",\"blue\",\"blue\",\"blue\",\"blue\",\"blue\",\"blue\",\"blue\",\"blue\",\"blue\",\"blue\",\"blue\",\"blue\",\"blue\",\"blue\",\"blue\",\"blue\",\"blue\",\"blue\",\"blue\",\"blue\",\"blue\",\"blue\",\"blue\",\"blue\",\"blue\",\"blue\",\"blue\",\"blue\",\"blue\",\"blue\",\"blue\",\"blue\",\"blue\",\"blue\",\"blue\",\"blue\",\"blue\",\"blue\",\"blue\",\"blue\",\"blue\",\"blue\",\"blue\",\"blue\",\"blue\",\"blue\",\"blue\",\"blue\",\"blue\",\"blue\",\"blue\",\"blue\",\"blue\",\"blue\",\"blue\",\"blue\",\"blue\",\"blue\",\"blue\",\"blue\",\"blue\",\"blue\",\"blue\",\"blue\",\"blue\",\"blue\",\"blue\",\"blue\",\"blue\",\"blue\",\"blue\",\"blue\",\"blue\",\"blue\",\"blue\",\"blue\",\"blue\",\"blue\",\"blue\",\"blue\",\"blue\",\"blue\",\"blue\",\"blue\",\"blue\",\"blue\",\"blue\",\"blue\",\"blue\",\"blue\",\"blue\",\"blue\",\"blue\",\"blue\",\"blue\",\"blue\",\"blue\",\"blue\",\"blue\",\"blue\",\"blue\",\"blue\",\"blue\",\"blue\",\"blue\",\"blue\",\"blue\",\"blue\",\"blue\",\"blue\",\"blue\",\"blue\",\"blue\",\"blue\",\"blue\",\"blue\",\"blue\",\"blue\",\"blue\",\"blue\",\"blue\",\"blue\",\"blue\",\"blue\",\"blue\",\"blue\",\"blue\",\"blue\",\"blue\",\"blue\",\"blue\",\"blue\",\"blue\",\"blue\",\"blue\",\"blue\",\"blue\",\"blue\",\"blue\",\"blue\",\"blue\",\"blue\",\"blue\",\"blue\",\"blue\",\"blue\",\"blue\",\"blue\",\"blue\",\"blue\",\"blue\",\"blue\",\"blue\",\"blue\",\"blue\",\"blue\",\"blue\",\"blue\",\"blue\",\"blue\",\"blue\",\"blue\",\"blue\",\"blue\",\"blue\",\"blue\",\"blue\",\"blue\",\"blue\",\"blue\",\"blue\",\"blue\",\"blue\",\"blue\",\"blue\",\"blue\",\"blue\",\"blue\",\"blue\",\"blue\",\"blue\",\"blue\",\"blue\",\"blue\",\"blue\",\"blue\",\"blue\",\"blue\",\"blue\",\"blue\",\"blue\",\"blue\",\"blue\",\"blue\",\"blue\",\"blue\",\"blue\",\"blue\",\"blue\",\"blue\",\"blue\",\"blue\",\"blue\",\"blue\",\"blue\",\"blue\",\"blue\",\"blue\",\"blue\",\"blue\",\"blue\",\"blue\",\"blue\",\"blue\",\"blue\",\"blue\",\"blue\",\"blue\",\"blue\",\"blue\",\"blue\",\"blue\",\"blue\",\"blue\",\"blue\",\"blue\",\"blue\",\"blue\",\"blue\",\"blue\",\"blue\",\"blue\",\"blue\",\"blue\",\"blue\",\"blue\",\"blue\",\"blue\",\"blue\",\"blue\",\"blue\",\"blue\",\"blue\",\"blue\",\"blue\",\"blue\",\"blue\",\"blue\",\"blue\",\"blue\",\"blue\",\"blue\",\"blue\",\"blue\",\"blue\",\"blue\",\"blue\",\"blue\",\"blue\",\"blue\",\"blue\",\"blue\",\"blue\",\"blue\",\"blue\",\"blue\",\"blue\",\"blue\",\"blue\",\"blue\",\"blue\",\"blue\",\"blue\",\"blue\",\"blue\",\"blue\",\"blue\",\"blue\",\"blue\",\"blue\",\"blue\",\"blue\",\"blue\",\"blue\",\"blue\",\"blue\",\"blue\",\"blue\",\"blue\",\"blue\",\"blue\",\"blue\"]],[\"token\",[\"verified\",\"2gb\",\"illinois\",\"jazz\",\"checking\",\"telescope\",\"seasons\",\"astrologer\",\"contribution\",\"homemade\",\"heroes\",\"warcraft\",\"kumar\",\"tester\",\"politically\",\"conquer\",\"columbia\",\"quiet\",\"repeat\",\"kapil\",\"involve\",\"mckinsey\",\"switched\",\"att\",\"instance\",\"innocent\",\"portuguese\",\"subscribers\",\"cabinet\",\"terror\",\"85\",\"rotation\",\"shirts\",\"drawn\",\"bi\",\"aspergers\",\"inspiration\",\"beats\",\"\\u00a3\",\"approximately\",\"asset\",\"empathy\",\"rooting\",\"ia\",\"dandruff\",\"slab\",\"operator\",\"horrible\",\"dominant\",\"ocd\",\"spacetime\",\"blow\",\"installing\",\"learnt\",\"separation\",\"institution\",\"temples\",\"hons\",\"pound\",\"removing\",\"unemployment\",\"greenlit\",\"audit\",\"supplement\",\"roller\",\"dota\",\"tiny\",\"equally\",\"braces\",\"aggressive\",\"corn\",\"camps\",\"additional\",\"consent\",\"granted\",\"welfare\",\"myths\",\"stations\",\"timeline\",\"psychologist\",\"nagpur\",\"herself\",\"cooper\",\"exgirlfriend\",\"intercourse\",\"flip\",\"hurts\",\"lpa\",\"nerve\",\"tvs\",\"halloween\",\"screenshot\",\"biomedical\",\"covered\",\"milky\",\"onsite\",\"aside\",\"meaningful\",\"stretch\",\"joker\",\"encounter\",\"tone\",\"founders\",\"talked\",\"respectively\",\"downloads\",\"cocaine\",\"toxic\",\"sword\",\"fuck\",\"trainer\",\"partition\",\"boxing\",\"grid\",\"practicing\",\"menu\",\"cms\",\"indore\",\"ate\",\"volunteer\",\"misconceptions\",\"pics\",\"flies\",\"instantly\",\"trans\",\"friday\",\"sociopaths\",\"ctc\",\"hoax\",\"detailed\",\"sizes\",\"rejection\",\"limitations\",\"bharat\",\"kissing\",\"renewable\",\"oriented\",\"countrys\",\"dumps\",\"spiders\",\"technological\",\"advertisement\",\"headache\",\"zodiac\",\"accommodation\",\"venus\",\"calcium\",\"passenger\",\"falls\",\"overnight\",\"pickup\",\"gary\",\"transportation\",\"odds\",\"jupiter\",\"purchasing\",\"fluently\",\"flu\",\"photons\",\"conductor\",\"ohio\",\"balaji\",\"mcdonalds\",\"betting\",\"irrational\",\"sachin\",\"deactivate\",\"estimate\",\"hairs\",\"fluent\",\"errors\",\"remaining\",\"marriages\",\"medieval\",\"charles\",\"spider\",\"oxford\",\"gita\",\"races\",\"liquor\",\"poland\",\"lease\",\"co2\",\"selenium\",\"attempts\",\"crystal\",\"manaphy\",\"knight\",\"collapsed\",\"wheels\",\"behaviour\",\"bitcoins\",\"parliament\",\"himher\",\"handsome\",\"thousands\",\"caring\",\"kings\",\"lucky\",\"workplace\",\"condom\",\"intuitive\",\"chronic\",\"eyesight\",\"simulation\",\"prank\",\"quickest\",\"concert\",\"popularity\",\"connections\",\"disorders\",\"scripting\",\"appearance\",\"js\",\"depth\",\"cheque\",\"longterm\",\"documentaries\",\"dioxide\",\"bright\",\"info\",\"diseases\",\"appeal\",\"snap\",\"smoked\",\"singers\",\"boil\",\"probably\",\"temperatures\",\"appearing\",\"olive\",\"ntse\",\"telecom\",\"brief\",\"discrimination\",\"ethnic\",\"cache\",\"passionate\",\"shoulder\",\"assault\",\"marshmallow\",\"momentum\",\"yr\",\"migrate\",\"retire\",\"cet\",\"canvas\",\"vietnamese\",\"institutions\",\"meter\",\"roots\",\"integer\",\"imported\",\"ants\",\"lyft\",\"piercing\",\"il\",\"poop\",\"organisms\",\"ve\",\"entropy\",\"calm\",\"saddest\",\"toward\",\"myth\",\"sight\",\"filling\",\"hdmi\",\"satisfied\",\"transactions\",\"pharmacy\",\"nursing\",\"correlation\",\"regression\",\"awake\",\"md\",\"nri\",\"recommendations\",\"bin\",\"finland\",\"multi\",\"voted\",\"discovery\",\"edward\",\"touching\",\"immigrant\",\"geometry\",\"indicate\",\"ourselves\",\"texting\",\"seek\",\"expecting\",\"dj\",\"brake\",\"helicopter\",\"blonde\",\"triple\",\"ladies\",\"vivekananda\",\"switching\",\"prostitution\",\"banana\",\"magazines\",\"shippuden\",\"lucknow\",\"2019\",\"failing\",\"elizabeth\",\"irish\",\"ebook\",\"temporary\",\"governor\",\"wasting\",\"weekends\",\"cpt\",\"wax\",\"labor\",\"instruments\",\"instrumentation\",\"hates\",\"hip\",\"arnab\",\"bubble\",\"employers\",\"aadhaar\",\"boyfriends\",\"jake\",\"explained\",\"yesterday\",\"beta\",\"extrovert\",\"andhra\",\"micromax\",\"vertical\",\"lay\",\"nonprofit\",\"dubbed\",\"typing\",\"automotive\",\"thomas\",\"procedures\",\"priority\",\"funded\",\"arabs\",\"siblings\",\"guinea\",\"missile\",\"luck\",\"strategic\",\"defend\",\"module\",\"tuition\",\"acids\",\"controller\",\"committee\",\"housing\",\"integral\",\"peaceful\",\"refugees\",\"prescription\",\"interns\",\"supported\",\"womans\",\"dentist\",\"wives\",\"village\",\"affecting\",\"lte\",\"beaches\",\"austin\",\"substance\",\"engagement\",\"trainee\",\"measures\",\"trailer\",\"purchased\",\"15000\",\"uttar\",\"glue\",\"dtu\",\"medal\",\"photon\",\"engg\",\"violin\",\"column\",\"somehow\",\"rotate\",\"3000\",\"virat\",\"forgotten\",\"fingers\",\"slim\",\"arrest\",\"covalent\",\"ncert\",\"kernel\",\"da\",\"alarm\",\"ngo\",\"4gb\",\"productivity\",\"planned\",\"district\",\"berlin\",\"lists\",\"leads\",\"slang\",\"defence\",\"aspiring\",\"56\",\"enemy\",\"farming\",\"muller\",\"pays\",\"liver\",\"membrane\",\"secretly\",\"plug\",\"gum\",\"eclipse\",\"chewing\",\"labs\",\"zombie\",\"authority\",\"males\",\"argentina\",\"tasks\",\"fell\",\"nails\",\"palestine\",\"tanks\",\"identical\",\"deck\",\"qualification\",\"leadership\",\"kohli\",\"pronunciation\",\"hello\",\"violent\",\"sabha\",\"respiration\",\"transform\",\"warranty\",\"faculty\",\"adolf\",\"expenses\",\"jersey\",\"mercury\",\"whiskey\",\"tackle\",\"tweet\",\"blame\",\"cruise\",\"mahindra\",\"discharge\",\"reduced\",\"vodka\",\"mahatma\",\"bass\",\"compete\",\"stains\",\"pill\",\"swim\",\"ali\",\"gf\",\"ford\",\"prince\",\"sweat\",\"performing\",\"limits\",\"leonardo\",\"cow\",\"resolve\",\"matters\",\"pharmaceutical\",\"ray\",\"remotely\",\"pf\",\"clinical\",\"bpo\",\"homeless\",\"husbands\",\"rising\",\"newtons\",\"outcome\",\"derivative\",\"alpha\",\"grown\",\"capitalism\",\"astronaut\",\"hybrid\",\"palm\",\"teens\",\"hits\",\"airplanes\",\"none\",\"admin\",\"applicable\",\"amcat\",\"spam\",\"neutrality\",\"pixel\",\"festival\",\"faces\",\"molar\",\"snakes\",\"sip\",\"kik\",\"farm\",\"ltd\",\"votes\",\"publishing\",\"comfort\",\"frontend\",\"spin\",\"diagnosed\",\"buildings\",\"\\u00b0\",\"cashless\",\"addictive\",\"extinct\",\"ugc\",\"coke\",\"llb\",\"phrases\",\"struggle\",\"drives\",\"fiber\",\"grocery\",\"achieved\",\"penny\",\"bath\",\"allies\",\"uninstall\",\"ny\",\"appears\",\"effort\",\"satellites\",\"confirmed\",\"loneliness\",\"illuminati\",\"uri\",\"lucid\",\"preferably\",\"neither\",\"\\u221a\",\"pacific\",\"americas\",\"bs\",\"graduated\",\"bills\",\"tube\",\"germans\",\"assume\",\"cleared\",\"mate\",\"divide\",\"versions\",\"fallen\",\"journey\",\"anthem\",\"certificates\",\"looked\",\"sponsor\",\"useless\",\"dependent\",\"invite\",\"guru\",\"keyword\",\"aipmt\",\"clone\",\"kgs\",\"chip\",\"origins\",\"wide\",\"motivational\",\"elite\",\"wanna\",\"unity\",\"cough\",\"connecting\",\"mystery\",\"kim\",\"syrian\",\"voldemort\",\"responsibilities\",\"molecules\",\"boobs\",\"holidays\",\"tutorial\",\"circumstances\",\"fiitjee\",\"islands\",\"bypass\",\"slowly\",\"mixture\",\"aluminum\",\"salesforce\",\"twin\",\"iot\",\"remedy\",\"sheets\",\"pole\",\"hated\",\"females\",\"protected\",\"irs\",\"insecure\",\"entering\",\"neuroscience\",\"offices\",\"delta\",\"suggestion\",\"snapdeal\",\"backstory\",\"periodic\",\"cancelled\",\"mans\",\"complicated\",\"bitsat\",\"pleasure\",\"loop\",\"dropbox\",\"selfish\",\"nude\",\"20000\",\"voter\",\"variables\",\"victory\",\"closest\",\"compensation\",\"extended\",\"locations\",\"cracked\",\"perks\",\"ended\",\"exit\",\"awareness\",\"pakistanis\",\"ebooks\",\"bull\",\"unblock\",\"100000\",\"entrepreneurship\",\"infrastructure\",\"scotland\",\"guest\",\"attacked\",\"hurting\",\"lion\",\"reject\",\"purposes\",\"knife\",\"thai\",\"ipl\",\"knee\",\"accepting\",\"spent\",\"punjabi\",\"tab\",\"quoras\",\"caffeine\",\"athletes\",\"ink\",\"cooked\",\"improving\",\"invaded\",\"allah\",\"thermodynamics\",\"mortgage\",\"firsttime\",\"achievements\",\"issued\",\"breath\",\"award\",\"llc\",\"legends\",\"mood\",\"influenced\",\"proteins\",\"holy\",\"performed\",\"pee\",\"blocks\",\"molecule\",\"interests\",\"imei\",\"requires\",\"cisco\",\"moves\",\"marrying\",\"mca\",\"perfectly\",\"iisc\",\"corporation\",\"shiva\",\"viruses\",\"difficulty\",\"50000\",\"volte\",\"shampoo\",\"secular\",\"transplant\",\"ghz\",\"ahead\",\"crew\",\"interact\",\"depend\",\"hawaii\",\"hiv\",\"evening\",\"vegetable\",\"revenge\",\"suppose\",\"busy\",\"label\",\"rogue\",\"rational\",\"hillstation\",\"brains\",\"urdu\",\"imagine\",\"salaries\",\"survey\",\"g4\",\"butt\",\"manufacturers\",\"saas\",\"residency\",\"recommendation\",\"purple\",\"fault\",\"aadhar\",\"aging\",\"bhopal\",\"conducted\",\"loses\",\"infection\",\"forest\",\"impacts\",\"collection\",\"fridge\",\"diamond\",\"mis\",\"recorded\",\"march\",\"conditioner\",\"signature\",\"listed\",\"branches\",\"manchester\",\"wanting\",\"perception\",\"absolutely\",\"servers\",\"soluble\",\"swami\",\"lumia\",\"directors\",\"52\",\"2008\",\"gaining\",\"stereotypes\",\"homes\",\"vegas\",\"jam\",\"behave\",\"relatively\",\"forum\",\"ib\",\"earphones\",\"facilities\",\"april\",\"finally\",\"tail\",\"capacitor\",\"tiger\",\"deaf\",\"deliver\",\"django\",\"expand\",\"skip\",\"nearly\",\"maybe\",\"task\",\"gateway\",\"strangest\",\"abstract\",\"adding\",\"suck\",\"tim\",\"printed\",\"sigma\",\"immigrate\",\"decline\",\"arrested\",\"95\",\"narcissistic\",\"freelancing\",\"patterns\",\"expired\",\"casual\",\"tablets\",\"patients\",\"lean\",\"pieces\",\"laymans\",\"whatever\",\"polish\",\"lemon\",\"abortion\",\"i3\",\"theorem\",\"h\",\"compulsory\",\"helped\",\"sons\",\"feminism\",\"compiler\",\"tested\",\"enhance\",\"adhd\",\"manhattan\",\"iii\",\"nail\",\"eee\",\"deals\",\"excellent\",\"ipo\",\"folder\",\"sand\",\"continuous\",\"capable\",\"libraries\",\"aggregate\",\"64\",\"bsnl\",\"profiles\",\"spirit\",\"pulled\",\"owns\",\"deloitte\",\"therapist\",\"acts\",\"millions\",\"authors\",\"marathi\",\"dvd\",\"coconut\",\"swiss\",\"interaction\",\"ncr\",\"kannada\",\"smallest\",\"advisable\",\"smartest\",\"sorry\",\"normally\",\"ends\",\"rome\",\"spectrum\",\"cousin\",\"75\",\"suzuki\",\"nights\",\"cap\",\"enable\",\"counselling\",\"proxy\",\"margin\",\"shops\",\"hackers\",\"tatkal\",\"opened\",\"cinema\",\"consumption\",\"coal\",\"silent\",\"choosing\",\"introduction\",\"electromagnetic\",\"hcl\",\"complaint\",\"puppies\",\"vc\",\"symbols\",\"lenses\",\"username\",\"arrow\",\"adopted\",\"affects\",\"sudden\",\"pcm\",\"gel\",\"affair\",\"pinterest\",\"statements\",\"supplements\",\"justified\",\"turns\",\"santa\",\"shoe\",\"trek\",\"headphone\",\"girlfriends\",\"verizon\",\"rocket\",\"conference\",\"ego\",\"srm\",\"afghanistan\",\"nucleus\",\"generated\",\"chinas\",\"ww1\",\"consultancy\",\"socially\",\"allen\",\"berkeley\",\"missed\",\"crying\",\"introduced\",\"ps3\",\"flour\",\"brought\",\"elder\",\"minecraft\",\"9th\",\"freelancer\",\"circles\",\"scars\",\"entertainment\",\"turbine\",\"deeply\",\"rom\",\"evolved\",\"nato\",\"strengths\",\"ide\",\"tweets\",\"scholarships\",\"mentor\",\"collect\",\"hdfc\",\"mandarin\",\"solo\",\"terrible\",\"influential\",\"professionals\",\"65\",\"recognition\",\"nvidia\",\"cia\",\"designs\",\"10k\",\"creation\",\"tom\",\"rated\",\"introverts\",\"boiling\",\"communism\",\"treaty\",\"whereas\",\"thanks\",\"cigarette\",\"bengaluru\",\"oneplus\",\"reserve\",\"advertise\",\"nits\",\"helping\",\"bruce\",\"mp3\",\"severe\",\"proposal\",\"cultures\",\"tap\",\"animated\",\"planes\",\"hall\",\"cognitive\",\"supports\",\"keys\",\"gotten\",\"feedback\",\"recording\",\"proceed\",\"membership\",\"console\",\"overseas\",\"hows\",\"william\",\"billionaires\",\"updated\",\"pre\",\"organizations\",\"messi\",\"unexpected\",\"nitrogen\",\"hungry\",\"nigeria\",\"sync\",\"arduino\",\"gross\",\"outer\",\"searching\",\"workers\",\"outlook\",\"europeans\",\"founder\",\"lectures\",\"legitimate\",\"camp\",\"ordinary\",\"investments\",\"bone\",\"raising\",\"quite\",\"ages\",\"joint\",\"johnson\",\"destination\",\"concerned\",\"belief\",\"refrigerator\",\"implications\",\"manga\",\"mandatory\",\"obamas\",\"lawyers\",\"bedroom\",\"icon\",\"qualifications\",\"qa\",\"bikes\",\"boston\",\"holding\",\"session\",\"appointment\",\"weaknesses\",\"iphones\",\"motorcycle\",\"schizophrenia\",\"5th\",\"intellectual\",\"eaten\",\"attending\",\"medals\",\"adsense\",\"nda\",\"6th\",\"kali\",\"georgia\",\"wechat\",\"earlier\",\"drone\",\"truck\",\"horse\",\"merchant\",\"torque\",\"seed\",\"backend\",\"holmes\",\"graduating\",\"400\",\"bones\",\"sufficient\",\"participate\",\"rifle\",\"shock\",\"downloaded\",\"earthquake\",\"breasts\",\"secretary\",\"insert\",\"damaged\",\"massive\",\"standing\",\"remainder\",\"programme\",\"holocaust\",\"totally\",\"belt\",\"affairs\",\"nokia\",\"mechanism\",\"pin\",\"scan\",\"fought\",\"superpower\",\"poetry\",\"signals\",\"educated\",\"scariest\",\"trains\",\"closer\",\"weapon\",\"icici\",\"serial\",\"bicycle\",\"terminal\",\"finished\",\"stolen\",\"inspiring\",\"cuisine\",\"spark\",\"sounds\",\"pricing\",\"click\",\"underwear\",\"kidney\",\"bengal\",\"invention\",\"discount\",\"chase\",\"evaluate\",\"distributed\",\"themes\",\"amd\",\"stem\",\"st\",\"genre\",\"vegetables\",\"council\",\"bihar\",\"thick\",\"mouse\",\"worry\",\"newly\",\"updates\",\"candy\",\"prepaid\",\"wet\",\"rap\",\"motors\",\"implemented\",\"theoretical\",\"fabric\",\"mexican\",\"portfolio\",\"technique\",\"icse\",\"expansion\",\"evolutionary\",\"justify\",\"trick\",\"attached\",\"lightning\",\"pitch\",\"armed\",\"einstein\",\"conversion\",\"iitjee\",\"declared\",\"admit\",\"acquisition\",\"innovation\",\"runs\",\"wwe\",\"trial\",\"memories\",\"refuse\",\"netherlands\",\"committed\",\"fraud\",\"jailbreak\",\"settle\",\"badly\",\"approved\",\"eligibility\",\"trend\",\"increases\",\"comic\",\"quorans\",\"cellular\",\"matches\",\"receiving\",\"bmw\",\"vlsi\",\"signed\",\"lakes\",\"350\",\"communications\",\"pork\",\"joined\",\"anyway\",\"differentiate\",\"actresses\",\"29\",\"ethics\",\"premier\",\"hearing\",\"vehicles\",\"drama\",\"instant\",\"lips\",\"dates\",\"july\",\"holiday\",\"coach\",\"malayalam\",\"superior\",\"soviet\",\"plate\",\"throw\",\"worship\",\"bars\",\"sharma\",\"mothers\",\"integrated\",\"clubs\",\"bug\",\"melbourne\",\"co\",\"bisexual\",\"regions\",\"lesson\",\"heads\",\"reader\",\"snake\",\"qualify\",\"paul\",\"causing\",\"disappear\",\"era\",\"lets\",\"qualified\",\"spiritual\",\"wolf\",\"requirement\",\"journalism\",\"studied\",\"lowest\",\"vader\",\"coursera\",\"stark\",\"configuration\",\"verbal\",\"undergrad\",\"dimensions\",\"transition\",\"efficiently\",\"interstellar\",\"locked\",\"summary\",\"chandigarh\",\"ghosts\",\"included\",\"operate\",\"dimension\",\"mount\",\"noticed\",\"rating\",\"somewhere\",\"martin\",\"bra\",\"bird\",\"zuckerberg\",\"sensor\",\"audience\",\"dirty\",\"starbucks\",\"permission\",\"residential\",\"wholesale\",\"assets\",\"clearly\",\"km\",\"invade\",\"ipcc\",\"fb\",\"shell\",\"shave\",\"loud\",\"tip\",\"seeds\",\"sets\",\"polar\",\"although\",\"june\",\"judaism\",\"anti\",\"instrument\",\"seven\",\"shooting\",\"j\",\"portal\",\"tower\",\"github\",\"linked\",\"admitted\",\"punishment\",\"mid\",\"micro\",\"cured\",\"lifestyle\",\"nor\",\"upset\",\"challenge\",\"soap\",\"standards\",\"integration\",\"lottery\",\"lab\",\"williams\",\"odd\",\"soil\",\"sensitive\",\"route\",\"tattoos\",\"coin\",\"declare\",\"frame\",\"differential\",\"bowl\",\"softwares\",\"notifications\",\"maintenance\",\"inner\",\"apples\",\"converted\",\"recruiter\",\"bombay\",\"command\",\"posting\",\"controlled\",\"balls\",\"personally\",\"poker\",\"extract\",\"hired\",\"bugs\",\"providers\",\"loans\",\"calculator\",\"attractions\",\"torrents\",\"keywords\",\"profession\",\"blogging\",\"transport\",\"sue\",\"anonymously\",\"compounds\",\"robot\",\"buddhism\",\"sweet\",\"defense\",\"nobody\",\"uc\",\"defined\",\"division\",\"bags\",\"epic\",\"unhealthy\",\"craziest\",\"urban\",\"combination\",\"pair\",\"laugh\",\"cv\",\"usd\",\"launched\",\"usps\",\"visited\",\"nexus\",\"regularly\",\"brothers\",\"broker\",\"concentrate\",\"agreement\",\"nervous\",\"frozen\",\"detail\",\"sir\",\"situations\",\"borderline\",\"angularjs\",\"abusive\",\"tourism\",\"relate\",\"august\",\"communist\",\"accountant\",\"dumb\",\"arab\",\"b2b\",\"du\",\"thermal\",\"asians\",\"threat\",\"karma\",\"passive\",\"homosexuality\",\"putting\",\"quantitative\",\"relativity\",\"sanskrit\",\"opinions\",\"verify\",\"bear\",\"roll\",\"expanding\",\"teenage\",\"jeans\",\"providing\",\"shared\",\"extreme\",\"mi\",\"vr\",\"progress\",\"greece\",\"cpu\",\"ips\",\"merge\",\"reputation\",\"loving\",\"salman\",\"iss\",\"warm\",\"dental\",\"extension\",\"attraction\",\"fictional\",\"journal\",\"login\",\"secondary\",\"recognize\",\"southern\",\"ph\",\"lunch\",\"wallet\",\"ronaldo\",\"larger\",\"actions\",\"fathers\",\"adopt\",\"claims\",\"bottom\",\"therapy\",\"patient\",\"described\",\"virginity\",\"functional\",\"ionic\",\"chartered\",\"discover\",\"55\",\"21st\",\"biased\",\"mad\",\"northern\",\"onto\",\"liberals\",\"premium\",\"neutral\",\"detect\",\"diagram\",\"sperm\",\"ga\",\"bleach\",\"spread\",\"contributions\",\"activate\",\"prior\",\"safest\",\"holder\",\"360\",\"aim\",\"rental\",\"families\",\"everybody\",\"shut\",\"payments\",\"150\",\"cube\",\"vegan\",\"newspaper\",\"beef\",\"houses\",\"preferred\",\"simultaneously\",\"marked\",\"reactions\",\"emergency\",\"protection\",\"cab\",\"forex\",\"norway\",\"immigrants\",\"googles\",\"ssb\",\"wing\",\"yrs\",\"ensure\",\"spy\",\"reasoning\",\"strange\",\"forgive\",\"turkish\",\"tag\",\"ranking\",\"platforms\",\"fox\",\"existed\",\"walmart\",\"lazy\",\"ears\",\"clock\",\"beam\",\"rare\",\"bush\",\"2011\",\"stops\",\"batteries\",\"certified\",\"naked\",\"worldwide\",\"staying\",\"lifetime\",\"ted\",\"lake\",\"wealthy\",\"transit\",\"stephen\",\"rural\",\"versa\",\"pets\",\"commonly\",\"adults\",\"ultimate\",\"genius\",\"vinegar\",\"allows\",\"aid\",\"retirement\",\"airtel\",\"sciences\",\"mountain\",\"drinks\",\"tour\",\"wind\",\"seattle\",\"disabled\",\"bodies\",\"lesbian\",\"governments\",\"kinetic\",\"tumblr\",\"absolute\",\"author\",\"toilet\",\"whey\",\"sleepy\",\"molecular\",\"watches\",\"inventions\",\"rain\",\"34\",\"angular\",\"o\",\"dish\",\"however\",\"agents\",\"abs\",\"switzerland\",\"transformer\",\"clearing\",\"consciousness\",\"broadband\",\"uae\",\"automatic\",\"opposed\",\"geography\",\"astronauts\",\"decisions\",\"cement\",\"induction\",\"luxury\",\"upvotes\",\"politicians\",\"posted\",\"toefl\",\"kitchen\",\"noise\",\"radius\",\"dye\",\"miles\",\"risks\",\"scientifically\",\"mnc\",\"propose\",\"prepared\",\"iiit\",\"mention\",\"equipment\",\"darth\",\"january\",\"surname\",\"raised\",\"attitude\",\"gta\",\"david\",\"hike\",\"awkward\",\"proven\",\"productive\",\"lg\",\"filled\",\"atmosphere\",\"lee\",\"irctc\",\"addicted\",\"dynamic\",\"employment\",\"weekend\",\"replacement\",\"singing\",\"owners\",\"bipolar\",\"tomorrow\",\"poems\",\"default\",\"kvpy\",\"sauce\",\"competitors\",\"russians\",\"sample\",\"crimes\",\"hang\",\"inspired\",\"furniture\",\"throughout\",\"presence\",\"efficiency\",\"leg\",\"biological\",\"pilani\",\"conversations\",\"inspirational\",\"bachelor\",\"centers\",\"withdraw\",\"fundamental\",\"comparison\",\"november\",\"fifa\",\"penalty\",\"algebra\",\"joke\",\"htc\",\"pilots\",\"collapse\",\"texts\",\"vocabulary\",\"moved\",\"sc\",\"smile\",\"october\",\"dot\",\"genetic\",\"architect\",\"url\",\"51\",\"sore\",\"uniform\",\"re\",\"rails\",\"smaller\",\"marine\",\"terrorists\",\"nazi\",\"breast\",\"politician\",\"subtitles\",\"chosen\",\"egypt\",\"thin\",\"packages\",\"editor\",\"bands\",\"mythology\",\"reasonable\",\"permit\",\"acceptable\",\"seriously\",\"iraq\",\"fever\",\"visitor\",\"honest\",\"friction\",\"offering\",\"smarter\",\"ahmedabad\",\"replaced\",\"resolution\",\"burning\",\"bridge\",\"catholic\",\"calendar\",\"resident\",\"policies\",\"forced\",\"leading\",\"arm\",\"deserve\",\"context\",\"coolest\",\"arranged\",\"arizona\",\"comics\",\"harm\",\"democrats\",\"jail\",\"breed\",\"anywhere\",\"psu\",\"christ\",\"violence\",\"agriculture\",\"objective\",\"moments\",\"infinity\",\"supporting\",\"critical\",\"trees\",\"beyond\",\"bag\",\"vitamin\",\"assembly\",\"solved\",\"array\",\"perspective\",\"pas\",\"wwii\",\"skinny\",\"contains\",\"lift\",\"cleaning\",\"peter\",\"aap\",\"pimples\",\"initial\",\"lesserknown\",\"sights\",\"principles\",\"realize\",\"millionaire\",\"faux\",\"orbit\",\"desire\",\"hi\",\"prophet\",\"suits\",\"careers\",\"thinks\",\"quantity\",\"spots\",\"wage\",\"asleep\",\"sociology\",\"guard\",\"units\",\"structural\",\"operation\",\"pants\",\"w\",\"bulk\",\"possibly\",\"drunk\",\"fired\",\"accident\",\"inch\",\"bottle\",\"aerospace\",\"narcissist\",\"ux\",\"angeles\",\"wood\",\"index\",\"safely\",\"robotics\",\"edition\",\"metals\",\"practices\",\"scheme\",\"interior\",\"diabetes\",\"nobel\",\"youth\",\"lived\",\"september\",\"chief\",\"proposed\",\"assuming\",\"sin\",\"counter\",\"disable\",\"introduce\",\"restore\",\"swimming\",\"intern\",\"answering\",\"mentioned\",\"crash\",\"laser\",\"teenagers\",\"presentation\",\"quran\",\"classified\",\"demonetisation\",\"communicate\",\"cotton\",\"autism\",\"anger\",\"environmental\",\"stable\",\"7th\",\"bread\",\"invited\",\"wisdom\",\"wrote\",\"widely\",\"minor\",\"formal\",\"dreaming\",\"managers\",\"escape\",\"pollution\",\"taiwan\",\"verification\",\"los\",\"figures\",\"26\",\"illness\",\"sides\",\"compatible\",\"pack\",\"conspiracy\",\"hedge\",\"flights\",\"dropped\",\"former\",\"suffer\",\"aware\",\"designers\",\"mahabharata\",\"evolve\",\"weigh\",\"dies\",\"fruits\",\"cc\",\"butter\",\"sharing\",\"atoms\",\"tongue\",\"transaction\",\"poverty\",\"suffering\",\"presidents\",\"resistance\",\"adam\",\"civilization\",\"mining\",\"toronto\",\"stick\",\"increased\",\"wild\",\"freelance\",\"removal\",\"aws\",\"rio\",\"principle\",\"asus\",\"cute\",\"consumer\",\"pool\",\"variable\",\"tutorials\",\"advance\",\"keeping\",\"visible\",\"cognizant\",\"equations\",\"rooms\",\"krishna\",\"printer\",\"tooth\",\"mentally\",\"realistic\",\"automobile\",\"cake\",\"tie\",\"beach\",\"ghost\",\"comfortable\",\"mysql\",\"oral\",\"closed\",\"helps\",\"maharashtra\",\"admissions\",\"i5\",\"partners\",\"axis\",\"beliefs\",\"neck\",\"clans\",\"hidden\",\"cyber\",\"voting\",\"bacteria\",\"layer\",\"chhattisgarh\",\"5000\",\"sitting\",\"murder\",\"argument\",\"f\",\"privacy\",\"syndrome\",\"2010\",\"bite\",\"vacation\",\"isro\",\"trouble\",\"records\",\"answered\",\"digit\",\"defeat\",\"childhood\",\"5s\",\"gates\",\"f1\",\"town\",\"anal\",\"copper\",\"talks\",\"affiliate\",\"sociopath\",\"installed\",\"static\",\"copyright\",\"animation\",\"donate\",\"stranger\",\"bcom\",\"destroyed\",\"gujarat\",\"foundation\",\"prize\",\"components\",\"foreigner\",\"arms\",\"unlimited\",\"needing\",\"settings\",\"item\",\"eve\",\"competition\",\"landing\",\"beard\",\"patent\",\"ending\",\"2020\",\"incident\",\"petroleum\",\"florida\",\"particularly\",\"ups\",\"generator\",\"leather\",\"heal\",\"experiment\",\"28\",\"passing\",\"talent\",\"remote\",\"300\",\"published\",\"impossible\",\"steam\",\"80\",\"washing\",\"guilty\",\"punjab\",\"70\",\"album\",\"bullet\",\"paris\",\"interface\",\"agencies\",\"mission\",\"digits\",\"modis\",\"recruitment\",\"manipal\",\"telling\",\"meal\",\"orange\",\"stone\",\"links\",\"ab\",\"upper\",\"cameras\",\"p\",\"combat\",\"passion\",\"shower\",\"thailand\",\"beings\",\"grad\",\"27\",\"finger\",\"jump\",\"lights\",\"ui\",\"bba\",\"sweden\",\"arrive\",\"4th\",\"amendment\",\"window\",\"satellite\",\"al\",\"matlab\",\"jokes\",\"muhammad\",\"expression\",\"booking\",\"dinner\",\"skype\",\"lots\",\"2018\",\"teen\",\"finish\",\"dslr\",\"mens\",\"proud\",\"entrepreneurs\",\"ukraine\",\"coins\",\"scenario\",\"transmission\",\"ignore\",\"pride\",\"contribute\",\"grand\",\"curve\",\"false\",\"operations\",\"breakup\",\"eventually\",\"acquire\",\"commission\",\"lies\",\"spoken\",\"pills\",\"masturbating\",\"jackson\",\"airbnb\",\"delivered\",\"disk\",\"radiation\",\"plays\",\"marvel\",\"particle\",\"breakfast\",\"smartphones\",\"relevant\",\"quota\",\"refund\",\"inches\",\"telugu\",\"angel\",\"eastern\",\"inflation\",\"predict\",\"annoying\",\"obc\",\"tough\",\"conduct\",\"originate\",\"notification\",\"backup\",\"harder\",\"richest\",\"pronounce\",\"sri\",\"wheel\",\"wasnt\",\"oldest\",\"sheet\",\"soda\",\"20s\",\"wipro\",\"awesome\",\"facial\",\"z\",\"noida\",\"confident\",\"fbi\",\"corrupt\",\"succeed\",\"reddit\",\"associate\",\"input\",\"guns\",\"rahul\",\"baking\",\"description\",\"musical\",\"apache\",\"nowadays\",\"fluid\",\"capacity\",\"loose\",\"freshman\",\"cfa\",\"optional\",\"theres\",\"ps4\",\"trends\",\"jon\",\"richard\",\"legit\",\"nodejs\",\"document\",\"sexually\",\"particles\",\"singer\",\"printing\",\"captain\",\"valuable\",\"several\",\"aiims\",\"boot\",\"sit\",\"zone\",\"billionaire\",\"floor\",\"gravitational\",\"export\",\"motivation\",\"golden\",\"transgender\",\"healthcare\",\"heaven\",\"81\",\"leaves\",\"listening\",\"overall\",\"press\",\"dishes\",\"railways\",\"warming\",\"enfield\",\"extent\",\"acceleration\",\"afford\",\"bonds\",\"border\",\"registration\",\"cast\",\"hope\",\"shipping\",\"karnataka\",\"specifically\",\"opportunity\",\"arabia\",\"pump\",\"pg\",\"carrier\",\"plot\",\"kingdom\",\"contract\",\"painful\",\"kindle\",\"boring\",\"essential\",\"disney\",\"charger\",\"seconds\",\"measured\",\"honda\",\"ba\",\"makeup\",\"\\u2013\",\"mini\",\"annual\",\"traits\",\"retrieve\",\"willing\",\"swift\",\"consume\",\"hindus\",\"psychopath\",\"tells\",\"solving\",\"conditions\",\"artists\",\"spotify\",\"bomb\",\"integrate\",\"stuck\",\"nikon\",\"gadgets\",\"womens\",\"judge\",\"republicans\",\"vacuum\",\"felt\",\"putin\",\"tennis\",\"concentration\",\"fans\",\"constantly\",\"matrix\",\"secrets\",\"spot\",\"soft\",\"stored\",\"neural\",\"submit\",\"scores\",\"ola\",\"wire\",\"gdp\",\"jaipur\",\"typically\",\"airline\",\"roles\",\"cheaper\",\"machines\",\"shift\",\"impress\",\"basics\",\"32\",\"conservative\",\"birds\",\"tend\",\"duty\",\"setup\",\"rude\",\"pink\",\"church\",\"mine\",\"jack\",\"sending\",\"cooking\",\"versus\",\"expert\",\"olympic\",\"biotechnology\",\"gurgaon\",\"worked\",\"codes\",\"successfully\",\"hardware\",\"faith\",\"pr\",\"television\",\"compound\",\"vit\",\"universal\",\"thank\",\"grammatically\",\"chicago\",\"ivy\",\"worried\",\"enterprise\",\"sodium\",\"railway\",\"remedies\",\"racism\",\"tracking\",\"psychological\",\"apartment\",\"magazine\",\"martial\",\"beauty\",\"waiting\",\"attacks\",\"horror\",\"fantasy\",\"ma\",\"select\",\"increasing\",\"metro\",\"opt\",\"map\",\"watched\",\"gear\",\"icloud\",\"james\",\"comedy\",\"lollipop\",\"ireland\",\"upcoming\",\"italian\",\"oven\",\"emotionally\",\"decided\",\"lakh\",\"grey\",\"kept\",\"produced\",\"mouth\",\"manual\",\"dhoni\",\"fill\",\"throat\",\"shoot\",\"liked\",\"innovative\",\"immediately\",\"lonely\",\"fighting\",\"max\",\"accidentally\",\"schedule\",\"orgasm\",\"rape\",\"ride\",\"muscles\",\"graduates\",\"taller\",\"boost\",\"lakhs\",\"microwave\",\"electrons\",\"upon\",\"attract\",\"ap\",\"abuse\",\"earths\",\"forever\",\"underrated\",\"facing\",\"terrorist\",\"alien\",\"celebrity\",\"frequently\",\"vpn\",\"wales\",\"powder\",\"superman\",\"mixed\",\"caught\",\"goods\",\"beginning\",\"starts\",\"atomic\",\"associated\",\"triangle\",\"parties\",\"banning\",\"k\",\"honey\",\"monitor\",\"graph\",\"leaders\",\"embedded\",\"juice\",\"split\",\"lady\",\"sequence\",\"911\",\"harassment\",\"nepal\",\"pop\",\"habit\",\"setting\",\"edge\",\"ww2\",\"gps\",\"federal\",\"charged\",\"lying\",\"empty\",\"whenever\",\"airplane\",\"jet\",\"destroy\",\"ies\",\"wouldnt\",\"quick\",\"decrease\",\"robert\",\"pradesh\",\"professors\",\"massage\",\"held\",\"spending\",\"markets\",\"objects\",\"chart\",\"mechanics\",\"silver\",\"usage\",\"basketball\",\"gen\",\"periods\",\"identity\",\"individuals\",\"css\",\"soul\",\"ipod\",\"chest\",\"understanding\",\"coast\",\"classic\",\"spain\",\"babies\",\"sd\",\"hostel\",\"shirt\",\"further\",\"logical\",\"franchise\",\"obtain\",\"foreigners\",\"fully\",\"region\",\"designed\",\"cheated\",\"beneficial\",\"shes\",\"accent\",\"couldnt\",\"queen\",\"sick\",\"blowing\",\"properly\",\"stronger\",\"returns\",\"condition\",\"musk\",\"ugly\",\"teams\",\"filter\",\"snow\",\"glasses\",\"employer\",\"solid\",\"followed\",\"embarrassing\",\"auto\",\"meeting\",\"belong\",\"strike\",\"internships\",\"bachelors\",\"administration\",\"temple\",\"wealth\",\"retail\",\"speakers\",\"electoral\",\"headphones\",\"streaming\",\"mirror\",\"diesel\",\"republic\",\"antivirus\",\"customers\",\"atm\",\"vagina\",\"cigarettes\",\"aptitude\",\"lewis\",\"saudi\",\"puppy\",\"recovery\",\"jimmy\",\"obsessed\",\"domestic\",\"pen\",\"batch\",\"de\",\"drawing\",\"ai\",\"medium\",\"simply\",\"photoshop\",\"sms\",\"turning\",\"nadu\",\"appropriate\",\"adobe\",\"substitute\",\"fruit\",\"recipes\",\"fighter\",\"saving\",\"greater\",\"cheat\",\"routine\",\"push\",\"sherlock\",\"arguments\",\"sony\",\"import\",\"soldiers\",\"charges\",\"emotions\",\"ibm\",\"un\",\"innovations\",\"itunes\",\"consultant\",\"iims\",\"relations\",\"psychopaths\",\"existing\",\"angle\",\"clash\",\"bus\",\"australian\",\"crazy\",\"pull\",\"theories\",\"savings\",\"suit\",\"contrast\",\"calculus\",\"pi\",\"credits\",\"bluetooth\",\"himself\",\"traveling\",\"criminal\",\"xiaomi\",\"zealand\",\"seats\",\"electron\",\"script\",\"11th\",\"lessons\",\"programmers\",\"december\",\"flag\",\"singh\",\"arabic\",\"sale\",\"nfl\",\"grammar\",\"killing\",\"virgin\",\"differently\",\"poem\",\"provided\",\"automation\",\"shy\",\"translation\",\"mathematical\",\"45\",\"celebrities\",\"spring\",\"downloading\",\"dr\",\"organization\",\"majority\",\"clients\",\"hd\",\"motivate\",\"thats\",\"thesis\",\"door\",\"weakest\",\"saw\",\"canon\",\"younger\",\"costs\",\"river\",\"rings\",\"factory\",\"decent\",\"clintons\",\"holes\",\"desert\",\"divorce\",\"sold\",\"cheese\",\"atom\",\"taught\",\"minute\",\"ocean\",\"crisis\",\"represent\",\"surgical\",\"parent\",\"brexit\",\"possibility\",\"longest\",\"edit\",\"scholarship\",\"motivated\",\"chocolate\",\"faced\",\"90\",\"parallel\",\"foot\",\"examination\",\"friendly\",\"kinds\",\"wins\",\"islamic\",\"degrees\",\"registered\",\"distribution\",\"junior\",\"gave\",\"sing\",\"articles\",\"hadoop\",\"saved\",\"hero\",\"ear\",\"asks\",\"improved\",\"teenager\",\"forms\",\"wash\",\"provides\",\"washington\",\"strikes\",\"binary\",\"syria\",\"indonesia\",\"powers\",\"highly\",\"heshe\",\"happiness\",\"director\",\"citizenship\",\"knew\",\"humanity\",\"translate\",\"nba\",\"permanently\",\"soccer\",\"todays\",\"challenges\",\"barack\",\"title\",\"latin\",\"fitness\",\"genuine\",\"investor\",\"dislike\",\"scenes\",\"hacker\",\"bangladesh\",\"ebay\",\"earning\",\"dell\",\"paytm\",\"spouse\",\"bored\",\"roman\",\"official\",\"dragon\",\"park\",\"except\",\"habits\",\"quote\",\"astrology\",\"congress\",\"automatically\",\"island\",\"religions\",\"christianity\",\"supreme\",\"owner\",\"hell\",\"wikipedia\",\"cancel\",\"industries\",\"actress\",\"client\",\"visual\",\"michael\",\"remain\",\"ability\",\"concrete\",\"conflict\",\"string\",\"linear\",\"supposed\",\"engines\",\"2012\",\"\\u2018\",\"lesser\",\"traditional\",\"episodes\",\"goals\",\"tata\",\"opening\",\"target\",\"weak\",\"anonymous\",\"bjp\",\"resource\",\"concepts\",\"ruby\",\"friendship\",\"nyc\",\"pretty\",\"implement\",\"painting\",\"ill\",\"agency\",\"reverse\",\"confused\",\"italy\",\"response\",\"yellow\",\"dance\",\"contain\",\"vice\",\"editing\",\"acting\",\"weirdest\",\"feels\",\"govt\",\"accounting\",\"rise\",\"wise\",\"leaving\",\"lens\",\"artist\",\"arvind\",\"pattern\",\"scared\",\"attention\",\"airlines\",\"sky\",\"malaysia\",\"port\",\"attempt\",\"element\",\"classical\",\"shown\",\"safety\",\"including\",\"tablet\",\"la\",\"terrorism\",\"commit\",\"maps\",\"african\",\"viewed\",\"calling\",\"6s\",\"agent\",\"output\",\"justice\",\"don\",\"addiction\",\"lock\",\"vegetarian\",\"britain\",\"percent\",\"meditation\",\"ibps\",\"monthly\",\"writers\",\"forward\",\"stuff\",\"mr\",\"ready\",\"forgot\",\"flying\",\"recommended\",\"fields\",\"blind\",\"l\",\"hinduism\",\"desktop\",\"host\",\"tattoo\",\"maintain\",\"boards\",\"helpful\",\"semester\",\"load\",\"tier\",\"agree\",\"factor\",\"elon\",\"freshers\",\"sql\",\"cases\",\"exact\",\"confidence\",\"behavior\",\"hacked\",\"quotes\",\"hydrogen\",\"pakistani\",\"masturbate\",\"divided\",\"skill\",\"fine\",\"falling\",\"chess\",\"charging\",\"pages\",\"vector\",\"supporters\",\"waste\",\"sanders\",\"affordable\",\"unlock\",\"techniques\",\"wine\",\"keyboard\",\"cm\",\"wireless\",\"lawyer\",\"egg\",\"cope\",\"mindblowing\",\"recipe\",\"corruption\",\"scored\",\"secure\",\"teaching\",\"opposite\",\"educational\",\"bernie\",\"y\",\"library\",\"models\",\"kid\",\"stack\",\"separate\",\"19\",\"extremely\",\"properties\",\"cable\",\"magic\",\"removed\",\"computing\",\"hospital\",\"beer\",\"christians\",\"twice\",\"kg\",\"consulting\",\"whose\",\"serious\",\"petrol\",\"travelling\",\"revolution\",\"custom\",\"structures\",\"guide\",\"celebrate\",\"lenovo\",\"turned\",\"ielts\",\"grades\",\"fuel\",\"relative\",\"oracle\",\"academy\",\"lack\",\"passed\",\"relation\",\"values\",\"movement\",\"strategies\",\"eu\",\"emotional\",\"legs\",\"pokemon\",\"3g\",\"iran\",\"mostly\",\"jewish\",\"offered\",\"log\",\"hasnt\",\"explanation\",\"signal\",\"stores\",\"syllabus\",\"bits\",\"yoga\",\"weapons\",\"gods\",\"10000\",\"delivery\",\"gb\",\"sum\",\"letters\",\"venture\",\"selection\",\"winning\",\"35\",\"comment\",\"consequences\",\"sport\",\"items\",\"seems\",\"ring\",\"jealous\",\"laptops\",\"criteria\",\"fresh\",\"reference\",\"bitcoin\",\"infinite\",\"perform\",\"brazil\",\"density\",\"plans\",\"hosting\",\"clothing\",\"hong\",\"dying\",\"heavy\",\"steve\",\"gone\",\"damage\",\"missing\",\"ethical\",\"republican\",\"contacts\",\"activity\",\"electronic\",\"qualities\",\"piano\",\"hisher\",\"repair\",\"posts\",\"disease\",\"winter\",\"ten\",\"publish\",\"paint\",\"physically\",\"executive\",\"deposit\",\"elements\",\"xbox\",\"ceo\",\"visitors\",\"discovered\",\"tickets\",\"literature\",\"primary\",\"naturally\",\"senior\",\"u\",\"hardest\",\"debate\",\"frequency\",\"vietnam\",\"cry\",\"assistant\",\"gifts\",\"practical\",\"funny\",\"valid\",\"liberal\",\"refer\",\"beat\",\"shape\",\"institutes\",\"msc\",\"internal\",\"located\",\"significant\",\"scientists\",\"g\",\"ship\",\"proper\",\"independence\",\"added\",\"hes\",\"catch\",\"urine\",\"effectively\",\"named\",\"responsible\",\"strength\",\"whos\",\"immigration\",\"vehicle\",\"tesla\",\"kong\",\"meth\",\"england\",\"huge\",\"pizza\",\"rejected\",\"george\",\"fan\",\"salt\",\"browser\",\"sat\",\"loved\",\"fees\",\"walking\",\"symbol\",\"equity\",\"ubuntu\",\"alternatives\",\"theme\",\"virus\",\"manufacturing\",\"cutoff\",\"pure\",\"22\",\"introvert\",\"unable\",\"greek\",\"rice\",\"gst\",\"happening\",\"centre\",\"kiss\",\"prison\",\"bigger\",\"font\",\"construction\",\"exercises\",\"keeps\",\"gmat\",\"offers\",\"cross\",\"nasa\",\"unit\",\"advertising\",\"cup\",\"fixed\",\"limited\",\"billion\",\"subjects\",\"arts\",\"worlds\",\"stupid\",\"breaking\",\"funding\",\"tank\",\"generate\",\"efficient\",\"exists\",\"atheist\",\"entrepreneur\",\"direction\",\"broken\",\"offline\",\"firms\",\"station\",\"magnetic\",\"include\",\"aliens\",\"tinder\",\"logo\",\"photography\",\"worse\",\"besides\",\"path\",\"somebody\",\"interviews\",\"persons\",\"figure\",\"placed\",\"nation\",\"knows\",\"unmarried\",\"hp\",\"profitable\",\"tricks\",\"boss\",\"reply\",\"scam\",\"circle\",\"processor\",\"debt\",\"growing\",\"royal\",\"fiction\",\"department\",\"mistake\",\"weird\",\"graphics\",\"external\",\"article\",\"volume\",\"scratch\",\"chain\",\"protect\",\"storage\",\"texas\",\"liquid\",\"circuit\",\"graphic\",\"tired\",\"weather\",\"oxygen\",\"velocity\",\"dad\",\"band\",\"teachers\",\"drugs\",\"complex\",\"studio\",\"accenture\",\"leader\",\"levels\",\"goal\",\"logic\",\"acne\",\"plastic\",\"motion\",\"button\",\"peoples\",\"vision\",\"gap\",\"dollar\",\"computers\",\"stomach\",\"sources\",\"constant\",\"draw\",\"dress\",\"calculated\",\"sort\",\"3rd\",\"club\",\"channels\",\"creating\",\"candidates\",\"kejriwal\",\"broke\",\"sentences\",\"format\",\"emails\",\"raw\",\"stanford\",\"completed\",\"documents\",\"pan\",\"showing\",\"enter\",\"unknown\",\"bought\",\"router\",\"claim\",\"six\",\"technologies\",\"\\u20b9\",\"flipkart\",\"infosys\",\"mutual\",\"angry\",\"iits\",\"affected\",\"prices\",\"shares\",\"naruto\",\"processing\",\"finding\",\"democratic\",\"evolution\",\"harmful\",\"dual\",\"virtual\",\"member\",\"wave\",\"actual\",\"extra\",\"radio\",\"citizens\",\"e\",\"hr\",\"previous\",\"stopped\",\"walk\",\"redmi\",\"speaker\",\"torrent\",\"smoke\",\"mistakes\",\"flash\",\"iron\",\"entire\",\"individual\",\"express\",\"flow\",\"mode\",\"aircraft\",\"section\",\"planets\",\"10th\",\"respond\",\"easier\",\"evil\",\"percentile\",\"seeing\",\"calories\",\"upgrade\",\"professor\",\"v\",\"launch\",\"staff\",\"till\",\"silicon\",\"entry\",\"constitution\",\"century\",\"notice\",\"ie\",\"atheists\",\"tests\",\"21\",\"became\",\"kerala\",\"truly\",\"count\",\"essay\",\"papers\",\"accurate\",\"colors\",\"respect\",\"ideal\",\"rock\",\"reliance\",\"peace\",\"masturbation\",\"audio\",\"random\",\"independent\",\"colour\",\"hotels\",\"presidency\",\"generation\",\"paypal\",\"shot\",\"central\",\"released\",\"occur\",\"display\",\"industrial\",\"particular\",\"risk\",\"eg\",\"belly\",\"pet\",\"similarities\",\"organic\",\"marijuana\",\"networks\",\"aspects\",\"flat\",\"d\",\"comments\",\"nose\",\"identify\",\"rbi\",\"improvement\",\"directly\",\"framework\",\"suggestions\",\"designing\",\"brands\",\"religious\",\"influence\",\"novels\",\"statistics\",\"historical\",\"ground\",\"commerce\",\"pregnancy\",\"romantic\",\"failure\",\"wearing\",\"john\",\"apart\",\"bay\",\"symptoms\",\"200\",\"couple\",\"60\",\"canadian\",\"lie\",\"print\",\"carry\",\"gender\",\"experienced\",\"pounds\",\"reservation\",\"either\",\"stage\",\"artificial\",\"fit\",\"blogs\",\"developing\",\"environment\",\"learned\",\"copy\",\"phase\",\"bond\",\"democracy\",\"cgpa\",\"operating\",\"surface\",\"officers\",\"h1b\",\"ip\",\"workout\",\"fee\",\"elected\",\"hands\",\"largest\",\"sad\",\"shouldnt\",\"seat\",\"sister\",\"developers\",\"despite\",\"scene\",\"po\",\"diploma\",\"request\",\"empire\",\"ratio\",\"considering\",\"academic\",\"tree\",\"register\",\"advantage\",\"eligible\",\"nit\",\"shop\",\"intel\",\"funniest\",\"alternative\",\"fail\",\"ads\",\"nature\",\"miss\",\"involved\",\"overrated\",\"attend\",\"freedom\",\"dna\",\"beginners\",\"raise\",\"dry\",\"failed\",\"legally\",\"batman\",\"upload\",\"carbon\",\"regret\",\"applied\",\"points\",\"investors\",\"pick\",\"equivalent\",\"connected\",\"christmas\",\"lyrics\",\"nations\",\"caused\",\"bsc\",\"1st\",\"action\",\"activities\",\"biology\",\"hide\",\"asia\",\"takes\",\"require\",\"alive\",\"mom\",\"cycle\",\"generally\",\"campaign\",\"fair\",\"wake\",\"bit\",\"rules\",\"olympics\",\"racist\",\"areas\",\"eggs\",\"feature\",\"sap\",\"taxes\",\"ad\",\"shall\",\"theyre\",\"species\",\"pilot\",\"firm\",\"fish\",\"define\",\"doctors\",\"piece\",\"itself\",\"bang\",\"solutions\",\"iim\",\"2013\",\"wanted\",\"length\",\"burn\",\"waves\",\"bar\",\"gives\",\"forces\",\"christian\",\"anybody\",\"relationships\",\"nice\",\"wedding\",\"various\",\"brother\",\"films\",\"cream\",\"suddenly\",\"philippines\",\"fashion\",\"truth\",\"gpa\",\"cgl\",\"tall\",\"goa\",\"hacking\",\"statement\",\"reset\",\"materials\",\"played\",\"match\",\"usb\",\"novel\",\"unusual\",\"knowing\",\"selected\",\"valley\",\"chrome\",\"couples\",\"becomes\",\"died\",\"cheating\",\"community\",\"groups\",\"category\",\"pursuing\",\"writer\",\"mexico\",\"anymore\",\"sugar\",\"climate\",\"brown\",\"players\",\"ii\",\"reviews\",\"took\",\"led\",\"connection\",\"begin\",\"html\",\"changing\",\"received\",\"plants\",\"debit\",\"record\",\"revenue\",\"mars\",\"strongest\",\"members\",\"formed\",\"union\",\"thought\",\"existence\",\"kashmir\",\"gandhi\",\"pdf\",\"banned\",\"0\",\"plane\",\"treated\",\"electricity\",\"scale\",\"basis\",\"moral\",\"images\",\"methods\",\"certification\",\"voltage\",\"style\",\"base\",\"excel\",\"amazing\",\"regarding\",\"result\",\"rates\",\"hold\",\"indias\",\"airport\",\"businesses\",\"feet\",\"built\",\"linkedin\",\"signs\",\"above\",\"networking\",\"r\",\"shopping\",\"looks\",\"went\",\"placements\",\"bed\",\"experiences\",\"daughter\",\"tourist\",\"employee\",\"caste\",\"wait\",\"direct\",\"especially\",\"feed\",\"continue\",\"expected\",\"algorithm\",\"depressed\",\"shoes\",\"soon\",\"supply\",\"stress\",\"24\",\"inr\",\"foods\",\"rent\",\"architecture\",\"ban\",\"entrance\",\"actors\",\"messenger\",\"unique\",\"kolkata\",\"funds\",\"rupee\",\"promote\",\"rupees\",\"jews\",\"23\",\"cook\",\"cultural\",\"accepted\",\"hear\",\"glass\",\"road\",\"joining\",\"measure\",\"havent\",\"metal\",\"resume\",\"afraid\",\"turkey\",\"meat\",\"goes\",\"installation\",\"netflix\",\"benefit\",\"demand\",\"release\",\"produce\",\"report\",\"cover\",\"changes\",\"double\",\"2nd\",\"reaction\",\"killed\",\"steel\",\"requirements\",\"france\",\"exchange\",\"ac\",\"quantum\",\"reliable\",\"box\",\"results\",\"lives\",\"treatment\",\"4g\",\"ece\",\"probability\",\"sleeping\",\"philosophy\",\"handle\",\"forget\",\"driver\",\"demonetization\",\"algorithms\",\"trade\",\"rule\",\"muscle\",\"calls\",\"tried\",\"mental\",\"sure\",\"quit\",\"navy\",\"achieve\",\"francisco\",\"location\",\"until\",\"sense\",\"anxiety\",\"wordpress\",\"focus\",\"fact\",\"production\",\"conversation\",\"motor\",\"five\",\"attracted\",\"hit\",\"analyst\",\"moto\",\"isis\",\"chicken\",\"sector\",\"permanent\",\"along\",\"king\",\"slow\",\"candidate\",\"minutes\",\"purchase\",\"gun\",\"selling\",\"usually\",\"\\u2026\",\"fly\",\"round\",\"panel\",\"error\",\"stocks\",\"api\",\"remember\",\"africa\",\"paying\",\"hitler\",\"3d\",\"regular\",\"losing\",\"mail\",\"yahoo\",\"cheapest\",\"older\",\"concept\",\"characters\",\"definition\",\"lines\",\"pm\",\"cloud\",\"cats\",\"russian\",\"ipad\",\"korean\",\"proof\",\"battle\",\"stars\",\"stream\",\"recent\",\"typical\",\"performance\",\"harvard\",\"restaurant\",\"origin\",\"listen\",\"smell\",\"decide\",\"serve\",\"undergraduate\",\"profit\",\"situation\",\"surgery\",\"asking\",\"plant\",\"link\",\"square\",\"completing\",\"four\",\"trust\",\"payment\",\"gym\",\"andor\",\"worklife\",\"guitar\",\"elections\",\"half\",\"investing\",\"scientist\",\"street\",\"needs\",\"native\",\"thoughts\",\"reality\",\"40\",\"medicine\",\"race\",\"choice\",\"longer\",\"came\",\"applying\",\"hiring\",\"west\",\"weed\",\"hacks\",\"step\",\"sea\",\"crime\",\"devices\",\"event\",\"citizen\",\"14\",\"17\",\"ticket\",\"fund\",\"equation\",\"suicide\",\"whom\",\"met\",\"almost\",\"designer\",\"local\",\"departments\",\"khan\",\"customer\",\"banking\",\"javascript\",\"trip\",\"issue\",\"react\",\"cannot\",\"dubai\",\"wall\",\"touch\",\"parts\",\"loves\",\"clothes\",\"straight\",\"sexual\",\"active\",\"inpatient\",\"dreams\",\"protein\",\"table\",\"exercise\",\"lord\",\"mtech\",\"creative\",\"ball\",\"speaking\",\"son\",\"receive\",\"dollars\",\"domain\",\"prospects\",\"hour\",\"graduation\",\"commercial\",\"themselves\",\"factors\",\"jesus\",\"programmer\",\"recommend\",\"replace\",\"chat\",\"placement\",\"episode\",\"fastest\",\"restaurants\",\"object\",\"drivers\",\"gaming\",\"mark\",\"taste\",\"seem\",\"perfect\",\"potential\",\"trumps\",\"appear\",\"rights\",\"equal\",\"rest\",\"package\",\"meant\",\"drop\",\"cool\",\"material\",\"potter\",\"events\",\"convince\",\"completely\",\"n\",\"zero\",\"significance\",\"lower\",\"feelings\",\"followers\",\"evidence\",\"certain\",\"later\",\"original\",\"bible\",\"disorder\",\"testing\",\"via\",\"stand\",\"actor\",\"characteristics\",\"cities\",\"reach\",\"ago\",\"mbbs\",\"speech\",\"electric\",\"approach\",\"scientific\",\"root\",\"analytics\",\"below\",\"grade\",\"mains\",\"topic\",\"fun\",\"ancient\",\"adult\",\"standard\",\"ice\",\"everyday\",\"population\",\"invented\",\"european\",\"intelligent\",\"11\",\"subject\",\"rehab\",\"background\",\"giving\",\"platform\",\"flight\",\"thrones\",\"maths\",\"dc\",\"teeth\",\"mit\",\"weeks\",\"east\",\"means\",\"programs\",\"beginner\",\"heat\",\"third\",\"tea\",\"range\",\"london\",\"maximum\",\"enjoy\",\"2000\",\"cells\",\"quickly\",\"here\",\"expensive\",\"phrase\",\"partner\",\"league\",\"anime\",\"latest\",\"specific\",\"whether\",\"functions\",\"os\",\"fire\",\"saying\",\"secret\",\"13\",\"planet\",\"hole\",\"super\",\"teacher\",\"strong\",\"accounts\",\"minister\",\"database\",\"economic\",\"channel\",\"estate\",\"ram\",\"switch\",\"asian\",\"smoking\",\"branch\",\"israel\",\"18\",\"features\",\"success\",\"lead\",\"total\",\"key\",\"master\",\"ok\",\"favourite\",\"psychology\",\"pok\\u00e9mon\",\"nothing\",\"clean\",\"25\",\"politics\",\"drinking\",\"sometimes\",\"recently\",\"korea\",\"sent\",\"poor\",\"hindu\",\"hollywood\",\"survive\",\"cure\",\"property\",\"return\",\"narendra\",\"budget\",\"sports\",\"limit\",\"arent\",\"boys\",\"driving\",\"whole\",\"cash\",\"smartphone\",\"php\",\"developed\",\"ssc\",\"hot\",\"attractive\",\"tool\",\"physical\",\"ecommerce\",\"sbi\",\"morning\",\"animal\",\"multiple\",\"loan\",\"acid\",\"fresher\",\"spanish\",\"moving\",\"decision\",\"county\",\"determined\",\"becoming\",\"seo\",\"summer\",\"manage\",\"server\",\"competitive\",\"milk\",\"importance\",\"banks\",\"cheap\",\"powerful\",\"issues\",\"penis\",\"according\",\"analysis\",\"bike\",\"position\",\"western\",\"advanced\",\"campus\",\"highest\",\"front\",\"court\",\"status\",\"gravity\",\"positions\",\"comes\",\"steps\",\"complete\",\"electronics\",\"won\",\"hurt\",\"certificate\",\"temperature\",\"player\",\"someones\",\"communication\",\"million\",\"talking\",\"preparing\",\"finance\",\"cancer\",\"9\",\"harry\",\"accept\",\"2014\",\"plus\",\"born\",\"tcs\",\"license\",\"bring\",\"teach\",\"practice\",\"trading\",\"m\",\"might\",\"opportunities\",\"global\",\"wish\",\"outside\",\"attack\",\"procedure\",\"needed\",\"update\",\"coffee\",\"provider\",\"rather\",\"16\",\"allow\",\"tamil\",\"mix\",\"connect\",\"room\",\"watching\",\"deep\",\"york\",\"image\",\"birth\",\"sign\",\"birthday\",\"playing\",\"wars\",\"grads\",\"hire\",\"phones\",\"cbse\",\"details\",\"clear\",\"cricket\",\"dangerous\",\"track\",\"corporate\",\"voice\",\"upsc\",\"content\",\"okay\",\"san\",\"heart\",\"far\",\"heard\",\"prove\",\"positive\",\"moment\",\"sales\",\"opinion\",\"engineers\",\"block\",\"diet\",\"coding\",\"core\",\"baby\",\"father\",\"little\",\"large\",\"blocked\",\"distance\",\"land\",\"simple\",\"husband\",\"told\",\"traffic\",\"prevent\",\"pictures\",\"planning\",\"fear\",\"classes\",\"towards\",\"technical\",\"building\",\"trying\",\"photo\",\"early\",\"uses\",\"sydney\",\"startups\",\"act\",\"id\",\"describe\",\"12th\",\"may\",\"formula\",\"gets\",\"present\",\"wont\",\"cut\",\"treat\",\"mathematics\",\"visiting\",\"eye\",\"policy\",\"close\",\"cse\",\"suitable\",\"version\",\"tools\",\"head\",\"minimum\",\"chennai\",\"easily\",\"method\",\"intelligence\",\"gre\",\"mother\",\"doctor\",\"macbook\",\"deleted\",\"gas\",\"suggest\",\"cards\",\"files\",\"loss\",\"art\",\"easiest\",\"late\",\"among\",\"together\",\"depression\",\"higher\",\"alone\",\"economics\",\"dead\",\"growth\",\"insurance\",\"gold\",\"necessary\",\"neet\",\"blog\",\"example\",\"memory\",\"crack\",\"consider\",\"works\",\"currency\",\"recruit\",\"pursue\",\"strategy\",\"young\",\"cs\",\"projects\",\"50\",\"manager\",\"abroad\",\"schools\",\"illegal\",\"inside\",\"stories\",\"hand\",\"t\",\"greatest\",\"personality\",\"galaxy\",\"device\",\"views\",\"user\",\"chemistry\",\"cars\",\"iq\",\"prefer\",\"picture\",\"nuclear\",\"middle\",\"applications\",\"gmail\",\"laws\",\"final\",\"capital\",\"kids\",\"society\",\"fake\",\"bill\",\"save\",\"though\",\"likely\",\"determine\",\"shows\",\"character\",\"snapchat\",\"youre\",\"eyes\",\"islam\",\"marry\",\"brand\",\"yet\",\"impact\",\"speak\",\"within\",\"rich\",\"resources\",\"net\",\"non\",\"pressure\",\"changed\",\"allowed\",\"obama\",\"cold\",\"running\",\"feeling\",\"jio\",\"football\",\"gift\",\"written\",\"buying\",\"mac\",\"spend\",\"prime\",\"blue\",\"train\",\"studies\",\"negative\",\"thinking\",\"solution\",\"sun\",\"least\",\"following\",\"install\",\"else\",\"muslims\",\"camera\",\"vote\",\"linux\",\"expect\",\"german\",\"recover\",\"starting\",\"crush\",\"coming\",\"muslim\",\"modern\",\"battery\",\"provide\",\"access\",\"presidential\",\"interest\",\"dating\",\"pro\",\"likes\",\"french\",\"singapore\",\"useful\",\"already\",\"professional\",\"percentage\",\"drink\",\"created\",\"board\",\"passport\",\"structure\",\"case\",\"height\",\"microsoft\",\"break\",\"screen\",\"names\",\"chance\",\"special\",\"30\",\"skin\",\"natural\",\"color\",\"interested\",\"amount\",\"pain\",\"healthy\",\"hack\",\"messages\",\"ias\",\"gay\",\"disadvantages\",\"pass\",\"moon\",\"systems\",\"hindi\",\"financial\",\"taken\",\"yes\",\"sim\",\"pregnant\",\"faster\",\"animals\",\"internship\",\"let\",\"photos\",\"balance\",\"sound\",\"due\",\"knowledge\",\"charge\",\"message\",\"officer\",\"solar\",\"military\",\"meet\",\"option\",\"reading\",\"across\",\"overcome\",\"everyone\",\"everything\",\"wife\",\"reduce\",\"chances\",\"samsung\",\"income\",\"bollywood\",\"season\",\"europe\",\"boy\",\"currently\",\"ex\",\"smart\",\"california\",\"engine\",\"paid\",\"army\",\"contact\",\"address\",\"wants\",\"ones\",\"gain\",\"reasons\",\"avoid\",\"please\",\"note\",\"known\",\"pune\",\"film\",\"national\",\"once\",\"users\",\"porn\",\"scope\",\"twitter\",\"drug\",\"rank\",\"japan\",\"fight\",\"transfer\",\"political\",\"green\",\"news\",\"self\",\"uber\",\"basic\",\"british\",\"religion\",\"hyderabad\",\"topics\",\"explain\",\"phd\",\"eating\",\"letter\",\"calculate\",\"ive\",\"tech\",\"personal\",\"japanese\",\"check\",\"hotel\",\"wifi\",\"beautiful\",\"difficult\",\"paper\",\"languages\",\"investment\",\"develop\",\"north\",\"electrical\",\"ios\",\"alcohol\",\"exactly\",\"profile\",\"past\",\"exams\",\"ca\",\"convert\",\"vs\",\"understand\",\"care\",\"dream\",\"try\",\"americans\",\"lost\",\"chemical\",\"source\",\"b\",\"admission\",\"easy\",\"must\",\"three\",\"effect\",\"view\",\"options\",\"page\",\"away\",\"red\",\"said\",\"line\",\"short\",\"happy\",\"security\",\"dark\",\"preparation\",\"second\",\"fat\",\"matter\",\"few\",\"since\",\"role\",\"pc\",\"office\",\"team\",\"delete\",\"cell\",\"election\",\"economy\",\"term\",\"dogs\",\"text\",\"female\",\"effective\",\"brain\",\"share\",\"digital\",\"btech\",\"russia\",\"\\u201c\",\"party\",\"numbers\",\"20\",\"store\",\"male\",\"mass\",\"turn\",\"left\",\"married\",\"rs\",\"taking\",\"those\",\"password\",\"follow\",\"advice\",\"isnt\",\"15\",\"types\",\"network\",\"\\u201d\",\"week\",\"purpose\",\"related\",\"fix\",\"started\",\"courses\",\"masters\",\"grow\",\"8\",\"fast\",\"leave\",\"100\",\"often\",\"found\",\"pros\",\"marriage\",\"cons\",\"quality\",\"words\",\"kill\",\"price\",\"near\",\"modi\",\"enough\",\"search\",\"python\",\"x\",\"blood\",\"math\",\"yourself\",\"drive\",\"size\",\"star\",\"graduate\",\"majors\",\"500\",\"model\",\"studying\",\"general\",\"oil\",\"colleges\",\"area\",\"developer\",\"germany\",\"industry\",\"full\",\"training\",\"says\",\"period\",\"videos\",\"universe\",\"fall\",\"daily\",\"information\",\"foreign\",\"credit\",\"force\",\"12\",\"youve\",\"south\",\"offer\",\"set\",\"add\",\"send\",\"australia\",\"center\",\"1000\",\"famous\",\"2015\",\"lot\",\"function\",\"tax\",\"correct\",\"solve\",\"advantages\",\"coaching\",\"institute\",\"effects\",\"guys\",\"again\",\"group\",\"hours\",\"side\",\"sentence\",\"low\",\"similar\",\"plan\",\"children\",\"answers\",\"talk\",\"marks\",\"ideas\",\"theory\",\"death\",\"compared\",\"night\",\"remove\",\"dog\",\"anything\",\"single\",\"successful\",\"gate\",\"indians\",\"put\",\"problems\",\"move\",\"writing\",\"point\",\"invest\",\"asked\",\"biggest\",\"others\",\"stock\",\"notes\",\"story\",\"machine\",\"private\",\"sell\",\"seen\",\"required\",\"field\",\"file\",\"rate\",\"humans\",\"application\",\"face\",\"sites\",\"mind\",\"facts\",\"mumbai\",\"post\",\"stay\",\"child\",\"terms\",\"products\",\"control\",\"legal\",\"police\",\"didnt\",\"level\",\"worst\",\"hate\",\"visit\",\"called\",\"amazon\",\"causes\",\"health\",\"form\",\"physics\",\"iit\",\"skills\",\"times\",\"medical\",\"based\",\"list\",\"websites\",\"die\",\"part\",\"less\",\"benefits\",\"apple\",\"instead\",\"these\",\"boyfriend\",\"sleep\",\"canada\",\"reason\",\"education\",\"cause\",\"jee\",\"value\",\"today\",\"media\",\"public\",\"happened\",\"product\",\"research\",\"main\",\"behind\",\"international\",\"project\",\"uk\",\"differ\",\"7\",\"places\",\"wear\",\"order\",\"date\",\"etc\",\"small\",\"songs\",\"apps\",\"email\",\"given\",\"wrong\",\"site\",\"normal\",\"culture\",\"also\",\"civil\",\"city\",\"available\",\"house\",\"exist\",\"startup\",\"services\",\"ms\",\"both\",\"down\",\"2017\",\"run\",\"cat\",\"well\",\"space\",\"join\",\"deal\",\"games\",\"visa\",\"rid\",\"air\",\"speed\",\"popular\",\"problem\",\"support\",\"current\",\"pakistan\",\"choose\",\"build\",\"idea\",\"america\",\"whatsapp\",\"affect\",\"law\",\"technology\",\"call\",\"6\",\"universities\",\"family\",\"marketing\",\"major\",\"actually\",\"favorite\",\"light\",\"bangalore\",\"woman\",\"because\",\"type\",\"program\",\"looking\",\"living\",\"open\",\"believe\",\"month\",\"able\",\"management\",\"travel\",\"degree\",\"show\",\"interesting\",\"score\",\"months\",\"series\",\"chinese\",\"development\",\"end\",\"code\",\"design\",\"per\",\"employees\",\"review\",\"clinton\",\"common\",\"kind\",\"internet\",\"song\",\"download\",\"course\",\"parents\",\"jobs\",\"such\",\"increase\",\"java\",\"god\",\"another\",\"united\",\"girlfriend\",\"mechanical\",\"always\",\"next\",\"never\",\"around\",\"tips\",\"mba\",\"myself\",\"hillary\",\"apply\",\"answer\",\"something\",\"considered\",\"making\",\"differences\",\"market\",\"compare\",\"great\",\"keep\",\"test\",\"s\",\"win\",\"against\",\"states\",\"earn\",\"youtube\",\"worth\",\"delhi\",\"energy\",\"laptop\",\"american\",\"lose\",\"each\",\"hard\",\"makes\",\"age\",\"ask\",\"safe\",\"body\",\"power\",\"salary\",\"4\",\"watch\",\"white\",\"windows\",\"instagram\",\"history\",\"pay\",\"every\",\"last\",\"create\",\"relationship\",\"music\",\"too\",\"meaning\",\"state\",\"average\",\"earth\",\"got\",\"process\",\"class\",\"tv\",\"eat\",\"done\",\"happens\",\"days\",\"big\",\"off\",\"improve\",\"future\",\"place\",\"man\",\"human\",\"government\",\"play\",\"countries\",\"food\",\"service\",\"students\",\"weight\",\"game\",\"engineer\",\"write\",\"very\",\"interview\",\"web\",\"tell\",\"social\",\"girls\",\"video\",\"look\",\"having\",\"guy\",\"home\",\"hair\",\"usa\",\"doesnt\",\"word\",\"bank\",\"friend\",\"true\",\"experience\",\"career\",\"president\",\"question\",\"own\",\"china\",\"come\",\"under\",\"working\",\"him\",\"doing\",\"donald\",\"friends\",\"right\",\"5\",\"cost\",\"mobile\",\"even\",\"movies\",\"then\",\"c\",\"\\u2019\",\"exam\",\"men\",\"learning\",\"card\",\"war\",\"read\",\"programming\",\"black\",\"anyone\",\"high\",\"10\",\"companies\",\"car\",\"getting\",\"give\",\"important\",\"questions\",\"cant\",\"iphone\",\"website\",\"top\",\"water\",\"prepare\",\"during\",\"real\",\"say\",\"system\",\"name\",\"through\",\"two\",\"1\",\"our\",\"study\",\"3\",\"university\",\"made\",\"back\",\"happen\",\"stop\",\"student\",\"sex\",\"bad\",\"language\",\"going\",\"same\",\"before\",\"software\",\"school\",\"live\",\"country\",\"android\",\"science\",\"help\",\"she\",\"see\",\"thing\",\"women\",\"over\",\"data\",\"examples\",\"computer\",\"had\",\"ways\",\"change\",\"while\",\"book\",\"english\",\"account\",\"still\",\"movie\",\"books\",\"2016\",\"facebook\",\"free\",\"number\",\"college\",\"app\",\"2\",\"just\",\"now\",\"no\",\"trump\",\"company\",\"only\",\"old\",\"been\",\"google\",\"phone\",\"long\",\"different\",\"girl\",\"his\",\"her\",\"years\",\"really\",\"them\",\"using\",\"business\",\"need\",\"being\",\"buy\",\"day\",\"person\",\"things\",\"possible\",\"could\",\"were\",\"its\",\"love\",\"engineering\",\"im\",\"used\",\"online\",\"go\",\"year\",\"he\",\"into\",\"feel\",\"dont\",\"first\",\"up\"]]]}}},\"view\":{\"type\":\"object\",\"name\":\"CDSView\",\"id\":\"p1045\",\"attributes\":{\"filter\":{\"type\":\"object\",\"name\":\"AllIndices\",\"id\":\"p1046\"}}},\"glyph\":{\"type\":\"object\",\"name\":\"Scatter\",\"id\":\"p1041\",\"attributes\":{\"x\":{\"type\":\"field\",\"field\":\"x\"},\"y\":{\"type\":\"field\",\"field\":\"y\"},\"size\":{\"type\":\"value\",\"value\":10},\"line_color\":{\"type\":\"field\",\"field\":\"color\"},\"line_alpha\":{\"type\":\"value\",\"value\":0.25},\"fill_color\":{\"type\":\"field\",\"field\":\"color\"},\"fill_alpha\":{\"type\":\"value\",\"value\":0.25},\"hatch_color\":{\"type\":\"field\",\"field\":\"color\"},\"hatch_alpha\":{\"type\":\"value\",\"value\":0.25}}},\"nonselection_glyph\":{\"type\":\"object\",\"name\":\"Scatter\",\"id\":\"p1042\",\"attributes\":{\"x\":{\"type\":\"field\",\"field\":\"x\"},\"y\":{\"type\":\"field\",\"field\":\"y\"},\"size\":{\"type\":\"value\",\"value\":10},\"line_color\":{\"type\":\"field\",\"field\":\"color\"},\"line_alpha\":{\"type\":\"value\",\"value\":0.1},\"fill_color\":{\"type\":\"field\",\"field\":\"color\"},\"fill_alpha\":{\"type\":\"value\",\"value\":0.1},\"hatch_color\":{\"type\":\"field\",\"field\":\"color\"},\"hatch_alpha\":{\"type\":\"value\",\"value\":0.1}}},\"muted_glyph\":{\"type\":\"object\",\"name\":\"Scatter\",\"id\":\"p1043\",\"attributes\":{\"x\":{\"type\":\"field\",\"field\":\"x\"},\"y\":{\"type\":\"field\",\"field\":\"y\"},\"size\":{\"type\":\"value\",\"value\":10},\"line_color\":{\"type\":\"field\",\"field\":\"color\"},\"line_alpha\":{\"type\":\"value\",\"value\":0.2},\"fill_color\":{\"type\":\"field\",\"field\":\"color\"},\"fill_alpha\":{\"type\":\"value\",\"value\":0.2},\"hatch_color\":{\"type\":\"field\",\"field\":\"color\"},\"hatch_alpha\":{\"type\":\"value\",\"value\":0.2}}}}}],\"toolbar\":{\"type\":\"object\",\"name\":\"Toolbar\",\"id\":\"p1012\",\"attributes\":{\"tools\":[{\"type\":\"object\",\"name\":\"PanTool\",\"id\":\"p1025\"},{\"type\":\"object\",\"name\":\"WheelZoomTool\",\"id\":\"p1026\",\"attributes\":{\"renderers\":\"auto\"}},{\"type\":\"object\",\"name\":\"BoxZoomTool\",\"id\":\"p1027\",\"attributes\":{\"overlay\":{\"type\":\"object\",\"name\":\"BoxAnnotation\",\"id\":\"p1028\",\"attributes\":{\"syncable\":false,\"line_color\":\"black\",\"line_alpha\":1.0,\"line_width\":2,\"line_dash\":[4,4],\"fill_color\":\"lightgrey\",\"fill_alpha\":0.5,\"level\":\"overlay\",\"visible\":false,\"left\":{\"type\":\"number\",\"value\":\"nan\"},\"right\":{\"type\":\"number\",\"value\":\"nan\"},\"top\":{\"type\":\"number\",\"value\":\"nan\"},\"bottom\":{\"type\":\"number\",\"value\":\"nan\"},\"left_units\":\"canvas\",\"right_units\":\"canvas\",\"top_units\":\"canvas\",\"bottom_units\":\"canvas\",\"handles\":{\"type\":\"object\",\"name\":\"BoxInteractionHandles\",\"id\":\"p1034\",\"attributes\":{\"all\":{\"type\":\"object\",\"name\":\"AreaVisuals\",\"id\":\"p1033\",\"attributes\":{\"fill_color\":\"white\",\"hover_fill_color\":\"lightgray\"}}}}}}}},{\"type\":\"object\",\"name\":\"SaveTool\",\"id\":\"p1035\"},{\"type\":\"object\",\"name\":\"ResetTool\",\"id\":\"p1036\"},{\"type\":\"object\",\"name\":\"HelpTool\",\"id\":\"p1037\"},{\"type\":\"object\",\"name\":\"HoverTool\",\"id\":\"p1047\",\"attributes\":{\"renderers\":\"auto\",\"tooltips\":[[\"token\",\"@token\"]]}}],\"active_scroll\":{\"id\":\"p1026\"}}},\"left\":[{\"type\":\"object\",\"name\":\"LinearAxis\",\"id\":\"p1020\",\"attributes\":{\"ticker\":{\"type\":\"object\",\"name\":\"BasicTicker\",\"id\":\"p1021\",\"attributes\":{\"mantissas\":[1,2,5]}},\"formatter\":{\"type\":\"object\",\"name\":\"BasicTickFormatter\",\"id\":\"p1022\"},\"major_label_policy\":{\"type\":\"object\",\"name\":\"AllLabels\",\"id\":\"p1023\"}}}],\"below\":[{\"type\":\"object\",\"name\":\"LinearAxis\",\"id\":\"p1015\",\"attributes\":{\"ticker\":{\"type\":\"object\",\"name\":\"BasicTicker\",\"id\":\"p1016\",\"attributes\":{\"mantissas\":[1,2,5]}},\"formatter\":{\"type\":\"object\",\"name\":\"BasicTickFormatter\",\"id\":\"p1017\"},\"major_label_policy\":{\"type\":\"object\",\"name\":\"AllLabels\",\"id\":\"p1018\"}}}],\"center\":[{\"type\":\"object\",\"name\":\"Grid\",\"id\":\"p1019\",\"attributes\":{\"axis\":{\"id\":\"p1015\"}}},{\"type\":\"object\",\"name\":\"Grid\",\"id\":\"p1024\",\"attributes\":{\"dimension\":1,\"axis\":{\"id\":\"p1020\"}}}]}}]}};\n",
              "  const render_items = [{\"docid\":\"ac293426-b67d-4f8f-b6b6-491c5f807269\",\"roots\":{\"p1004\":\"ea4f98ac-33ae-4c0a-b1e4-341864ba9743\"},\"root_ids\":[\"p1004\"]}];\n",
              "  void root.Bokeh.embed.embed_items_notebook(docs_json, render_items);\n",
              "  }\n",
              "  if (root.Bokeh !== undefined) {\n",
              "    embed_document(root);\n",
              "  } else {\n",
              "    let attempts = 0;\n",
              "    const timer = setInterval(function(root) {\n",
              "      if (root.Bokeh !== undefined) {\n",
              "        clearInterval(timer);\n",
              "        embed_document(root);\n",
              "      } else {\n",
              "        attempts++;\n",
              "        if (attempts > 100) {\n",
              "          clearInterval(timer);\n",
              "          console.log(\"Bokeh: ERROR: Unable to run BokehJS code because BokehJS library is missing\");\n",
              "        }\n",
              "      }\n",
              "    }, 10, root)\n",
              "  }\n",
              "})(window);"
            ],
            "application/vnd.bokehjs_exec.v0+json": ""
          },
          "metadata": {
            "application/vnd.bokehjs_exec.v0+json": {
              "id": "p1004"
            }
          }
        },
        {
          "output_type": "execute_result",
          "data": {
            "text/plain": [
              "figure(id='p1004', ...)"
            ],
            "text/html": [
              "<div style=\"display: table;\"><div style=\"display: table-row;\"><div style=\"display: table-cell;\"><b title=\"bokeh.plotting._figure.figure\">figure</b>(</div><div style=\"display: table-cell;\">id&nbsp;=&nbsp;'p1004', <span id=\"p1051\" style=\"cursor: pointer;\">&hellip;)</span></div></div><div class=\"p1050\" style=\"display: none;\"><div style=\"display: table-cell;\"></div><div style=\"display: table-cell;\">above&nbsp;=&nbsp;[],</div></div><div class=\"p1050\" style=\"display: none;\"><div style=\"display: table-cell;\"></div><div style=\"display: table-cell;\">align&nbsp;=&nbsp;'auto',</div></div><div class=\"p1050\" style=\"display: none;\"><div style=\"display: table-cell;\"></div><div style=\"display: table-cell;\">aspect_ratio&nbsp;=&nbsp;None,</div></div><div class=\"p1050\" style=\"display: none;\"><div style=\"display: table-cell;\"></div><div style=\"display: table-cell;\">aspect_scale&nbsp;=&nbsp;1,</div></div><div class=\"p1050\" style=\"display: none;\"><div style=\"display: table-cell;\"></div><div style=\"display: table-cell;\">attribution&nbsp;=&nbsp;[],</div></div><div class=\"p1050\" style=\"display: none;\"><div style=\"display: table-cell;\"></div><div style=\"display: table-cell;\">background_fill_alpha&nbsp;=&nbsp;1.0,</div></div><div class=\"p1050\" style=\"display: none;\"><div style=\"display: table-cell;\"></div><div style=\"display: table-cell;\">background_fill_color&nbsp;=&nbsp;'#ffffff',</div></div><div class=\"p1050\" style=\"display: none;\"><div style=\"display: table-cell;\"></div><div style=\"display: table-cell;\">below&nbsp;=&nbsp;[LinearAxis(id='p1015', ...)],</div></div><div class=\"p1050\" style=\"display: none;\"><div style=\"display: table-cell;\"></div><div style=\"display: table-cell;\">border_fill_alpha&nbsp;=&nbsp;1.0,</div></div><div class=\"p1050\" style=\"display: none;\"><div style=\"display: table-cell;\"></div><div style=\"display: table-cell;\">border_fill_color&nbsp;=&nbsp;'#ffffff',</div></div><div class=\"p1050\" style=\"display: none;\"><div style=\"display: table-cell;\"></div><div style=\"display: table-cell;\">center&nbsp;=&nbsp;[Grid(id='p1019', ...), Grid(id='p1024', ...)],</div></div><div class=\"p1050\" style=\"display: none;\"><div style=\"display: table-cell;\"></div><div style=\"display: table-cell;\">context_menu&nbsp;=&nbsp;None,</div></div><div class=\"p1050\" style=\"display: none;\"><div style=\"display: table-cell;\"></div><div style=\"display: table-cell;\">css_classes&nbsp;=&nbsp;[],</div></div><div class=\"p1050\" style=\"display: none;\"><div style=\"display: table-cell;\"></div><div style=\"display: table-cell;\">css_variables&nbsp;=&nbsp;{},</div></div><div class=\"p1050\" style=\"display: none;\"><div style=\"display: table-cell;\"></div><div style=\"display: table-cell;\">disabled&nbsp;=&nbsp;False,</div></div><div class=\"p1050\" style=\"display: none;\"><div style=\"display: table-cell;\"></div><div style=\"display: table-cell;\">elements&nbsp;=&nbsp;[],</div></div><div class=\"p1050\" style=\"display: none;\"><div style=\"display: table-cell;\"></div><div style=\"display: table-cell;\">extra_x_ranges&nbsp;=&nbsp;{},</div></div><div class=\"p1050\" style=\"display: none;\"><div style=\"display: table-cell;\"></div><div style=\"display: table-cell;\">extra_x_scales&nbsp;=&nbsp;{},</div></div><div class=\"p1050\" style=\"display: none;\"><div style=\"display: table-cell;\"></div><div style=\"display: table-cell;\">extra_y_ranges&nbsp;=&nbsp;{},</div></div><div class=\"p1050\" style=\"display: none;\"><div style=\"display: table-cell;\"></div><div style=\"display: table-cell;\">extra_y_scales&nbsp;=&nbsp;{},</div></div><div class=\"p1050\" style=\"display: none;\"><div style=\"display: table-cell;\"></div><div style=\"display: table-cell;\">flow_mode&nbsp;=&nbsp;'block',</div></div><div class=\"p1050\" style=\"display: none;\"><div style=\"display: table-cell;\"></div><div style=\"display: table-cell;\">frame_align&nbsp;=&nbsp;True,</div></div><div class=\"p1050\" style=\"display: none;\"><div style=\"display: table-cell;\"></div><div style=\"display: table-cell;\">frame_height&nbsp;=&nbsp;None,</div></div><div class=\"p1050\" style=\"display: none;\"><div style=\"display: table-cell;\"></div><div style=\"display: table-cell;\">frame_width&nbsp;=&nbsp;None,</div></div><div class=\"p1050\" style=\"display: none;\"><div style=\"display: table-cell;\"></div><div style=\"display: table-cell;\">height&nbsp;=&nbsp;400,</div></div><div class=\"p1050\" style=\"display: none;\"><div style=\"display: table-cell;\"></div><div style=\"display: table-cell;\">height_policy&nbsp;=&nbsp;'auto',</div></div><div class=\"p1050\" style=\"display: none;\"><div style=\"display: table-cell;\"></div><div style=\"display: table-cell;\">hidpi&nbsp;=&nbsp;True,</div></div><div class=\"p1050\" style=\"display: none;\"><div style=\"display: table-cell;\"></div><div style=\"display: table-cell;\">hold_render&nbsp;=&nbsp;False,</div></div><div class=\"p1050\" style=\"display: none;\"><div style=\"display: table-cell;\"></div><div style=\"display: table-cell;\">js_event_callbacks&nbsp;=&nbsp;{},</div></div><div class=\"p1050\" style=\"display: none;\"><div style=\"display: table-cell;\"></div><div style=\"display: table-cell;\">js_property_callbacks&nbsp;=&nbsp;{},</div></div><div class=\"p1050\" style=\"display: none;\"><div style=\"display: table-cell;\"></div><div style=\"display: table-cell;\">left&nbsp;=&nbsp;[LinearAxis(id='p1020', ...)],</div></div><div class=\"p1050\" style=\"display: none;\"><div style=\"display: table-cell;\"></div><div style=\"display: table-cell;\">lod_factor&nbsp;=&nbsp;10,</div></div><div class=\"p1050\" style=\"display: none;\"><div style=\"display: table-cell;\"></div><div style=\"display: table-cell;\">lod_interval&nbsp;=&nbsp;300,</div></div><div class=\"p1050\" style=\"display: none;\"><div style=\"display: table-cell;\"></div><div style=\"display: table-cell;\">lod_threshold&nbsp;=&nbsp;2000,</div></div><div class=\"p1050\" style=\"display: none;\"><div style=\"display: table-cell;\"></div><div style=\"display: table-cell;\">lod_timeout&nbsp;=&nbsp;500,</div></div><div class=\"p1050\" style=\"display: none;\"><div style=\"display: table-cell;\"></div><div style=\"display: table-cell;\">margin&nbsp;=&nbsp;None,</div></div><div class=\"p1050\" style=\"display: none;\"><div style=\"display: table-cell;\"></div><div style=\"display: table-cell;\">match_aspect&nbsp;=&nbsp;False,</div></div><div class=\"p1050\" style=\"display: none;\"><div style=\"display: table-cell;\"></div><div style=\"display: table-cell;\">max_height&nbsp;=&nbsp;None,</div></div><div class=\"p1050\" style=\"display: none;\"><div style=\"display: table-cell;\"></div><div style=\"display: table-cell;\">max_width&nbsp;=&nbsp;None,</div></div><div class=\"p1050\" style=\"display: none;\"><div style=\"display: table-cell;\"></div><div style=\"display: table-cell;\">min_border&nbsp;=&nbsp;5,</div></div><div class=\"p1050\" style=\"display: none;\"><div style=\"display: table-cell;\"></div><div style=\"display: table-cell;\">min_border_bottom&nbsp;=&nbsp;None,</div></div><div class=\"p1050\" style=\"display: none;\"><div style=\"display: table-cell;\"></div><div style=\"display: table-cell;\">min_border_left&nbsp;=&nbsp;None,</div></div><div class=\"p1050\" style=\"display: none;\"><div style=\"display: table-cell;\"></div><div style=\"display: table-cell;\">min_border_right&nbsp;=&nbsp;None,</div></div><div class=\"p1050\" style=\"display: none;\"><div style=\"display: table-cell;\"></div><div style=\"display: table-cell;\">min_border_top&nbsp;=&nbsp;None,</div></div><div class=\"p1050\" style=\"display: none;\"><div style=\"display: table-cell;\"></div><div style=\"display: table-cell;\">min_height&nbsp;=&nbsp;None,</div></div><div class=\"p1050\" style=\"display: none;\"><div style=\"display: table-cell;\"></div><div style=\"display: table-cell;\">min_width&nbsp;=&nbsp;None,</div></div><div class=\"p1050\" style=\"display: none;\"><div style=\"display: table-cell;\"></div><div style=\"display: table-cell;\">name&nbsp;=&nbsp;None,</div></div><div class=\"p1050\" style=\"display: none;\"><div style=\"display: table-cell;\"></div><div style=\"display: table-cell;\">outline_line_alpha&nbsp;=&nbsp;1.0,</div></div><div class=\"p1050\" style=\"display: none;\"><div style=\"display: table-cell;\"></div><div style=\"display: table-cell;\">outline_line_cap&nbsp;=&nbsp;'butt',</div></div><div class=\"p1050\" style=\"display: none;\"><div style=\"display: table-cell;\"></div><div style=\"display: table-cell;\">outline_line_color&nbsp;=&nbsp;'#e5e5e5',</div></div><div class=\"p1050\" style=\"display: none;\"><div style=\"display: table-cell;\"></div><div style=\"display: table-cell;\">outline_line_dash&nbsp;=&nbsp;[],</div></div><div class=\"p1050\" style=\"display: none;\"><div style=\"display: table-cell;\"></div><div style=\"display: table-cell;\">outline_line_dash_offset&nbsp;=&nbsp;0,</div></div><div class=\"p1050\" style=\"display: none;\"><div style=\"display: table-cell;\"></div><div style=\"display: table-cell;\">outline_line_join&nbsp;=&nbsp;'bevel',</div></div><div class=\"p1050\" style=\"display: none;\"><div style=\"display: table-cell;\"></div><div style=\"display: table-cell;\">outline_line_width&nbsp;=&nbsp;1,</div></div><div class=\"p1050\" style=\"display: none;\"><div style=\"display: table-cell;\"></div><div style=\"display: table-cell;\">output_backend&nbsp;=&nbsp;'canvas',</div></div><div class=\"p1050\" style=\"display: none;\"><div style=\"display: table-cell;\"></div><div style=\"display: table-cell;\">renderers&nbsp;=&nbsp;[GlyphRenderer(id='p1044', ...)],</div></div><div class=\"p1050\" style=\"display: none;\"><div style=\"display: table-cell;\"></div><div style=\"display: table-cell;\">reset_policy&nbsp;=&nbsp;'standard',</div></div><div class=\"p1050\" style=\"display: none;\"><div style=\"display: table-cell;\"></div><div style=\"display: table-cell;\">resizable&nbsp;=&nbsp;False,</div></div><div class=\"p1050\" style=\"display: none;\"><div style=\"display: table-cell;\"></div><div style=\"display: table-cell;\">right&nbsp;=&nbsp;[],</div></div><div class=\"p1050\" style=\"display: none;\"><div style=\"display: table-cell;\"></div><div style=\"display: table-cell;\">sizing_mode&nbsp;=&nbsp;None,</div></div><div class=\"p1050\" style=\"display: none;\"><div style=\"display: table-cell;\"></div><div style=\"display: table-cell;\">styles&nbsp;=&nbsp;{},</div></div><div class=\"p1050\" style=\"display: none;\"><div style=\"display: table-cell;\"></div><div style=\"display: table-cell;\">stylesheets&nbsp;=&nbsp;[],</div></div><div class=\"p1050\" style=\"display: none;\"><div style=\"display: table-cell;\"></div><div style=\"display: table-cell;\">subscribed_events&nbsp;=&nbsp;PropertyValueSet(),</div></div><div class=\"p1050\" style=\"display: none;\"><div style=\"display: table-cell;\"></div><div style=\"display: table-cell;\">syncable&nbsp;=&nbsp;True,</div></div><div class=\"p1050\" style=\"display: none;\"><div style=\"display: table-cell;\"></div><div style=\"display: table-cell;\">tags&nbsp;=&nbsp;[],</div></div><div class=\"p1050\" style=\"display: none;\"><div style=\"display: table-cell;\"></div><div style=\"display: table-cell;\">title&nbsp;=&nbsp;Title(id='p1011', ...),</div></div><div class=\"p1050\" style=\"display: none;\"><div style=\"display: table-cell;\"></div><div style=\"display: table-cell;\">title_location&nbsp;=&nbsp;'above',</div></div><div class=\"p1050\" style=\"display: none;\"><div style=\"display: table-cell;\"></div><div style=\"display: table-cell;\">toolbar&nbsp;=&nbsp;Toolbar(id='p1012', ...),</div></div><div class=\"p1050\" style=\"display: none;\"><div style=\"display: table-cell;\"></div><div style=\"display: table-cell;\">toolbar_inner&nbsp;=&nbsp;False,</div></div><div class=\"p1050\" style=\"display: none;\"><div style=\"display: table-cell;\"></div><div style=\"display: table-cell;\">toolbar_location&nbsp;=&nbsp;'right',</div></div><div class=\"p1050\" style=\"display: none;\"><div style=\"display: table-cell;\"></div><div style=\"display: table-cell;\">toolbar_sticky&nbsp;=&nbsp;True,</div></div><div class=\"p1050\" style=\"display: none;\"><div style=\"display: table-cell;\"></div><div style=\"display: table-cell;\">visible&nbsp;=&nbsp;True,</div></div><div class=\"p1050\" style=\"display: none;\"><div style=\"display: table-cell;\"></div><div style=\"display: table-cell;\">width&nbsp;=&nbsp;600,</div></div><div class=\"p1050\" style=\"display: none;\"><div style=\"display: table-cell;\"></div><div style=\"display: table-cell;\">width_policy&nbsp;=&nbsp;'auto',</div></div><div class=\"p1050\" style=\"display: none;\"><div style=\"display: table-cell;\"></div><div style=\"display: table-cell;\">x_range&nbsp;=&nbsp;DataRange1d(id='p1005', ...),</div></div><div class=\"p1050\" style=\"display: none;\"><div style=\"display: table-cell;\"></div><div style=\"display: table-cell;\">x_scale&nbsp;=&nbsp;LinearScale(id='p1013', ...),</div></div><div class=\"p1050\" style=\"display: none;\"><div style=\"display: table-cell;\"></div><div style=\"display: table-cell;\">y_range&nbsp;=&nbsp;DataRange1d(id='p1006', ...),</div></div><div class=\"p1050\" style=\"display: none;\"><div style=\"display: table-cell;\"></div><div style=\"display: table-cell;\">y_scale&nbsp;=&nbsp;LinearScale(id='p1014', ...))</div></div></div>\n",
              "<script>\n",
              "(function() {\n",
              "  let expanded = false;\n",
              "  const ellipsis = document.getElementById(\"p1051\");\n",
              "  ellipsis.addEventListener(\"click\", function() {\n",
              "    const rows = document.getElementsByClassName(\"p1050\");\n",
              "    for (let i = 0; i < rows.length; i++) {\n",
              "      const el = rows[i];\n",
              "      el.style.display = expanded ? \"none\" : \"table-row\";\n",
              "    }\n",
              "    ellipsis.innerHTML = expanded ? \"&hellip;)\" : \"&lsaquo;&lsaquo;&lsaquo;\";\n",
              "    expanded = !expanded;\n",
              "  });\n",
              "})();\n",
              "</script>\n"
            ]
          },
          "metadata": {},
          "execution_count": 37
        }
      ]
    },
    {
      "cell_type": "code",
      "execution_count": null,
      "metadata": {
        "colab": {
          "base_uri": "https://localhost:8080/",
          "height": 434
        },
        "id": "_QKJCaZq-P9_",
        "outputId": "4c89c2f6-c644-4d50-e995-5e0660adaa35"
      },
      "outputs": [
        {
          "output_type": "display_data",
          "data": {
            "application/javascript": [
              "'use strict';\n",
              "(function(root) {\n",
              "  function now() {\n",
              "    return new Date();\n",
              "  }\n",
              "\n",
              "  const force = true;\n",
              "\n",
              "  if (typeof root._bokeh_onload_callbacks === \"undefined\" || force === true) {\n",
              "    root._bokeh_onload_callbacks = [];\n",
              "    root._bokeh_is_loading = undefined;\n",
              "  }\n",
              "\n",
              "const JS_MIME_TYPE = 'application/javascript';\n",
              "  const HTML_MIME_TYPE = 'text/html';\n",
              "  const EXEC_MIME_TYPE = 'application/vnd.bokehjs_exec.v0+json';\n",
              "  const CLASS_NAME = 'output_bokeh rendered_html';\n",
              "\n",
              "  /**\n",
              "   * Render data to the DOM node\n",
              "   */\n",
              "  function render(props, node) {\n",
              "    const script = document.createElement(\"script\");\n",
              "    node.appendChild(script);\n",
              "  }\n",
              "\n",
              "  /**\n",
              "   * Handle when an output is cleared or removed\n",
              "   */\n",
              "  function handleClearOutput(event, handle) {\n",
              "    function drop(id) {\n",
              "      const view = Bokeh.index.get_by_id(id)\n",
              "      if (view != null) {\n",
              "        view.model.document.clear()\n",
              "        Bokeh.index.delete(view)\n",
              "      }\n",
              "    }\n",
              "\n",
              "    const cell = handle.cell;\n",
              "\n",
              "    const id = cell.output_area._bokeh_element_id;\n",
              "    const server_id = cell.output_area._bokeh_server_id;\n",
              "\n",
              "    // Clean up Bokeh references\n",
              "    if (id != null) {\n",
              "      drop(id)\n",
              "    }\n",
              "\n",
              "    if (server_id !== undefined) {\n",
              "      // Clean up Bokeh references\n",
              "      const cmd_clean = \"from bokeh.io.state import curstate; print(curstate().uuid_to_server['\" + server_id + \"'].get_sessions()[0].document.roots[0]._id)\";\n",
              "      cell.notebook.kernel.execute(cmd_clean, {\n",
              "        iopub: {\n",
              "          output: function(msg) {\n",
              "            const id = msg.content.text.trim()\n",
              "            drop(id)\n",
              "          }\n",
              "        }\n",
              "      });\n",
              "      // Destroy server and session\n",
              "      const cmd_destroy = \"import bokeh.io.notebook as ion; ion.destroy_server('\" + server_id + \"')\";\n",
              "      cell.notebook.kernel.execute(cmd_destroy);\n",
              "    }\n",
              "  }\n",
              "\n",
              "  /**\n",
              "   * Handle when a new output is added\n",
              "   */\n",
              "  function handleAddOutput(event, handle) {\n",
              "    const output_area = handle.output_area;\n",
              "    const output = handle.output;\n",
              "\n",
              "    // limit handleAddOutput to display_data with EXEC_MIME_TYPE content only\n",
              "    if ((output.output_type != \"display_data\") || (!Object.prototype.hasOwnProperty.call(output.data, EXEC_MIME_TYPE))) {\n",
              "      return\n",
              "    }\n",
              "\n",
              "    const toinsert = output_area.element.find(\".\" + CLASS_NAME.split(' ')[0]);\n",
              "\n",
              "    if (output.metadata[EXEC_MIME_TYPE][\"id\"] !== undefined) {\n",
              "      toinsert[toinsert.length - 1].firstChild.textContent = output.data[JS_MIME_TYPE];\n",
              "      // store reference to embed id on output_area\n",
              "      output_area._bokeh_element_id = output.metadata[EXEC_MIME_TYPE][\"id\"];\n",
              "    }\n",
              "    if (output.metadata[EXEC_MIME_TYPE][\"server_id\"] !== undefined) {\n",
              "      const bk_div = document.createElement(\"div\");\n",
              "      bk_div.innerHTML = output.data[HTML_MIME_TYPE];\n",
              "      const script_attrs = bk_div.children[0].attributes;\n",
              "      for (let i = 0; i < script_attrs.length; i++) {\n",
              "        toinsert[toinsert.length - 1].firstChild.setAttribute(script_attrs[i].name, script_attrs[i].value);\n",
              "        toinsert[toinsert.length - 1].firstChild.textContent = bk_div.children[0].textContent\n",
              "      }\n",
              "      // store reference to server id on output_area\n",
              "      output_area._bokeh_server_id = output.metadata[EXEC_MIME_TYPE][\"server_id\"];\n",
              "    }\n",
              "  }\n",
              "\n",
              "  function register_renderer(events, OutputArea) {\n",
              "\n",
              "    function append_mime(data, metadata, element) {\n",
              "      // create a DOM node to render to\n",
              "      const toinsert = this.create_output_subarea(\n",
              "        metadata,\n",
              "        CLASS_NAME,\n",
              "        EXEC_MIME_TYPE\n",
              "      );\n",
              "      this.keyboard_manager.register_events(toinsert);\n",
              "      // Render to node\n",
              "      const props = {data: data, metadata: metadata[EXEC_MIME_TYPE]};\n",
              "      render(props, toinsert[toinsert.length - 1]);\n",
              "      element.append(toinsert);\n",
              "      return toinsert\n",
              "    }\n",
              "\n",
              "    /* Handle when an output is cleared or removed */\n",
              "    events.on('clear_output.CodeCell', handleClearOutput);\n",
              "    events.on('delete.Cell', handleClearOutput);\n",
              "\n",
              "    /* Handle when a new output is added */\n",
              "    events.on('output_added.OutputArea', handleAddOutput);\n",
              "\n",
              "    /**\n",
              "     * Register the mime type and append_mime function with output_area\n",
              "     */\n",
              "    OutputArea.prototype.register_mime_type(EXEC_MIME_TYPE, append_mime, {\n",
              "      /* Is output safe? */\n",
              "      safe: true,\n",
              "      /* Index of renderer in `output_area.display_order` */\n",
              "      index: 0\n",
              "    });\n",
              "  }\n",
              "\n",
              "  // register the mime type if in Jupyter Notebook environment and previously unregistered\n",
              "  if (root.Jupyter !== undefined) {\n",
              "    const events = require('base/js/events');\n",
              "    const OutputArea = require('notebook/js/outputarea').OutputArea;\n",
              "\n",
              "    if (OutputArea.prototype.mime_types().indexOf(EXEC_MIME_TYPE) == -1) {\n",
              "      register_renderer(events, OutputArea);\n",
              "    }\n",
              "  }\n",
              "  if (typeof (root._bokeh_timeout) === \"undefined\" || force === true) {\n",
              "    root._bokeh_timeout = Date.now() + 5000;\n",
              "    root._bokeh_failed_load = false;\n",
              "  }\n",
              "\n",
              "  const NB_LOAD_WARNING = {'data': {'text/html':\n",
              "     \"<div style='background-color: #fdd'>\\n\"+\n",
              "     \"<p>\\n\"+\n",
              "     \"BokehJS does not appear to have successfully loaded. If loading BokehJS from CDN, this \\n\"+\n",
              "     \"may be due to a slow or bad network connection. Possible fixes:\\n\"+\n",
              "     \"</p>\\n\"+\n",
              "     \"<ul>\\n\"+\n",
              "     \"<li>re-rerun `output_notebook()` to attempt to load from CDN again, or</li>\\n\"+\n",
              "     \"<li>use INLINE resources instead, as so:</li>\\n\"+\n",
              "     \"</ul>\\n\"+\n",
              "     \"<code>\\n\"+\n",
              "     \"from bokeh.resources import INLINE\\n\"+\n",
              "     \"output_notebook(resources=INLINE)\\n\"+\n",
              "     \"</code>\\n\"+\n",
              "     \"</div>\"}};\n",
              "\n",
              "  function display_loaded(error = null) {\n",
              "    const el = document.getElementById(null);\n",
              "    if (el != null) {\n",
              "      const html = (() => {\n",
              "        if (typeof root.Bokeh === \"undefined\") {\n",
              "          if (error == null) {\n",
              "            return \"BokehJS is loading ...\";\n",
              "          } else {\n",
              "            return \"BokehJS failed to load.\";\n",
              "          }\n",
              "        } else {\n",
              "          const prefix = `BokehJS ${root.Bokeh.version}`;\n",
              "          if (error == null) {\n",
              "            return `${prefix} successfully loaded.`;\n",
              "          } else {\n",
              "            return `${prefix} <b>encountered errors</b> while loading and may not function as expected.`;\n",
              "          }\n",
              "        }\n",
              "      })();\n",
              "      el.innerHTML = html;\n",
              "\n",
              "      if (error != null) {\n",
              "        const wrapper = document.createElement(\"div\");\n",
              "        wrapper.style.overflow = \"auto\";\n",
              "        wrapper.style.height = \"5em\";\n",
              "        wrapper.style.resize = \"vertical\";\n",
              "        const content = document.createElement(\"div\");\n",
              "        content.style.fontFamily = \"monospace\";\n",
              "        content.style.whiteSpace = \"pre-wrap\";\n",
              "        content.style.backgroundColor = \"rgb(255, 221, 221)\";\n",
              "        content.textContent = error.stack ?? error.toString();\n",
              "        wrapper.append(content);\n",
              "        el.append(wrapper);\n",
              "      }\n",
              "    } else if (Date.now() < root._bokeh_timeout) {\n",
              "      setTimeout(() => display_loaded(error), 100);\n",
              "    }\n",
              "  }\n",
              "\n",
              "  function run_callbacks() {\n",
              "    try {\n",
              "      root._bokeh_onload_callbacks.forEach(function(callback) {\n",
              "        if (callback != null)\n",
              "          callback();\n",
              "      });\n",
              "    } finally {\n",
              "      delete root._bokeh_onload_callbacks\n",
              "    }\n",
              "    console.debug(\"Bokeh: all callbacks have finished\");\n",
              "  }\n",
              "\n",
              "  function load_libs(css_urls, js_urls, callback) {\n",
              "    if (css_urls == null) css_urls = [];\n",
              "    if (js_urls == null) js_urls = [];\n",
              "\n",
              "    root._bokeh_onload_callbacks.push(callback);\n",
              "    if (root._bokeh_is_loading > 0) {\n",
              "      console.debug(\"Bokeh: BokehJS is being loaded, scheduling callback at\", now());\n",
              "      return null;\n",
              "    }\n",
              "    if (js_urls == null || js_urls.length === 0) {\n",
              "      run_callbacks();\n",
              "      return null;\n",
              "    }\n",
              "    console.debug(\"Bokeh: BokehJS not loaded, scheduling load and callback at\", now());\n",
              "    root._bokeh_is_loading = css_urls.length + js_urls.length;\n",
              "\n",
              "    function on_load() {\n",
              "      root._bokeh_is_loading--;\n",
              "      if (root._bokeh_is_loading === 0) {\n",
              "        console.debug(\"Bokeh: all BokehJS libraries/stylesheets loaded\");\n",
              "        run_callbacks()\n",
              "      }\n",
              "    }\n",
              "\n",
              "    function on_error(url) {\n",
              "      console.error(\"failed to load \" + url);\n",
              "    }\n",
              "\n",
              "    for (let i = 0; i < css_urls.length; i++) {\n",
              "      const url = css_urls[i];\n",
              "      const element = document.createElement(\"link\");\n",
              "      element.onload = on_load;\n",
              "      element.onerror = on_error.bind(null, url);\n",
              "      element.rel = \"stylesheet\";\n",
              "      element.type = \"text/css\";\n",
              "      element.href = url;\n",
              "      console.debug(\"Bokeh: injecting link tag for BokehJS stylesheet: \", url);\n",
              "      document.body.appendChild(element);\n",
              "    }\n",
              "\n",
              "    for (let i = 0; i < js_urls.length; i++) {\n",
              "      const url = js_urls[i];\n",
              "      const element = document.createElement('script');\n",
              "      element.onload = on_load;\n",
              "      element.onerror = on_error.bind(null, url);\n",
              "      element.async = false;\n",
              "      element.src = url;\n",
              "      console.debug(\"Bokeh: injecting script tag for BokehJS library: \", url);\n",
              "      document.head.appendChild(element);\n",
              "    }\n",
              "  };\n",
              "\n",
              "  function inject_raw_css(css) {\n",
              "    const element = document.createElement(\"style\");\n",
              "    element.appendChild(document.createTextNode(css));\n",
              "    document.body.appendChild(element);\n",
              "  }\n",
              "\n",
              "  const js_urls = [\"https://cdn.bokeh.org/bokeh/release/bokeh-3.6.0.min.js\", \"https://cdn.bokeh.org/bokeh/release/bokeh-gl-3.6.0.min.js\", \"https://cdn.bokeh.org/bokeh/release/bokeh-widgets-3.6.0.min.js\", \"https://cdn.bokeh.org/bokeh/release/bokeh-tables-3.6.0.min.js\", \"https://cdn.bokeh.org/bokeh/release/bokeh-mathjax-3.6.0.min.js\"];\n",
              "  const css_urls = [];\n",
              "\n",
              "  const inline_js = [    function(Bokeh) {\n",
              "      Bokeh.set_log_level(\"info\");\n",
              "    },\n",
              "function(Bokeh) {\n",
              "    }\n",
              "  ];\n",
              "\n",
              "  function run_inline_js() {\n",
              "    if (root.Bokeh !== undefined || force === true) {\n",
              "      try {\n",
              "            for (let i = 0; i < inline_js.length; i++) {\n",
              "      inline_js[i].call(root, root.Bokeh);\n",
              "    }\n",
              "\n",
              "      } catch (error) {throw error;\n",
              "      }} else if (Date.now() < root._bokeh_timeout) {\n",
              "      setTimeout(run_inline_js, 100);\n",
              "    } else if (!root._bokeh_failed_load) {\n",
              "      console.log(\"Bokeh: BokehJS failed to load within specified timeout.\");\n",
              "      root._bokeh_failed_load = true;\n",
              "    } else if (force !== true) {\n",
              "      const cell = $(document.getElementById(null)).parents('.cell').data().cell;\n",
              "      cell.output_area.append_execute_result(NB_LOAD_WARNING)\n",
              "    }\n",
              "  }\n",
              "\n",
              "  if (root._bokeh_is_loading === 0) {\n",
              "    console.debug(\"Bokeh: BokehJS loaded, going straight to plotting\");\n",
              "    run_inline_js();\n",
              "  } else {\n",
              "    load_libs(css_urls, js_urls, function() {\n",
              "      console.debug(\"Bokeh: BokehJS plotting callback run at\", now());\n",
              "      run_inline_js();\n",
              "    });\n",
              "  }\n",
              "}(window));"
            ],
            "application/vnd.bokehjs_load.v0+json": "'use strict';\n(function(root) {\n  function now() {\n    return new Date();\n  }\n\n  const force = true;\n\n  if (typeof root._bokeh_onload_callbacks === \"undefined\" || force === true) {\n    root._bokeh_onload_callbacks = [];\n    root._bokeh_is_loading = undefined;\n  }\n\n\n  if (typeof (root._bokeh_timeout) === \"undefined\" || force === true) {\n    root._bokeh_timeout = Date.now() + 5000;\n    root._bokeh_failed_load = false;\n  }\n\n  const NB_LOAD_WARNING = {'data': {'text/html':\n     \"<div style='background-color: #fdd'>\\n\"+\n     \"<p>\\n\"+\n     \"BokehJS does not appear to have successfully loaded. If loading BokehJS from CDN, this \\n\"+\n     \"may be due to a slow or bad network connection. Possible fixes:\\n\"+\n     \"</p>\\n\"+\n     \"<ul>\\n\"+\n     \"<li>re-rerun `output_notebook()` to attempt to load from CDN again, or</li>\\n\"+\n     \"<li>use INLINE resources instead, as so:</li>\\n\"+\n     \"</ul>\\n\"+\n     \"<code>\\n\"+\n     \"from bokeh.resources import INLINE\\n\"+\n     \"output_notebook(resources=INLINE)\\n\"+\n     \"</code>\\n\"+\n     \"</div>\"}};\n\n  function display_loaded(error = null) {\n    const el = document.getElementById(null);\n    if (el != null) {\n      const html = (() => {\n        if (typeof root.Bokeh === \"undefined\") {\n          if (error == null) {\n            return \"BokehJS is loading ...\";\n          } else {\n            return \"BokehJS failed to load.\";\n          }\n        } else {\n          const prefix = `BokehJS ${root.Bokeh.version}`;\n          if (error == null) {\n            return `${prefix} successfully loaded.`;\n          } else {\n            return `${prefix} <b>encountered errors</b> while loading and may not function as expected.`;\n          }\n        }\n      })();\n      el.innerHTML = html;\n\n      if (error != null) {\n        const wrapper = document.createElement(\"div\");\n        wrapper.style.overflow = \"auto\";\n        wrapper.style.height = \"5em\";\n        wrapper.style.resize = \"vertical\";\n        const content = document.createElement(\"div\");\n        content.style.fontFamily = \"monospace\";\n        content.style.whiteSpace = \"pre-wrap\";\n        content.style.backgroundColor = \"rgb(255, 221, 221)\";\n        content.textContent = error.stack ?? error.toString();\n        wrapper.append(content);\n        el.append(wrapper);\n      }\n    } else if (Date.now() < root._bokeh_timeout) {\n      setTimeout(() => display_loaded(error), 100);\n    }\n  }\n\n  function run_callbacks() {\n    try {\n      root._bokeh_onload_callbacks.forEach(function(callback) {\n        if (callback != null)\n          callback();\n      });\n    } finally {\n      delete root._bokeh_onload_callbacks\n    }\n    console.debug(\"Bokeh: all callbacks have finished\");\n  }\n\n  function load_libs(css_urls, js_urls, callback) {\n    if (css_urls == null) css_urls = [];\n    if (js_urls == null) js_urls = [];\n\n    root._bokeh_onload_callbacks.push(callback);\n    if (root._bokeh_is_loading > 0) {\n      console.debug(\"Bokeh: BokehJS is being loaded, scheduling callback at\", now());\n      return null;\n    }\n    if (js_urls == null || js_urls.length === 0) {\n      run_callbacks();\n      return null;\n    }\n    console.debug(\"Bokeh: BokehJS not loaded, scheduling load and callback at\", now());\n    root._bokeh_is_loading = css_urls.length + js_urls.length;\n\n    function on_load() {\n      root._bokeh_is_loading--;\n      if (root._bokeh_is_loading === 0) {\n        console.debug(\"Bokeh: all BokehJS libraries/stylesheets loaded\");\n        run_callbacks()\n      }\n    }\n\n    function on_error(url) {\n      console.error(\"failed to load \" + url);\n    }\n\n    for (let i = 0; i < css_urls.length; i++) {\n      const url = css_urls[i];\n      const element = document.createElement(\"link\");\n      element.onload = on_load;\n      element.onerror = on_error.bind(null, url);\n      element.rel = \"stylesheet\";\n      element.type = \"text/css\";\n      element.href = url;\n      console.debug(\"Bokeh: injecting link tag for BokehJS stylesheet: \", url);\n      document.body.appendChild(element);\n    }\n\n    for (let i = 0; i < js_urls.length; i++) {\n      const url = js_urls[i];\n      const element = document.createElement('script');\n      element.onload = on_load;\n      element.onerror = on_error.bind(null, url);\n      element.async = false;\n      element.src = url;\n      console.debug(\"Bokeh: injecting script tag for BokehJS library: \", url);\n      document.head.appendChild(element);\n    }\n  };\n\n  function inject_raw_css(css) {\n    const element = document.createElement(\"style\");\n    element.appendChild(document.createTextNode(css));\n    document.body.appendChild(element);\n  }\n\n  const js_urls = [\"https://cdn.bokeh.org/bokeh/release/bokeh-3.6.0.min.js\", \"https://cdn.bokeh.org/bokeh/release/bokeh-gl-3.6.0.min.js\", \"https://cdn.bokeh.org/bokeh/release/bokeh-widgets-3.6.0.min.js\", \"https://cdn.bokeh.org/bokeh/release/bokeh-tables-3.6.0.min.js\", \"https://cdn.bokeh.org/bokeh/release/bokeh-mathjax-3.6.0.min.js\"];\n  const css_urls = [];\n\n  const inline_js = [    function(Bokeh) {\n      Bokeh.set_log_level(\"info\");\n    },\nfunction(Bokeh) {\n    }\n  ];\n\n  function run_inline_js() {\n    if (root.Bokeh !== undefined || force === true) {\n      try {\n            for (let i = 0; i < inline_js.length; i++) {\n      inline_js[i].call(root, root.Bokeh);\n    }\n\n      } catch (error) {throw error;\n      }} else if (Date.now() < root._bokeh_timeout) {\n      setTimeout(run_inline_js, 100);\n    } else if (!root._bokeh_failed_load) {\n      console.log(\"Bokeh: BokehJS failed to load within specified timeout.\");\n      root._bokeh_failed_load = true;\n    } else if (force !== true) {\n      const cell = $(document.getElementById(null)).parents('.cell').data().cell;\n      cell.output_area.append_execute_result(NB_LOAD_WARNING)\n    }\n  }\n\n  if (root._bokeh_is_loading === 0) {\n    console.debug(\"Bokeh: BokehJS loaded, going straight to plotting\");\n    run_inline_js();\n  } else {\n    load_libs(css_urls, js_urls, function() {\n      console.debug(\"Bokeh: BokehJS plotting callback run at\", now());\n      run_inline_js();\n    });\n  }\n}(window));"
          },
          "metadata": {}
        },
        {
          "output_type": "display_data",
          "data": {
            "text/html": [
              "\n",
              "  <div id=\"aa73cdad-c9a7-47fb-b3b6-c0f723c14e96\" data-root-id=\"p1055\" style=\"display: contents;\"></div>\n"
            ]
          },
          "metadata": {}
        },
        {
          "output_type": "display_data",
          "data": {
            "application/javascript": [
              "(function(root) {\n",
              "  function embed_document(root) {\n",
              "  const docs_json = {\"d2aad2ab-267b-493e-8127-1bc5ca72b5a8\":{\"version\":\"3.6.0\",\"title\":\"Bokeh Application\",\"roots\":[{\"type\":\"object\",\"name\":\"Figure\",\"id\":\"p1055\",\"attributes\":{\"height\":400,\"x_range\":{\"type\":\"object\",\"name\":\"DataRange1d\",\"id\":\"p1056\"},\"y_range\":{\"type\":\"object\",\"name\":\"DataRange1d\",\"id\":\"p1057\"},\"x_scale\":{\"type\":\"object\",\"name\":\"LinearScale\",\"id\":\"p1064\"},\"y_scale\":{\"type\":\"object\",\"name\":\"LinearScale\",\"id\":\"p1065\"},\"title\":{\"type\":\"object\",\"name\":\"Title\",\"id\":\"p1062\"},\"renderers\":[{\"type\":\"object\",\"name\":\"GlyphRenderer\",\"id\":\"p1095\",\"attributes\":{\"data_source\":{\"type\":\"object\",\"name\":\"ColumnDataSource\",\"id\":\"p1052\",\"attributes\":{\"selected\":{\"type\":\"object\",\"name\":\"Selection\",\"id\":\"p1053\",\"attributes\":{\"indices\":[],\"line_indices\":[]}},\"selection_policy\":{\"type\":\"object\",\"name\":\"UnionRenderers\",\"id\":\"p1054\"},\"data\":{\"type\":\"map\",\"entries\":[[\"x\",{\"type\":\"ndarray\",\"array\":{\"type\":\"bytes\",\"data\":\"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\"},\"shape\":[5000],\"dtype\":\"float32\",\"order\":\"little\"}],[\"y\",{\"type\":\"ndarray\",\"array\":{\"type\":\"bytes\",\"data\":\"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\"},\"shape\":[5000],\"dtype\":\"float32\",\"order\":\"little\"}],[\"color\",[\"blue\",\"blue\",\"blue\",\"blue\",\"blue\",\"blue\",\"blue\",\"blue\",\"blue\",\"blue\",\"blue\",\"blue\",\"blue\",\"blue\",\"blue\",\"blue\",\"blue\",\"blue\",\"blue\",\"blue\",\"blue\",\"blue\",\"blue\",\"blue\",\"blue\",\"blue\",\"blue\",\"blue\",\"blue\",\"blue\",\"blue\",\"blue\",\"blue\",\"blue\",\"blue\",\"blue\",\"blue\",\"blue\",\"blue\",\"blue\",\"blue\",\"blue\",\"blue\",\"blue\",\"blue\",\"blue\",\"blue\",\"blue\",\"blue\",\"blue\",\"blue\",\"blue\",\"blue\",\"blue\",\"blue\",\"blue\",\"blue\",\"blue\",\"blue\",\"blue\",\"blue\",\"blue\",\"blue\",\"blue\",\"blue\",\"blue\",\"blue\",\"blue\",\"blue\",\"blue\",\"blue\",\"blue\",\"blue\",\"blue\",\"blue\",\"blue\",\"blue\",\"blue\",\"blue\",\"blue\",\"blue\",\"blue\",\"blue\",\"blue\",\"blue\",\"blue\",\"blue\",\"blue\",\"blue\",\"blue\",\"blue\",\"blue\",\"blue\",\"blue\",\"blue\",\"blue\",\"blue\",\"blue\",\"blue\",\"blue\",\"blue\",\"blue\",\"blue\",\"blue\",\"blue\",\"blue\",\"blue\",\"blue\",\"blue\",\"blue\",\"blue\",\"blue\",\"blue\",\"blue\",\"blue\",\"blue\",\"blue\",\"blue\",\"blue\",\"blue\",\"blue\",\"blue\",\"blue\",\"blue\",\"blue\",\"blue\",\"blue\",\"blue\",\"blue\",\"blue\",\"blue\",\"blue\",\"blue\",\"blue\",\"blue\",\"blue\",\"blue\",\"blue\",\"blue\",\"blue\",\"blue\",\"blue\",\"blue\",\"blue\",\"blue\",\"blue\",\"blue\",\"blue\",\"blue\",\"blue\",\"blue\",\"blue\",\"blue\",\"blue\",\"blue\",\"blue\",\"blue\",\"blue\",\"blue\",\"blue\",\"blue\",\"blue\",\"blue\",\"blue\",\"blue\",\"blue\",\"blue\",\"blue\",\"blue\",\"blue\",\"blue\",\"blue\",\"blue\",\"blue\",\"blue\",\"blue\",\"blue\",\"blue\",\"blue\",\"blue\",\"blue\",\"blue\",\"blue\",\"blue\",\"blue\",\"blue\",\"blue\",\"blue\",\"blue\",\"blue\",\"blue\",\"blue\",\"blue\",\"blue\",\"blue\",\"blue\",\"blue\",\"blue\",\"blue\",\"blue\",\"blue\",\"blue\",\"blue\",\"blue\",\"blue\",\"blue\",\"blue\",\"blue\",\"blue\",\"blue\",\"blue\",\"blue\",\"blue\",\"blue\",\"blue\",\"blue\",\"blue\",\"blue\",\"blue\",\"blue\",\"blue\",\"blue\",\"blue\",\"blue\",\"blue\",\"blue\",\"blue\",\"blue\",\"blue\",\"blue\",\"blue\",\"blue\",\"blue\",\"blue\",\"blue\",\"blue\",\"blue\",\"blue\",\"blue\",\"blue\",\"blue\",\"blue\",\"blue\",\"blue\",\"blue\",\"blue\",\"blue\",\"blue\",\"blue\",\"blue\",\"blue\",\"blue\",\"blue\",\"blue\",\"blue\",\"blue\",\"blue\",\"blue\",\"blue\",\"blue\",\"blue\",\"blue\",\"blue\",\"blue\",\"blue\",\"blue\",\"blue\",\"blue\",\"blue\",\"blue\",\"blue\",\"blue\",\"blue\",\"blue\",\"blue\",\"blue\",\"blue\",\"blue\",\"blue\",\"blue\",\"blue\",\"blue\",\"blue\",\"blue\",\"blue\",\"blue\",\"blue\",\"blue\",\"blue\",\"blue\",\"blue\",\"blue\",\"blue\",\"blue\",\"blue\",\"blue\",\"blue\",\"blue\",\"blue\",\"blue\",\"blue\",\"blue\",\"blue\",\"blue\",\"blue\",\"blue\",\"blue\",\"blue\",\"blue\",\"blue\",\"blue\",\"blue\",\"blue\",\"blue\",\"blue\",\"blue\",\"blue\",\"blue\",\"blue\",\"blue\",\"blue\",\"blue\",\"blue\",\"blue\",\"blue\",\"blue\",\"blue\",\"blue\",\"blue\",\"blue\",\"blue\",\"blue\",\"blue\",\"blue\",\"blue\",\"blue\",\"blue\",\"blue\",\"blue\",\"blue\",\"blue\",\"blue\",\"blue\",\"blue\",\"blue\",\"blue\",\"blue\",\"blue\",\"blue\",\"blue\",\"blue\",\"blue\",\"blue\",\"blue\",\"blue\",\"blue\",\"blue\",\"blue\",\"blue\",\"blue\",\"blue\",\"blue\",\"blue\",\"blue\",\"blue\",\"blue\",\"blue\",\"blue\",\"blue\",\"blue\",\"blue\",\"blue\",\"blue\",\"blue\",\"blue\",\"blue\",\"blue\",\"blue\",\"blue\",\"blue\",\"blue\",\"blue\",\"blue\",\"blue\",\"blue\",\"blue\",\"blue\",\"blue\",\"blue\",\"blue\",\"blue\",\"blue\",\"blue\",\"blue\",\"blue\",\"blue\",\"blue\",\"blue\",\"blue\",\"blue\",\"blue\",\"blue\",\"blue\",\"blue\",\"blue\",\"blue\",\"blue\",\"blue\",\"blue\",\"blue\",\"blue\",\"blue\",\"blue\",\"blue\",\"blue\",\"blue\",\"blue\",\"blue\",\"blue\",\"blue\",\"blue\",\"blue\",\"blue\",\"blue\",\"blue\",\"blue\",\"blue\",\"blue\",\"blue\",\"blue\",\"blue\",\"blue\",\"blue\",\"blue\",\"blue\",\"blue\",\"blue\",\"blue\",\"blue\",\"blue\",\"blue\",\"blue\",\"blue\",\"blue\",\"blue\",\"blue\",\"blue\",\"blue\",\"blue\",\"blue\",\"blue\",\"blue\",\"blue\",\"blue\",\"blue\",\"blue\",\"blue\",\"blue\",\"blue\",\"blue\",\"blue\",\"blue\",\"blue\",\"blue\",\"blue\",\"blue\",\"blue\",\"blue\",\"blue\",\"blue\",\"blue\",\"blue\",\"blue\",\"blue\",\"blue\",\"blue\",\"blue\",\"blue\",\"blue\",\"blue\",\"blue\",\"blue\",\"blue\",\"blue\",\"blue\",\"blue\",\"blue\",\"blue\",\"blue\",\"blue\",\"blue\",\"blue\",\"blue\",\"blue\",\"blue\",\"blue\",\"blue\",\"blue\",\"blue\",\"blue\",\"blue\",\"blue\",\"blue\",\"blue\",\"blue\",\"blue\",\"blue\",\"blue\",\"blue\",\"blue\",\"blue\",\"blue\",\"blue\",\"blue\",\"blue\",\"blue\",\"blue\",\"blue\",\"blue\",\"blue\",\"blue\",\"blue\",\"blue\",\"blue\",\"blue\",\"blue\",\"blue\",\"blue\",\"blue\",\"blue\",\"blue\",\"blue\",\"blue\",\"blue\",\"blue\",\"blue\",\"blue\",\"blue\",\"blue\",\"blue\",\"blue\",\"blue\",\"blue\",\"blue\",\"blue\",\"blue\",\"blue\",\"blue\",\"blue\",\"blue\",\"blue\",\"blue\",\"blue\",\"blue\",\"blue\",\"blue\",\"blue\",\"blue\",\"blue\",\"blue\",\"blue\",\"blue\",\"blue\",\"blue\",\"blue\",\"blue\",\"blue\",\"blue\",\"blue\",\"blue\",\"blue\",\"blue\",\"blue\",\"blue\",\"blue\",\"blue\",\"blue\",\"blue\",\"blue\",\"blue\",\"blue\",\"blue\",\"blue\",\"blue\",\"blue\",\"blue\",\"blue\",\"blue\",\"blue\",\"blue\",\"blue\",\"blue\",\"blue\",\"blue\",\"blue\",\"blue\",\"blue\",\"blue\",\"blue\",\"blue\",\"blue\",\"blue\",\"blue\",\"blue\",\"blue\",\"blue\",\"blue\",\"blue\",\"blue\",\"blue\",\"blue\",\"blue\",\"blue\",\"blue\",\"blue\",\"blue\",\"blue\",\"blue\",\"blue\",\"blue\",\"blue\",\"blue\",\"blue\",\"blue\",\"blue\",\"blue\",\"blue\",\"blue\",\"blue\",\"blue\",\"blue\",\"blue\",\"blue\",\"blue\",\"blue\",\"blue\",\"blue\",\"blue\",\"blue\",\"blue\",\"blue\",\"blue\",\"blue\",\"blue\",\"blue\",\"blue\",\"blue\",\"blue\",\"blue\",\"blue\",\"blue\",\"blue\",\"blue\",\"blue\",\"blue\",\"blue\",\"blue\",\"blue\",\"blue\",\"blue\",\"blue\",\"blue\",\"blue\",\"blue\",\"blue\",\"blue\",\"blue\",\"blue\",\"blue\",\"blue\",\"blue\",\"blue\",\"blue\",\"blue\",\"blue\",\"blue\",\"blue\",\"blue\",\"blue\",\"blue\",\"blue\",\"blue\",\"blue\",\"blue\",\"blue\",\"blue\",\"blue\",\"blue\",\"blue\",\"blue\",\"blue\",\"blue\",\"blue\",\"blue\",\"blue\",\"blue\",\"blue\",\"blue\",\"blue\",\"blue\",\"blue\",\"blue\",\"blue\",\"blue\",\"blue\",\"blue\",\"blue\",\"blue\",\"blue\",\"blue\",\"blue\",\"blue\",\"blue\",\"blue\",\"blue\",\"blue\",\"blue\",\"blue\",\"blue\",\"blue\",\"blue\",\"blue\",\"blue\",\"blue\",\"blue\",\"blue\",\"blue\",\"blue\",\"blue\",\"blue\",\"blue\",\"blue\",\"blue\",\"blue\",\"blue\",\"blue\",\"blue\",\"blue\",\"blue\",\"blue\",\"blue\",\"blue\",\"blue\",\"blue\",\"blue\",\"blue\",\"blue\",\"blue\",\"blue\",\"blue\",\"blue\",\"blue\",\"blue\",\"blue\",\"blue\",\"blue\",\"blue\",\"blue\",\"blue\",\"blue\",\"blue\",\"blue\",\"blue\",\"blue\",\"blue\",\"blue\",\"blue\",\"blue\",\"blue\",\"blue\",\"blue\",\"blue\",\"blue\",\"blue\",\"blue\",\"blue\",\"blue\",\"blue\",\"blue\",\"blue\",\"blue\",\"blue\",\"blue\",\"blue\",\"blue\",\"blue\",\"blue\",\"blue\",\"blue\",\"blue\",\"blue\",\"blue\",\"blue\",\"blue\",\"blue\",\"blue\",\"blue\",\"blue\",\"blue\",\"blue\",\"blue\",\"blue\",\"blue\",\"blue\",\"blue\",\"blue\",\"blue\",\"blue\",\"blue\",\"blue\",\"blue\",\"blue\",\"blue\",\"blue\",\"blue\",\"blue\",\"blue\",\"blue\",\"blue\",\"blue\",\"blue\",\"blue\",\"blue\",\"blue\",\"blue\",\"blue\",\"blue\",\"blue\",\"blue\",\"blue\",\"blue\",\"blue\",\"blue\",\"blue\",\"blue\",\"blue\",\"blue\",\"blue\",\"blue\",\"blue\",\"blue\",\"blue\",\"blue\",\"blue\",\"blue\",\"blue\",\"blue\",\"blue\",\"blue\",\"blue\",\"blue\",\"blue\",\"blue\",\"blue\",\"blue\",\"blue\",\"blue\",\"blue\",\"blue\",\"blue\",\"blue\",\"blue\",\"blue\",\"blue\",\"blue\",\"blue\",\"blue\",\"blue\",\"blue\",\"blue\",\"blue\",\"blue\",\"blue\",\"blue\",\"blue\",\"blue\",\"blue\",\"blue\",\"blue\",\"blue\",\"blue\",\"blue\",\"blue\",\"blue\",\"blue\",\"blue\",\"blue\",\"blue\",\"blue\",\"blue\",\"blue\",\"blue\",\"blue\",\"blue\",\"blue\",\"blue\",\"blue\",\"blue\",\"blue\",\"blue\",\"blue\",\"blue\",\"blue\",\"blue\",\"blue\",\"blue\",\"blue\",\"blue\",\"blue\",\"blue\",\"blue\",\"blue\",\"blue\",\"blue\",\"blue\",\"blue\",\"blue\",\"blue\",\"blue\",\"blue\",\"blue\",\"blue\",\"blue\",\"blue\",\"blue\",\"blue\",\"blue\",\"blue\",\"blue\",\"blue\",\"blue\",\"blue\",\"blue\",\"blue\",\"blue\",\"blue\",\"blue\",\"blue\",\"blue\",\"blue\",\"blue\",\"blue\",\"blue\",\"blue\",\"blue\",\"blue\",\"blue\",\"blue\",\"blue\",\"blue\",\"blue\",\"blue\",\"blue\",\"blue\",\"blue\",\"blue\",\"blue\",\"blue\",\"blue\",\"blue\",\"blue\",\"blue\",\"blue\",\"blue\",\"blue\",\"blue\",\"blue\",\"blue\",\"blue\",\"blue\",\"blue\",\"blue\",\"blue\",\"blue\",\"blue\",\"blue\",\"blue\",\"blue\",\"blue\",\"blue\",\"blue\",\"blue\",\"blue\",\"blue\",\"blue\",\"blue\",\"blue\",\"blue\",\"blue\",\"blue\",\"blue\",\"blue\",\"blue\",\"blue\",\"blue\",\"blue\",\"blue\",\"blue\",\"blue\",\"blue\",\"blue\",\"blue\",\"blue\",\"blue\",\"blue\",\"blue\",\"blue\",\"blue\",\"blue\",\"blue\",\"blue\",\"blue\",\"blue\",\"blue\",\"blue\",\"blue\",\"blue\",\"blue\",\"blue\",\"blue\",\"blue\",\"blue\",\"blue\",\"blue\",\"blue\",\"blue\",\"blue\",\"blue\",\"blue\",\"blue\",\"blue\",\"blue\",\"blue\",\"blue\",\"blue\",\"blue\",\"blue\",\"blue\",\"blue\",\"blue\",\"blue\",\"blue\",\"blue\",\"blue\",\"blue\",\"blue\",\"blue\",\"blue\",\"blue\",\"blue\",\"blue\",\"blue\",\"blue\",\"blue\",\"blue\",\"blue\",\"blue\",\"blue\",\"blue\",\"blue\",\"blue\",\"blue\",\"blue\",\"blue\",\"blue\",\"blue\",\"blue\",\"blue\",\"blue\",\"blue\",\"blue\",\"blue\",\"blue\",\"blue\",\"blue\",\"blue\",\"blue\",\"blue\",\"blue\",\"blue\",\"blue\",\"blue\",\"blue\",\"blue\",\"blue\",\"blue\",\"blue\",\"blue\",\"blue\",\"blue\",\"blue\",\"blue\",\"blue\",\"blue\",\"blue\",\"blue\",\"blue\",\"blue\",\"blue\",\"blue\",\"blue\",\"blue\",\"blue\",\"blue\",\"blue\",\"blue\",\"blue\",\"blue\",\"blue\",\"blue\",\"blue\",\"blue\",\"blue\",\"blue\",\"blue\",\"blue\",\"blue\",\"blue\",\"blue\",\"blue\",\"blue\",\"blue\",\"blue\",\"blue\",\"blue\",\"blue\",\"blue\",\"blue\",\"blue\",\"blue\",\"blue\",\"blue\",\"blue\",\"blue\",\"blue\",\"blue\",\"blue\",\"blue\",\"blue\",\"blue\",\"blue\",\"blue\",\"blue\",\"blue\",\"blue\",\"blue\",\"blue\",\"blue\",\"blue\",\"blue\",\"blue\",\"blue\",\"blue\",\"blue\",\"blue\",\"blue\",\"blue\",\"blue\",\"blue\",\"blue\",\"blue\",\"blue\",\"blue\",\"blue\",\"blue\",\"blue\",\"blue\",\"blue\",\"blue\",\"blue\",\"blue\",\"blue\",\"blue\",\"blue\",\"blue\",\"blue\",\"blue\",\"blue\",\"blue\",\"blue\",\"blue\",\"blue\",\"blue\",\"blue\",\"blue\",\"blue\",\"blue\",\"blue\",\"blue\",\"blue\",\"blue\",\"blue\",\"blue\",\"blue\",\"blue\",\"blue\",\"blue\",\"blue\",\"blue\",\"blue\",\"blue\",\"blue\",\"blue\",\"blue\",\"blue\",\"blue\",\"blue\",\"blue\",\"blue\",\"blue\",\"blue\",\"blue\",\"blue\",\"blue\",\"blue\",\"blue\",\"blue\",\"blue\",\"blue\",\"blue\",\"blue\",\"blue\",\"blue\",\"blue\",\"blue\",\"blue\",\"blue\",\"blue\",\"blue\",\"blue\",\"blue\",\"blue\",\"blue\",\"blue\",\"blue\",\"blue\",\"blue\",\"blue\",\"blue\",\"blue\",\"blue\",\"blue\",\"blue\",\"blue\",\"blue\",\"blue\",\"blue\",\"blue\",\"blue\",\"blue\",\"blue\",\"blue\",\"blue\",\"blue\",\"blue\",\"blue\",\"blue\",\"blue\",\"blue\",\"blue\",\"blue\",\"blue\",\"blue\",\"blue\",\"blue\",\"blue\",\"blue\",\"blue\",\"blue\",\"blue\",\"blue\",\"blue\",\"blue\",\"blue\",\"blue\",\"blue\",\"blue\",\"blue\",\"blue\",\"blue\",\"blue\",\"blue\",\"blue\",\"blue\",\"blue\",\"blue\",\"blue\",\"blue\",\"blue\",\"blue\",\"blue\",\"blue\",\"blue\",\"blue\",\"blue\",\"blue\",\"blue\",\"blue\",\"blue\",\"blue\",\"blue\",\"blue\",\"blue\",\"blue\",\"blue\",\"blue\",\"blue\",\"blue\",\"blue\",\"blue\",\"blue\",\"blue\",\"blue\",\"blue\",\"blue\",\"blue\",\"blue\",\"blue\",\"blue\",\"blue\",\"blue\",\"blue\",\"blue\",\"blue\",\"blue\",\"blue\",\"blue\",\"blue\",\"blue\",\"blue\",\"blue\",\"blue\",\"blue\",\"blue\",\"blue\",\"blue\",\"blue\",\"blue\",\"blue\",\"blue\",\"blue\",\"blue\",\"blue\",\"blue\",\"blue\",\"blue\",\"blue\",\"blue\",\"blue\",\"blue\",\"blue\",\"blue\",\"blue\",\"blue\",\"blue\",\"blue\",\"blue\",\"blue\",\"blue\",\"blue\",\"blue\",\"blue\",\"blue\",\"blue\",\"blue\",\"blue\",\"blue\",\"blue\",\"blue\",\"blue\",\"blue\",\"blue\",\"blue\",\"blue\",\"blue\",\"blue\",\"blue\",\"blue\",\"blue\",\"blue\",\"blue\",\"blue\",\"blue\",\"blue\",\"blue\",\"blue\",\"blue\",\"blue\",\"blue\",\"blue\",\"blue\",\"blue\",\"blue\",\"blue\",\"blue\",\"blue\",\"blue\",\"blue\",\"blue\",\"blue\",\"blue\",\"blue\",\"blue\",\"blue\",\"blue\",\"blue\",\"blue\",\"blue\",\"blue\",\"blue\",\"blue\",\"blue\",\"blue\",\"blue\",\"blue\",\"blue\",\"blue\",\"blue\",\"blue\",\"blue\",\"blue\",\"blue\",\"blue\",\"blue\",\"blue\",\"blue\",\"blue\",\"blue\",\"blue\",\"blue\",\"blue\",\"blue\",\"blue\",\"blue\",\"blue\",\"blue\",\"blue\",\"blue\",\"blue\",\"blue\",\"blue\",\"blue\",\"blue\",\"blue\",\"blue\",\"blue\",\"blue\",\"blue\",\"blue\",\"blue\",\"blue\",\"blue\",\"blue\",\"blue\",\"blue\",\"blue\",\"blue\",\"blue\",\"blue\",\"blue\",\"blue\",\"blue\",\"blue\",\"blue\",\"blue\",\"blue\",\"blue\",\"blue\",\"blue\",\"blue\",\"blue\",\"blue\",\"blue\",\"blue\",\"blue\",\"blue\",\"blue\",\"blue\",\"blue\",\"blue\",\"blue\",\"blue\",\"blue\",\"blue\",\"blue\",\"blue\",\"blue\",\"blue\",\"blue\",\"blue\",\"blue\",\"blue\",\"blue\",\"blue\",\"blue\",\"blue\",\"blue\",\"blue\",\"blue\",\"blue\",\"blue\",\"blue\",\"blue\",\"blue\",\"blue\",\"blue\",\"blue\",\"blue\",\"blue\",\"blue\",\"blue\",\"blue\",\"blue\",\"blue\",\"blue\",\"blue\",\"blue\",\"blue\",\"blue\",\"blue\",\"blue\",\"blue\",\"blue\",\"blue\",\"blue\",\"blue\",\"blue\",\"blue\",\"blue\",\"blue\",\"blue\",\"blue\",\"blue\",\"blue\",\"blue\",\"blue\",\"blue\",\"blue\",\"blue\",\"blue\",\"blue\",\"blue\",\"blue\",\"blue\",\"blue\",\"blue\",\"blue\",\"blue\",\"blue\",\"blue\",\"blue\",\"blue\",\"blue\",\"blue\",\"blue\",\"blue\",\"blue\",\"blue\",\"blue\",\"blue\",\"blue\",\"blue\",\"blue\",\"blue\",\"blue\",\"blue\",\"blue\",\"blue\",\"blue\",\"blue\",\"blue\",\"blue\",\"blue\",\"blue\",\"blue\",\"blue\",\"blue\",\"blue\",\"blue\",\"blue\",\"blue\",\"blue\",\"blue\",\"blue\",\"blue\",\"blue\",\"blue\",\"blue\",\"blue\",\"blue\",\"blue\",\"blue\",\"blue\",\"blue\",\"blue\",\"blue\",\"blue\",\"blue\",\"blue\",\"blue\",\"blue\",\"blue\",\"blue\",\"blue\",\"blue\",\"blue\",\"blue\",\"blue\",\"blue\",\"blue\",\"blue\",\"blue\",\"blue\",\"blue\",\"blue\",\"blue\",\"blue\",\"blue\",\"blue\",\"blue\",\"blue\",\"blue\",\"blue\",\"blue\",\"blue\",\"blue\",\"blue\",\"blue\",\"blue\",\"blue\",\"blue\",\"blue\",\"blue\",\"blue\",\"blue\",\"blue\",\"blue\",\"blue\",\"blue\",\"blue\",\"blue\",\"blue\",\"blue\",\"blue\",\"blue\",\"blue\",\"blue\",\"blue\",\"blue\",\"blue\",\"blue\",\"blue\",\"blue\",\"blue\",\"blue\",\"blue\",\"blue\",\"blue\",\"blue\",\"blue\",\"blue\",\"blue\",\"blue\",\"blue\",\"blue\",\"blue\",\"blue\",\"blue\",\"blue\",\"blue\",\"blue\",\"blue\",\"blue\",\"blue\",\"blue\",\"blue\",\"blue\",\"blue\",\"blue\",\"blue\",\"blue\",\"blue\",\"blue\",\"blue\",\"blue\",\"blue\",\"blue\",\"blue\",\"blue\",\"blue\",\"blue\",\"blue\",\"blue\",\"blue\",\"blue\",\"blue\",\"blue\",\"blue\",\"blue\",\"blue\",\"blue\",\"blue\",\"blue\",\"blue\",\"blue\",\"blue\",\"blue\",\"blue\",\"blue\",\"blue\",\"blue\",\"blue\",\"blue\",\"blue\",\"blue\",\"blue\",\"blue\",\"blue\",\"blue\",\"blue\",\"blue\",\"blue\",\"blue\",\"blue\",\"blue\",\"blue\",\"blue\",\"blue\",\"blue\",\"blue\",\"blue\",\"blue\",\"blue\",\"blue\",\"blue\",\"blue\",\"blue\",\"blue\",\"blue\",\"blue\",\"blue\",\"blue\",\"blue\",\"blue\",\"blue\",\"blue\",\"blue\",\"blue\",\"blue\",\"blue\",\"blue\",\"blue\",\"blue\",\"blue\",\"blue\",\"blue\",\"blue\",\"blue\",\"blue\",\"blue\",\"blue\",\"blue\",\"blue\",\"blue\",\"blue\",\"blue\",\"blue\",\"blue\",\"blue\",\"blue\",\"blue\",\"blue\",\"blue\",\"blue\",\"blue\",\"blue\",\"blue\",\"blue\",\"blue\",\"blue\",\"blue\",\"blue\",\"blue\",\"blue\",\"blue\",\"blue\",\"blue\",\"blue\",\"blue\",\"blue\",\"blue\",\"blue\",\"blue\",\"blue\",\"blue\",\"blue\",\"blue\",\"blue\",\"blue\",\"blue\",\"blue\",\"blue\",\"blue\",\"blue\",\"blue\",\"blue\",\"blue\",\"blue\",\"blue\",\"blue\",\"blue\",\"blue\",\"blue\",\"blue\",\"blue\",\"blue\",\"blue\",\"blue\",\"blue\",\"blue\",\"blue\",\"blue\",\"blue\",\"blue\",\"blue\",\"blue\",\"blue\",\"blue\",\"blue\",\"blue\",\"blue\",\"blue\",\"blue\",\"blue\",\"blue\",\"blue\",\"blue\",\"blue\",\"blue\",\"blue\",\"blue\",\"blue\",\"blue\",\"blue\",\"blue\",\"blue\",\"blue\",\"blue\",\"blue\",\"blue\",\"blue\",\"blue\",\"blue\",\"blue\",\"blue\",\"blue\",\"blue\",\"blue\",\"blue\",\"blue\",\"blue\",\"blue\",\"blue\",\"blue\",\"blue\",\"blue\",\"blue\",\"blue\",\"blue\",\"blue\",\"blue\",\"blue\",\"blue\",\"blue\",\"blue\",\"blue\",\"blue\",\"blue\",\"blue\",\"blue\",\"blue\",\"blue\",\"blue\",\"blue\",\"blue\",\"blue\",\"blue\",\"blue\",\"blue\",\"blue\",\"blue\",\"blue\",\"blue\",\"blue\",\"blue\",\"blue\",\"blue\",\"blue\",\"blue\",\"blue\",\"blue\",\"blue\",\"blue\",\"blue\",\"blue\",\"blue\",\"blue\",\"blue\",\"blue\",\"blue\",\"blue\",\"blue\",\"blue\",\"blue\",\"blue\",\"blue\",\"blue\",\"blue\",\"blue\",\"blue\",\"blue\",\"blue\",\"blue\",\"blue\",\"blue\",\"blue\",\"blue\",\"blue\",\"blue\",\"blue\",\"blue\",\"blue\",\"blue\",\"blue\",\"blue\",\"blue\",\"blue\",\"blue\",\"blue\",\"blue\",\"blue\",\"blue\",\"blue\",\"blue\",\"blue\",\"blue\",\"blue\",\"blue\",\"blue\",\"blue\",\"blue\",\"blue\",\"blue\",\"blue\",\"blue\",\"blue\",\"blue\",\"blue\",\"blue\",\"blue\",\"blue\",\"blue\",\"blue\",\"blue\",\"blue\",\"blue\",\"blue\",\"blue\",\"blue\",\"blue\",\"blue\",\"blue\",\"blue\",\"blue\",\"blue\",\"blue\",\"blue\",\"blue\",\"blue\",\"blue\",\"blue\",\"blue\",\"blue\",\"blue\",\"blue\",\"blue\",\"blue\",\"blue\",\"blue\",\"blue\",\"blue\",\"blue\",\"blue\",\"blue\",\"blue\",\"blue\",\"blue\",\"blue\",\"blue\",\"blue\",\"blue\",\"blue\",\"blue\",\"blue\",\"blue\",\"blue\",\"blue\",\"blue\",\"blue\",\"blue\",\"blue\",\"blue\",\"blue\",\"blue\",\"blue\",\"blue\",\"blue\",\"blue\",\"blue\",\"blue\",\"blue\",\"blue\",\"blue\",\"blue\",\"blue\",\"blue\",\"blue\",\"blue\",\"blue\",\"blue\",\"blue\",\"blue\",\"blue\",\"blue\",\"blue\",\"blue\",\"blue\",\"blue\",\"blue\",\"blue\",\"blue\",\"blue\",\"blue\",\"blue\",\"blue\",\"blue\",\"blue\",\"blue\",\"blue\",\"blue\",\"blue\",\"blue\",\"blue\",\"blue\",\"blue\",\"blue\",\"blue\",\"blue\",\"blue\",\"blue\",\"blue\",\"blue\",\"blue\",\"blue\",\"blue\",\"blue\",\"blue\",\"blue\",\"blue\",\"blue\",\"blue\",\"blue\",\"blue\",\"blue\",\"blue\",\"blue\",\"blue\",\"blue\",\"blue\",\"blue\",\"blue\",\"blue\",\"blue\",\"blue\",\"blue\",\"blue\",\"blue\",\"blue\",\"blue\",\"blue\",\"blue\",\"blue\",\"blue\",\"blue\",\"blue\",\"blue\",\"blue\",\"blue\",\"blue\",\"blue\",\"blue\",\"blue\",\"blue\",\"blue\",\"blue\",\"blue\",\"blue\",\"blue\",\"blue\",\"blue\",\"blue\",\"blue\",\"blue\",\"blue\",\"blue\",\"blue\",\"blue\",\"blue\",\"blue\",\"blue\",\"blue\",\"blue\",\"blue\",\"blue\",\"blue\",\"blue\",\"blue\",\"blue\",\"blue\",\"blue\",\"blue\",\"blue\",\"blue\",\"blue\",\"blue\",\"blue\",\"blue\",\"blue\",\"blue\",\"blue\",\"blue\",\"blue\",\"blue\",\"blue\",\"blue\",\"blue\",\"blue\",\"blue\",\"blue\",\"blue\",\"blue\",\"blue\",\"blue\",\"blue\",\"blue\",\"blue\",\"blue\",\"blue\",\"blue\",\"blue\",\"blue\",\"blue\",\"blue\",\"blue\",\"blue\",\"blue\",\"blue\",\"blue\",\"blue\",\"blue\",\"blue\",\"blue\",\"blue\",\"blue\",\"blue\",\"blue\",\"blue\",\"blue\",\"blue\",\"blue\",\"blue\",\"blue\",\"blue\",\"blue\",\"blue\",\"blue\",\"blue\",\"blue\",\"blue\",\"blue\",\"blue\",\"blue\",\"blue\",\"blue\",\"blue\",\"blue\",\"blue\",\"blue\",\"blue\",\"blue\",\"blue\",\"blue\",\"blue\",\"blue\",\"blue\",\"blue\",\"blue\",\"blue\",\"blue\",\"blue\",\"blue\",\"blue\",\"blue\",\"blue\",\"blue\",\"blue\",\"blue\",\"blue\",\"blue\",\"blue\",\"blue\",\"blue\",\"blue\",\"blue\",\"blue\",\"blue\",\"blue\",\"blue\",\"blue\",\"blue\",\"blue\",\"blue\",\"blue\",\"blue\",\"blue\",\"blue\",\"blue\",\"blue\",\"blue\",\"blue\",\"blue\",\"blue\",\"blue\",\"blue\",\"blue\",\"blue\",\"blue\",\"blue\",\"blue\",\"blue\",\"blue\",\"blue\",\"blue\",\"blue\",\"blue\",\"blue\",\"blue\",\"blue\",\"blue\",\"blue\",\"blue\",\"blue\",\"blue\",\"blue\",\"blue\",\"blue\",\"blue\",\"blue\",\"blue\",\"blue\",\"blue\",\"blue\",\"blue\",\"blue\",\"blue\",\"blue\",\"blue\",\"blue\",\"blue\",\"blue\",\"blue\",\"blue\",\"blue\",\"blue\",\"blue\",\"blue\",\"blue\",\"blue\",\"blue\",\"blue\",\"blue\",\"blue\",\"blue\",\"blue\",\"blue\",\"blue\",\"blue\",\"blue\",\"blue\",\"blue\",\"blue\",\"blue\",\"blue\",\"blue\",\"blue\",\"blue\",\"blue\",\"blue\",\"blue\",\"blue\",\"blue\",\"blue\",\"blue\",\"blue\",\"blue\",\"blue\",\"blue\",\"blue\",\"blue\",\"blue\",\"blue\",\"blue\",\"blue\",\"blue\",\"blue\",\"blue\",\"blue\",\"blue\",\"blue\",\"blue\",\"blue\",\"blue\",\"blue\",\"blue\",\"blue\",\"blue\",\"blue\",\"blue\",\"blue\",\"blue\",\"blue\",\"blue\",\"blue\",\"blue\",\"blue\",\"blue\",\"blue\",\"blue\",\"blue\",\"blue\",\"blue\",\"blue\",\"blue\",\"blue\",\"blue\",\"blue\",\"blue\",\"blue\",\"blue\",\"blue\",\"blue\",\"blue\",\"blue\",\"blue\",\"blue\",\"blue\",\"blue\",\"blue\",\"blue\",\"blue\",\"blue\",\"blue\",\"blue\",\"blue\",\"blue\",\"blue\",\"blue\",\"blue\",\"blue\",\"blue\",\"blue\",\"blue\",\"blue\",\"blue\",\"blue\",\"blue\",\"blue\",\"blue\",\"blue\",\"blue\",\"blue\",\"blue\",\"blue\",\"blue\",\"blue\",\"blue\",\"blue\",\"blue\",\"blue\",\"blue\",\"blue\",\"blue\",\"blue\",\"blue\",\"blue\",\"blue\",\"blue\",\"blue\",\"blue\",\"blue\",\"blue\",\"blue\",\"blue\",\"blue\",\"blue\",\"blue\",\"blue\",\"blue\",\"blue\",\"blue\",\"blue\",\"blue\",\"blue\",\"blue\",\"blue\",\"blue\",\"blue\",\"blue\",\"blue\",\"blue\",\"blue\",\"blue\",\"blue\",\"blue\",\"blue\",\"blue\",\"blue\",\"blue\",\"blue\",\"blue\",\"blue\",\"blue\",\"blue\",\"blue\",\"blue\",\"blue\",\"blue\",\"blue\",\"blue\",\"blue\",\"blue\",\"blue\",\"blue\",\"blue\",\"blue\",\"blue\",\"blue\",\"blue\",\"blue\",\"blue\",\"blue\",\"blue\",\"blue\",\"blue\",\"blue\",\"blue\",\"blue\",\"blue\",\"blue\",\"blue\",\"blue\",\"blue\",\"blue\",\"blue\",\"blue\",\"blue\",\"blue\",\"blue\",\"blue\",\"blue\",\"blue\",\"blue\",\"blue\",\"blue\",\"blue\",\"blue\",\"blue\",\"blue\",\"blue\",\"blue\",\"blue\",\"blue\",\"blue\",\"blue\",\"blue\",\"blue\",\"blue\",\"blue\",\"blue\",\"blue\",\"blue\",\"blue\",\"blue\",\"blue\",\"blue\",\"blue\",\"blue\",\"blue\",\"blue\",\"blue\",\"blue\",\"blue\",\"blue\",\"blue\",\"blue\",\"blue\",\"blue\",\"blue\",\"blue\",\"blue\",\"blue\",\"blue\",\"blue\",\"blue\",\"blue\",\"blue\",\"blue\",\"blue\",\"blue\",\"blue\",\"blue\",\"blue\",\"blue\",\"blue\",\"blue\",\"blue\",\"blue\",\"blue\",\"blue\",\"blue\",\"blue\",\"blue\",\"blue\",\"blue\",\"blue\",\"blue\",\"blue\",\"blue\",\"blue\",\"blue\",\"blue\",\"blue\",\"blue\",\"blue\",\"blue\",\"blue\",\"blue\",\"blue\",\"blue\",\"blue\",\"blue\",\"blue\",\"blue\",\"blue\",\"blue\",\"blue\",\"blue\",\"blue\",\"blue\",\"blue\",\"blue\",\"blue\",\"blue\",\"blue\",\"blue\",\"blue\",\"blue\",\"blue\",\"blue\",\"blue\",\"blue\",\"blue\",\"blue\",\"blue\",\"blue\",\"blue\",\"blue\",\"blue\",\"blue\",\"blue\",\"blue\",\"blue\",\"blue\",\"blue\",\"blue\",\"blue\",\"blue\",\"blue\",\"blue\",\"blue\",\"blue\",\"blue\",\"blue\",\"blue\",\"blue\",\"blue\",\"blue\",\"blue\",\"blue\",\"blue\",\"blue\",\"blue\",\"blue\",\"blue\",\"blue\",\"blue\",\"blue\",\"blue\",\"blue\",\"blue\",\"blue\",\"blue\",\"blue\",\"blue\",\"blue\",\"blue\",\"blue\",\"blue\",\"blue\",\"blue\",\"blue\",\"blue\",\"blue\",\"blue\",\"blue\",\"blue\",\"blue\",\"blue\",\"blue\",\"blue\",\"blue\",\"blue\",\"blue\",\"blue\",\"blue\",\"blue\",\"blue\",\"blue\",\"blue\",\"blue\",\"blue\",\"blue\",\"blue\",\"blue\",\"blue\",\"blue\",\"blue\",\"blue\",\"blue\",\"blue\",\"blue\",\"blue\",\"blue\",\"blue\",\"blue\",\"blue\",\"blue\",\"blue\",\"blue\",\"blue\",\"blue\",\"blue\",\"blue\",\"blue\",\"blue\",\"blue\",\"blue\",\"blue\",\"blue\",\"blue\",\"blue\",\"blue\",\"blue\",\"blue\",\"blue\",\"blue\",\"blue\",\"blue\",\"blue\",\"blue\",\"blue\",\"blue\",\"blue\",\"blue\",\"blue\",\"blue\",\"blue\",\"blue\",\"blue\",\"blue\",\"blue\",\"blue\",\"blue\",\"blue\",\"blue\",\"blue\",\"blue\",\"blue\",\"blue\",\"blue\",\"blue\",\"blue\",\"blue\",\"blue\",\"blue\",\"blue\",\"blue\",\"blue\",\"blue\",\"blue\",\"blue\",\"blue\",\"blue\",\"blue\",\"blue\",\"blue\",\"blue\",\"blue\",\"blue\",\"blue\",\"blue\",\"blue\",\"blue\",\"blue\",\"blue\",\"blue\",\"blue\",\"blue\",\"blue\",\"blue\",\"blue\",\"blue\",\"blue\",\"blue\",\"blue\",\"blue\",\"blue\",\"blue\",\"blue\",\"blue\",\"blue\",\"blue\",\"blue\",\"blue\",\"blue\",\"blue\",\"blue\",\"blue\",\"blue\",\"blue\",\"blue\",\"blue\",\"blue\",\"blue\",\"blue\",\"blue\",\"blue\",\"blue\",\"blue\",\"blue\",\"blue\",\"blue\",\"blue\",\"blue\",\"blue\",\"blue\",\"blue\",\"blue\",\"blue\",\"blue\",\"blue\",\"blue\",\"blue\",\"blue\",\"blue\",\"blue\",\"blue\",\"blue\",\"blue\",\"blue\",\"blue\",\"blue\",\"blue\",\"blue\",\"blue\",\"blue\",\"blue\",\"blue\",\"blue\",\"blue\",\"blue\",\"blue\",\"blue\",\"blue\",\"blue\",\"blue\",\"blue\",\"blue\",\"blue\",\"blue\",\"blue\",\"blue\",\"blue\",\"blue\",\"blue\",\"blue\",\"blue\",\"blue\",\"blue\",\"blue\",\"blue\",\"blue\",\"blue\",\"blue\",\"blue\",\"blue\",\"blue\",\"blue\",\"blue\",\"blue\",\"blue\",\"blue\",\"blue\",\"blue\",\"blue\",\"blue\",\"blue\",\"blue\",\"blue\",\"blue\",\"blue\",\"blue\",\"blue\",\"blue\",\"blue\",\"blue\",\"blue\",\"blue\",\"blue\",\"blue\",\"blue\",\"blue\",\"blue\",\"blue\",\"blue\",\"blue\",\"blue\",\"blue\",\"blue\",\"blue\",\"blue\",\"blue\",\"blue\",\"blue\",\"blue\",\"blue\",\"blue\",\"blue\",\"blue\",\"blue\",\"blue\",\"blue\",\"blue\",\"blue\",\"blue\",\"blue\",\"blue\",\"blue\",\"blue\",\"blue\",\"blue\",\"blue\",\"blue\",\"blue\",\"blue\",\"blue\",\"blue\",\"blue\",\"blue\",\"blue\",\"blue\",\"blue\",\"blue\",\"blue\",\"blue\",\"blue\",\"blue\",\"blue\",\"blue\",\"blue\",\"blue\",\"blue\",\"blue\",\"blue\",\"blue\",\"blue\",\"blue\",\"blue\",\"blue\",\"blue\",\"blue\",\"blue\",\"blue\",\"blue\",\"blue\",\"blue\",\"blue\",\"blue\",\"blue\",\"blue\",\"blue\",\"blue\",\"blue\",\"blue\",\"blue\",\"blue\",\"blue\",\"blue\",\"blue\",\"blue\",\"blue\",\"blue\",\"blue\",\"blue\",\"blue\",\"blue\",\"blue\",\"blue\",\"blue\",\"blue\",\"blue\",\"blue\",\"blue\",\"blue\",\"blue\",\"blue\",\"blue\",\"blue\",\"blue\",\"blue\",\"blue\",\"blue\",\"blue\",\"blue\",\"blue\",\"blue\",\"blue\",\"blue\",\"blue\",\"blue\",\"blue\",\"blue\",\"blue\",\"blue\",\"blue\",\"blue\",\"blue\",\"blue\",\"blue\",\"blue\",\"blue\",\"blue\",\"blue\",\"blue\",\"blue\",\"blue\",\"blue\",\"blue\",\"blue\",\"blue\",\"blue\",\"blue\",\"blue\",\"blue\",\"blue\",\"blue\",\"blue\",\"blue\",\"blue\",\"blue\",\"blue\",\"blue\",\"blue\",\"blue\",\"blue\",\"blue\",\"blue\",\"blue\",\"blue\",\"blue\",\"blue\",\"blue\",\"blue\",\"blue\",\"blue\",\"blue\",\"blue\",\"blue\",\"blue\",\"blue\",\"blue\",\"blue\",\"blue\",\"blue\",\"blue\",\"blue\",\"blue\",\"blue\",\"blue\",\"blue\",\"blue\",\"blue\",\"blue\",\"blue\",\"blue\",\"blue\",\"blue\",\"blue\",\"blue\",\"blue\",\"blue\",\"blue\",\"blue\",\"blue\",\"blue\",\"blue\",\"blue\",\"blue\",\"blue\",\"blue\",\"blue\",\"blue\",\"blue\",\"blue\",\"blue\",\"blue\",\"blue\",\"blue\",\"blue\",\"blue\",\"blue\",\"blue\",\"blue\",\"blue\",\"blue\",\"blue\",\"blue\",\"blue\",\"blue\",\"blue\",\"blue\",\"blue\",\"blue\",\"blue\",\"blue\",\"blue\",\"blue\",\"blue\",\"blue\",\"blue\",\"blue\",\"blue\",\"blue\",\"blue\",\"blue\",\"blue\",\"blue\",\"blue\",\"blue\",\"blue\",\"blue\",\"blue\",\"blue\",\"blue\",\"blue\",\"blue\",\"blue\",\"blue\",\"blue\",\"blue\",\"blue\",\"blue\",\"blue\",\"blue\",\"blue\",\"blue\",\"blue\",\"blue\",\"blue\",\"blue\",\"blue\",\"blue\",\"blue\",\"blue\",\"blue\",\"blue\",\"blue\",\"blue\",\"blue\",\"blue\",\"blue\",\"blue\",\"blue\",\"blue\",\"blue\",\"blue\",\"blue\",\"blue\",\"blue\",\"blue\",\"blue\",\"blue\",\"blue\",\"blue\",\"blue\",\"blue\",\"blue\",\"blue\",\"blue\",\"blue\",\"blue\",\"blue\",\"blue\",\"blue\",\"blue\",\"blue\",\"blue\",\"blue\",\"blue\",\"blue\",\"blue\",\"blue\",\"blue\",\"blue\",\"blue\",\"blue\",\"blue\",\"blue\",\"blue\",\"blue\",\"blue\",\"blue\",\"blue\",\"blue\",\"blue\",\"blue\",\"blue\",\"blue\",\"blue\",\"blue\",\"blue\",\"blue\",\"blue\",\"blue\",\"blue\",\"blue\",\"blue\",\"blue\",\"blue\",\"blue\",\"blue\",\"blue\",\"blue\",\"blue\",\"blue\",\"blue\",\"blue\",\"blue\",\"blue\",\"blue\",\"blue\",\"blue\",\"blue\",\"blue\",\"blue\",\"blue\",\"blue\",\"blue\",\"blue\",\"blue\",\"blue\",\"blue\",\"blue\",\"blue\",\"blue\",\"blue\",\"blue\",\"blue\",\"blue\",\"blue\",\"blue\",\"blue\",\"blue\",\"blue\",\"blue\",\"blue\",\"blue\",\"blue\",\"blue\",\"blue\",\"blue\",\"blue\",\"blue\",\"blue\",\"blue\",\"blue\",\"blue\",\"blue\",\"blue\",\"blue\",\"blue\",\"blue\",\"blue\",\"blue\",\"blue\",\"blue\",\"blue\",\"blue\",\"blue\",\"blue\",\"blue\",\"blue\",\"blue\",\"blue\",\"blue\",\"blue\",\"blue\",\"blue\",\"blue\",\"blue\",\"blue\",\"blue\",\"blue\",\"blue\",\"blue\",\"blue\",\"blue\",\"blue\",\"blue\",\"blue\",\"blue\",\"blue\",\"blue\",\"blue\",\"blue\",\"blue\",\"blue\",\"blue\",\"blue\",\"blue\",\"blue\",\"blue\",\"blue\",\"blue\",\"blue\",\"blue\",\"blue\",\"blue\",\"blue\",\"blue\",\"blue\",\"blue\",\"blue\",\"blue\",\"blue\",\"blue\",\"blue\",\"blue\",\"blue\",\"blue\",\"blue\",\"blue\",\"blue\",\"blue\",\"blue\",\"blue\",\"blue\",\"blue\",\"blue\",\"blue\",\"blue\",\"blue\",\"blue\",\"blue\",\"blue\",\"blue\",\"blue\",\"blue\",\"blue\",\"blue\",\"blue\",\"blue\",\"blue\",\"blue\",\"blue\",\"blue\",\"blue\",\"blue\",\"blue\",\"blue\",\"blue\",\"blue\",\"blue\",\"blue\",\"blue\",\"blue\",\"blue\",\"blue\",\"blue\",\"blue\",\"blue\",\"blue\",\"blue\",\"blue\",\"blue\",\"blue\",\"blue\",\"blue\",\"blue\",\"blue\",\"blue\",\"blue\",\"blue\",\"blue\",\"blue\",\"blue\",\"blue\",\"blue\",\"blue\",\"blue\",\"blue\",\"blue\",\"blue\",\"blue\",\"blue\",\"blue\",\"blue\",\"blue\",\"blue\",\"blue\",\"blue\",\"blue\",\"blue\",\"blue\",\"blue\",\"blue\",\"blue\",\"blue\",\"blue\",\"blue\",\"blue\",\"blue\",\"blue\",\"blue\",\"blue\",\"blue\",\"blue\",\"blue\",\"blue\",\"blue\",\"blue\",\"blue\",\"blue\",\"blue\",\"blue\",\"blue\",\"blue\",\"blue\",\"blue\",\"blue\",\"blue\",\"blue\",\"blue\",\"blue\",\"blue\",\"blue\",\"blue\",\"blue\",\"blue\",\"blue\",\"blue\",\"blue\",\"blue\",\"blue\",\"blue\",\"blue\",\"blue\",\"blue\",\"blue\",\"blue\",\"blue\",\"blue\",\"blue\",\"blue\",\"blue\",\"blue\",\"blue\",\"blue\",\"blue\",\"blue\",\"blue\",\"blue\",\"blue\",\"blue\",\"blue\",\"blue\",\"blue\",\"blue\",\"blue\",\"blue\",\"blue\",\"blue\",\"blue\",\"blue\",\"blue\",\"blue\",\"blue\",\"blue\",\"blue\",\"blue\",\"blue\",\"blue\",\"blue\",\"blue\",\"blue\",\"blue\",\"blue\",\"blue\",\"blue\",\"blue\",\"blue\",\"blue\",\"blue\",\"blue\",\"blue\",\"blue\",\"blue\",\"blue\",\"blue\",\"blue\",\"blue\",\"blue\",\"blue\",\"blue\",\"blue\",\"blue\",\"blue\",\"blue\",\"blue\",\"blue\",\"blue\",\"blue\",\"blue\",\"blue\",\"blue\",\"blue\",\"blue\",\"blue\",\"blue\",\"blue\",\"blue\",\"blue\",\"blue\",\"blue\",\"blue\",\"blue\",\"blue\",\"blue\",\"blue\",\"blue\",\"blue\",\"blue\",\"blue\",\"blue\",\"blue\",\"blue\",\"blue\",\"blue\",\"blue\",\"blue\",\"blue\",\"blue\",\"blue\",\"blue\",\"blue\",\"blue\",\"blue\",\"blue\",\"blue\",\"blue\",\"blue\",\"blue\",\"blue\",\"blue\",\"blue\",\"blue\",\"blue\",\"blue\",\"blue\",\"blue\",\"blue\",\"blue\",\"blue\",\"blue\",\"blue\",\"blue\",\"blue\",\"blue\",\"blue\",\"blue\",\"blue\",\"blue\",\"blue\",\"blue\",\"blue\",\"blue\",\"blue\",\"blue\",\"blue\",\"blue\",\"blue\",\"blue\",\"blue\",\"blue\",\"blue\",\"blue\",\"blue\",\"blue\",\"blue\",\"blue\",\"blue\",\"blue\",\"blue\",\"blue\",\"blue\",\"blue\",\"blue\",\"blue\",\"blue\",\"blue\",\"blue\",\"blue\",\"blue\",\"blue\",\"blue\",\"blue\",\"blue\",\"blue\",\"blue\",\"blue\",\"blue\",\"blue\",\"blue\",\"blue\",\"blue\",\"blue\",\"blue\",\"blue\",\"blue\",\"blue\",\"blue\",\"blue\",\"blue\",\"blue\",\"blue\",\"blue\",\"blue\",\"blue\",\"blue\",\"blue\",\"blue\",\"blue\",\"blue\",\"blue\",\"blue\",\"blue\",\"blue\",\"blue\",\"blue\",\"blue\",\"blue\",\"blue\",\"blue\",\"blue\",\"blue\",\"blue\",\"blue\",\"blue\",\"blue\",\"blue\",\"blue\",\"blue\",\"blue\",\"blue\",\"blue\",\"blue\",\"blue\",\"blue\",\"blue\",\"blue\",\"blue\",\"blue\",\"blue\",\"blue\",\"blue\",\"blue\",\"blue\",\"blue\",\"blue\",\"blue\",\"blue\",\"blue\",\"blue\",\"blue\",\"blue\",\"blue\",\"blue\",\"blue\",\"blue\",\"blue\",\"blue\",\"blue\",\"blue\",\"blue\",\"blue\",\"blue\",\"blue\",\"blue\",\"blue\",\"blue\",\"blue\",\"blue\",\"blue\",\"blue\",\"blue\",\"blue\",\"blue\",\"blue\",\"blue\",\"blue\",\"blue\",\"blue\",\"blue\",\"blue\",\"blue\",\"blue\",\"blue\",\"blue\",\"blue\",\"blue\",\"blue\",\"blue\",\"blue\",\"blue\",\"blue\",\"blue\",\"blue\",\"blue\",\"blue\",\"blue\",\"blue\",\"blue\",\"blue\",\"blue\",\"blue\",\"blue\",\"blue\",\"blue\",\"blue\",\"blue\",\"blue\",\"blue\",\"blue\",\"blue\",\"blue\",\"blue\",\"blue\",\"blue\",\"blue\",\"blue\",\"blue\",\"blue\",\"blue\",\"blue\",\"blue\",\"blue\",\"blue\",\"blue\",\"blue\",\"blue\",\"blue\",\"blue\",\"blue\",\"blue\",\"blue\",\"blue\",\"blue\",\"blue\",\"blue\",\"blue\",\"blue\",\"blue\",\"blue\",\"blue\",\"blue\",\"blue\",\"blue\",\"blue\",\"blue\",\"blue\",\"blue\",\"blue\",\"blue\",\"blue\",\"blue\",\"blue\",\"blue\",\"blue\",\"blue\",\"blue\",\"blue\",\"blue\",\"blue\",\"blue\",\"blue\",\"blue\",\"blue\",\"blue\",\"blue\",\"blue\",\"blue\",\"blue\",\"blue\",\"blue\",\"blue\",\"blue\",\"blue\",\"blue\",\"blue\",\"blue\",\"blue\",\"blue\",\"blue\",\"blue\",\"blue\",\"blue\",\"blue\",\"blue\",\"blue\",\"blue\",\"blue\",\"blue\",\"blue\",\"blue\",\"blue\",\"blue\",\"blue\",\"blue\",\"blue\",\"blue\",\"blue\",\"blue\",\"blue\",\"blue\",\"blue\",\"blue\",\"blue\",\"blue\",\"blue\",\"blue\",\"blue\",\"blue\",\"blue\",\"blue\",\"blue\",\"blue\",\"blue\",\"blue\",\"blue\",\"blue\",\"blue\",\"blue\",\"blue\",\"blue\",\"blue\",\"blue\",\"blue\",\"blue\",\"blue\",\"blue\",\"blue\",\"blue\",\"blue\",\"blue\",\"blue\",\"blue\",\"blue\",\"blue\",\"blue\",\"blue\",\"blue\",\"blue\",\"blue\",\"blue\",\"blue\",\"blue\",\"blue\",\"blue\",\"blue\",\"blue\",\"blue\",\"blue\",\"blue\",\"blue\",\"blue\",\"blue\",\"blue\",\"blue\",\"blue\",\"blue\",\"blue\",\"blue\",\"blue\",\"blue\",\"blue\",\"blue\",\"blue\",\"blue\",\"blue\",\"blue\",\"blue\",\"blue\",\"blue\",\"blue\",\"blue\",\"blue\",\"blue\",\"blue\",\"blue\",\"blue\",\"blue\",\"blue\",\"blue\",\"blue\",\"blue\",\"blue\",\"blue\",\"blue\",\"blue\",\"blue\",\"blue\",\"blue\",\"blue\",\"blue\",\"blue\",\"blue\",\"blue\",\"blue\",\"blue\",\"blue\",\"blue\",\"blue\",\"blue\",\"blue\",\"blue\",\"blue\",\"blue\",\"blue\",\"blue\",\"blue\",\"blue\",\"blue\",\"blue\",\"blue\",\"blue\",\"blue\",\"blue\",\"blue\",\"blue\",\"blue\",\"blue\",\"blue\",\"blue\",\"blue\",\"blue\",\"blue\",\"blue\",\"blue\",\"blue\",\"blue\",\"blue\",\"blue\",\"blue\",\"blue\",\"blue\",\"blue\",\"blue\",\"blue\",\"blue\",\"blue\",\"blue\",\"blue\",\"blue\",\"blue\",\"blue\",\"blue\",\"blue\",\"blue\",\"blue\",\"blue\",\"blue\",\"blue\",\"blue\",\"blue\",\"blue\",\"blue\",\"blue\",\"blue\",\"blue\",\"blue\",\"blue\",\"blue\",\"blue\",\"blue\",\"blue\",\"blue\",\"blue\",\"blue\",\"blue\",\"blue\",\"blue\",\"blue\",\"blue\",\"blue\",\"blue\",\"blue\",\"blue\",\"blue\",\"blue\",\"blue\",\"blue\",\"blue\",\"blue\",\"blue\",\"blue\",\"blue\",\"blue\",\"blue\",\"blue\",\"blue\",\"blue\",\"blue\",\"blue\",\"blue\",\"blue\",\"blue\",\"blue\",\"blue\",\"blue\",\"blue\",\"blue\",\"blue\",\"blue\",\"blue\",\"blue\",\"blue\",\"blue\",\"blue\",\"blue\",\"blue\",\"blue\",\"blue\",\"blue\",\"blue\",\"blue\",\"blue\",\"blue\",\"blue\",\"blue\",\"blue\",\"blue\",\"blue\",\"blue\",\"blue\",\"blue\",\"blue\",\"blue\",\"blue\",\"blue\",\"blue\",\"blue\",\"blue\",\"blue\",\"blue\",\"blue\",\"blue\",\"blue\",\"blue\",\"blue\",\"blue\",\"blue\",\"blue\",\"blue\",\"blue\",\"blue\",\"blue\",\"blue\",\"blue\",\"blue\",\"blue\",\"blue\",\"blue\",\"blue\",\"blue\",\"blue\",\"blue\",\"blue\",\"blue\",\"blue\",\"blue\",\"blue\",\"blue\",\"blue\",\"blue\",\"blue\",\"blue\",\"blue\",\"blue\",\"blue\",\"blue\",\"blue\",\"blue\",\"blue\",\"blue\",\"blue\",\"blue\",\"blue\",\"blue\",\"blue\",\"blue\",\"blue\",\"blue\",\"blue\",\"blue\",\"blue\",\"blue\",\"blue\",\"blue\",\"blue\",\"blue\",\"blue\",\"blue\",\"blue\",\"blue\",\"blue\",\"blue\",\"blue\",\"blue\",\"blue\",\"blue\",\"blue\",\"blue\",\"blue\",\"blue\",\"blue\",\"blue\",\"blue\",\"blue\",\"blue\",\"blue\",\"blue\",\"blue\",\"blue\",\"blue\",\"blue\",\"blue\",\"blue\",\"blue\",\"blue\",\"blue\",\"blue\",\"blue\",\"blue\",\"blue\",\"blue\",\"blue\",\"blue\",\"blue\",\"blue\",\"blue\",\"blue\",\"blue\",\"blue\",\"blue\",\"blue\",\"blue\",\"blue\",\"blue\",\"blue\",\"blue\",\"blue\",\"blue\",\"blue\",\"blue\",\"blue\",\"blue\",\"blue\",\"blue\",\"blue\",\"blue\",\"blue\",\"blue\",\"blue\",\"blue\",\"blue\",\"blue\",\"blue\",\"blue\",\"blue\",\"blue\",\"blue\",\"blue\",\"blue\",\"blue\",\"blue\",\"blue\",\"blue\",\"blue\",\"blue\",\"blue\",\"blue\",\"blue\",\"blue\",\"blue\",\"blue\",\"blue\",\"blue\",\"blue\",\"blue\",\"blue\",\"blue\",\"blue\",\"blue\",\"blue\",\"blue\",\"blue\",\"blue\",\"blue\",\"blue\",\"blue\",\"blue\",\"blue\",\"blue\",\"blue\",\"blue\",\"blue\",\"blue\",\"blue\",\"blue\",\"blue\",\"blue\",\"blue\",\"blue\",\"blue\",\"blue\",\"blue\",\"blue\",\"blue\",\"blue\",\"blue\",\"blue\",\"blue\",\"blue\",\"blue\",\"blue\",\"blue\",\"blue\",\"blue\",\"blue\",\"blue\",\"blue\",\"blue\",\"blue\",\"blue\",\"blue\",\"blue\",\"blue\",\"blue\",\"blue\",\"blue\",\"blue\",\"blue\",\"blue\",\"blue\",\"blue\",\"blue\",\"blue\",\"blue\",\"blue\",\"blue\",\"blue\",\"blue\",\"blue\",\"blue\",\"blue\",\"blue\",\"blue\",\"blue\",\"blue\",\"blue\",\"blue\",\"blue\",\"blue\",\"blue\",\"blue\",\"blue\",\"blue\",\"blue\",\"blue\",\"blue\",\"blue\",\"blue\",\"blue\",\"blue\",\"blue\",\"blue\",\"blue\",\"blue\",\"blue\",\"blue\",\"blue\",\"blue\",\"blue\",\"blue\",\"blue\",\"blue\",\"blue\",\"blue\",\"blue\",\"blue\",\"blue\",\"blue\",\"blue\",\"blue\",\"blue\",\"blue\",\"blue\",\"blue\",\"blue\",\"blue\",\"blue\",\"blue\",\"blue\",\"blue\",\"blue\",\"blue\",\"blue\",\"blue\",\"blue\",\"blue\",\"blue\",\"blue\",\"blue\",\"blue\",\"blue\",\"blue\",\"blue\",\"blue\",\"blue\",\"blue\",\"blue\",\"blue\",\"blue\",\"blue\",\"blue\",\"blue\",\"blue\",\"blue\",\"blue\",\"blue\",\"blue\",\"blue\",\"blue\",\"blue\",\"blue\",\"blue\",\"blue\",\"blue\",\"blue\",\"blue\",\"blue\",\"blue\",\"blue\",\"blue\",\"blue\",\"blue\",\"blue\",\"blue\",\"blue\",\"blue\",\"blue\",\"blue\",\"blue\",\"blue\",\"blue\",\"blue\",\"blue\",\"blue\",\"blue\",\"blue\",\"blue\",\"blue\",\"blue\",\"blue\",\"blue\",\"blue\",\"blue\",\"blue\",\"blue\",\"blue\",\"blue\",\"blue\",\"blue\",\"blue\",\"blue\",\"blue\",\"blue\",\"blue\",\"blue\",\"blue\",\"blue\",\"blue\",\"blue\",\"blue\",\"blue\",\"blue\",\"blue\",\"blue\",\"blue\",\"blue\",\"blue\",\"blue\",\"blue\",\"blue\",\"blue\",\"blue\",\"blue\",\"blue\",\"blue\",\"blue\",\"blue\",\"blue\",\"blue\",\"blue\",\"blue\",\"blue\",\"blue\",\"blue\",\"blue\",\"blue\",\"blue\",\"blue\",\"blue\",\"blue\",\"blue\",\"blue\",\"blue\",\"blue\",\"blue\",\"blue\",\"blue\",\"blue\",\"blue\",\"blue\",\"blue\",\"blue\",\"blue\",\"blue\",\"blue\",\"blue\",\"blue\",\"blue\",\"blue\",\"blue\",\"blue\",\"blue\",\"blue\",\"blue\",\"blue\",\"blue\",\"blue\",\"blue\",\"blue\",\"blue\",\"blue\",\"blue\",\"blue\",\"blue\",\"blue\",\"blue\",\"blue\",\"blue\",\"blue\",\"blue\",\"blue\",\"blue\",\"blue\",\"blue\",\"blue\",\"blue\",\"blue\",\"blue\",\"blue\",\"blue\",\"blue\",\"blue\",\"blue\",\"blue\",\"blue\",\"blue\",\"blue\",\"blue\",\"blue\",\"blue\",\"blue\",\"blue\",\"blue\",\"blue\",\"blue\",\"blue\",\"blue\",\"blue\",\"blue\",\"blue\",\"blue\",\"blue\",\"blue\",\"blue\",\"blue\",\"blue\",\"blue\",\"blue\",\"blue\",\"blue\",\"blue\",\"blue\",\"blue\",\"blue\",\"blue\",\"blue\",\"blue\",\"blue\",\"blue\",\"blue\",\"blue\",\"blue\",\"blue\",\"blue\",\"blue\",\"blue\",\"blue\",\"blue\",\"blue\",\"blue\",\"blue\",\"blue\",\"blue\",\"blue\",\"blue\",\"blue\",\"blue\",\"blue\",\"blue\",\"blue\",\"blue\",\"blue\",\"blue\",\"blue\",\"blue\",\"blue\",\"blue\",\"blue\",\"blue\",\"blue\",\"blue\",\"blue\",\"blue\",\"blue\",\"blue\",\"blue\",\"blue\",\"blue\",\"blue\",\"blue\",\"blue\",\"blue\",\"blue\",\"blue\",\"blue\",\"blue\",\"blue\",\"blue\",\"blue\",\"blue\",\"blue\",\"blue\",\"blue\",\"blue\",\"blue\",\"blue\",\"blue\",\"blue\",\"blue\",\"blue\",\"blue\",\"blue\",\"blue\",\"blue\",\"blue\",\"blue\",\"blue\",\"blue\",\"blue\",\"blue\",\"blue\",\"blue\",\"blue\",\"blue\",\"blue\",\"blue\",\"blue\",\"blue\",\"blue\",\"blue\",\"blue\",\"blue\",\"blue\",\"blue\",\"blue\",\"blue\",\"blue\",\"blue\",\"blue\",\"blue\",\"blue\",\"blue\",\"blue\",\"blue\",\"blue\",\"blue\",\"blue\",\"blue\",\"blue\",\"blue\",\"blue\",\"blue\",\"blue\",\"blue\",\"blue\",\"blue\",\"blue\",\"blue\",\"blue\",\"blue\",\"blue\",\"blue\",\"blue\",\"blue\",\"blue\",\"blue\",\"blue\",\"blue\",\"blue\",\"blue\",\"blue\",\"blue\",\"blue\",\"blue\",\"blue\",\"blue\",\"blue\",\"blue\",\"blue\",\"blue\",\"blue\",\"blue\",\"blue\",\"blue\",\"blue\",\"blue\",\"blue\",\"blue\",\"blue\",\"blue\",\"blue\",\"blue\",\"blue\",\"blue\",\"blue\",\"blue\",\"blue\",\"blue\",\"blue\",\"blue\",\"blue\",\"blue\",\"blue\",\"blue\",\"blue\",\"blue\",\"blue\",\"blue\",\"blue\",\"blue\",\"blue\",\"blue\",\"blue\",\"blue\",\"blue\",\"blue\",\"blue\",\"blue\",\"blue\",\"blue\",\"blue\",\"blue\",\"blue\",\"blue\",\"blue\",\"blue\",\"blue\",\"blue\",\"blue\",\"blue\",\"blue\",\"blue\",\"blue\",\"blue\",\"blue\",\"blue\",\"blue\",\"blue\",\"blue\",\"blue\",\"blue\",\"blue\",\"blue\",\"blue\",\"blue\",\"blue\",\"blue\",\"blue\",\"blue\",\"blue\",\"blue\",\"blue\",\"blue\",\"blue\",\"blue\",\"blue\",\"blue\",\"blue\",\"blue\",\"blue\",\"blue\",\"blue\",\"blue\",\"blue\",\"blue\",\"blue\",\"blue\",\"blue\",\"blue\",\"blue\",\"blue\",\"blue\",\"blue\",\"blue\",\"blue\",\"blue\",\"blue\",\"blue\",\"blue\",\"blue\",\"blue\",\"blue\",\"blue\",\"blue\",\"blue\",\"blue\",\"blue\",\"blue\",\"blue\",\"blue\",\"blue\",\"blue\",\"blue\",\"blue\",\"blue\",\"blue\",\"blue\",\"blue\",\"blue\",\"blue\",\"blue\",\"blue\",\"blue\",\"blue\",\"blue\",\"blue\",\"blue\",\"blue\",\"blue\",\"blue\",\"blue\",\"blue\",\"blue\",\"blue\",\"blue\",\"blue\",\"blue\",\"blue\",\"blue\",\"blue\",\"blue\",\"blue\",\"blue\",\"blue\",\"blue\",\"blue\",\"blue\",\"blue\",\"blue\",\"blue\",\"blue\",\"blue\",\"blue\",\"blue\",\"blue\",\"blue\",\"blue\",\"blue\",\"blue\",\"blue\",\"blue\",\"blue\",\"blue\",\"blue\",\"blue\",\"blue\",\"blue\",\"blue\",\"blue\",\"blue\",\"blue\",\"blue\",\"blue\",\"blue\",\"blue\",\"blue\",\"blue\",\"blue\",\"blue\",\"blue\",\"blue\",\"blue\",\"blue\",\"blue\",\"blue\",\"blue\",\"blue\",\"blue\",\"blue\",\"blue\",\"blue\",\"blue\",\"blue\",\"blue\",\"blue\",\"blue\",\"blue\",\"blue\",\"blue\",\"blue\",\"blue\",\"blue\",\"blue\",\"blue\",\"blue\",\"blue\",\"blue\",\"blue\",\"blue\",\"blue\",\"blue\",\"blue\",\"blue\",\"blue\",\"blue\",\"blue\",\"blue\",\"blue\",\"blue\",\"blue\",\"blue\",\"blue\",\"blue\",\"blue\",\"blue\",\"blue\",\"blue\",\"blue\",\"blue\",\"blue\",\"blue\",\"blue\",\"blue\",\"blue\",\"blue\",\"blue\",\"blue\",\"blue\",\"blue\",\"blue\",\"blue\",\"blue\",\"blue\",\"blue\",\"blue\",\"blue\",\"blue\",\"blue\",\"blue\",\"blue\",\"blue\",\"blue\",\"blue\",\"blue\",\"blue\",\"blue\",\"blue\",\"blue\",\"blue\",\"blue\",\"blue\",\"blue\",\"blue\",\"blue\",\"blue\",\"blue\",\"blue\",\"blue\",\"blue\",\"blue\",\"blue\",\"blue\",\"blue\",\"blue\",\"blue\",\"blue\",\"blue\",\"blue\",\"blue\",\"blue\",\"blue\",\"blue\",\"blue\",\"blue\",\"blue\",\"blue\",\"blue\",\"blue\",\"blue\",\"blue\",\"blue\",\"blue\",\"blue\",\"blue\",\"blue\",\"blue\",\"blue\",\"blue\",\"blue\",\"blue\",\"blue\",\"blue\",\"blue\",\"blue\",\"blue\",\"blue\",\"blue\",\"blue\",\"blue\",\"blue\",\"blue\",\"blue\",\"blue\",\"blue\",\"blue\",\"blue\",\"blue\",\"blue\",\"blue\",\"blue\",\"blue\",\"blue\",\"blue\",\"blue\",\"blue\",\"blue\",\"blue\",\"blue\",\"blue\",\"blue\",\"blue\",\"blue\",\"blue\",\"blue\",\"blue\",\"blue\",\"blue\",\"blue\",\"blue\",\"blue\",\"blue\",\"blue\",\"blue\",\"blue\",\"blue\",\"blue\",\"blue\",\"blue\",\"blue\",\"blue\",\"blue\",\"blue\",\"blue\",\"blue\",\"blue\",\"blue\",\"blue\",\"blue\",\"blue\",\"blue\",\"blue\",\"blue\",\"blue\",\"blue\",\"blue\",\"blue\",\"blue\",\"blue\",\"blue\",\"blue\",\"blue\",\"blue\",\"blue\",\"blue\",\"blue\",\"blue\",\"blue\",\"blue\",\"blue\",\"blue\",\"blue\",\"blue\",\"blue\",\"blue\",\"blue\",\"blue\",\"blue\",\"blue\",\"blue\",\"blue\",\"blue\",\"blue\",\"blue\",\"blue\",\"blue\",\"blue\",\"blue\",\"blue\",\"blue\",\"blue\",\"blue\",\"blue\",\"blue\",\"blue\",\"blue\",\"blue\"]],[\"token\",[\"verified\",\"2gb\",\"illinois\",\"jazz\",\"checking\",\"telescope\",\"seasons\",\"astrologer\",\"contribution\",\"homemade\",\"heroes\",\"warcraft\",\"kumar\",\"tester\",\"politically\",\"conquer\",\"columbia\",\"quiet\",\"repeat\",\"kapil\",\"involve\",\"mckinsey\",\"switched\",\"att\",\"instance\",\"innocent\",\"portuguese\",\"subscribers\",\"cabinet\",\"terror\",\"85\",\"rotation\",\"shirts\",\"drawn\",\"bi\",\"aspergers\",\"inspiration\",\"beats\",\"\\u00a3\",\"approximately\",\"asset\",\"empathy\",\"rooting\",\"ia\",\"dandruff\",\"slab\",\"operator\",\"horrible\",\"dominant\",\"ocd\",\"spacetime\",\"blow\",\"installing\",\"learnt\",\"separation\",\"institution\",\"temples\",\"hons\",\"pound\",\"removing\",\"unemployment\",\"greenlit\",\"audit\",\"supplement\",\"roller\",\"dota\",\"tiny\",\"equally\",\"braces\",\"aggressive\",\"corn\",\"camps\",\"additional\",\"consent\",\"granted\",\"welfare\",\"myths\",\"stations\",\"timeline\",\"psychologist\",\"nagpur\",\"herself\",\"cooper\",\"exgirlfriend\",\"intercourse\",\"flip\",\"hurts\",\"lpa\",\"nerve\",\"tvs\",\"halloween\",\"screenshot\",\"biomedical\",\"covered\",\"milky\",\"onsite\",\"aside\",\"meaningful\",\"stretch\",\"joker\",\"encounter\",\"tone\",\"founders\",\"talked\",\"respectively\",\"downloads\",\"cocaine\",\"toxic\",\"sword\",\"fuck\",\"trainer\",\"partition\",\"boxing\",\"grid\",\"practicing\",\"menu\",\"cms\",\"indore\",\"ate\",\"volunteer\",\"misconceptions\",\"pics\",\"flies\",\"instantly\",\"trans\",\"friday\",\"sociopaths\",\"ctc\",\"hoax\",\"detailed\",\"sizes\",\"rejection\",\"limitations\",\"bharat\",\"kissing\",\"renewable\",\"oriented\",\"countrys\",\"dumps\",\"spiders\",\"technological\",\"advertisement\",\"headache\",\"zodiac\",\"accommodation\",\"venus\",\"calcium\",\"passenger\",\"falls\",\"overnight\",\"pickup\",\"gary\",\"transportation\",\"odds\",\"jupiter\",\"purchasing\",\"fluently\",\"flu\",\"photons\",\"conductor\",\"ohio\",\"balaji\",\"mcdonalds\",\"betting\",\"irrational\",\"sachin\",\"deactivate\",\"estimate\",\"hairs\",\"fluent\",\"errors\",\"remaining\",\"marriages\",\"medieval\",\"charles\",\"spider\",\"oxford\",\"gita\",\"races\",\"liquor\",\"poland\",\"lease\",\"co2\",\"selenium\",\"attempts\",\"crystal\",\"manaphy\",\"knight\",\"collapsed\",\"wheels\",\"behaviour\",\"bitcoins\",\"parliament\",\"himher\",\"handsome\",\"thousands\",\"caring\",\"kings\",\"lucky\",\"workplace\",\"condom\",\"intuitive\",\"chronic\",\"eyesight\",\"simulation\",\"prank\",\"quickest\",\"concert\",\"popularity\",\"connections\",\"disorders\",\"scripting\",\"appearance\",\"js\",\"depth\",\"cheque\",\"longterm\",\"documentaries\",\"dioxide\",\"bright\",\"info\",\"diseases\",\"appeal\",\"snap\",\"smoked\",\"singers\",\"boil\",\"probably\",\"temperatures\",\"appearing\",\"olive\",\"ntse\",\"telecom\",\"brief\",\"discrimination\",\"ethnic\",\"cache\",\"passionate\",\"shoulder\",\"assault\",\"marshmallow\",\"momentum\",\"yr\",\"migrate\",\"retire\",\"cet\",\"canvas\",\"vietnamese\",\"institutions\",\"meter\",\"roots\",\"integer\",\"imported\",\"ants\",\"lyft\",\"piercing\",\"il\",\"poop\",\"organisms\",\"ve\",\"entropy\",\"calm\",\"saddest\",\"toward\",\"myth\",\"sight\",\"filling\",\"hdmi\",\"satisfied\",\"transactions\",\"pharmacy\",\"nursing\",\"correlation\",\"regression\",\"awake\",\"md\",\"nri\",\"recommendations\",\"bin\",\"finland\",\"multi\",\"voted\",\"discovery\",\"edward\",\"touching\",\"immigrant\",\"geometry\",\"indicate\",\"ourselves\",\"texting\",\"seek\",\"expecting\",\"dj\",\"brake\",\"helicopter\",\"blonde\",\"triple\",\"ladies\",\"vivekananda\",\"switching\",\"prostitution\",\"banana\",\"magazines\",\"shippuden\",\"lucknow\",\"2019\",\"failing\",\"elizabeth\",\"irish\",\"ebook\",\"temporary\",\"governor\",\"wasting\",\"weekends\",\"cpt\",\"wax\",\"labor\",\"instruments\",\"instrumentation\",\"hates\",\"hip\",\"arnab\",\"bubble\",\"employers\",\"aadhaar\",\"boyfriends\",\"jake\",\"explained\",\"yesterday\",\"beta\",\"extrovert\",\"andhra\",\"micromax\",\"vertical\",\"lay\",\"nonprofit\",\"dubbed\",\"typing\",\"automotive\",\"thomas\",\"procedures\",\"priority\",\"funded\",\"arabs\",\"siblings\",\"guinea\",\"missile\",\"luck\",\"strategic\",\"defend\",\"module\",\"tuition\",\"acids\",\"controller\",\"committee\",\"housing\",\"integral\",\"peaceful\",\"refugees\",\"prescription\",\"interns\",\"supported\",\"womans\",\"dentist\",\"wives\",\"village\",\"affecting\",\"lte\",\"beaches\",\"austin\",\"substance\",\"engagement\",\"trainee\",\"measures\",\"trailer\",\"purchased\",\"15000\",\"uttar\",\"glue\",\"dtu\",\"medal\",\"photon\",\"engg\",\"violin\",\"column\",\"somehow\",\"rotate\",\"3000\",\"virat\",\"forgotten\",\"fingers\",\"slim\",\"arrest\",\"covalent\",\"ncert\",\"kernel\",\"da\",\"alarm\",\"ngo\",\"4gb\",\"productivity\",\"planned\",\"district\",\"berlin\",\"lists\",\"leads\",\"slang\",\"defence\",\"aspiring\",\"56\",\"enemy\",\"farming\",\"muller\",\"pays\",\"liver\",\"membrane\",\"secretly\",\"plug\",\"gum\",\"eclipse\",\"chewing\",\"labs\",\"zombie\",\"authority\",\"males\",\"argentina\",\"tasks\",\"fell\",\"nails\",\"palestine\",\"tanks\",\"identical\",\"deck\",\"qualification\",\"leadership\",\"kohli\",\"pronunciation\",\"hello\",\"violent\",\"sabha\",\"respiration\",\"transform\",\"warranty\",\"faculty\",\"adolf\",\"expenses\",\"jersey\",\"mercury\",\"whiskey\",\"tackle\",\"tweet\",\"blame\",\"cruise\",\"mahindra\",\"discharge\",\"reduced\",\"vodka\",\"mahatma\",\"bass\",\"compete\",\"stains\",\"pill\",\"swim\",\"ali\",\"gf\",\"ford\",\"prince\",\"sweat\",\"performing\",\"limits\",\"leonardo\",\"cow\",\"resolve\",\"matters\",\"pharmaceutical\",\"ray\",\"remotely\",\"pf\",\"clinical\",\"bpo\",\"homeless\",\"husbands\",\"rising\",\"newtons\",\"outcome\",\"derivative\",\"alpha\",\"grown\",\"capitalism\",\"astronaut\",\"hybrid\",\"palm\",\"teens\",\"hits\",\"airplanes\",\"none\",\"admin\",\"applicable\",\"amcat\",\"spam\",\"neutrality\",\"pixel\",\"festival\",\"faces\",\"molar\",\"snakes\",\"sip\",\"kik\",\"farm\",\"ltd\",\"votes\",\"publishing\",\"comfort\",\"frontend\",\"spin\",\"diagnosed\",\"buildings\",\"\\u00b0\",\"cashless\",\"addictive\",\"extinct\",\"ugc\",\"coke\",\"llb\",\"phrases\",\"struggle\",\"drives\",\"fiber\",\"grocery\",\"achieved\",\"penny\",\"bath\",\"allies\",\"uninstall\",\"ny\",\"appears\",\"effort\",\"satellites\",\"confirmed\",\"loneliness\",\"illuminati\",\"uri\",\"lucid\",\"preferably\",\"neither\",\"\\u221a\",\"pacific\",\"americas\",\"bs\",\"graduated\",\"bills\",\"tube\",\"germans\",\"assume\",\"cleared\",\"mate\",\"divide\",\"versions\",\"fallen\",\"journey\",\"anthem\",\"certificates\",\"looked\",\"sponsor\",\"useless\",\"dependent\",\"invite\",\"guru\",\"keyword\",\"aipmt\",\"clone\",\"kgs\",\"chip\",\"origins\",\"wide\",\"motivational\",\"elite\",\"wanna\",\"unity\",\"cough\",\"connecting\",\"mystery\",\"kim\",\"syrian\",\"voldemort\",\"responsibilities\",\"molecules\",\"boobs\",\"holidays\",\"tutorial\",\"circumstances\",\"fiitjee\",\"islands\",\"bypass\",\"slowly\",\"mixture\",\"aluminum\",\"salesforce\",\"twin\",\"iot\",\"remedy\",\"sheets\",\"pole\",\"hated\",\"females\",\"protected\",\"irs\",\"insecure\",\"entering\",\"neuroscience\",\"offices\",\"delta\",\"suggestion\",\"snapdeal\",\"backstory\",\"periodic\",\"cancelled\",\"mans\",\"complicated\",\"bitsat\",\"pleasure\",\"loop\",\"dropbox\",\"selfish\",\"nude\",\"20000\",\"voter\",\"variables\",\"victory\",\"closest\",\"compensation\",\"extended\",\"locations\",\"cracked\",\"perks\",\"ended\",\"exit\",\"awareness\",\"pakistanis\",\"ebooks\",\"bull\",\"unblock\",\"100000\",\"entrepreneurship\",\"infrastructure\",\"scotland\",\"guest\",\"attacked\",\"hurting\",\"lion\",\"reject\",\"purposes\",\"knife\",\"thai\",\"ipl\",\"knee\",\"accepting\",\"spent\",\"punjabi\",\"tab\",\"quoras\",\"caffeine\",\"athletes\",\"ink\",\"cooked\",\"improving\",\"invaded\",\"allah\",\"thermodynamics\",\"mortgage\",\"firsttime\",\"achievements\",\"issued\",\"breath\",\"award\",\"llc\",\"legends\",\"mood\",\"influenced\",\"proteins\",\"holy\",\"performed\",\"pee\",\"blocks\",\"molecule\",\"interests\",\"imei\",\"requires\",\"cisco\",\"moves\",\"marrying\",\"mca\",\"perfectly\",\"iisc\",\"corporation\",\"shiva\",\"viruses\",\"difficulty\",\"50000\",\"volte\",\"shampoo\",\"secular\",\"transplant\",\"ghz\",\"ahead\",\"crew\",\"interact\",\"depend\",\"hawaii\",\"hiv\",\"evening\",\"vegetable\",\"revenge\",\"suppose\",\"busy\",\"label\",\"rogue\",\"rational\",\"hillstation\",\"brains\",\"urdu\",\"imagine\",\"salaries\",\"survey\",\"g4\",\"butt\",\"manufacturers\",\"saas\",\"residency\",\"recommendation\",\"purple\",\"fault\",\"aadhar\",\"aging\",\"bhopal\",\"conducted\",\"loses\",\"infection\",\"forest\",\"impacts\",\"collection\",\"fridge\",\"diamond\",\"mis\",\"recorded\",\"march\",\"conditioner\",\"signature\",\"listed\",\"branches\",\"manchester\",\"wanting\",\"perception\",\"absolutely\",\"servers\",\"soluble\",\"swami\",\"lumia\",\"directors\",\"52\",\"2008\",\"gaining\",\"stereotypes\",\"homes\",\"vegas\",\"jam\",\"behave\",\"relatively\",\"forum\",\"ib\",\"earphones\",\"facilities\",\"april\",\"finally\",\"tail\",\"capacitor\",\"tiger\",\"deaf\",\"deliver\",\"django\",\"expand\",\"skip\",\"nearly\",\"maybe\",\"task\",\"gateway\",\"strangest\",\"abstract\",\"adding\",\"suck\",\"tim\",\"printed\",\"sigma\",\"immigrate\",\"decline\",\"arrested\",\"95\",\"narcissistic\",\"freelancing\",\"patterns\",\"expired\",\"casual\",\"tablets\",\"patients\",\"lean\",\"pieces\",\"laymans\",\"whatever\",\"polish\",\"lemon\",\"abortion\",\"i3\",\"theorem\",\"h\",\"compulsory\",\"helped\",\"sons\",\"feminism\",\"compiler\",\"tested\",\"enhance\",\"adhd\",\"manhattan\",\"iii\",\"nail\",\"eee\",\"deals\",\"excellent\",\"ipo\",\"folder\",\"sand\",\"continuous\",\"capable\",\"libraries\",\"aggregate\",\"64\",\"bsnl\",\"profiles\",\"spirit\",\"pulled\",\"owns\",\"deloitte\",\"therapist\",\"acts\",\"millions\",\"authors\",\"marathi\",\"dvd\",\"coconut\",\"swiss\",\"interaction\",\"ncr\",\"kannada\",\"smallest\",\"advisable\",\"smartest\",\"sorry\",\"normally\",\"ends\",\"rome\",\"spectrum\",\"cousin\",\"75\",\"suzuki\",\"nights\",\"cap\",\"enable\",\"counselling\",\"proxy\",\"margin\",\"shops\",\"hackers\",\"tatkal\",\"opened\",\"cinema\",\"consumption\",\"coal\",\"silent\",\"choosing\",\"introduction\",\"electromagnetic\",\"hcl\",\"complaint\",\"puppies\",\"vc\",\"symbols\",\"lenses\",\"username\",\"arrow\",\"adopted\",\"affects\",\"sudden\",\"pcm\",\"gel\",\"affair\",\"pinterest\",\"statements\",\"supplements\",\"justified\",\"turns\",\"santa\",\"shoe\",\"trek\",\"headphone\",\"girlfriends\",\"verizon\",\"rocket\",\"conference\",\"ego\",\"srm\",\"afghanistan\",\"nucleus\",\"generated\",\"chinas\",\"ww1\",\"consultancy\",\"socially\",\"allen\",\"berkeley\",\"missed\",\"crying\",\"introduced\",\"ps3\",\"flour\",\"brought\",\"elder\",\"minecraft\",\"9th\",\"freelancer\",\"circles\",\"scars\",\"entertainment\",\"turbine\",\"deeply\",\"rom\",\"evolved\",\"nato\",\"strengths\",\"ide\",\"tweets\",\"scholarships\",\"mentor\",\"collect\",\"hdfc\",\"mandarin\",\"solo\",\"terrible\",\"influential\",\"professionals\",\"65\",\"recognition\",\"nvidia\",\"cia\",\"designs\",\"10k\",\"creation\",\"tom\",\"rated\",\"introverts\",\"boiling\",\"communism\",\"treaty\",\"whereas\",\"thanks\",\"cigarette\",\"bengaluru\",\"oneplus\",\"reserve\",\"advertise\",\"nits\",\"helping\",\"bruce\",\"mp3\",\"severe\",\"proposal\",\"cultures\",\"tap\",\"animated\",\"planes\",\"hall\",\"cognitive\",\"supports\",\"keys\",\"gotten\",\"feedback\",\"recording\",\"proceed\",\"membership\",\"console\",\"overseas\",\"hows\",\"william\",\"billionaires\",\"updated\",\"pre\",\"organizations\",\"messi\",\"unexpected\",\"nitrogen\",\"hungry\",\"nigeria\",\"sync\",\"arduino\",\"gross\",\"outer\",\"searching\",\"workers\",\"outlook\",\"europeans\",\"founder\",\"lectures\",\"legitimate\",\"camp\",\"ordinary\",\"investments\",\"bone\",\"raising\",\"quite\",\"ages\",\"joint\",\"johnson\",\"destination\",\"concerned\",\"belief\",\"refrigerator\",\"implications\",\"manga\",\"mandatory\",\"obamas\",\"lawyers\",\"bedroom\",\"icon\",\"qualifications\",\"qa\",\"bikes\",\"boston\",\"holding\",\"session\",\"appointment\",\"weaknesses\",\"iphones\",\"motorcycle\",\"schizophrenia\",\"5th\",\"intellectual\",\"eaten\",\"attending\",\"medals\",\"adsense\",\"nda\",\"6th\",\"kali\",\"georgia\",\"wechat\",\"earlier\",\"drone\",\"truck\",\"horse\",\"merchant\",\"torque\",\"seed\",\"backend\",\"holmes\",\"graduating\",\"400\",\"bones\",\"sufficient\",\"participate\",\"rifle\",\"shock\",\"downloaded\",\"earthquake\",\"breasts\",\"secretary\",\"insert\",\"damaged\",\"massive\",\"standing\",\"remainder\",\"programme\",\"holocaust\",\"totally\",\"belt\",\"affairs\",\"nokia\",\"mechanism\",\"pin\",\"scan\",\"fought\",\"superpower\",\"poetry\",\"signals\",\"educated\",\"scariest\",\"trains\",\"closer\",\"weapon\",\"icici\",\"serial\",\"bicycle\",\"terminal\",\"finished\",\"stolen\",\"inspiring\",\"cuisine\",\"spark\",\"sounds\",\"pricing\",\"click\",\"underwear\",\"kidney\",\"bengal\",\"invention\",\"discount\",\"chase\",\"evaluate\",\"distributed\",\"themes\",\"amd\",\"stem\",\"st\",\"genre\",\"vegetables\",\"council\",\"bihar\",\"thick\",\"mouse\",\"worry\",\"newly\",\"updates\",\"candy\",\"prepaid\",\"wet\",\"rap\",\"motors\",\"implemented\",\"theoretical\",\"fabric\",\"mexican\",\"portfolio\",\"technique\",\"icse\",\"expansion\",\"evolutionary\",\"justify\",\"trick\",\"attached\",\"lightning\",\"pitch\",\"armed\",\"einstein\",\"conversion\",\"iitjee\",\"declared\",\"admit\",\"acquisition\",\"innovation\",\"runs\",\"wwe\",\"trial\",\"memories\",\"refuse\",\"netherlands\",\"committed\",\"fraud\",\"jailbreak\",\"settle\",\"badly\",\"approved\",\"eligibility\",\"trend\",\"increases\",\"comic\",\"quorans\",\"cellular\",\"matches\",\"receiving\",\"bmw\",\"vlsi\",\"signed\",\"lakes\",\"350\",\"communications\",\"pork\",\"joined\",\"anyway\",\"differentiate\",\"actresses\",\"29\",\"ethics\",\"premier\",\"hearing\",\"vehicles\",\"drama\",\"instant\",\"lips\",\"dates\",\"july\",\"holiday\",\"coach\",\"malayalam\",\"superior\",\"soviet\",\"plate\",\"throw\",\"worship\",\"bars\",\"sharma\",\"mothers\",\"integrated\",\"clubs\",\"bug\",\"melbourne\",\"co\",\"bisexual\",\"regions\",\"lesson\",\"heads\",\"reader\",\"snake\",\"qualify\",\"paul\",\"causing\",\"disappear\",\"era\",\"lets\",\"qualified\",\"spiritual\",\"wolf\",\"requirement\",\"journalism\",\"studied\",\"lowest\",\"vader\",\"coursera\",\"stark\",\"configuration\",\"verbal\",\"undergrad\",\"dimensions\",\"transition\",\"efficiently\",\"interstellar\",\"locked\",\"summary\",\"chandigarh\",\"ghosts\",\"included\",\"operate\",\"dimension\",\"mount\",\"noticed\",\"rating\",\"somewhere\",\"martin\",\"bra\",\"bird\",\"zuckerberg\",\"sensor\",\"audience\",\"dirty\",\"starbucks\",\"permission\",\"residential\",\"wholesale\",\"assets\",\"clearly\",\"km\",\"invade\",\"ipcc\",\"fb\",\"shell\",\"shave\",\"loud\",\"tip\",\"seeds\",\"sets\",\"polar\",\"although\",\"june\",\"judaism\",\"anti\",\"instrument\",\"seven\",\"shooting\",\"j\",\"portal\",\"tower\",\"github\",\"linked\",\"admitted\",\"punishment\",\"mid\",\"micro\",\"cured\",\"lifestyle\",\"nor\",\"upset\",\"challenge\",\"soap\",\"standards\",\"integration\",\"lottery\",\"lab\",\"williams\",\"odd\",\"soil\",\"sensitive\",\"route\",\"tattoos\",\"coin\",\"declare\",\"frame\",\"differential\",\"bowl\",\"softwares\",\"notifications\",\"maintenance\",\"inner\",\"apples\",\"converted\",\"recruiter\",\"bombay\",\"command\",\"posting\",\"controlled\",\"balls\",\"personally\",\"poker\",\"extract\",\"hired\",\"bugs\",\"providers\",\"loans\",\"calculator\",\"attractions\",\"torrents\",\"keywords\",\"profession\",\"blogging\",\"transport\",\"sue\",\"anonymously\",\"compounds\",\"robot\",\"buddhism\",\"sweet\",\"defense\",\"nobody\",\"uc\",\"defined\",\"division\",\"bags\",\"epic\",\"unhealthy\",\"craziest\",\"urban\",\"combination\",\"pair\",\"laugh\",\"cv\",\"usd\",\"launched\",\"usps\",\"visited\",\"nexus\",\"regularly\",\"brothers\",\"broker\",\"concentrate\",\"agreement\",\"nervous\",\"frozen\",\"detail\",\"sir\",\"situations\",\"borderline\",\"angularjs\",\"abusive\",\"tourism\",\"relate\",\"august\",\"communist\",\"accountant\",\"dumb\",\"arab\",\"b2b\",\"du\",\"thermal\",\"asians\",\"threat\",\"karma\",\"passive\",\"homosexuality\",\"putting\",\"quantitative\",\"relativity\",\"sanskrit\",\"opinions\",\"verify\",\"bear\",\"roll\",\"expanding\",\"teenage\",\"jeans\",\"providing\",\"shared\",\"extreme\",\"mi\",\"vr\",\"progress\",\"greece\",\"cpu\",\"ips\",\"merge\",\"reputation\",\"loving\",\"salman\",\"iss\",\"warm\",\"dental\",\"extension\",\"attraction\",\"fictional\",\"journal\",\"login\",\"secondary\",\"recognize\",\"southern\",\"ph\",\"lunch\",\"wallet\",\"ronaldo\",\"larger\",\"actions\",\"fathers\",\"adopt\",\"claims\",\"bottom\",\"therapy\",\"patient\",\"described\",\"virginity\",\"functional\",\"ionic\",\"chartered\",\"discover\",\"55\",\"21st\",\"biased\",\"mad\",\"northern\",\"onto\",\"liberals\",\"premium\",\"neutral\",\"detect\",\"diagram\",\"sperm\",\"ga\",\"bleach\",\"spread\",\"contributions\",\"activate\",\"prior\",\"safest\",\"holder\",\"360\",\"aim\",\"rental\",\"families\",\"everybody\",\"shut\",\"payments\",\"150\",\"cube\",\"vegan\",\"newspaper\",\"beef\",\"houses\",\"preferred\",\"simultaneously\",\"marked\",\"reactions\",\"emergency\",\"protection\",\"cab\",\"forex\",\"norway\",\"immigrants\",\"googles\",\"ssb\",\"wing\",\"yrs\",\"ensure\",\"spy\",\"reasoning\",\"strange\",\"forgive\",\"turkish\",\"tag\",\"ranking\",\"platforms\",\"fox\",\"existed\",\"walmart\",\"lazy\",\"ears\",\"clock\",\"beam\",\"rare\",\"bush\",\"2011\",\"stops\",\"batteries\",\"certified\",\"naked\",\"worldwide\",\"staying\",\"lifetime\",\"ted\",\"lake\",\"wealthy\",\"transit\",\"stephen\",\"rural\",\"versa\",\"pets\",\"commonly\",\"adults\",\"ultimate\",\"genius\",\"vinegar\",\"allows\",\"aid\",\"retirement\",\"airtel\",\"sciences\",\"mountain\",\"drinks\",\"tour\",\"wind\",\"seattle\",\"disabled\",\"bodies\",\"lesbian\",\"governments\",\"kinetic\",\"tumblr\",\"absolute\",\"author\",\"toilet\",\"whey\",\"sleepy\",\"molecular\",\"watches\",\"inventions\",\"rain\",\"34\",\"angular\",\"o\",\"dish\",\"however\",\"agents\",\"abs\",\"switzerland\",\"transformer\",\"clearing\",\"consciousness\",\"broadband\",\"uae\",\"automatic\",\"opposed\",\"geography\",\"astronauts\",\"decisions\",\"cement\",\"induction\",\"luxury\",\"upvotes\",\"politicians\",\"posted\",\"toefl\",\"kitchen\",\"noise\",\"radius\",\"dye\",\"miles\",\"risks\",\"scientifically\",\"mnc\",\"propose\",\"prepared\",\"iiit\",\"mention\",\"equipment\",\"darth\",\"january\",\"surname\",\"raised\",\"attitude\",\"gta\",\"david\",\"hike\",\"awkward\",\"proven\",\"productive\",\"lg\",\"filled\",\"atmosphere\",\"lee\",\"irctc\",\"addicted\",\"dynamic\",\"employment\",\"weekend\",\"replacement\",\"singing\",\"owners\",\"bipolar\",\"tomorrow\",\"poems\",\"default\",\"kvpy\",\"sauce\",\"competitors\",\"russians\",\"sample\",\"crimes\",\"hang\",\"inspired\",\"furniture\",\"throughout\",\"presence\",\"efficiency\",\"leg\",\"biological\",\"pilani\",\"conversations\",\"inspirational\",\"bachelor\",\"centers\",\"withdraw\",\"fundamental\",\"comparison\",\"november\",\"fifa\",\"penalty\",\"algebra\",\"joke\",\"htc\",\"pilots\",\"collapse\",\"texts\",\"vocabulary\",\"moved\",\"sc\",\"smile\",\"october\",\"dot\",\"genetic\",\"architect\",\"url\",\"51\",\"sore\",\"uniform\",\"re\",\"rails\",\"smaller\",\"marine\",\"terrorists\",\"nazi\",\"breast\",\"politician\",\"subtitles\",\"chosen\",\"egypt\",\"thin\",\"packages\",\"editor\",\"bands\",\"mythology\",\"reasonable\",\"permit\",\"acceptable\",\"seriously\",\"iraq\",\"fever\",\"visitor\",\"honest\",\"friction\",\"offering\",\"smarter\",\"ahmedabad\",\"replaced\",\"resolution\",\"burning\",\"bridge\",\"catholic\",\"calendar\",\"resident\",\"policies\",\"forced\",\"leading\",\"arm\",\"deserve\",\"context\",\"coolest\",\"arranged\",\"arizona\",\"comics\",\"harm\",\"democrats\",\"jail\",\"breed\",\"anywhere\",\"psu\",\"christ\",\"violence\",\"agriculture\",\"objective\",\"moments\",\"infinity\",\"supporting\",\"critical\",\"trees\",\"beyond\",\"bag\",\"vitamin\",\"assembly\",\"solved\",\"array\",\"perspective\",\"pas\",\"wwii\",\"skinny\",\"contains\",\"lift\",\"cleaning\",\"peter\",\"aap\",\"pimples\",\"initial\",\"lesserknown\",\"sights\",\"principles\",\"realize\",\"millionaire\",\"faux\",\"orbit\",\"desire\",\"hi\",\"prophet\",\"suits\",\"careers\",\"thinks\",\"quantity\",\"spots\",\"wage\",\"asleep\",\"sociology\",\"guard\",\"units\",\"structural\",\"operation\",\"pants\",\"w\",\"bulk\",\"possibly\",\"drunk\",\"fired\",\"accident\",\"inch\",\"bottle\",\"aerospace\",\"narcissist\",\"ux\",\"angeles\",\"wood\",\"index\",\"safely\",\"robotics\",\"edition\",\"metals\",\"practices\",\"scheme\",\"interior\",\"diabetes\",\"nobel\",\"youth\",\"lived\",\"september\",\"chief\",\"proposed\",\"assuming\",\"sin\",\"counter\",\"disable\",\"introduce\",\"restore\",\"swimming\",\"intern\",\"answering\",\"mentioned\",\"crash\",\"laser\",\"teenagers\",\"presentation\",\"quran\",\"classified\",\"demonetisation\",\"communicate\",\"cotton\",\"autism\",\"anger\",\"environmental\",\"stable\",\"7th\",\"bread\",\"invited\",\"wisdom\",\"wrote\",\"widely\",\"minor\",\"formal\",\"dreaming\",\"managers\",\"escape\",\"pollution\",\"taiwan\",\"verification\",\"los\",\"figures\",\"26\",\"illness\",\"sides\",\"compatible\",\"pack\",\"conspiracy\",\"hedge\",\"flights\",\"dropped\",\"former\",\"suffer\",\"aware\",\"designers\",\"mahabharata\",\"evolve\",\"weigh\",\"dies\",\"fruits\",\"cc\",\"butter\",\"sharing\",\"atoms\",\"tongue\",\"transaction\",\"poverty\",\"suffering\",\"presidents\",\"resistance\",\"adam\",\"civilization\",\"mining\",\"toronto\",\"stick\",\"increased\",\"wild\",\"freelance\",\"removal\",\"aws\",\"rio\",\"principle\",\"asus\",\"cute\",\"consumer\",\"pool\",\"variable\",\"tutorials\",\"advance\",\"keeping\",\"visible\",\"cognizant\",\"equations\",\"rooms\",\"krishna\",\"printer\",\"tooth\",\"mentally\",\"realistic\",\"automobile\",\"cake\",\"tie\",\"beach\",\"ghost\",\"comfortable\",\"mysql\",\"oral\",\"closed\",\"helps\",\"maharashtra\",\"admissions\",\"i5\",\"partners\",\"axis\",\"beliefs\",\"neck\",\"clans\",\"hidden\",\"cyber\",\"voting\",\"bacteria\",\"layer\",\"chhattisgarh\",\"5000\",\"sitting\",\"murder\",\"argument\",\"f\",\"privacy\",\"syndrome\",\"2010\",\"bite\",\"vacation\",\"isro\",\"trouble\",\"records\",\"answered\",\"digit\",\"defeat\",\"childhood\",\"5s\",\"gates\",\"f1\",\"town\",\"anal\",\"copper\",\"talks\",\"affiliate\",\"sociopath\",\"installed\",\"static\",\"copyright\",\"animation\",\"donate\",\"stranger\",\"bcom\",\"destroyed\",\"gujarat\",\"foundation\",\"prize\",\"components\",\"foreigner\",\"arms\",\"unlimited\",\"needing\",\"settings\",\"item\",\"eve\",\"competition\",\"landing\",\"beard\",\"patent\",\"ending\",\"2020\",\"incident\",\"petroleum\",\"florida\",\"particularly\",\"ups\",\"generator\",\"leather\",\"heal\",\"experiment\",\"28\",\"passing\",\"talent\",\"remote\",\"300\",\"published\",\"impossible\",\"steam\",\"80\",\"washing\",\"guilty\",\"punjab\",\"70\",\"album\",\"bullet\",\"paris\",\"interface\",\"agencies\",\"mission\",\"digits\",\"modis\",\"recruitment\",\"manipal\",\"telling\",\"meal\",\"orange\",\"stone\",\"links\",\"ab\",\"upper\",\"cameras\",\"p\",\"combat\",\"passion\",\"shower\",\"thailand\",\"beings\",\"grad\",\"27\",\"finger\",\"jump\",\"lights\",\"ui\",\"bba\",\"sweden\",\"arrive\",\"4th\",\"amendment\",\"window\",\"satellite\",\"al\",\"matlab\",\"jokes\",\"muhammad\",\"expression\",\"booking\",\"dinner\",\"skype\",\"lots\",\"2018\",\"teen\",\"finish\",\"dslr\",\"mens\",\"proud\",\"entrepreneurs\",\"ukraine\",\"coins\",\"scenario\",\"transmission\",\"ignore\",\"pride\",\"contribute\",\"grand\",\"curve\",\"false\",\"operations\",\"breakup\",\"eventually\",\"acquire\",\"commission\",\"lies\",\"spoken\",\"pills\",\"masturbating\",\"jackson\",\"airbnb\",\"delivered\",\"disk\",\"radiation\",\"plays\",\"marvel\",\"particle\",\"breakfast\",\"smartphones\",\"relevant\",\"quota\",\"refund\",\"inches\",\"telugu\",\"angel\",\"eastern\",\"inflation\",\"predict\",\"annoying\",\"obc\",\"tough\",\"conduct\",\"originate\",\"notification\",\"backup\",\"harder\",\"richest\",\"pronounce\",\"sri\",\"wheel\",\"wasnt\",\"oldest\",\"sheet\",\"soda\",\"20s\",\"wipro\",\"awesome\",\"facial\",\"z\",\"noida\",\"confident\",\"fbi\",\"corrupt\",\"succeed\",\"reddit\",\"associate\",\"input\",\"guns\",\"rahul\",\"baking\",\"description\",\"musical\",\"apache\",\"nowadays\",\"fluid\",\"capacity\",\"loose\",\"freshman\",\"cfa\",\"optional\",\"theres\",\"ps4\",\"trends\",\"jon\",\"richard\",\"legit\",\"nodejs\",\"document\",\"sexually\",\"particles\",\"singer\",\"printing\",\"captain\",\"valuable\",\"several\",\"aiims\",\"boot\",\"sit\",\"zone\",\"billionaire\",\"floor\",\"gravitational\",\"export\",\"motivation\",\"golden\",\"transgender\",\"healthcare\",\"heaven\",\"81\",\"leaves\",\"listening\",\"overall\",\"press\",\"dishes\",\"railways\",\"warming\",\"enfield\",\"extent\",\"acceleration\",\"afford\",\"bonds\",\"border\",\"registration\",\"cast\",\"hope\",\"shipping\",\"karnataka\",\"specifically\",\"opportunity\",\"arabia\",\"pump\",\"pg\",\"carrier\",\"plot\",\"kingdom\",\"contract\",\"painful\",\"kindle\",\"boring\",\"essential\",\"disney\",\"charger\",\"seconds\",\"measured\",\"honda\",\"ba\",\"makeup\",\"\\u2013\",\"mini\",\"annual\",\"traits\",\"retrieve\",\"willing\",\"swift\",\"consume\",\"hindus\",\"psychopath\",\"tells\",\"solving\",\"conditions\",\"artists\",\"spotify\",\"bomb\",\"integrate\",\"stuck\",\"nikon\",\"gadgets\",\"womens\",\"judge\",\"republicans\",\"vacuum\",\"felt\",\"putin\",\"tennis\",\"concentration\",\"fans\",\"constantly\",\"matrix\",\"secrets\",\"spot\",\"soft\",\"stored\",\"neural\",\"submit\",\"scores\",\"ola\",\"wire\",\"gdp\",\"jaipur\",\"typically\",\"airline\",\"roles\",\"cheaper\",\"machines\",\"shift\",\"impress\",\"basics\",\"32\",\"conservative\",\"birds\",\"tend\",\"duty\",\"setup\",\"rude\",\"pink\",\"church\",\"mine\",\"jack\",\"sending\",\"cooking\",\"versus\",\"expert\",\"olympic\",\"biotechnology\",\"gurgaon\",\"worked\",\"codes\",\"successfully\",\"hardware\",\"faith\",\"pr\",\"television\",\"compound\",\"vit\",\"universal\",\"thank\",\"grammatically\",\"chicago\",\"ivy\",\"worried\",\"enterprise\",\"sodium\",\"railway\",\"remedies\",\"racism\",\"tracking\",\"psychological\",\"apartment\",\"magazine\",\"martial\",\"beauty\",\"waiting\",\"attacks\",\"horror\",\"fantasy\",\"ma\",\"select\",\"increasing\",\"metro\",\"opt\",\"map\",\"watched\",\"gear\",\"icloud\",\"james\",\"comedy\",\"lollipop\",\"ireland\",\"upcoming\",\"italian\",\"oven\",\"emotionally\",\"decided\",\"lakh\",\"grey\",\"kept\",\"produced\",\"mouth\",\"manual\",\"dhoni\",\"fill\",\"throat\",\"shoot\",\"liked\",\"innovative\",\"immediately\",\"lonely\",\"fighting\",\"max\",\"accidentally\",\"schedule\",\"orgasm\",\"rape\",\"ride\",\"muscles\",\"graduates\",\"taller\",\"boost\",\"lakhs\",\"microwave\",\"electrons\",\"upon\",\"attract\",\"ap\",\"abuse\",\"earths\",\"forever\",\"underrated\",\"facing\",\"terrorist\",\"alien\",\"celebrity\",\"frequently\",\"vpn\",\"wales\",\"powder\",\"superman\",\"mixed\",\"caught\",\"goods\",\"beginning\",\"starts\",\"atomic\",\"associated\",\"triangle\",\"parties\",\"banning\",\"k\",\"honey\",\"monitor\",\"graph\",\"leaders\",\"embedded\",\"juice\",\"split\",\"lady\",\"sequence\",\"911\",\"harassment\",\"nepal\",\"pop\",\"habit\",\"setting\",\"edge\",\"ww2\",\"gps\",\"federal\",\"charged\",\"lying\",\"empty\",\"whenever\",\"airplane\",\"jet\",\"destroy\",\"ies\",\"wouldnt\",\"quick\",\"decrease\",\"robert\",\"pradesh\",\"professors\",\"massage\",\"held\",\"spending\",\"markets\",\"objects\",\"chart\",\"mechanics\",\"silver\",\"usage\",\"basketball\",\"gen\",\"periods\",\"identity\",\"individuals\",\"css\",\"soul\",\"ipod\",\"chest\",\"understanding\",\"coast\",\"classic\",\"spain\",\"babies\",\"sd\",\"hostel\",\"shirt\",\"further\",\"logical\",\"franchise\",\"obtain\",\"foreigners\",\"fully\",\"region\",\"designed\",\"cheated\",\"beneficial\",\"shes\",\"accent\",\"couldnt\",\"queen\",\"sick\",\"blowing\",\"properly\",\"stronger\",\"returns\",\"condition\",\"musk\",\"ugly\",\"teams\",\"filter\",\"snow\",\"glasses\",\"employer\",\"solid\",\"followed\",\"embarrassing\",\"auto\",\"meeting\",\"belong\",\"strike\",\"internships\",\"bachelors\",\"administration\",\"temple\",\"wealth\",\"retail\",\"speakers\",\"electoral\",\"headphones\",\"streaming\",\"mirror\",\"diesel\",\"republic\",\"antivirus\",\"customers\",\"atm\",\"vagina\",\"cigarettes\",\"aptitude\",\"lewis\",\"saudi\",\"puppy\",\"recovery\",\"jimmy\",\"obsessed\",\"domestic\",\"pen\",\"batch\",\"de\",\"drawing\",\"ai\",\"medium\",\"simply\",\"photoshop\",\"sms\",\"turning\",\"nadu\",\"appropriate\",\"adobe\",\"substitute\",\"fruit\",\"recipes\",\"fighter\",\"saving\",\"greater\",\"cheat\",\"routine\",\"push\",\"sherlock\",\"arguments\",\"sony\",\"import\",\"soldiers\",\"charges\",\"emotions\",\"ibm\",\"un\",\"innovations\",\"itunes\",\"consultant\",\"iims\",\"relations\",\"psychopaths\",\"existing\",\"angle\",\"clash\",\"bus\",\"australian\",\"crazy\",\"pull\",\"theories\",\"savings\",\"suit\",\"contrast\",\"calculus\",\"pi\",\"credits\",\"bluetooth\",\"himself\",\"traveling\",\"criminal\",\"xiaomi\",\"zealand\",\"seats\",\"electron\",\"script\",\"11th\",\"lessons\",\"programmers\",\"december\",\"flag\",\"singh\",\"arabic\",\"sale\",\"nfl\",\"grammar\",\"killing\",\"virgin\",\"differently\",\"poem\",\"provided\",\"automation\",\"shy\",\"translation\",\"mathematical\",\"45\",\"celebrities\",\"spring\",\"downloading\",\"dr\",\"organization\",\"majority\",\"clients\",\"hd\",\"motivate\",\"thats\",\"thesis\",\"door\",\"weakest\",\"saw\",\"canon\",\"younger\",\"costs\",\"river\",\"rings\",\"factory\",\"decent\",\"clintons\",\"holes\",\"desert\",\"divorce\",\"sold\",\"cheese\",\"atom\",\"taught\",\"minute\",\"ocean\",\"crisis\",\"represent\",\"surgical\",\"parent\",\"brexit\",\"possibility\",\"longest\",\"edit\",\"scholarship\",\"motivated\",\"chocolate\",\"faced\",\"90\",\"parallel\",\"foot\",\"examination\",\"friendly\",\"kinds\",\"wins\",\"islamic\",\"degrees\",\"registered\",\"distribution\",\"junior\",\"gave\",\"sing\",\"articles\",\"hadoop\",\"saved\",\"hero\",\"ear\",\"asks\",\"improved\",\"teenager\",\"forms\",\"wash\",\"provides\",\"washington\",\"strikes\",\"binary\",\"syria\",\"indonesia\",\"powers\",\"highly\",\"heshe\",\"happiness\",\"director\",\"citizenship\",\"knew\",\"humanity\",\"translate\",\"nba\",\"permanently\",\"soccer\",\"todays\",\"challenges\",\"barack\",\"title\",\"latin\",\"fitness\",\"genuine\",\"investor\",\"dislike\",\"scenes\",\"hacker\",\"bangladesh\",\"ebay\",\"earning\",\"dell\",\"paytm\",\"spouse\",\"bored\",\"roman\",\"official\",\"dragon\",\"park\",\"except\",\"habits\",\"quote\",\"astrology\",\"congress\",\"automatically\",\"island\",\"religions\",\"christianity\",\"supreme\",\"owner\",\"hell\",\"wikipedia\",\"cancel\",\"industries\",\"actress\",\"client\",\"visual\",\"michael\",\"remain\",\"ability\",\"concrete\",\"conflict\",\"string\",\"linear\",\"supposed\",\"engines\",\"2012\",\"\\u2018\",\"lesser\",\"traditional\",\"episodes\",\"goals\",\"tata\",\"opening\",\"target\",\"weak\",\"anonymous\",\"bjp\",\"resource\",\"concepts\",\"ruby\",\"friendship\",\"nyc\",\"pretty\",\"implement\",\"painting\",\"ill\",\"agency\",\"reverse\",\"confused\",\"italy\",\"response\",\"yellow\",\"dance\",\"contain\",\"vice\",\"editing\",\"acting\",\"weirdest\",\"feels\",\"govt\",\"accounting\",\"rise\",\"wise\",\"leaving\",\"lens\",\"artist\",\"arvind\",\"pattern\",\"scared\",\"attention\",\"airlines\",\"sky\",\"malaysia\",\"port\",\"attempt\",\"element\",\"classical\",\"shown\",\"safety\",\"including\",\"tablet\",\"la\",\"terrorism\",\"commit\",\"maps\",\"african\",\"viewed\",\"calling\",\"6s\",\"agent\",\"output\",\"justice\",\"don\",\"addiction\",\"lock\",\"vegetarian\",\"britain\",\"percent\",\"meditation\",\"ibps\",\"monthly\",\"writers\",\"forward\",\"stuff\",\"mr\",\"ready\",\"forgot\",\"flying\",\"recommended\",\"fields\",\"blind\",\"l\",\"hinduism\",\"desktop\",\"host\",\"tattoo\",\"maintain\",\"boards\",\"helpful\",\"semester\",\"load\",\"tier\",\"agree\",\"factor\",\"elon\",\"freshers\",\"sql\",\"cases\",\"exact\",\"confidence\",\"behavior\",\"hacked\",\"quotes\",\"hydrogen\",\"pakistani\",\"masturbate\",\"divided\",\"skill\",\"fine\",\"falling\",\"chess\",\"charging\",\"pages\",\"vector\",\"supporters\",\"waste\",\"sanders\",\"affordable\",\"unlock\",\"techniques\",\"wine\",\"keyboard\",\"cm\",\"wireless\",\"lawyer\",\"egg\",\"cope\",\"mindblowing\",\"recipe\",\"corruption\",\"scored\",\"secure\",\"teaching\",\"opposite\",\"educational\",\"bernie\",\"y\",\"library\",\"models\",\"kid\",\"stack\",\"separate\",\"19\",\"extremely\",\"properties\",\"cable\",\"magic\",\"removed\",\"computing\",\"hospital\",\"beer\",\"christians\",\"twice\",\"kg\",\"consulting\",\"whose\",\"serious\",\"petrol\",\"travelling\",\"revolution\",\"custom\",\"structures\",\"guide\",\"celebrate\",\"lenovo\",\"turned\",\"ielts\",\"grades\",\"fuel\",\"relative\",\"oracle\",\"academy\",\"lack\",\"passed\",\"relation\",\"values\",\"movement\",\"strategies\",\"eu\",\"emotional\",\"legs\",\"pokemon\",\"3g\",\"iran\",\"mostly\",\"jewish\",\"offered\",\"log\",\"hasnt\",\"explanation\",\"signal\",\"stores\",\"syllabus\",\"bits\",\"yoga\",\"weapons\",\"gods\",\"10000\",\"delivery\",\"gb\",\"sum\",\"letters\",\"venture\",\"selection\",\"winning\",\"35\",\"comment\",\"consequences\",\"sport\",\"items\",\"seems\",\"ring\",\"jealous\",\"laptops\",\"criteria\",\"fresh\",\"reference\",\"bitcoin\",\"infinite\",\"perform\",\"brazil\",\"density\",\"plans\",\"hosting\",\"clothing\",\"hong\",\"dying\",\"heavy\",\"steve\",\"gone\",\"damage\",\"missing\",\"ethical\",\"republican\",\"contacts\",\"activity\",\"electronic\",\"qualities\",\"piano\",\"hisher\",\"repair\",\"posts\",\"disease\",\"winter\",\"ten\",\"publish\",\"paint\",\"physically\",\"executive\",\"deposit\",\"elements\",\"xbox\",\"ceo\",\"visitors\",\"discovered\",\"tickets\",\"literature\",\"primary\",\"naturally\",\"senior\",\"u\",\"hardest\",\"debate\",\"frequency\",\"vietnam\",\"cry\",\"assistant\",\"gifts\",\"practical\",\"funny\",\"valid\",\"liberal\",\"refer\",\"beat\",\"shape\",\"institutes\",\"msc\",\"internal\",\"located\",\"significant\",\"scientists\",\"g\",\"ship\",\"proper\",\"independence\",\"added\",\"hes\",\"catch\",\"urine\",\"effectively\",\"named\",\"responsible\",\"strength\",\"whos\",\"immigration\",\"vehicle\",\"tesla\",\"kong\",\"meth\",\"england\",\"huge\",\"pizza\",\"rejected\",\"george\",\"fan\",\"salt\",\"browser\",\"sat\",\"loved\",\"fees\",\"walking\",\"symbol\",\"equity\",\"ubuntu\",\"alternatives\",\"theme\",\"virus\",\"manufacturing\",\"cutoff\",\"pure\",\"22\",\"introvert\",\"unable\",\"greek\",\"rice\",\"gst\",\"happening\",\"centre\",\"kiss\",\"prison\",\"bigger\",\"font\",\"construction\",\"exercises\",\"keeps\",\"gmat\",\"offers\",\"cross\",\"nasa\",\"unit\",\"advertising\",\"cup\",\"fixed\",\"limited\",\"billion\",\"subjects\",\"arts\",\"worlds\",\"stupid\",\"breaking\",\"funding\",\"tank\",\"generate\",\"efficient\",\"exists\",\"atheist\",\"entrepreneur\",\"direction\",\"broken\",\"offline\",\"firms\",\"station\",\"magnetic\",\"include\",\"aliens\",\"tinder\",\"logo\",\"photography\",\"worse\",\"besides\",\"path\",\"somebody\",\"interviews\",\"persons\",\"figure\",\"placed\",\"nation\",\"knows\",\"unmarried\",\"hp\",\"profitable\",\"tricks\",\"boss\",\"reply\",\"scam\",\"circle\",\"processor\",\"debt\",\"growing\",\"royal\",\"fiction\",\"department\",\"mistake\",\"weird\",\"graphics\",\"external\",\"article\",\"volume\",\"scratch\",\"chain\",\"protect\",\"storage\",\"texas\",\"liquid\",\"circuit\",\"graphic\",\"tired\",\"weather\",\"oxygen\",\"velocity\",\"dad\",\"band\",\"teachers\",\"drugs\",\"complex\",\"studio\",\"accenture\",\"leader\",\"levels\",\"goal\",\"logic\",\"acne\",\"plastic\",\"motion\",\"button\",\"peoples\",\"vision\",\"gap\",\"dollar\",\"computers\",\"stomach\",\"sources\",\"constant\",\"draw\",\"dress\",\"calculated\",\"sort\",\"3rd\",\"club\",\"channels\",\"creating\",\"candidates\",\"kejriwal\",\"broke\",\"sentences\",\"format\",\"emails\",\"raw\",\"stanford\",\"completed\",\"documents\",\"pan\",\"showing\",\"enter\",\"unknown\",\"bought\",\"router\",\"claim\",\"six\",\"technologies\",\"\\u20b9\",\"flipkart\",\"infosys\",\"mutual\",\"angry\",\"iits\",\"affected\",\"prices\",\"shares\",\"naruto\",\"processing\",\"finding\",\"democratic\",\"evolution\",\"harmful\",\"dual\",\"virtual\",\"member\",\"wave\",\"actual\",\"extra\",\"radio\",\"citizens\",\"e\",\"hr\",\"previous\",\"stopped\",\"walk\",\"redmi\",\"speaker\",\"torrent\",\"smoke\",\"mistakes\",\"flash\",\"iron\",\"entire\",\"individual\",\"express\",\"flow\",\"mode\",\"aircraft\",\"section\",\"planets\",\"10th\",\"respond\",\"easier\",\"evil\",\"percentile\",\"seeing\",\"calories\",\"upgrade\",\"professor\",\"v\",\"launch\",\"staff\",\"till\",\"silicon\",\"entry\",\"constitution\",\"century\",\"notice\",\"ie\",\"atheists\",\"tests\",\"21\",\"became\",\"kerala\",\"truly\",\"count\",\"essay\",\"papers\",\"accurate\",\"colors\",\"respect\",\"ideal\",\"rock\",\"reliance\",\"peace\",\"masturbation\",\"audio\",\"random\",\"independent\",\"colour\",\"hotels\",\"presidency\",\"generation\",\"paypal\",\"shot\",\"central\",\"released\",\"occur\",\"display\",\"industrial\",\"particular\",\"risk\",\"eg\",\"belly\",\"pet\",\"similarities\",\"organic\",\"marijuana\",\"networks\",\"aspects\",\"flat\",\"d\",\"comments\",\"nose\",\"identify\",\"rbi\",\"improvement\",\"directly\",\"framework\",\"suggestions\",\"designing\",\"brands\",\"religious\",\"influence\",\"novels\",\"statistics\",\"historical\",\"ground\",\"commerce\",\"pregnancy\",\"romantic\",\"failure\",\"wearing\",\"john\",\"apart\",\"bay\",\"symptoms\",\"200\",\"couple\",\"60\",\"canadian\",\"lie\",\"print\",\"carry\",\"gender\",\"experienced\",\"pounds\",\"reservation\",\"either\",\"stage\",\"artificial\",\"fit\",\"blogs\",\"developing\",\"environment\",\"learned\",\"copy\",\"phase\",\"bond\",\"democracy\",\"cgpa\",\"operating\",\"surface\",\"officers\",\"h1b\",\"ip\",\"workout\",\"fee\",\"elected\",\"hands\",\"largest\",\"sad\",\"shouldnt\",\"seat\",\"sister\",\"developers\",\"despite\",\"scene\",\"po\",\"diploma\",\"request\",\"empire\",\"ratio\",\"considering\",\"academic\",\"tree\",\"register\",\"advantage\",\"eligible\",\"nit\",\"shop\",\"intel\",\"funniest\",\"alternative\",\"fail\",\"ads\",\"nature\",\"miss\",\"involved\",\"overrated\",\"attend\",\"freedom\",\"dna\",\"beginners\",\"raise\",\"dry\",\"failed\",\"legally\",\"batman\",\"upload\",\"carbon\",\"regret\",\"applied\",\"points\",\"investors\",\"pick\",\"equivalent\",\"connected\",\"christmas\",\"lyrics\",\"nations\",\"caused\",\"bsc\",\"1st\",\"action\",\"activities\",\"biology\",\"hide\",\"asia\",\"takes\",\"require\",\"alive\",\"mom\",\"cycle\",\"generally\",\"campaign\",\"fair\",\"wake\",\"bit\",\"rules\",\"olympics\",\"racist\",\"areas\",\"eggs\",\"feature\",\"sap\",\"taxes\",\"ad\",\"shall\",\"theyre\",\"species\",\"pilot\",\"firm\",\"fish\",\"define\",\"doctors\",\"piece\",\"itself\",\"bang\",\"solutions\",\"iim\",\"2013\",\"wanted\",\"length\",\"burn\",\"waves\",\"bar\",\"gives\",\"forces\",\"christian\",\"anybody\",\"relationships\",\"nice\",\"wedding\",\"various\",\"brother\",\"films\",\"cream\",\"suddenly\",\"philippines\",\"fashion\",\"truth\",\"gpa\",\"cgl\",\"tall\",\"goa\",\"hacking\",\"statement\",\"reset\",\"materials\",\"played\",\"match\",\"usb\",\"novel\",\"unusual\",\"knowing\",\"selected\",\"valley\",\"chrome\",\"couples\",\"becomes\",\"died\",\"cheating\",\"community\",\"groups\",\"category\",\"pursuing\",\"writer\",\"mexico\",\"anymore\",\"sugar\",\"climate\",\"brown\",\"players\",\"ii\",\"reviews\",\"took\",\"led\",\"connection\",\"begin\",\"html\",\"changing\",\"received\",\"plants\",\"debit\",\"record\",\"revenue\",\"mars\",\"strongest\",\"members\",\"formed\",\"union\",\"thought\",\"existence\",\"kashmir\",\"gandhi\",\"pdf\",\"banned\",\"0\",\"plane\",\"treated\",\"electricity\",\"scale\",\"basis\",\"moral\",\"images\",\"methods\",\"certification\",\"voltage\",\"style\",\"base\",\"excel\",\"amazing\",\"regarding\",\"result\",\"rates\",\"hold\",\"indias\",\"airport\",\"businesses\",\"feet\",\"built\",\"linkedin\",\"signs\",\"above\",\"networking\",\"r\",\"shopping\",\"looks\",\"went\",\"placements\",\"bed\",\"experiences\",\"daughter\",\"tourist\",\"employee\",\"caste\",\"wait\",\"direct\",\"especially\",\"feed\",\"continue\",\"expected\",\"algorithm\",\"depressed\",\"shoes\",\"soon\",\"supply\",\"stress\",\"24\",\"inr\",\"foods\",\"rent\",\"architecture\",\"ban\",\"entrance\",\"actors\",\"messenger\",\"unique\",\"kolkata\",\"funds\",\"rupee\",\"promote\",\"rupees\",\"jews\",\"23\",\"cook\",\"cultural\",\"accepted\",\"hear\",\"glass\",\"road\",\"joining\",\"measure\",\"havent\",\"metal\",\"resume\",\"afraid\",\"turkey\",\"meat\",\"goes\",\"installation\",\"netflix\",\"benefit\",\"demand\",\"release\",\"produce\",\"report\",\"cover\",\"changes\",\"double\",\"2nd\",\"reaction\",\"killed\",\"steel\",\"requirements\",\"france\",\"exchange\",\"ac\",\"quantum\",\"reliable\",\"box\",\"results\",\"lives\",\"treatment\",\"4g\",\"ece\",\"probability\",\"sleeping\",\"philosophy\",\"handle\",\"forget\",\"driver\",\"demonetization\",\"algorithms\",\"trade\",\"rule\",\"muscle\",\"calls\",\"tried\",\"mental\",\"sure\",\"quit\",\"navy\",\"achieve\",\"francisco\",\"location\",\"until\",\"sense\",\"anxiety\",\"wordpress\",\"focus\",\"fact\",\"production\",\"conversation\",\"motor\",\"five\",\"attracted\",\"hit\",\"analyst\",\"moto\",\"isis\",\"chicken\",\"sector\",\"permanent\",\"along\",\"king\",\"slow\",\"candidate\",\"minutes\",\"purchase\",\"gun\",\"selling\",\"usually\",\"\\u2026\",\"fly\",\"round\",\"panel\",\"error\",\"stocks\",\"api\",\"remember\",\"africa\",\"paying\",\"hitler\",\"3d\",\"regular\",\"losing\",\"mail\",\"yahoo\",\"cheapest\",\"older\",\"concept\",\"characters\",\"definition\",\"lines\",\"pm\",\"cloud\",\"cats\",\"russian\",\"ipad\",\"korean\",\"proof\",\"battle\",\"stars\",\"stream\",\"recent\",\"typical\",\"performance\",\"harvard\",\"restaurant\",\"origin\",\"listen\",\"smell\",\"decide\",\"serve\",\"undergraduate\",\"profit\",\"situation\",\"surgery\",\"asking\",\"plant\",\"link\",\"square\",\"completing\",\"four\",\"trust\",\"payment\",\"gym\",\"andor\",\"worklife\",\"guitar\",\"elections\",\"half\",\"investing\",\"scientist\",\"street\",\"needs\",\"native\",\"thoughts\",\"reality\",\"40\",\"medicine\",\"race\",\"choice\",\"longer\",\"came\",\"applying\",\"hiring\",\"west\",\"weed\",\"hacks\",\"step\",\"sea\",\"crime\",\"devices\",\"event\",\"citizen\",\"14\",\"17\",\"ticket\",\"fund\",\"equation\",\"suicide\",\"whom\",\"met\",\"almost\",\"designer\",\"local\",\"departments\",\"khan\",\"customer\",\"banking\",\"javascript\",\"trip\",\"issue\",\"react\",\"cannot\",\"dubai\",\"wall\",\"touch\",\"parts\",\"loves\",\"clothes\",\"straight\",\"sexual\",\"active\",\"inpatient\",\"dreams\",\"protein\",\"table\",\"exercise\",\"lord\",\"mtech\",\"creative\",\"ball\",\"speaking\",\"son\",\"receive\",\"dollars\",\"domain\",\"prospects\",\"hour\",\"graduation\",\"commercial\",\"themselves\",\"factors\",\"jesus\",\"programmer\",\"recommend\",\"replace\",\"chat\",\"placement\",\"episode\",\"fastest\",\"restaurants\",\"object\",\"drivers\",\"gaming\",\"mark\",\"taste\",\"seem\",\"perfect\",\"potential\",\"trumps\",\"appear\",\"rights\",\"equal\",\"rest\",\"package\",\"meant\",\"drop\",\"cool\",\"material\",\"potter\",\"events\",\"convince\",\"completely\",\"n\",\"zero\",\"significance\",\"lower\",\"feelings\",\"followers\",\"evidence\",\"certain\",\"later\",\"original\",\"bible\",\"disorder\",\"testing\",\"via\",\"stand\",\"actor\",\"characteristics\",\"cities\",\"reach\",\"ago\",\"mbbs\",\"speech\",\"electric\",\"approach\",\"scientific\",\"root\",\"analytics\",\"below\",\"grade\",\"mains\",\"topic\",\"fun\",\"ancient\",\"adult\",\"standard\",\"ice\",\"everyday\",\"population\",\"invented\",\"european\",\"intelligent\",\"11\",\"subject\",\"rehab\",\"background\",\"giving\",\"platform\",\"flight\",\"thrones\",\"maths\",\"dc\",\"teeth\",\"mit\",\"weeks\",\"east\",\"means\",\"programs\",\"beginner\",\"heat\",\"third\",\"tea\",\"range\",\"london\",\"maximum\",\"enjoy\",\"2000\",\"cells\",\"quickly\",\"here\",\"expensive\",\"phrase\",\"partner\",\"league\",\"anime\",\"latest\",\"specific\",\"whether\",\"functions\",\"os\",\"fire\",\"saying\",\"secret\",\"13\",\"planet\",\"hole\",\"super\",\"teacher\",\"strong\",\"accounts\",\"minister\",\"database\",\"economic\",\"channel\",\"estate\",\"ram\",\"switch\",\"asian\",\"smoking\",\"branch\",\"israel\",\"18\",\"features\",\"success\",\"lead\",\"total\",\"key\",\"master\",\"ok\",\"favourite\",\"psychology\",\"pok\\u00e9mon\",\"nothing\",\"clean\",\"25\",\"politics\",\"drinking\",\"sometimes\",\"recently\",\"korea\",\"sent\",\"poor\",\"hindu\",\"hollywood\",\"survive\",\"cure\",\"property\",\"return\",\"narendra\",\"budget\",\"sports\",\"limit\",\"arent\",\"boys\",\"driving\",\"whole\",\"cash\",\"smartphone\",\"php\",\"developed\",\"ssc\",\"hot\",\"attractive\",\"tool\",\"physical\",\"ecommerce\",\"sbi\",\"morning\",\"animal\",\"multiple\",\"loan\",\"acid\",\"fresher\",\"spanish\",\"moving\",\"decision\",\"county\",\"determined\",\"becoming\",\"seo\",\"summer\",\"manage\",\"server\",\"competitive\",\"milk\",\"importance\",\"banks\",\"cheap\",\"powerful\",\"issues\",\"penis\",\"according\",\"analysis\",\"bike\",\"position\",\"western\",\"advanced\",\"campus\",\"highest\",\"front\",\"court\",\"status\",\"gravity\",\"positions\",\"comes\",\"steps\",\"complete\",\"electronics\",\"won\",\"hurt\",\"certificate\",\"temperature\",\"player\",\"someones\",\"communication\",\"million\",\"talking\",\"preparing\",\"finance\",\"cancer\",\"9\",\"harry\",\"accept\",\"2014\",\"plus\",\"born\",\"tcs\",\"license\",\"bring\",\"teach\",\"practice\",\"trading\",\"m\",\"might\",\"opportunities\",\"global\",\"wish\",\"outside\",\"attack\",\"procedure\",\"needed\",\"update\",\"coffee\",\"provider\",\"rather\",\"16\",\"allow\",\"tamil\",\"mix\",\"connect\",\"room\",\"watching\",\"deep\",\"york\",\"image\",\"birth\",\"sign\",\"birthday\",\"playing\",\"wars\",\"grads\",\"hire\",\"phones\",\"cbse\",\"details\",\"clear\",\"cricket\",\"dangerous\",\"track\",\"corporate\",\"voice\",\"upsc\",\"content\",\"okay\",\"san\",\"heart\",\"far\",\"heard\",\"prove\",\"positive\",\"moment\",\"sales\",\"opinion\",\"engineers\",\"block\",\"diet\",\"coding\",\"core\",\"baby\",\"father\",\"little\",\"large\",\"blocked\",\"distance\",\"land\",\"simple\",\"husband\",\"told\",\"traffic\",\"prevent\",\"pictures\",\"planning\",\"fear\",\"classes\",\"towards\",\"technical\",\"building\",\"trying\",\"photo\",\"early\",\"uses\",\"sydney\",\"startups\",\"act\",\"id\",\"describe\",\"12th\",\"may\",\"formula\",\"gets\",\"present\",\"wont\",\"cut\",\"treat\",\"mathematics\",\"visiting\",\"eye\",\"policy\",\"close\",\"cse\",\"suitable\",\"version\",\"tools\",\"head\",\"minimum\",\"chennai\",\"easily\",\"method\",\"intelligence\",\"gre\",\"mother\",\"doctor\",\"macbook\",\"deleted\",\"gas\",\"suggest\",\"cards\",\"files\",\"loss\",\"art\",\"easiest\",\"late\",\"among\",\"together\",\"depression\",\"higher\",\"alone\",\"economics\",\"dead\",\"growth\",\"insurance\",\"gold\",\"necessary\",\"neet\",\"blog\",\"example\",\"memory\",\"crack\",\"consider\",\"works\",\"currency\",\"recruit\",\"pursue\",\"strategy\",\"young\",\"cs\",\"projects\",\"50\",\"manager\",\"abroad\",\"schools\",\"illegal\",\"inside\",\"stories\",\"hand\",\"t\",\"greatest\",\"personality\",\"galaxy\",\"device\",\"views\",\"user\",\"chemistry\",\"cars\",\"iq\",\"prefer\",\"picture\",\"nuclear\",\"middle\",\"applications\",\"gmail\",\"laws\",\"final\",\"capital\",\"kids\",\"society\",\"fake\",\"bill\",\"save\",\"though\",\"likely\",\"determine\",\"shows\",\"character\",\"snapchat\",\"youre\",\"eyes\",\"islam\",\"marry\",\"brand\",\"yet\",\"impact\",\"speak\",\"within\",\"rich\",\"resources\",\"net\",\"non\",\"pressure\",\"changed\",\"allowed\",\"obama\",\"cold\",\"running\",\"feeling\",\"jio\",\"football\",\"gift\",\"written\",\"buying\",\"mac\",\"spend\",\"prime\",\"blue\",\"train\",\"studies\",\"negative\",\"thinking\",\"solution\",\"sun\",\"least\",\"following\",\"install\",\"else\",\"muslims\",\"camera\",\"vote\",\"linux\",\"expect\",\"german\",\"recover\",\"starting\",\"crush\",\"coming\",\"muslim\",\"modern\",\"battery\",\"provide\",\"access\",\"presidential\",\"interest\",\"dating\",\"pro\",\"likes\",\"french\",\"singapore\",\"useful\",\"already\",\"professional\",\"percentage\",\"drink\",\"created\",\"board\",\"passport\",\"structure\",\"case\",\"height\",\"microsoft\",\"break\",\"screen\",\"names\",\"chance\",\"special\",\"30\",\"skin\",\"natural\",\"color\",\"interested\",\"amount\",\"pain\",\"healthy\",\"hack\",\"messages\",\"ias\",\"gay\",\"disadvantages\",\"pass\",\"moon\",\"systems\",\"hindi\",\"financial\",\"taken\",\"yes\",\"sim\",\"pregnant\",\"faster\",\"animals\",\"internship\",\"let\",\"photos\",\"balance\",\"sound\",\"due\",\"knowledge\",\"charge\",\"message\",\"officer\",\"solar\",\"military\",\"meet\",\"option\",\"reading\",\"across\",\"overcome\",\"everyone\",\"everything\",\"wife\",\"reduce\",\"chances\",\"samsung\",\"income\",\"bollywood\",\"season\",\"europe\",\"boy\",\"currently\",\"ex\",\"smart\",\"california\",\"engine\",\"paid\",\"army\",\"contact\",\"address\",\"wants\",\"ones\",\"gain\",\"reasons\",\"avoid\",\"please\",\"note\",\"known\",\"pune\",\"film\",\"national\",\"once\",\"users\",\"porn\",\"scope\",\"twitter\",\"drug\",\"rank\",\"japan\",\"fight\",\"transfer\",\"political\",\"green\",\"news\",\"self\",\"uber\",\"basic\",\"british\",\"religion\",\"hyderabad\",\"topics\",\"explain\",\"phd\",\"eating\",\"letter\",\"calculate\",\"ive\",\"tech\",\"personal\",\"japanese\",\"check\",\"hotel\",\"wifi\",\"beautiful\",\"difficult\",\"paper\",\"languages\",\"investment\",\"develop\",\"north\",\"electrical\",\"ios\",\"alcohol\",\"exactly\",\"profile\",\"past\",\"exams\",\"ca\",\"convert\",\"vs\",\"understand\",\"care\",\"dream\",\"try\",\"americans\",\"lost\",\"chemical\",\"source\",\"b\",\"admission\",\"easy\",\"must\",\"three\",\"effect\",\"view\",\"options\",\"page\",\"away\",\"red\",\"said\",\"line\",\"short\",\"happy\",\"security\",\"dark\",\"preparation\",\"second\",\"fat\",\"matter\",\"few\",\"since\",\"role\",\"pc\",\"office\",\"team\",\"delete\",\"cell\",\"election\",\"economy\",\"term\",\"dogs\",\"text\",\"female\",\"effective\",\"brain\",\"share\",\"digital\",\"btech\",\"russia\",\"\\u201c\",\"party\",\"numbers\",\"20\",\"store\",\"male\",\"mass\",\"turn\",\"left\",\"married\",\"rs\",\"taking\",\"those\",\"password\",\"follow\",\"advice\",\"isnt\",\"15\",\"types\",\"network\",\"\\u201d\",\"week\",\"purpose\",\"related\",\"fix\",\"started\",\"courses\",\"masters\",\"grow\",\"8\",\"fast\",\"leave\",\"100\",\"often\",\"found\",\"pros\",\"marriage\",\"cons\",\"quality\",\"words\",\"kill\",\"price\",\"near\",\"modi\",\"enough\",\"search\",\"python\",\"x\",\"blood\",\"math\",\"yourself\",\"drive\",\"size\",\"star\",\"graduate\",\"majors\",\"500\",\"model\",\"studying\",\"general\",\"oil\",\"colleges\",\"area\",\"developer\",\"germany\",\"industry\",\"full\",\"training\",\"says\",\"period\",\"videos\",\"universe\",\"fall\",\"daily\",\"information\",\"foreign\",\"credit\",\"force\",\"12\",\"youve\",\"south\",\"offer\",\"set\",\"add\",\"send\",\"australia\",\"center\",\"1000\",\"famous\",\"2015\",\"lot\",\"function\",\"tax\",\"correct\",\"solve\",\"advantages\",\"coaching\",\"institute\",\"effects\",\"guys\",\"again\",\"group\",\"hours\",\"side\",\"sentence\",\"low\",\"similar\",\"plan\",\"children\",\"answers\",\"talk\",\"marks\",\"ideas\",\"theory\",\"death\",\"compared\",\"night\",\"remove\",\"dog\",\"anything\",\"single\",\"successful\",\"gate\",\"indians\",\"put\",\"problems\",\"move\",\"writing\",\"point\",\"invest\",\"asked\",\"biggest\",\"others\",\"stock\",\"notes\",\"story\",\"machine\",\"private\",\"sell\",\"seen\",\"required\",\"field\",\"file\",\"rate\",\"humans\",\"application\",\"face\",\"sites\",\"mind\",\"facts\",\"mumbai\",\"post\",\"stay\",\"child\",\"terms\",\"products\",\"control\",\"legal\",\"police\",\"didnt\",\"level\",\"worst\",\"hate\",\"visit\",\"called\",\"amazon\",\"causes\",\"health\",\"form\",\"physics\",\"iit\",\"skills\",\"times\",\"medical\",\"based\",\"list\",\"websites\",\"die\",\"part\",\"less\",\"benefits\",\"apple\",\"instead\",\"these\",\"boyfriend\",\"sleep\",\"canada\",\"reason\",\"education\",\"cause\",\"jee\",\"value\",\"today\",\"media\",\"public\",\"happened\",\"product\",\"research\",\"main\",\"behind\",\"international\",\"project\",\"uk\",\"differ\",\"7\",\"places\",\"wear\",\"order\",\"date\",\"etc\",\"small\",\"songs\",\"apps\",\"email\",\"given\",\"wrong\",\"site\",\"normal\",\"culture\",\"also\",\"civil\",\"city\",\"available\",\"house\",\"exist\",\"startup\",\"services\",\"ms\",\"both\",\"down\",\"2017\",\"run\",\"cat\",\"well\",\"space\",\"join\",\"deal\",\"games\",\"visa\",\"rid\",\"air\",\"speed\",\"popular\",\"problem\",\"support\",\"current\",\"pakistan\",\"choose\",\"build\",\"idea\",\"america\",\"whatsapp\",\"affect\",\"law\",\"technology\",\"call\",\"6\",\"universities\",\"family\",\"marketing\",\"major\",\"actually\",\"favorite\",\"light\",\"bangalore\",\"woman\",\"because\",\"type\",\"program\",\"looking\",\"living\",\"open\",\"believe\",\"month\",\"able\",\"management\",\"travel\",\"degree\",\"show\",\"interesting\",\"score\",\"months\",\"series\",\"chinese\",\"development\",\"end\",\"code\",\"design\",\"per\",\"employees\",\"review\",\"clinton\",\"common\",\"kind\",\"internet\",\"song\",\"download\",\"course\",\"parents\",\"jobs\",\"such\",\"increase\",\"java\",\"god\",\"another\",\"united\",\"girlfriend\",\"mechanical\",\"always\",\"next\",\"never\",\"around\",\"tips\",\"mba\",\"myself\",\"hillary\",\"apply\",\"answer\",\"something\",\"considered\",\"making\",\"differences\",\"market\",\"compare\",\"great\",\"keep\",\"test\",\"s\",\"win\",\"against\",\"states\",\"earn\",\"youtube\",\"worth\",\"delhi\",\"energy\",\"laptop\",\"american\",\"lose\",\"each\",\"hard\",\"makes\",\"age\",\"ask\",\"safe\",\"body\",\"power\",\"salary\",\"4\",\"watch\",\"white\",\"windows\",\"instagram\",\"history\",\"pay\",\"every\",\"last\",\"create\",\"relationship\",\"music\",\"too\",\"meaning\",\"state\",\"average\",\"earth\",\"got\",\"process\",\"class\",\"tv\",\"eat\",\"done\",\"happens\",\"days\",\"big\",\"off\",\"improve\",\"future\",\"place\",\"man\",\"human\",\"government\",\"play\",\"countries\",\"food\",\"service\",\"students\",\"weight\",\"game\",\"engineer\",\"write\",\"very\",\"interview\",\"web\",\"tell\",\"social\",\"girls\",\"video\",\"look\",\"having\",\"guy\",\"home\",\"hair\",\"usa\",\"doesnt\",\"word\",\"bank\",\"friend\",\"true\",\"experience\",\"career\",\"president\",\"question\",\"own\",\"china\",\"come\",\"under\",\"working\",\"him\",\"doing\",\"donald\",\"friends\",\"right\",\"5\",\"cost\",\"mobile\",\"even\",\"movies\",\"then\",\"c\",\"\\u2019\",\"exam\",\"men\",\"learning\",\"card\",\"war\",\"read\",\"programming\",\"black\",\"anyone\",\"high\",\"10\",\"companies\",\"car\",\"getting\",\"give\",\"important\",\"questions\",\"cant\",\"iphone\",\"website\",\"top\",\"water\",\"prepare\",\"during\",\"real\",\"say\",\"system\",\"name\",\"through\",\"two\",\"1\",\"our\",\"study\",\"3\",\"university\",\"made\",\"back\",\"happen\",\"stop\",\"student\",\"sex\",\"bad\",\"language\",\"going\",\"same\",\"before\",\"software\",\"school\",\"live\",\"country\",\"android\",\"science\",\"help\",\"she\",\"see\",\"thing\",\"women\",\"over\",\"data\",\"examples\",\"computer\",\"had\",\"ways\",\"change\",\"while\",\"book\",\"english\",\"account\",\"still\",\"movie\",\"books\",\"2016\",\"facebook\",\"free\",\"number\",\"college\",\"app\",\"2\",\"just\",\"now\",\"no\",\"trump\",\"company\",\"only\",\"old\",\"been\",\"google\",\"phone\",\"long\",\"different\",\"girl\",\"his\",\"her\",\"years\",\"really\",\"them\",\"using\",\"business\",\"need\",\"being\",\"buy\",\"day\",\"person\",\"things\",\"possible\",\"could\",\"were\",\"its\",\"love\",\"engineering\",\"im\",\"used\",\"online\",\"go\",\"year\",\"he\",\"into\",\"feel\",\"dont\",\"first\",\"up\"]]]}}},\"view\":{\"type\":\"object\",\"name\":\"CDSView\",\"id\":\"p1096\",\"attributes\":{\"filter\":{\"type\":\"object\",\"name\":\"AllIndices\",\"id\":\"p1097\"}}},\"glyph\":{\"type\":\"object\",\"name\":\"Scatter\",\"id\":\"p1092\",\"attributes\":{\"x\":{\"type\":\"field\",\"field\":\"x\"},\"y\":{\"type\":\"field\",\"field\":\"y\"},\"size\":{\"type\":\"value\",\"value\":10},\"line_color\":{\"type\":\"field\",\"field\":\"color\"},\"line_alpha\":{\"type\":\"value\",\"value\":0.25},\"fill_color\":{\"type\":\"field\",\"field\":\"color\"},\"fill_alpha\":{\"type\":\"value\",\"value\":0.25},\"hatch_color\":{\"type\":\"field\",\"field\":\"color\"},\"hatch_alpha\":{\"type\":\"value\",\"value\":0.25}}},\"nonselection_glyph\":{\"type\":\"object\",\"name\":\"Scatter\",\"id\":\"p1093\",\"attributes\":{\"x\":{\"type\":\"field\",\"field\":\"x\"},\"y\":{\"type\":\"field\",\"field\":\"y\"},\"size\":{\"type\":\"value\",\"value\":10},\"line_color\":{\"type\":\"field\",\"field\":\"color\"},\"line_alpha\":{\"type\":\"value\",\"value\":0.1},\"fill_color\":{\"type\":\"field\",\"field\":\"color\"},\"fill_alpha\":{\"type\":\"value\",\"value\":0.1},\"hatch_color\":{\"type\":\"field\",\"field\":\"color\"},\"hatch_alpha\":{\"type\":\"value\",\"value\":0.1}}},\"muted_glyph\":{\"type\":\"object\",\"name\":\"Scatter\",\"id\":\"p1094\",\"attributes\":{\"x\":{\"type\":\"field\",\"field\":\"x\"},\"y\":{\"type\":\"field\",\"field\":\"y\"},\"size\":{\"type\":\"value\",\"value\":10},\"line_color\":{\"type\":\"field\",\"field\":\"color\"},\"line_alpha\":{\"type\":\"value\",\"value\":0.2},\"fill_color\":{\"type\":\"field\",\"field\":\"color\"},\"fill_alpha\":{\"type\":\"value\",\"value\":0.2},\"hatch_color\":{\"type\":\"field\",\"field\":\"color\"},\"hatch_alpha\":{\"type\":\"value\",\"value\":0.2}}}}}],\"toolbar\":{\"type\":\"object\",\"name\":\"Toolbar\",\"id\":\"p1063\",\"attributes\":{\"tools\":[{\"type\":\"object\",\"name\":\"PanTool\",\"id\":\"p1076\"},{\"type\":\"object\",\"name\":\"WheelZoomTool\",\"id\":\"p1077\",\"attributes\":{\"renderers\":\"auto\"}},{\"type\":\"object\",\"name\":\"BoxZoomTool\",\"id\":\"p1078\",\"attributes\":{\"overlay\":{\"type\":\"object\",\"name\":\"BoxAnnotation\",\"id\":\"p1079\",\"attributes\":{\"syncable\":false,\"line_color\":\"black\",\"line_alpha\":1.0,\"line_width\":2,\"line_dash\":[4,4],\"fill_color\":\"lightgrey\",\"fill_alpha\":0.5,\"level\":\"overlay\",\"visible\":false,\"left\":{\"type\":\"number\",\"value\":\"nan\"},\"right\":{\"type\":\"number\",\"value\":\"nan\"},\"top\":{\"type\":\"number\",\"value\":\"nan\"},\"bottom\":{\"type\":\"number\",\"value\":\"nan\"},\"left_units\":\"canvas\",\"right_units\":\"canvas\",\"top_units\":\"canvas\",\"bottom_units\":\"canvas\",\"handles\":{\"type\":\"object\",\"name\":\"BoxInteractionHandles\",\"id\":\"p1085\",\"attributes\":{\"all\":{\"type\":\"object\",\"name\":\"AreaVisuals\",\"id\":\"p1084\",\"attributes\":{\"fill_color\":\"white\",\"hover_fill_color\":\"lightgray\"}}}}}}}},{\"type\":\"object\",\"name\":\"SaveTool\",\"id\":\"p1086\"},{\"type\":\"object\",\"name\":\"ResetTool\",\"id\":\"p1087\"},{\"type\":\"object\",\"name\":\"HelpTool\",\"id\":\"p1088\"},{\"type\":\"object\",\"name\":\"HoverTool\",\"id\":\"p1098\",\"attributes\":{\"renderers\":\"auto\",\"tooltips\":[[\"token\",\"@token\"]]}}],\"active_scroll\":{\"id\":\"p1077\"}}},\"left\":[{\"type\":\"object\",\"name\":\"LinearAxis\",\"id\":\"p1071\",\"attributes\":{\"ticker\":{\"type\":\"object\",\"name\":\"BasicTicker\",\"id\":\"p1072\",\"attributes\":{\"mantissas\":[1,2,5]}},\"formatter\":{\"type\":\"object\",\"name\":\"BasicTickFormatter\",\"id\":\"p1073\"},\"major_label_policy\":{\"type\":\"object\",\"name\":\"AllLabels\",\"id\":\"p1074\"}}}],\"below\":[{\"type\":\"object\",\"name\":\"LinearAxis\",\"id\":\"p1066\",\"attributes\":{\"ticker\":{\"type\":\"object\",\"name\":\"BasicTicker\",\"id\":\"p1067\",\"attributes\":{\"mantissas\":[1,2,5]}},\"formatter\":{\"type\":\"object\",\"name\":\"BasicTickFormatter\",\"id\":\"p1068\"},\"major_label_policy\":{\"type\":\"object\",\"name\":\"AllLabels\",\"id\":\"p1069\"}}}],\"center\":[{\"type\":\"object\",\"name\":\"Grid\",\"id\":\"p1070\",\"attributes\":{\"axis\":{\"id\":\"p1066\"}}},{\"type\":\"object\",\"name\":\"Grid\",\"id\":\"p1075\",\"attributes\":{\"dimension\":1,\"axis\":{\"id\":\"p1071\"}}}]}}]}};\n",
              "  const render_items = [{\"docid\":\"d2aad2ab-267b-493e-8127-1bc5ca72b5a8\",\"roots\":{\"p1055\":\"aa73cdad-c9a7-47fb-b3b6-c0f723c14e96\"},\"root_ids\":[\"p1055\"]}];\n",
              "  void root.Bokeh.embed.embed_items_notebook(docs_json, render_items);\n",
              "  }\n",
              "  if (root.Bokeh !== undefined) {\n",
              "    embed_document(root);\n",
              "  } else {\n",
              "    let attempts = 0;\n",
              "    const timer = setInterval(function(root) {\n",
              "      if (root.Bokeh !== undefined) {\n",
              "        clearInterval(timer);\n",
              "        embed_document(root);\n",
              "      } else {\n",
              "        attempts++;\n",
              "        if (attempts > 100) {\n",
              "          clearInterval(timer);\n",
              "          console.log(\"Bokeh: ERROR: Unable to run BokehJS code because BokehJS library is missing\");\n",
              "        }\n",
              "      }\n",
              "    }, 10, root)\n",
              "  }\n",
              "})(window);"
            ],
            "application/vnd.bokehjs_exec.v0+json": ""
          },
          "metadata": {
            "application/vnd.bokehjs_exec.v0+json": {
              "id": "p1055"
            }
          }
        },
        {
          "output_type": "execute_result",
          "data": {
            "text/plain": [
              "figure(id='p1055', ...)"
            ],
            "text/html": [
              "<div style=\"display: table;\"><div style=\"display: table-row;\"><div style=\"display: table-cell;\"><b title=\"bokeh.plotting._figure.figure\">figure</b>(</div><div style=\"display: table-cell;\">id&nbsp;=&nbsp;'p1055', <span id=\"p1102\" style=\"cursor: pointer;\">&hellip;)</span></div></div><div class=\"p1101\" style=\"display: none;\"><div style=\"display: table-cell;\"></div><div style=\"display: table-cell;\">above&nbsp;=&nbsp;[],</div></div><div class=\"p1101\" style=\"display: none;\"><div style=\"display: table-cell;\"></div><div style=\"display: table-cell;\">align&nbsp;=&nbsp;'auto',</div></div><div class=\"p1101\" style=\"display: none;\"><div style=\"display: table-cell;\"></div><div style=\"display: table-cell;\">aspect_ratio&nbsp;=&nbsp;None,</div></div><div class=\"p1101\" style=\"display: none;\"><div style=\"display: table-cell;\"></div><div style=\"display: table-cell;\">aspect_scale&nbsp;=&nbsp;1,</div></div><div class=\"p1101\" style=\"display: none;\"><div style=\"display: table-cell;\"></div><div style=\"display: table-cell;\">attribution&nbsp;=&nbsp;[],</div></div><div class=\"p1101\" style=\"display: none;\"><div style=\"display: table-cell;\"></div><div style=\"display: table-cell;\">background_fill_alpha&nbsp;=&nbsp;1.0,</div></div><div class=\"p1101\" style=\"display: none;\"><div style=\"display: table-cell;\"></div><div style=\"display: table-cell;\">background_fill_color&nbsp;=&nbsp;'#ffffff',</div></div><div class=\"p1101\" style=\"display: none;\"><div style=\"display: table-cell;\"></div><div style=\"display: table-cell;\">below&nbsp;=&nbsp;[LinearAxis(id='p1066', ...)],</div></div><div class=\"p1101\" style=\"display: none;\"><div style=\"display: table-cell;\"></div><div style=\"display: table-cell;\">border_fill_alpha&nbsp;=&nbsp;1.0,</div></div><div class=\"p1101\" style=\"display: none;\"><div style=\"display: table-cell;\"></div><div style=\"display: table-cell;\">border_fill_color&nbsp;=&nbsp;'#ffffff',</div></div><div class=\"p1101\" style=\"display: none;\"><div style=\"display: table-cell;\"></div><div style=\"display: table-cell;\">center&nbsp;=&nbsp;[Grid(id='p1070', ...), Grid(id='p1075', ...)],</div></div><div class=\"p1101\" style=\"display: none;\"><div style=\"display: table-cell;\"></div><div style=\"display: table-cell;\">context_menu&nbsp;=&nbsp;None,</div></div><div class=\"p1101\" style=\"display: none;\"><div style=\"display: table-cell;\"></div><div style=\"display: table-cell;\">css_classes&nbsp;=&nbsp;[],</div></div><div class=\"p1101\" style=\"display: none;\"><div style=\"display: table-cell;\"></div><div style=\"display: table-cell;\">css_variables&nbsp;=&nbsp;{},</div></div><div class=\"p1101\" style=\"display: none;\"><div style=\"display: table-cell;\"></div><div style=\"display: table-cell;\">disabled&nbsp;=&nbsp;False,</div></div><div class=\"p1101\" style=\"display: none;\"><div style=\"display: table-cell;\"></div><div style=\"display: table-cell;\">elements&nbsp;=&nbsp;[],</div></div><div class=\"p1101\" style=\"display: none;\"><div style=\"display: table-cell;\"></div><div style=\"display: table-cell;\">extra_x_ranges&nbsp;=&nbsp;{},</div></div><div class=\"p1101\" style=\"display: none;\"><div style=\"display: table-cell;\"></div><div style=\"display: table-cell;\">extra_x_scales&nbsp;=&nbsp;{},</div></div><div class=\"p1101\" style=\"display: none;\"><div style=\"display: table-cell;\"></div><div style=\"display: table-cell;\">extra_y_ranges&nbsp;=&nbsp;{},</div></div><div class=\"p1101\" style=\"display: none;\"><div style=\"display: table-cell;\"></div><div style=\"display: table-cell;\">extra_y_scales&nbsp;=&nbsp;{},</div></div><div class=\"p1101\" style=\"display: none;\"><div style=\"display: table-cell;\"></div><div style=\"display: table-cell;\">flow_mode&nbsp;=&nbsp;'block',</div></div><div class=\"p1101\" style=\"display: none;\"><div style=\"display: table-cell;\"></div><div style=\"display: table-cell;\">frame_align&nbsp;=&nbsp;True,</div></div><div class=\"p1101\" style=\"display: none;\"><div style=\"display: table-cell;\"></div><div style=\"display: table-cell;\">frame_height&nbsp;=&nbsp;None,</div></div><div class=\"p1101\" style=\"display: none;\"><div style=\"display: table-cell;\"></div><div style=\"display: table-cell;\">frame_width&nbsp;=&nbsp;None,</div></div><div class=\"p1101\" style=\"display: none;\"><div style=\"display: table-cell;\"></div><div style=\"display: table-cell;\">height&nbsp;=&nbsp;400,</div></div><div class=\"p1101\" style=\"display: none;\"><div style=\"display: table-cell;\"></div><div style=\"display: table-cell;\">height_policy&nbsp;=&nbsp;'auto',</div></div><div class=\"p1101\" style=\"display: none;\"><div style=\"display: table-cell;\"></div><div style=\"display: table-cell;\">hidpi&nbsp;=&nbsp;True,</div></div><div class=\"p1101\" style=\"display: none;\"><div style=\"display: table-cell;\"></div><div style=\"display: table-cell;\">hold_render&nbsp;=&nbsp;False,</div></div><div class=\"p1101\" style=\"display: none;\"><div style=\"display: table-cell;\"></div><div style=\"display: table-cell;\">js_event_callbacks&nbsp;=&nbsp;{},</div></div><div class=\"p1101\" style=\"display: none;\"><div style=\"display: table-cell;\"></div><div style=\"display: table-cell;\">js_property_callbacks&nbsp;=&nbsp;{},</div></div><div class=\"p1101\" style=\"display: none;\"><div style=\"display: table-cell;\"></div><div style=\"display: table-cell;\">left&nbsp;=&nbsp;[LinearAxis(id='p1071', ...)],</div></div><div class=\"p1101\" style=\"display: none;\"><div style=\"display: table-cell;\"></div><div style=\"display: table-cell;\">lod_factor&nbsp;=&nbsp;10,</div></div><div class=\"p1101\" style=\"display: none;\"><div style=\"display: table-cell;\"></div><div style=\"display: table-cell;\">lod_interval&nbsp;=&nbsp;300,</div></div><div class=\"p1101\" style=\"display: none;\"><div style=\"display: table-cell;\"></div><div style=\"display: table-cell;\">lod_threshold&nbsp;=&nbsp;2000,</div></div><div class=\"p1101\" style=\"display: none;\"><div style=\"display: table-cell;\"></div><div style=\"display: table-cell;\">lod_timeout&nbsp;=&nbsp;500,</div></div><div class=\"p1101\" style=\"display: none;\"><div style=\"display: table-cell;\"></div><div style=\"display: table-cell;\">margin&nbsp;=&nbsp;None,</div></div><div class=\"p1101\" style=\"display: none;\"><div style=\"display: table-cell;\"></div><div style=\"display: table-cell;\">match_aspect&nbsp;=&nbsp;False,</div></div><div class=\"p1101\" style=\"display: none;\"><div style=\"display: table-cell;\"></div><div style=\"display: table-cell;\">max_height&nbsp;=&nbsp;None,</div></div><div class=\"p1101\" style=\"display: none;\"><div style=\"display: table-cell;\"></div><div style=\"display: table-cell;\">max_width&nbsp;=&nbsp;None,</div></div><div class=\"p1101\" style=\"display: none;\"><div style=\"display: table-cell;\"></div><div style=\"display: table-cell;\">min_border&nbsp;=&nbsp;5,</div></div><div class=\"p1101\" style=\"display: none;\"><div style=\"display: table-cell;\"></div><div style=\"display: table-cell;\">min_border_bottom&nbsp;=&nbsp;None,</div></div><div class=\"p1101\" style=\"display: none;\"><div style=\"display: table-cell;\"></div><div style=\"display: table-cell;\">min_border_left&nbsp;=&nbsp;None,</div></div><div class=\"p1101\" style=\"display: none;\"><div style=\"display: table-cell;\"></div><div style=\"display: table-cell;\">min_border_right&nbsp;=&nbsp;None,</div></div><div class=\"p1101\" style=\"display: none;\"><div style=\"display: table-cell;\"></div><div style=\"display: table-cell;\">min_border_top&nbsp;=&nbsp;None,</div></div><div class=\"p1101\" style=\"display: none;\"><div style=\"display: table-cell;\"></div><div style=\"display: table-cell;\">min_height&nbsp;=&nbsp;None,</div></div><div class=\"p1101\" style=\"display: none;\"><div style=\"display: table-cell;\"></div><div style=\"display: table-cell;\">min_width&nbsp;=&nbsp;None,</div></div><div class=\"p1101\" style=\"display: none;\"><div style=\"display: table-cell;\"></div><div style=\"display: table-cell;\">name&nbsp;=&nbsp;None,</div></div><div class=\"p1101\" style=\"display: none;\"><div style=\"display: table-cell;\"></div><div style=\"display: table-cell;\">outline_line_alpha&nbsp;=&nbsp;1.0,</div></div><div class=\"p1101\" style=\"display: none;\"><div style=\"display: table-cell;\"></div><div style=\"display: table-cell;\">outline_line_cap&nbsp;=&nbsp;'butt',</div></div><div class=\"p1101\" style=\"display: none;\"><div style=\"display: table-cell;\"></div><div style=\"display: table-cell;\">outline_line_color&nbsp;=&nbsp;'#e5e5e5',</div></div><div class=\"p1101\" style=\"display: none;\"><div style=\"display: table-cell;\"></div><div style=\"display: table-cell;\">outline_line_dash&nbsp;=&nbsp;[],</div></div><div class=\"p1101\" style=\"display: none;\"><div style=\"display: table-cell;\"></div><div style=\"display: table-cell;\">outline_line_dash_offset&nbsp;=&nbsp;0,</div></div><div class=\"p1101\" style=\"display: none;\"><div style=\"display: table-cell;\"></div><div style=\"display: table-cell;\">outline_line_join&nbsp;=&nbsp;'bevel',</div></div><div class=\"p1101\" style=\"display: none;\"><div style=\"display: table-cell;\"></div><div style=\"display: table-cell;\">outline_line_width&nbsp;=&nbsp;1,</div></div><div class=\"p1101\" style=\"display: none;\"><div style=\"display: table-cell;\"></div><div style=\"display: table-cell;\">output_backend&nbsp;=&nbsp;'canvas',</div></div><div class=\"p1101\" style=\"display: none;\"><div style=\"display: table-cell;\"></div><div style=\"display: table-cell;\">renderers&nbsp;=&nbsp;[GlyphRenderer(id='p1095', ...)],</div></div><div class=\"p1101\" style=\"display: none;\"><div style=\"display: table-cell;\"></div><div style=\"display: table-cell;\">reset_policy&nbsp;=&nbsp;'standard',</div></div><div class=\"p1101\" style=\"display: none;\"><div style=\"display: table-cell;\"></div><div style=\"display: table-cell;\">resizable&nbsp;=&nbsp;False,</div></div><div class=\"p1101\" style=\"display: none;\"><div style=\"display: table-cell;\"></div><div style=\"display: table-cell;\">right&nbsp;=&nbsp;[],</div></div><div class=\"p1101\" style=\"display: none;\"><div style=\"display: table-cell;\"></div><div style=\"display: table-cell;\">sizing_mode&nbsp;=&nbsp;None,</div></div><div class=\"p1101\" style=\"display: none;\"><div style=\"display: table-cell;\"></div><div style=\"display: table-cell;\">styles&nbsp;=&nbsp;{},</div></div><div class=\"p1101\" style=\"display: none;\"><div style=\"display: table-cell;\"></div><div style=\"display: table-cell;\">stylesheets&nbsp;=&nbsp;[],</div></div><div class=\"p1101\" style=\"display: none;\"><div style=\"display: table-cell;\"></div><div style=\"display: table-cell;\">subscribed_events&nbsp;=&nbsp;PropertyValueSet(),</div></div><div class=\"p1101\" style=\"display: none;\"><div style=\"display: table-cell;\"></div><div style=\"display: table-cell;\">syncable&nbsp;=&nbsp;True,</div></div><div class=\"p1101\" style=\"display: none;\"><div style=\"display: table-cell;\"></div><div style=\"display: table-cell;\">tags&nbsp;=&nbsp;[],</div></div><div class=\"p1101\" style=\"display: none;\"><div style=\"display: table-cell;\"></div><div style=\"display: table-cell;\">title&nbsp;=&nbsp;Title(id='p1062', ...),</div></div><div class=\"p1101\" style=\"display: none;\"><div style=\"display: table-cell;\"></div><div style=\"display: table-cell;\">title_location&nbsp;=&nbsp;'above',</div></div><div class=\"p1101\" style=\"display: none;\"><div style=\"display: table-cell;\"></div><div style=\"display: table-cell;\">toolbar&nbsp;=&nbsp;Toolbar(id='p1063', ...),</div></div><div class=\"p1101\" style=\"display: none;\"><div style=\"display: table-cell;\"></div><div style=\"display: table-cell;\">toolbar_inner&nbsp;=&nbsp;False,</div></div><div class=\"p1101\" style=\"display: none;\"><div style=\"display: table-cell;\"></div><div style=\"display: table-cell;\">toolbar_location&nbsp;=&nbsp;'right',</div></div><div class=\"p1101\" style=\"display: none;\"><div style=\"display: table-cell;\"></div><div style=\"display: table-cell;\">toolbar_sticky&nbsp;=&nbsp;True,</div></div><div class=\"p1101\" style=\"display: none;\"><div style=\"display: table-cell;\"></div><div style=\"display: table-cell;\">visible&nbsp;=&nbsp;True,</div></div><div class=\"p1101\" style=\"display: none;\"><div style=\"display: table-cell;\"></div><div style=\"display: table-cell;\">width&nbsp;=&nbsp;600,</div></div><div class=\"p1101\" style=\"display: none;\"><div style=\"display: table-cell;\"></div><div style=\"display: table-cell;\">width_policy&nbsp;=&nbsp;'auto',</div></div><div class=\"p1101\" style=\"display: none;\"><div style=\"display: table-cell;\"></div><div style=\"display: table-cell;\">x_range&nbsp;=&nbsp;DataRange1d(id='p1056', ...),</div></div><div class=\"p1101\" style=\"display: none;\"><div style=\"display: table-cell;\"></div><div style=\"display: table-cell;\">x_scale&nbsp;=&nbsp;LinearScale(id='p1064', ...),</div></div><div class=\"p1101\" style=\"display: none;\"><div style=\"display: table-cell;\"></div><div style=\"display: table-cell;\">y_range&nbsp;=&nbsp;DataRange1d(id='p1057', ...),</div></div><div class=\"p1101\" style=\"display: none;\"><div style=\"display: table-cell;\"></div><div style=\"display: table-cell;\">y_scale&nbsp;=&nbsp;LinearScale(id='p1065', ...))</div></div></div>\n",
              "<script>\n",
              "(function() {\n",
              "  let expanded = false;\n",
              "  const ellipsis = document.getElementById(\"p1102\");\n",
              "  ellipsis.addEventListener(\"click\", function() {\n",
              "    const rows = document.getElementsByClassName(\"p1101\");\n",
              "    for (let i = 0; i < rows.length; i++) {\n",
              "      const el = rows[i];\n",
              "      el.style.display = expanded ? \"none\" : \"table-row\";\n",
              "    }\n",
              "    ellipsis.innerHTML = expanded ? \"&hellip;)\" : \"&lsaquo;&lsaquo;&lsaquo;\";\n",
              "    expanded = !expanded;\n",
              "  });\n",
              "})();\n",
              "</script>\n"
            ]
          },
          "metadata": {},
          "execution_count": 106
        }
      ],
      "source": [
        "draw_vectors(embedding[:, 0], embedding[:, 1], token=top_words)"
      ]
    },
    {
      "cell_type": "markdown",
      "metadata": {
        "id": "spb1gJww-P9_"
      },
      "source": [
        "Для сдачи задания необходимо загрузить функции `subsample_frequent_words` и `get_negative_sampling_prob`, а также сгенерировать файл для посылки ниже и приложить в соответствующую задачу. Успехов!"
      ]
    },
    {
      "cell_type": "code",
      "execution_count": null,
      "metadata": {
        "colab": {
          "base_uri": "https://localhost:8080/"
        },
        "id": "bAi_fOgi-P9_",
        "outputId": "754ec446-5be8-47a8-c6a4-38d958ad667d"
      },
      "outputs": [
        {
          "output_type": "stream",
          "name": "stdout",
          "text": [
            "File saved to `submission_dict3.json`\n"
          ]
        }
      ],
      "source": [
        "# do not change the code in the block below\n",
        "# __________start of block__________\n",
        "import os\n",
        "import json\n",
        "\n",
        "assert os.path.exists(\n",
        "    \"words_subset.txt\"\n",
        "), \"Please, download `words_subset.txt` and place it in the working directory\"\n",
        "\n",
        "with open(\"words_subset.txt\") as iofile:\n",
        "    selected_words = iofile.read().split(\"\\n\")\n",
        "\n",
        "\n",
        "def get_matrix_for_selected_words(selected_words, embedding_matrix, word_to_index):\n",
        "    word_vectors = []\n",
        "    for word in selected_words:\n",
        "        index = word_to_index.get(word, None)\n",
        "        vector = [0.0] * embedding_matrix.shape[1]\n",
        "        if index is not None:\n",
        "            vector = embedding_matrix[index].numpy().tolist()\n",
        "        word_vectors.append(vector)\n",
        "    return word_vectors\n",
        "\n",
        "\n",
        "word_vectors = get_matrix_for_selected_words(\n",
        "    selected_words, embedding_matrix_context, word_to_index\n",
        ")\n",
        "\n",
        "with open(\"submission_dict3.json\", \"w\") as iofile:\n",
        "    json.dump(word_vectors, iofile)\n",
        "print(\"File saved to `submission_dict3.json`\")\n",
        "# __________end of block__________"
      ]
    }
  ],
  "metadata": {
    "colab": {
      "provenance": [],
      "include_colab_link": true
    },
    "kernelspec": {
      "display_name": "py3_research",
      "language": "python",
      "name": "python3"
    },
    "language_info": {
      "codemirror_mode": {
        "name": "ipython",
        "version": 3
      },
      "file_extension": ".py",
      "mimetype": "text/x-python",
      "name": "python",
      "nbconvert_exporter": "python",
      "pygments_lexer": "ipython3",
      "version": "3.11.2"
    },
    "widgets": {
      "application/vnd.jupyter.widget-state+json": {
        "508eb3e41a774efdb2608ec887b02721": {
          "model_module": "@jupyter-widgets/controls",
          "model_name": "HBoxModel",
          "model_module_version": "1.5.0",
          "state": {
            "_dom_classes": [],
            "_model_module": "@jupyter-widgets/controls",
            "_model_module_version": "1.5.0",
            "_model_name": "HBoxModel",
            "_view_count": null,
            "_view_module": "@jupyter-widgets/controls",
            "_view_module_version": "1.5.0",
            "_view_name": "HBoxView",
            "box_style": "",
            "children": [
              "IPY_MODEL_3982255611ea4d6797af717db7d0bd9e",
              "IPY_MODEL_a678e899385c4752a4e7e22c3efe8707",
              "IPY_MODEL_e875871505f94145b15a722bf1bc82eb"
            ],
            "layout": "IPY_MODEL_3934d15ad31c4e469a5fe9775fe61d87"
          }
        },
        "3982255611ea4d6797af717db7d0bd9e": {
          "model_module": "@jupyter-widgets/controls",
          "model_name": "HTMLModel",
          "model_module_version": "1.5.0",
          "state": {
            "_dom_classes": [],
            "_model_module": "@jupyter-widgets/controls",
            "_model_module_version": "1.5.0",
            "_model_name": "HTMLModel",
            "_view_count": null,
            "_view_module": "@jupyter-widgets/controls",
            "_view_module_version": "1.5.0",
            "_view_name": "HTMLView",
            "description": "",
            "description_tooltip": null,
            "layout": "IPY_MODEL_871e1d15cf40450891780ceca2e187dc",
            "placeholder": "​",
            "style": "IPY_MODEL_8afa9e6655a74141a5e1f30f92218764",
            "value": "100%"
          }
        },
        "a678e899385c4752a4e7e22c3efe8707": {
          "model_module": "@jupyter-widgets/controls",
          "model_name": "FloatProgressModel",
          "model_module_version": "1.5.0",
          "state": {
            "_dom_classes": [],
            "_model_module": "@jupyter-widgets/controls",
            "_model_module_version": "1.5.0",
            "_model_name": "FloatProgressModel",
            "_view_count": null,
            "_view_module": "@jupyter-widgets/controls",
            "_view_module_version": "1.5.0",
            "_view_name": "ProgressView",
            "bar_style": "success",
            "description": "",
            "description_tooltip": null,
            "layout": "IPY_MODEL_169c2818bd1d4f819321c50ec3e843ca",
            "max": 2500,
            "min": 0,
            "orientation": "horizontal",
            "style": "IPY_MODEL_4083de11fcbc4db780052f9409a11172",
            "value": 2500
          }
        },
        "e875871505f94145b15a722bf1bc82eb": {
          "model_module": "@jupyter-widgets/controls",
          "model_name": "HTMLModel",
          "model_module_version": "1.5.0",
          "state": {
            "_dom_classes": [],
            "_model_module": "@jupyter-widgets/controls",
            "_model_module_version": "1.5.0",
            "_model_name": "HTMLModel",
            "_view_count": null,
            "_view_module": "@jupyter-widgets/controls",
            "_view_module_version": "1.5.0",
            "_view_name": "HTMLView",
            "description": "",
            "description_tooltip": null,
            "layout": "IPY_MODEL_5b53195c802b40eda4a7f7935b0bd33e",
            "placeholder": "​",
            "style": "IPY_MODEL_111dc10126fc4d8e9baf58b813e99823",
            "value": " 2500/2500 [1:00:46&lt;00:00,  1.37s/it]"
          }
        },
        "3934d15ad31c4e469a5fe9775fe61d87": {
          "model_module": "@jupyter-widgets/base",
          "model_name": "LayoutModel",
          "model_module_version": "1.2.0",
          "state": {
            "_model_module": "@jupyter-widgets/base",
            "_model_module_version": "1.2.0",
            "_model_name": "LayoutModel",
            "_view_count": null,
            "_view_module": "@jupyter-widgets/base",
            "_view_module_version": "1.2.0",
            "_view_name": "LayoutView",
            "align_content": null,
            "align_items": null,
            "align_self": null,
            "border": null,
            "bottom": null,
            "display": null,
            "flex": null,
            "flex_flow": null,
            "grid_area": null,
            "grid_auto_columns": null,
            "grid_auto_flow": null,
            "grid_auto_rows": null,
            "grid_column": null,
            "grid_gap": null,
            "grid_row": null,
            "grid_template_areas": null,
            "grid_template_columns": null,
            "grid_template_rows": null,
            "height": null,
            "justify_content": null,
            "justify_items": null,
            "left": null,
            "margin": null,
            "max_height": null,
            "max_width": null,
            "min_height": null,
            "min_width": null,
            "object_fit": null,
            "object_position": null,
            "order": null,
            "overflow": null,
            "overflow_x": null,
            "overflow_y": null,
            "padding": null,
            "right": null,
            "top": null,
            "visibility": null,
            "width": null
          }
        },
        "871e1d15cf40450891780ceca2e187dc": {
          "model_module": "@jupyter-widgets/base",
          "model_name": "LayoutModel",
          "model_module_version": "1.2.0",
          "state": {
            "_model_module": "@jupyter-widgets/base",
            "_model_module_version": "1.2.0",
            "_model_name": "LayoutModel",
            "_view_count": null,
            "_view_module": "@jupyter-widgets/base",
            "_view_module_version": "1.2.0",
            "_view_name": "LayoutView",
            "align_content": null,
            "align_items": null,
            "align_self": null,
            "border": null,
            "bottom": null,
            "display": null,
            "flex": null,
            "flex_flow": null,
            "grid_area": null,
            "grid_auto_columns": null,
            "grid_auto_flow": null,
            "grid_auto_rows": null,
            "grid_column": null,
            "grid_gap": null,
            "grid_row": null,
            "grid_template_areas": null,
            "grid_template_columns": null,
            "grid_template_rows": null,
            "height": null,
            "justify_content": null,
            "justify_items": null,
            "left": null,
            "margin": null,
            "max_height": null,
            "max_width": null,
            "min_height": null,
            "min_width": null,
            "object_fit": null,
            "object_position": null,
            "order": null,
            "overflow": null,
            "overflow_x": null,
            "overflow_y": null,
            "padding": null,
            "right": null,
            "top": null,
            "visibility": null,
            "width": null
          }
        },
        "8afa9e6655a74141a5e1f30f92218764": {
          "model_module": "@jupyter-widgets/controls",
          "model_name": "DescriptionStyleModel",
          "model_module_version": "1.5.0",
          "state": {
            "_model_module": "@jupyter-widgets/controls",
            "_model_module_version": "1.5.0",
            "_model_name": "DescriptionStyleModel",
            "_view_count": null,
            "_view_module": "@jupyter-widgets/base",
            "_view_module_version": "1.2.0",
            "_view_name": "StyleView",
            "description_width": ""
          }
        },
        "169c2818bd1d4f819321c50ec3e843ca": {
          "model_module": "@jupyter-widgets/base",
          "model_name": "LayoutModel",
          "model_module_version": "1.2.0",
          "state": {
            "_model_module": "@jupyter-widgets/base",
            "_model_module_version": "1.2.0",
            "_model_name": "LayoutModel",
            "_view_count": null,
            "_view_module": "@jupyter-widgets/base",
            "_view_module_version": "1.2.0",
            "_view_name": "LayoutView",
            "align_content": null,
            "align_items": null,
            "align_self": null,
            "border": null,
            "bottom": null,
            "display": null,
            "flex": null,
            "flex_flow": null,
            "grid_area": null,
            "grid_auto_columns": null,
            "grid_auto_flow": null,
            "grid_auto_rows": null,
            "grid_column": null,
            "grid_gap": null,
            "grid_row": null,
            "grid_template_areas": null,
            "grid_template_columns": null,
            "grid_template_rows": null,
            "height": null,
            "justify_content": null,
            "justify_items": null,
            "left": null,
            "margin": null,
            "max_height": null,
            "max_width": null,
            "min_height": null,
            "min_width": null,
            "object_fit": null,
            "object_position": null,
            "order": null,
            "overflow": null,
            "overflow_x": null,
            "overflow_y": null,
            "padding": null,
            "right": null,
            "top": null,
            "visibility": null,
            "width": null
          }
        },
        "4083de11fcbc4db780052f9409a11172": {
          "model_module": "@jupyter-widgets/controls",
          "model_name": "ProgressStyleModel",
          "model_module_version": "1.5.0",
          "state": {
            "_model_module": "@jupyter-widgets/controls",
            "_model_module_version": "1.5.0",
            "_model_name": "ProgressStyleModel",
            "_view_count": null,
            "_view_module": "@jupyter-widgets/base",
            "_view_module_version": "1.2.0",
            "_view_name": "StyleView",
            "bar_color": null,
            "description_width": ""
          }
        },
        "5b53195c802b40eda4a7f7935b0bd33e": {
          "model_module": "@jupyter-widgets/base",
          "model_name": "LayoutModel",
          "model_module_version": "1.2.0",
          "state": {
            "_model_module": "@jupyter-widgets/base",
            "_model_module_version": "1.2.0",
            "_model_name": "LayoutModel",
            "_view_count": null,
            "_view_module": "@jupyter-widgets/base",
            "_view_module_version": "1.2.0",
            "_view_name": "LayoutView",
            "align_content": null,
            "align_items": null,
            "align_self": null,
            "border": null,
            "bottom": null,
            "display": null,
            "flex": null,
            "flex_flow": null,
            "grid_area": null,
            "grid_auto_columns": null,
            "grid_auto_flow": null,
            "grid_auto_rows": null,
            "grid_column": null,
            "grid_gap": null,
            "grid_row": null,
            "grid_template_areas": null,
            "grid_template_columns": null,
            "grid_template_rows": null,
            "height": null,
            "justify_content": null,
            "justify_items": null,
            "left": null,
            "margin": null,
            "max_height": null,
            "max_width": null,
            "min_height": null,
            "min_width": null,
            "object_fit": null,
            "object_position": null,
            "order": null,
            "overflow": null,
            "overflow_x": null,
            "overflow_y": null,
            "padding": null,
            "right": null,
            "top": null,
            "visibility": null,
            "width": null
          }
        },
        "111dc10126fc4d8e9baf58b813e99823": {
          "model_module": "@jupyter-widgets/controls",
          "model_name": "DescriptionStyleModel",
          "model_module_version": "1.5.0",
          "state": {
            "_model_module": "@jupyter-widgets/controls",
            "_model_module_version": "1.5.0",
            "_model_name": "DescriptionStyleModel",
            "_view_count": null,
            "_view_module": "@jupyter-widgets/base",
            "_view_module_version": "1.2.0",
            "_view_name": "StyleView",
            "description_width": ""
          }
        }
      }
    }
  },
  "nbformat": 4,
  "nbformat_minor": 0
}